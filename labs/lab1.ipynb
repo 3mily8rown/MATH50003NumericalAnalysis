{
 "cells": [
  {
   "cell_type": "markdown",
   "metadata": {},
   "source": [
    "# MATH50003 (2022–23)\n",
    "# Lab 1: Introduction to Julia"
   ]
  },
  {
   "cell_type": "markdown",
   "metadata": {},
   "source": [
    "This problem sheet is designed to introduce some basic Julia\n",
    "knowledge. Note each problem has multiple solutions, and the solution\n",
    "sheet will show different ways of solving the same problem. We will discuss the\n",
    "following:"
   ]
  },
  {
   "cell_type": "markdown",
   "metadata": {},
   "source": [
    "1. Integers\n",
    "2. Reals\n",
    "2. Strings and parsing\n",
    "3. Types"
   ]
  },
  {
   "cell_type": "markdown",
   "metadata": {},
   "source": [
    "In assessment, _any_ \"solution\" will be accepted provided it does the right thing!\n",
    "So you do not need to be able to write broadcasting or comprehensions\n",
    "if you can do for loops."
   ]
  },
  {
   "cell_type": "markdown",
   "metadata": {},
   "source": [
    "We load the following packages:"
   ]
  },
  {
   "cell_type": "code",
   "execution_count": 34,
   "metadata": {},
   "outputs": [
    {
     "name": "stderr",
     "output_type": "stream",
     "text": [
      "\u001b[32m\u001b[1m    Updating\u001b[22m\u001b[39m registry at `C:\\Users\\lilye\\.julia\\registries\\General.toml`\n",
      "\u001b[32m\u001b[1m   Installed\u001b[22m\u001b[39m TiledIteration ────────────── v0.3.1\n",
      "\u001b[32m\u001b[1m   Installed\u001b[22m\u001b[39m ImageIO ───────────────────── v0.6.6\n",
      "\u001b[32m\u001b[1m   Installed\u001b[22m\u001b[39m ImageSegmentation ─────────── v1.8.0\n",
      "\u001b[32m\u001b[1m   Installed\u001b[22m\u001b[39m OffsetArrays ──────────────── v1.12.9\n",
      "\u001b[32m\u001b[1m   Installed\u001b[22m\u001b[39m PNGFiles ──────────────────── v0.3.17\n",
      "\u001b[32m\u001b[1m   Installed\u001b[22m\u001b[39m JpegTurbo ─────────────────── v0.1.2\n",
      "\u001b[32m\u001b[1m   Installed\u001b[22m\u001b[39m FFTW ──────────────────────── v1.6.0\n",
      "\u001b[32m\u001b[1m   Installed\u001b[22m\u001b[39m TiffImages ────────────────── v0.6.3\n",
      "\u001b[32m\u001b[1m   Installed\u001b[22m\u001b[39m AxisArrays ────────────────── v0.4.6\n",
      "\u001b[32m\u001b[1m   Installed\u001b[22m\u001b[39m ImageMagick ───────────────── v1.2.1\n",
      "\u001b[32m\u001b[1m   Installed\u001b[22m\u001b[39m Sixel ─────────────────────── v0.1.2\n",
      "\u001b[32m\u001b[1m   Installed\u001b[22m\u001b[39m SetRounding ───────────────── v0.2.1\n",
      "\u001b[32m\u001b[1m   Installed\u001b[22m\u001b[39m ProgressMeter ─────────────── v1.7.2\n",
      "\u001b[32m\u001b[1m   Installed\u001b[22m\u001b[39m Pidfile ───────────────────── v1.3.0\n",
      "\u001b[32m\u001b[1m   Installed\u001b[22m\u001b[39m NearestNeighbors ──────────── v0.4.13\n",
      "\u001b[32m\u001b[1m   Installed\u001b[22m\u001b[39m RegionTrees ───────────────── v0.3.2\n",
      "\u001b[32m\u001b[1m   Installed\u001b[22m\u001b[39m StaticArrays ──────────────── v1.5.16\n",
      "\u001b[32m\u001b[1m   Installed\u001b[22m\u001b[39m Highlights ────────────────── v0.5.2\n",
      "\u001b[32m\u001b[1m   Installed\u001b[22m\u001b[39m OpenEXR ───────────────────── v0.3.2\n",
      "\u001b[32m\u001b[1m   Installed\u001b[22m\u001b[39m CEnum ─────────────────────── v0.4.2\n",
      "\u001b[32m\u001b[1m   Installed\u001b[22m\u001b[39m MetaGraphs ────────────────── v0.7.2\n",
      "\u001b[32m\u001b[1m   Installed\u001b[22m\u001b[39m Images ────────────────────── v0.25.2\n",
      "\u001b[32m\u001b[1m   Installed\u001b[22m\u001b[39m IntelOpenMP_jll ───────────── v2018.0.3+2\n",
      "\u001b[32m\u001b[1m   Installed\u001b[22m\u001b[39m Netpbm ────────────────────── v1.1.0\n",
      "\u001b[32m\u001b[1m   Installed\u001b[22m\u001b[39m FileIO ────────────────────── v1.16.0\n",
      "\u001b[32m\u001b[1m   Installed\u001b[22m\u001b[39m RealDot ───────────────────── v0.1.0\n",
      "\u001b[32m\u001b[1m   Installed\u001b[22m\u001b[39m ArnoldiMethod ─────────────── v0.2.0\n",
      "\u001b[32m\u001b[1m   Installed\u001b[22m\u001b[39m JLD2 ──────────────────────── v0.4.31\n",
      "\u001b[32m\u001b[1m   Installed\u001b[22m\u001b[39m BenchmarkTools ────────────── v1.3.2\n",
      "\u001b[32m\u001b[1m   Installed\u001b[22m\u001b[39m Distances ─────────────────── v0.10.7\n",
      "\u001b[32m\u001b[1m   Installed\u001b[22m\u001b[39m WebIO ─────────────────────── v0.8.20\n",
      "\u001b[32m\u001b[1m   Installed\u001b[22m\u001b[39m StringEncodings ───────────── v0.3.6\n",
      "\u001b[32m\u001b[1m   Installed\u001b[22m\u001b[39m PkgVersion ────────────────── v0.3.2\n",
      "\u001b[32m\u001b[1m   Installed\u001b[22m\u001b[39m StaticArraysCore ──────────── v1.4.0\n",
      "\u001b[32m\u001b[1m   Installed\u001b[22m\u001b[39m Literate ──────────────────── v2.14.0\n",
      "\u001b[32m\u001b[1m   Installed\u001b[22m\u001b[39m CustomUnitRanges ──────────── v1.0.2\n",
      "\u001b[32m\u001b[1m   Installed\u001b[22m\u001b[39m AssetRegistry ─────────────── v0.1.0\n",
      "\u001b[32m\u001b[1m   Installed\u001b[22m\u001b[39m Graphics ──────────────────── v1.1.2\n",
      "\u001b[32m\u001b[1m   Installed\u001b[22m\u001b[39m ImageMetadata ─────────────── v0.9.8\n",
      "\u001b[32m\u001b[1m   Installed\u001b[22m\u001b[39m Ratios ────────────────────── v0.4.3\n",
      "\u001b[32m\u001b[1m   Installed\u001b[22m\u001b[39m Graphs ────────────────────── v1.8.0\n",
      "\u001b[32m\u001b[1m   Installed\u001b[22m\u001b[39m QOI ───────────────────────── v1.0.0\n",
      "\u001b[32m\u001b[1m   Installed\u001b[22m\u001b[39m ComputationalResources ────── v0.3.2\n",
      "\u001b[32m\u001b[1m   Installed\u001b[22m\u001b[39m CatIndices ────────────────── v0.2.2\n",
      "\u001b[32m\u001b[1m   Installed\u001b[22m\u001b[39m MappedArrays ──────────────── v0.4.1\n",
      "\u001b[32m\u001b[1m   Installed\u001b[22m\u001b[39m ImageMagick_jll ───────────── v6.9.12+3\n",
      "\u001b[32m\u001b[1m   Installed\u001b[22m\u001b[39m PaddedViews ───────────────── v0.5.11\n",
      "\u001b[32m\u001b[1m   Installed\u001b[22m\u001b[39m Compat ────────────────────── v4.6.1\n",
      "\u001b[32m\u001b[1m   Installed\u001b[22m\u001b[39m LazyModules ───────────────── v0.3.1\n",
      "\u001b[32m\u001b[1m   Installed\u001b[22m\u001b[39m MosaicViews ───────────────── v0.3.4\n",
      "\u001b[32m\u001b[1m   Installed\u001b[22m\u001b[39m ImageTransformations ──────── v0.9.5\n",
      "\u001b[32m\u001b[1m   Installed\u001b[22m\u001b[39m TableTraits ───────────────── v1.0.1\n",
      "\u001b[32m\u001b[1m   Installed\u001b[22m\u001b[39m Mustache ──────────────────── v1.0.14\n",
      "\u001b[32m\u001b[1m   Installed\u001b[22m\u001b[39m ImageCore ─────────────────── v0.9.4\n",
      "\u001b[32m\u001b[1m   Installed\u001b[22m\u001b[39m Inflate ───────────────────── v0.1.3\n",
      "\u001b[32m\u001b[1m   Installed\u001b[22m\u001b[39m Weave ─────────────────────── v0.10.12\n",
      "\u001b[32m\u001b[1m   Installed\u001b[22m\u001b[39m WebSockets ────────────────── v1.6.0\n",
      "\u001b[32m\u001b[1m   Installed\u001b[22m\u001b[39m ImageShow ─────────────────── v0.3.7\n",
      "\u001b[32m\u001b[1m   Installed\u001b[22m\u001b[39m ImageQualityIndexes ───────── v0.3.4\n",
      "\u001b[32m\u001b[1m   Installed\u001b[22m\u001b[39m ImageFiltering ────────────── v0.7.3\n",
      "\u001b[32m\u001b[1m   Installed\u001b[22m\u001b[39m Imath_jll ─────────────────── v3.1.2+0\n",
      "\u001b[32m\u001b[1m   Installed\u001b[22m\u001b[39m MKL_jll ───────────────────── v2022.2.0+0\n",
      "\u001b[32m\u001b[1m   Installed\u001b[22m\u001b[39m IntegralArrays ────────────── v0.1.5\n",
      "\u001b[32m\u001b[1m   Installed\u001b[22m\u001b[39m AbstractFFTs ──────────────── v1.2.1\n",
      "\u001b[32m\u001b[1m   Installed\u001b[22m\u001b[39m DataValueInterfaces ───────── v1.0.0\n",
      "\u001b[32m\u001b[1m   Installed\u001b[22m\u001b[39m CoordinateTransformations ─── v0.6.2\n",
      "\u001b[32m\u001b[1m   Installed\u001b[22m\u001b[39m Ghostscript_jll ───────────── v9.55.0+4\n",
      "\u001b[32m\u001b[1m   Installed\u001b[22m\u001b[39m Knockout ──────────────────── v0.2.6\n",
      "\u001b[32m\u001b[1m   Installed\u001b[22m\u001b[39m StackViews ────────────────── v0.1.1\n",
      "\u001b[32m\u001b[1m   Installed\u001b[22m\u001b[39m Quaternions ───────────────── v0.7.4\n",
      "\u001b[32m\u001b[1m   Installed\u001b[22m\u001b[39m StringDistances ───────────── v0.11.2\n",
      "\u001b[32m\u001b[1m   Installed\u001b[22m\u001b[39m ColorBitstring ────────────── v0.2.0\n",
      "\u001b[32m\u001b[1m   Installed\u001b[22m\u001b[39m RangeArrays ───────────────── v0.3.2\n",
      "\u001b[32m\u001b[1m   Installed\u001b[22m\u001b[39m FFTW_jll ──────────────────── v3.3.10+0\n",
      "\u001b[32m\u001b[1m   Installed\u001b[22m\u001b[39m UnPack ────────────────────── v1.0.2\n",
      "\u001b[32m\u001b[1m   Installed\u001b[22m\u001b[39m Rotations ─────────────────── v1.4.0\n",
      "\u001b[32m\u001b[1m   Installed\u001b[22m\u001b[39m SimpleTraits ──────────────── v0.9.4\n",
      "\u001b[32m\u001b[1m   Installed\u001b[22m\u001b[39m Widgets ───────────────────── v0.6.6\n",
      "\u001b[32m\u001b[1m   Installed\u001b[22m\u001b[39m YAML ──────────────────────── v0.4.8\n",
      "\u001b[32m\u001b[1m   Installed\u001b[22m\u001b[39m OpenEXR_jll ───────────────── v3.1.1+0\n",
      "\u001b[32m\u001b[1m   Installed\u001b[22m\u001b[39m Adapt ─────────────────────── v3.6.1\n",
      "\u001b[32m\u001b[1m   Installed\u001b[22m\u001b[39m JSExpr ────────────────────── v0.5.4\n",
      "\u001b[32m\u001b[1m   Installed\u001b[22m\u001b[39m ImageBase ─────────────────── v0.1.5\n",
      "\u001b[32m\u001b[1m   Installed\u001b[22m\u001b[39m IntervalSets ──────────────── v0.7.4\n",
      "\u001b[32m\u001b[1m   Installed\u001b[22m\u001b[39m IterTools ─────────────────── v1.4.0\n",
      "\u001b[32m\u001b[1m   Installed\u001b[22m\u001b[39m FunctionalCollections ─────── v0.5.0\n",
      "\u001b[32m\u001b[1m   Installed\u001b[22m\u001b[39m IndirectArrays ────────────── v1.0.0\n",
      "\u001b[32m\u001b[1m   Installed\u001b[22m\u001b[39m TestImages ────────────────── v1.7.1\n",
      "\u001b[32m\u001b[1m   Installed\u001b[22m\u001b[39m Interact ──────────────────── v0.10.5\n",
      "\u001b[32m\u001b[1m   Installed\u001b[22m\u001b[39m IOCapture ─────────────────── v0.2.2\n",
      "\u001b[32m\u001b[1m   Installed\u001b[22m\u001b[39m SimpleWeightedGraphs ──────── v1.3.0\n",
      "\u001b[32m\u001b[1m   Installed\u001b[22m\u001b[39m Tables ────────────────────── v1.10.0\n",
      "\u001b[32m\u001b[1m   Installed\u001b[22m\u001b[39m IteratorInterfaceExtensions ─ v1.0.0\n",
      "\u001b[32m\u001b[1m   Installed\u001b[22m\u001b[39m ImageDistances ────────────── v0.2.16\n",
      "\u001b[32m\u001b[1m   Installed\u001b[22m\u001b[39m libsixel_jll ──────────────── v1.10.3+0\n",
      "\u001b[32m\u001b[1m   Installed\u001b[22m\u001b[39m AxisAlgorithms ────────────── v1.0.1\n",
      "\u001b[32m\u001b[1m   Installed\u001b[22m\u001b[39m CSSUtil ───────────────────── v0.1.1\n",
      "\u001b[32m\u001b[1m   Installed\u001b[22m\u001b[39m ImageAxes ─────────────────── v0.6.10\n",
      "\u001b[32m\u001b[1m   Installed\u001b[22m\u001b[39m FFTViews ──────────────────── v0.3.2\n",
      "\u001b[32m\u001b[1m   Installed\u001b[22m\u001b[39m Observables ───────────────── v0.5.4\n",
      "\u001b[32m\u001b[1m   Installed\u001b[22m\u001b[39m Parameters ────────────────── v0.12.3\n",
      "\u001b[32m\u001b[1m   Installed\u001b[22m\u001b[39m InteractBase ──────────────── v0.10.9\n",
      "\u001b[32m\u001b[1m   Installed\u001b[22m\u001b[39m WoodburyMatrices ──────────── v0.5.5\n",
      "\u001b[32m\u001b[1m   Installed\u001b[22m\u001b[39m ImageMorphology ───────────── v0.3.2\n",
      "\u001b[32m\u001b[1m   Installed\u001b[22m\u001b[39m Clustering ────────────────── v0.14.3\n",
      "\u001b[32m\u001b[1m   Installed\u001b[22m\u001b[39m Interpolations ────────────── v0.14.7\n",
      "\u001b[32m\u001b[1m   Installed\u001b[22m\u001b[39m ImageContrastAdjustment ───── v0.3.10\n",
      "\u001b[32m\u001b[1m    Updating\u001b[22m\u001b[39m `C:\\Users\\lilye\\Desktop\\Jupyter\\MATH50003NumericalAnalysis\\Project.toml`\n",
      " \u001b[90m [6e4b80f9] \u001b[39m\u001b[92m+ BenchmarkTools v1.3.2\u001b[39m\n",
      " \u001b[90m [ce91de38] \u001b[39m\u001b[92m+ ColorBitstring v0.2.0\u001b[39m\n",
      " \u001b[90m [7073ff75] \u001b[39m\u001b[92m+ IJulia v1.24.0\u001b[39m\n",
      " \u001b[90m [916415d5] \u001b[39m\u001b[92m+ Images v0.25.2\u001b[39m\n",
      " \u001b[90m [c601a237] \u001b[39m\u001b[92m+ Interact v0.10.5\u001b[39m\n",
      " \u001b[90m [98b081ad] \u001b[39m\u001b[92m+ Literate v2.14.0\u001b[39m\n",
      " \u001b[90m [91a5bcdd] \u001b[39m\u001b[92m+ Plots v1.38.6\u001b[39m\n",
      " \u001b[90m [3cc68bcd] \u001b[39m\u001b[92m+ SetRounding v0.2.1\u001b[39m\n",
      " \u001b[90m [276daf66] \u001b[39m\u001b[92m+ SpecialFunctions v2.2.0\u001b[39m\n",
      " \u001b[90m [2913bbd2] \u001b[39m\u001b[92m+ StatsBase v0.33.21\u001b[39m\n",
      " \u001b[90m [5e47fb64] \u001b[39m\u001b[92m+ TestImages v1.7.1\u001b[39m\n",
      " \u001b[90m [44d3d7a6] \u001b[39m\u001b[92m+ Weave v0.10.12\u001b[39m\n"
     ]
    },
    {
     "name": "stderr",
     "output_type": "stream",
     "text": [
      "\u001b[32m\u001b[1m    Updating\u001b[22m\u001b[39m `C:\\Users\\lilye\\Desktop\\Jupyter\\MATH50003NumericalAnalysis\\Manifest.toml`\n",
      " \u001b[90m [621f4979] \u001b[39m\u001b[92m+ AbstractFFTs v1.2.1\u001b[39m\n",
      " \u001b[90m [79e6a3ab] \u001b[39m\u001b[92m+ Adapt v3.6.1\u001b[39m\n",
      " \u001b[90m [ec485272] \u001b[39m\u001b[92m+ ArnoldiMethod v0.2.0\u001b[39m\n",
      " \u001b[90m [bf4720bc] \u001b[39m\u001b[92m+ AssetRegistry v0.1.0\u001b[39m\n",
      " \u001b[90m [13072b0f] \u001b[39m\u001b[92m+ AxisAlgorithms v1.0.1\u001b[39m\n",
      " \u001b[90m [39de3d68] \u001b[39m\u001b[92m+ AxisArrays v0.4.6\u001b[39m\n",
      " \u001b[90m [6e4b80f9] \u001b[39m\u001b[92m+ BenchmarkTools v1.3.2\u001b[39m\n",
      " \u001b[90m [d1d4a3ce] \u001b[39m\u001b[92m+ BitFlags v0.1.7\u001b[39m\n",
      " \u001b[90m [fa961155] \u001b[39m\u001b[92m+ CEnum v0.4.2\u001b[39m\n",
      " \u001b[90m [70588ee8] \u001b[39m\u001b[92m+ CSSUtil v0.1.1\u001b[39m\n",
      " \u001b[90m [aafaddc9] \u001b[39m\u001b[92m+ CatIndices v0.2.2\u001b[39m\n",
      " \u001b[90m [d360d2e6] \u001b[39m\u001b[92m+ ChainRulesCore v1.15.7\u001b[39m\n",
      " \u001b[90m [9e997f8a] \u001b[39m\u001b[92m+ ChangesOfVariables v0.1.6\u001b[39m\n",
      " \u001b[90m [aaaa29a8] \u001b[39m\u001b[92m+ Clustering v0.14.3\u001b[39m\n",
      " \u001b[90m [944b1d66] \u001b[39m\u001b[92m+ CodecZlib v0.7.1\u001b[39m\n",
      " \u001b[90m [ce91de38] \u001b[39m\u001b[92m+ ColorBitstring v0.2.0\u001b[39m\n",
      " \u001b[90m [35d6a980] \u001b[39m\u001b[92m+ ColorSchemes v3.20.0\u001b[39m\n",
      " \u001b[90m [3da002f7] \u001b[39m\u001b[92m+ ColorTypes v0.11.4\u001b[39m\n",
      " \u001b[90m [c3611d14] \u001b[39m\u001b[92m+ ColorVectorSpace v0.9.10\u001b[39m\n",
      " \u001b[90m [5ae59095] \u001b[39m\u001b[92m+ Colors v0.12.10\u001b[39m\n",
      " \u001b[90m [34da2185] \u001b[39m\u001b[92m+ Compat v4.6.1\u001b[39m\n",
      " \u001b[90m [ed09eef8] \u001b[39m\u001b[92m+ ComputationalResources v0.3.2\u001b[39m\n",
      " \u001b[90m [8f4d0f93] \u001b[39m\u001b[92m+ Conda v1.8.0\u001b[39m\n",
      " \u001b[90m [d38c429a] \u001b[39m\u001b[92m+ Contour v0.6.2\u001b[39m\n",
      " \u001b[90m [150eb455] \u001b[39m\u001b[92m+ CoordinateTransformations v0.6.2\u001b[39m\n",
      " \u001b[90m [dc8bdbbb] \u001b[39m\u001b[92m+ CustomUnitRanges v1.0.2\u001b[39m\n",
      " \u001b[90m [9a962f9c] \u001b[39m\u001b[92m+ DataAPI v1.14.0\u001b[39m\n",
      " \u001b[90m [864edb3b] \u001b[39m\u001b[92m+ DataStructures v0.18.13\u001b[39m\n",
      " \u001b[90m [e2d170a0] \u001b[39m\u001b[92m+ DataValueInterfaces v1.0.0\u001b[39m\n",
      " \u001b[90m [b4f34e82] \u001b[39m\u001b[92m+ Distances v0.10.7\u001b[39m\n",
      " \u001b[90m [ffbed154] \u001b[39m\u001b[92m+ DocStringExtensions v0.9.3\u001b[39m\n",
      " \u001b[90m [c87230d0] \u001b[39m\u001b[92m+ FFMPEG v0.4.1\u001b[39m\n",
      " \u001b[90m [4f61f5a4] \u001b[39m\u001b[92m+ FFTViews v0.3.2\u001b[39m\n",
      " \u001b[90m [7a1cc6ca] \u001b[39m\u001b[92m+ FFTW v1.6.0\u001b[39m\n",
      " \u001b[90m [5789e2e9] \u001b[39m\u001b[92m+ FileIO v1.16.0\u001b[39m\n",
      " \u001b[90m [53c48c17] \u001b[39m\u001b[92m+ FixedPointNumbers v0.8.4\u001b[39m\n",
      " \u001b[90m [59287772] \u001b[39m\u001b[92m+ Formatting v0.4.2\u001b[39m\n",
      " \u001b[90m [de31a74c] \u001b[39m\u001b[92m+ FunctionalCollections v0.5.0\u001b[39m\n",
      " \u001b[90m [28b8d3ca] \u001b[39m\u001b[92m+ GR v0.71.7\u001b[39m\n",
      " \u001b[90m [a2bd30eb] \u001b[39m\u001b[92m+ Graphics v1.1.2\u001b[39m\n",
      " \u001b[90m [86223c79] \u001b[39m\u001b[92m+ Graphs v1.8.0\u001b[39m\n",
      " \u001b[90m [42e2da0e] \u001b[39m\u001b[92m+ Grisu v1.0.2\u001b[39m\n",
      " \u001b[90m [cd3eb016] \u001b[39m\u001b[92m+ HTTP v1.7.4\u001b[39m\n",
      " \u001b[90m [eafb193a] \u001b[39m\u001b[92m+ Highlights v0.5.2\u001b[39m\n",
      " \u001b[90m [7073ff75] \u001b[39m\u001b[92m+ IJulia v1.24.0\u001b[39m\n",
      " \u001b[90m [b5f81e59] \u001b[39m\u001b[92m+ IOCapture v0.2.2\u001b[39m\n",
      " \u001b[90m [2803e5a7] \u001b[39m\u001b[92m+ ImageAxes v0.6.10\u001b[39m\n",
      " \u001b[90m [c817782e] \u001b[39m\u001b[92m+ ImageBase v0.1.5\u001b[39m\n",
      " \u001b[90m [f332f351] \u001b[39m\u001b[92m+ ImageContrastAdjustment v0.3.10\u001b[39m\n",
      " \u001b[90m [a09fc81d] \u001b[39m\u001b[92m+ ImageCore v0.9.4\u001b[39m\n",
      " \u001b[90m [51556ac3] \u001b[39m\u001b[92m+ ImageDistances v0.2.16\u001b[39m\n",
      " \u001b[90m [6a3955dd] \u001b[39m\u001b[92m+ ImageFiltering v0.7.3\u001b[39m\n",
      " \u001b[90m [82e4d734] \u001b[39m\u001b[92m+ ImageIO v0.6.6\u001b[39m\n",
      "\u001b[32m⌃\u001b[39m\u001b[90m [6218d12a] \u001b[39m\u001b[92m+ ImageMagick v1.2.1\u001b[39m\n",
      " \u001b[90m [bc367c6b] \u001b[39m\u001b[92m+ ImageMetadata v0.9.8\u001b[39m\n",
      "\u001b[33m⌅\u001b[39m\u001b[90m [787d08f9] \u001b[39m\u001b[92m+ ImageMorphology v0.3.2\u001b[39m\n",
      " \u001b[90m [2996bd0c] \u001b[39m\u001b[92m+ ImageQualityIndexes v0.3.4\u001b[39m\n",
      " \u001b[90m [80713f31] \u001b[39m\u001b[92m+ ImageSegmentation v1.8.0\u001b[39m\n",
      " \u001b[90m [4e3cecfd] \u001b[39m\u001b[92m+ ImageShow v0.3.7\u001b[39m\n",
      " \u001b[90m [02fcd773] \u001b[39m\u001b[92m+ ImageTransformations v0.9.5\u001b[39m\n",
      " \u001b[90m [916415d5] \u001b[39m\u001b[92m+ Images v0.25.2\u001b[39m\n",
      " \u001b[90m [9b13fd28] \u001b[39m\u001b[92m+ IndirectArrays v1.0.0\u001b[39m\n",
      " \u001b[90m [d25df0c9] \u001b[39m\u001b[92m+ Inflate v0.1.3\u001b[39m\n",
      " \u001b[90m [83e8ac13] \u001b[39m\u001b[92m+ IniFile v0.5.1\u001b[39m\n",
      " \u001b[90m [1d092043] \u001b[39m\u001b[92m+ IntegralArrays v0.1.5\u001b[39m\n",
      " \u001b[90m [c601a237] \u001b[39m\u001b[92m+ Interact v0.10.5\u001b[39m\n",
      " \u001b[90m [d3863d7c] \u001b[39m\u001b[92m+ InteractBase v0.10.9\u001b[39m\n",
      " \u001b[90m [a98d9a8b] \u001b[39m\u001b[92m+ Interpolations v0.14.7\u001b[39m\n",
      " \u001b[90m [8197267c] \u001b[39m\u001b[92m+ IntervalSets v0.7.4\u001b[39m\n",
      " \u001b[90m [3587e190] \u001b[39m\u001b[92m+ InverseFunctions v0.1.8\u001b[39m\n",
      " \u001b[90m [92d709cd] \u001b[39m\u001b[92m+ IrrationalConstants v0.2.2\u001b[39m\n",
      " \u001b[90m [c8e1da08] \u001b[39m\u001b[92m+ IterTools v1.4.0\u001b[39m\n",
      " \u001b[90m [82899510] \u001b[39m\u001b[92m+ IteratorInterfaceExtensions v1.0.0\u001b[39m\n",
      " \u001b[90m [033835bb] \u001b[39m\u001b[92m+ JLD2 v0.4.31\u001b[39m\n",
      " \u001b[90m [1019f520] \u001b[39m\u001b[92m+ JLFzf v0.1.5\u001b[39m\n",
      " \u001b[90m [692b3bcd] \u001b[39m\u001b[92m+ JLLWrappers v1.4.1\u001b[39m\n",
      " \u001b[90m [97c1335a] \u001b[39m\u001b[92m+ JSExpr v0.5.4\u001b[39m\n",
      " \u001b[90m [682c06a0] \u001b[39m\u001b[92m+ JSON v0.21.3\u001b[39m\n",
      " \u001b[90m [b835a17e] \u001b[39m\u001b[92m+ JpegTurbo v0.1.2\u001b[39m\n",
      " \u001b[90m [bcebb21b] \u001b[39m\u001b[92m+ Knockout v0.2.6\u001b[39m\n",
      " \u001b[90m [b964fa9f] \u001b[39m\u001b[92m+ LaTeXStrings v1.3.0\u001b[39m\n",
      " \u001b[90m [23fbe1c1] \u001b[39m\u001b[92m+ Latexify v0.15.18\u001b[39m\n",
      " \u001b[90m [8cdb02fc] \u001b[39m\u001b[92m+ LazyModules v0.3.1\u001b[39m\n",
      " \u001b[90m [98b081ad] \u001b[39m\u001b[92m+ Literate v2.14.0\u001b[39m\n",
      " \u001b[90m [2ab3a3ac] \u001b[39m\u001b[92m+ LogExpFunctions v0.3.23\u001b[39m\n",
      " \u001b[90m [e6f89c97] \u001b[39m\u001b[92m+ LoggingExtras v1.0.0\u001b[39m\n",
      " \u001b[90m [1914dd2f] \u001b[39m\u001b[92m+ MacroTools v0.5.10\u001b[39m\n",
      " \u001b[90m [dbb5928d] \u001b[39m\u001b[92m+ MappedArrays v0.4.1\u001b[39m\n",
      " \u001b[90m [739be429] \u001b[39m\u001b[92m+ MbedTLS v1.1.7\u001b[39m\n",
      " \u001b[90m [442fdcdd] \u001b[39m\u001b[92m+ Measures v0.3.2\u001b[39m\n",
      " \u001b[90m [626554b9] \u001b[39m\u001b[92m+ MetaGraphs v0.7.2\u001b[39m\n",
      " \u001b[90m [e1d29d7a] \u001b[39m\u001b[92m+ Missings v1.1.0\u001b[39m\n",
      " \u001b[90m [e94cdb99] \u001b[39m\u001b[92m+ MosaicViews v0.3.4\u001b[39m\n",
      " \u001b[90m [ffc61752] \u001b[39m\u001b[92m+ Mustache v1.0.14\u001b[39m\n",
      " \u001b[90m [77ba4419] \u001b[39m\u001b[92m+ NaNMath v1.0.2\u001b[39m\n",
      " \u001b[90m [b8a86587] \u001b[39m\u001b[92m+ NearestNeighbors v0.4.13\u001b[39m\n",
      " \u001b[90m [f09324ee] \u001b[39m\u001b[92m+ Netpbm v1.1.0\u001b[39m\n",
      " \u001b[90m [510215fc] \u001b[39m\u001b[92m+ Observables v0.5.4\u001b[39m\n",
      " \u001b[90m [6fe1bfb0] \u001b[39m\u001b[92m+ OffsetArrays v1.12.9\u001b[39m\n",
      " \u001b[90m [52e1d378] \u001b[39m\u001b[92m+ OpenEXR v0.3.2\u001b[39m\n",
      " \u001b[90m [4d8831e6] \u001b[39m\u001b[92m+ OpenSSL v1.3.3\u001b[39m\n",
      " \u001b[90m [bac558e1] \u001b[39m\u001b[92m+ OrderedCollections v1.4.1\u001b[39m\n",
      " \u001b[90m [f57f5aa1] \u001b[39m\u001b[92m+ PNGFiles v0.3.17\u001b[39m\n",
      " \u001b[90m [5432bcbf] \u001b[39m\u001b[92m+ PaddedViews v0.5.11\u001b[39m\n",
      " \u001b[90m [d96e819e] \u001b[39m\u001b[92m+ Parameters v0.12.3\u001b[39m\n",
      " \u001b[90m [69de0a69] \u001b[39m\u001b[92m+ Parsers v2.5.8\u001b[39m\n",
      " \u001b[90m [fa939f87] \u001b[39m\u001b[92m+ Pidfile v1.3.0\u001b[39m\n",
      " \u001b[90m [b98c9c47] \u001b[39m\u001b[92m+ Pipe v1.3.0\u001b[39m\n",
      " \u001b[90m [eebad327] \u001b[39m\u001b[92m+ PkgVersion v0.3.2\u001b[39m\n",
      " \u001b[90m [ccf2f8ad] \u001b[39m\u001b[92m+ PlotThemes v3.1.0\u001b[39m\n",
      " \u001b[90m [995b91a9] \u001b[39m\u001b[92m+ PlotUtils v1.3.4\u001b[39m\n",
      " \u001b[90m [91a5bcdd] \u001b[39m\u001b[92m+ Plots v1.38.6\u001b[39m\n",
      " \u001b[90m [21216c6a] \u001b[39m\u001b[92m+ Preferences v1.3.0\u001b[39m\n",
      " \u001b[90m [92933f4c] \u001b[39m\u001b[92m+ ProgressMeter v1.7.2\u001b[39m\n",
      " \u001b[90m [4b34888f] \u001b[39m\u001b[92m+ QOI v1.0.0\u001b[39m\n",
      " \u001b[90m [94ee1d12] \u001b[39m\u001b[92m+ Quaternions v0.7.4\u001b[39m\n",
      " \u001b[90m [b3c3ace0] \u001b[39m\u001b[92m+ RangeArrays v0.3.2\u001b[39m\n",
      " \u001b[90m [c84ed2f1] \u001b[39m\u001b[92m+ Ratios v0.4.3\u001b[39m\n",
      " \u001b[90m [c1ae055f] \u001b[39m\u001b[92m+ RealDot v0.1.0\u001b[39m\n",
      " \u001b[90m [3cdcf5f2] \u001b[39m\u001b[92m+ RecipesBase v1.3.3\u001b[39m\n",
      " \u001b[90m [01d81517] \u001b[39m\u001b[92m+ RecipesPipeline v0.6.11\u001b[39m\n",
      " \u001b[90m [189a3867] \u001b[39m\u001b[92m+ Reexport v1.2.2\u001b[39m\n",
      " \u001b[90m [dee08c22] \u001b[39m\u001b[92m+ RegionTrees v0.3.2\u001b[39m\n",
      " \u001b[90m [05181044] \u001b[39m\u001b[92m+ RelocatableFolders v1.0.0\u001b[39m\n",
      " \u001b[90m [ae029012] \u001b[39m\u001b[92m+ Requires v1.3.0\u001b[39m\n",
      " \u001b[90m [6038ab10] \u001b[39m\u001b[92m+ Rotations v1.4.0\u001b[39m\n",
      " \u001b[90m [6c6a2e73] \u001b[39m\u001b[92m+ Scratch v1.1.1\u001b[39m\n",
      " \u001b[90m [3cc68bcd] \u001b[39m\u001b[92m+ SetRounding v0.2.1\u001b[39m\n",
      " \u001b[90m [992d4aef] \u001b[39m\u001b[92m+ Showoff v1.0.3\u001b[39m\n",
      " \u001b[90m [777ac1f9] \u001b[39m\u001b[92m+ SimpleBufferStream v1.1.0\u001b[39m\n",
      " \u001b[90m [699a6c99] \u001b[39m\u001b[92m+ SimpleTraits v0.9.4\u001b[39m\n",
      " \u001b[90m [47aef6b3] \u001b[39m\u001b[92m+ SimpleWeightedGraphs v1.3.0\u001b[39m\n",
      " \u001b[90m [45858cf5] \u001b[39m\u001b[92m+ Sixel v0.1.2\u001b[39m\n",
      " \u001b[90m [66db9d55] \u001b[39m\u001b[92m+ SnoopPrecompile v1.0.3\u001b[39m\n",
      " \u001b[90m [b85f4697] \u001b[39m\u001b[92m+ SoftGlobalScope v1.1.0\u001b[39m\n",
      " \u001b[90m [a2af1166] \u001b[39m\u001b[92m+ SortingAlgorithms v1.1.0\u001b[39m\n",
      " \u001b[90m [276daf66] \u001b[39m\u001b[92m+ SpecialFunctions v2.2.0\u001b[39m\n",
      " \u001b[90m [cae243ae] \u001b[39m\u001b[92m+ StackViews v0.1.1\u001b[39m\n",
      " \u001b[90m [90137ffa] \u001b[39m\u001b[92m+ StaticArrays v1.5.16\u001b[39m\n",
      " \u001b[90m [1e83bf80] \u001b[39m\u001b[92m+ StaticArraysCore v1.4.0\u001b[39m\n",
      " \u001b[90m [82ae8749] \u001b[39m\u001b[92m+ StatsAPI v1.5.0\u001b[39m\n",
      " \u001b[90m [2913bbd2] \u001b[39m\u001b[92m+ StatsBase v0.33.21\u001b[39m\n",
      " \u001b[90m [88034a9c] \u001b[39m\u001b[92m+ StringDistances v0.11.2\u001b[39m\n",
      " \u001b[90m [69024149] \u001b[39m\u001b[92m+ StringEncodings v0.3.6\u001b[39m\n",
      " \u001b[90m [3783bdb8] \u001b[39m\u001b[92m+ TableTraits v1.0.1\u001b[39m\n",
      " \u001b[90m [bd369af6] \u001b[39m\u001b[92m+ Tables v1.10.0\u001b[39m\n",
      " \u001b[90m [62fd8b95] \u001b[39m\u001b[92m+ TensorCore v0.1.1\u001b[39m\n",
      " \u001b[90m [5e47fb64] \u001b[39m\u001b[92m+ TestImages v1.7.1\u001b[39m\n",
      " \u001b[90m [731e570b] \u001b[39m\u001b[92m+ TiffImages v0.6.3\u001b[39m\n",
      "\u001b[33m⌅\u001b[39m\u001b[90m [06e1c1a7] \u001b[39m\u001b[92m+ TiledIteration v0.3.1\u001b[39m\n",
      " \u001b[90m [3bb67fe8] \u001b[39m\u001b[92m+ TranscodingStreams v0.9.11\u001b[39m\n",
      " \u001b[90m [5c2747f8] \u001b[39m\u001b[92m+ URIs v1.4.2\u001b[39m\n",
      " \u001b[90m [3a884ed6] \u001b[39m\u001b[92m+ UnPack v1.0.2\u001b[39m\n",
      " \u001b[90m [1cfade01] \u001b[39m\u001b[92m+ UnicodeFun v0.4.1\u001b[39m\n",
      " \u001b[90m [41fe7b60] \u001b[39m\u001b[92m+ Unzip v0.2.0\u001b[39m\n",
      " \u001b[90m [81def892] \u001b[39m\u001b[92m+ VersionParsing v1.3.0\u001b[39m\n",
      " \u001b[90m [44d3d7a6] \u001b[39m\u001b[92m+ Weave v0.10.12\u001b[39m\n",
      " \u001b[90m [0f1e0344] \u001b[39m\u001b[92m+ WebIO v0.8.20\u001b[39m\n",
      " \u001b[90m [104b5d7c] \u001b[39m\u001b[92m+ WebSockets v1.6.0\u001b[39m\n",
      " \u001b[90m [cc8bc4a8] \u001b[39m\u001b[92m+ Widgets v0.6.6\u001b[39m\n",
      " \u001b[90m [efce3f68] \u001b[39m\u001b[92m+ WoodburyMatrices v0.5.5\u001b[39m\n",
      " \u001b[90m [ddb6d928] \u001b[39m\u001b[92m+ YAML v0.4.8\u001b[39m\n",
      " \u001b[90m [c2297ded] \u001b[39m\u001b[92m+ ZMQ v1.2.2\u001b[39m\n",
      " \u001b[90m [6e34b625] \u001b[39m\u001b[92m+ Bzip2_jll v1.0.8+0\u001b[39m\n",
      " \u001b[90m [83423d85] \u001b[39m\u001b[92m+ Cairo_jll v1.16.1+1\u001b[39m\n",
      " \u001b[90m [2e619515] \u001b[39m\u001b[92m+ Expat_jll v2.4.8+0\u001b[39m\n",
      " \u001b[90m [b22a6f82] \u001b[39m\u001b[92m+ FFMPEG_jll v4.4.2+2\u001b[39m\n",
      " \u001b[90m [f5851436] \u001b[39m\u001b[92m+ FFTW_jll v3.3.10+0\u001b[39m\n",
      " \u001b[90m [a3f928ae] \u001b[39m\u001b[92m+ Fontconfig_jll v2.13.93+0\u001b[39m\n",
      " \u001b[90m [d7e528f0] \u001b[39m\u001b[92m+ FreeType2_jll v2.10.4+0\u001b[39m\n",
      " \u001b[90m [559328eb] \u001b[39m\u001b[92m+ FriBidi_jll v1.0.10+0\u001b[39m\n",
      " \u001b[90m [0656b61e] \u001b[39m\u001b[92m+ GLFW_jll v3.3.8+0\u001b[39m\n",
      " \u001b[90m [d2c73de3] \u001b[39m\u001b[92m+ GR_jll v0.71.7+0\u001b[39m\n",
      " \u001b[90m [78b55507] \u001b[39m\u001b[92m+ Gettext_jll v0.21.0+0\u001b[39m\n",
      " \u001b[90m [61579ee1] \u001b[39m\u001b[92m+ Ghostscript_jll v9.55.0+4\u001b[39m\n",
      " \u001b[90m [7746bdde] \u001b[39m\u001b[92m+ Glib_jll v2.74.0+2\u001b[39m\n",
      " \u001b[90m [3b182d85] \u001b[39m\u001b[92m+ Graphite2_jll v1.3.14+0\u001b[39m\n",
      " \u001b[90m [2e76f6c2] \u001b[39m\u001b[92m+ HarfBuzz_jll v2.8.1+1\u001b[39m\n",
      "\u001b[33m⌅\u001b[39m\u001b[90m [c73af94c] \u001b[39m\u001b[92m+ ImageMagick_jll v6.9.12+3\u001b[39m\n",
      " \u001b[90m [905a6f67] \u001b[39m\u001b[92m+ Imath_jll v3.1.2+0\u001b[39m\n",
      " \u001b[90m [1d5cc7b8] \u001b[39m\u001b[92m+ IntelOpenMP_jll v2018.0.3+2\u001b[39m\n",
      " \u001b[90m [aacddb02] \u001b[39m\u001b[92m+ JpegTurbo_jll v2.1.91+0\u001b[39m\n",
      " \u001b[90m [c1c5ebd0] \u001b[39m\u001b[92m+ LAME_jll v3.100.1+0\u001b[39m\n",
      " \u001b[90m [88015f11] \u001b[39m\u001b[92m+ LERC_jll v3.0.0+1\u001b[39m\n",
      " \u001b[90m [dd4b983a] \u001b[39m\u001b[92m+ LZO_jll v2.10.1+0\u001b[39m\n",
      "\u001b[33m⌅\u001b[39m\u001b[90m [e9f186c6] \u001b[39m\u001b[92m+ Libffi_jll v3.2.2+1\u001b[39m\n",
      " \u001b[90m [d4300ac3] \u001b[39m\u001b[92m+ Libgcrypt_jll v1.8.7+0\u001b[39m\n"
     ]
    },
    {
     "name": "stderr",
     "output_type": "stream",
     "text": [
      " \u001b[90m [7e76a0d4] \u001b[39m\u001b[92m+ Libglvnd_jll v1.6.0+0\u001b[39m\n",
      " \u001b[90m [7add5ba3] \u001b[39m\u001b[92m+ Libgpg_error_jll v1.42.0+0\u001b[39m\n",
      " \u001b[90m [94ce4f54] \u001b[39m\u001b[92m+ Libiconv_jll v1.16.1+2\u001b[39m\n",
      " \u001b[90m [4b2f31a3] \u001b[39m\u001b[92m+ Libmount_jll v2.35.0+0\u001b[39m\n",
      " \u001b[90m [89763e89] \u001b[39m\u001b[92m+ Libtiff_jll v4.4.0+0\u001b[39m\n",
      " \u001b[90m [38a345b3] \u001b[39m\u001b[92m+ Libuuid_jll v2.36.0+0\u001b[39m\n",
      " \u001b[90m [856f044c] \u001b[39m\u001b[92m+ MKL_jll v2022.2.0+0\u001b[39m\n",
      " \u001b[90m [e7412a2a] \u001b[39m\u001b[92m+ Ogg_jll v1.3.5+1\u001b[39m\n",
      " \u001b[90m [18a262bb] \u001b[39m\u001b[92m+ OpenEXR_jll v3.1.1+0\u001b[39m\n",
      " \u001b[90m [458c3c95] \u001b[39m\u001b[92m+ OpenSSL_jll v1.1.20+0\u001b[39m\n",
      " \u001b[90m [efe28fd5] \u001b[39m\u001b[92m+ OpenSpecFun_jll v0.5.5+0\u001b[39m\n",
      " \u001b[90m [91d4177d] \u001b[39m\u001b[92m+ Opus_jll v1.3.2+0\u001b[39m\n",
      " \u001b[90m [30392449] \u001b[39m\u001b[92m+ Pixman_jll v0.40.1+0\u001b[39m\n",
      " \u001b[90m [ea2cea3b] \u001b[39m\u001b[92m+ Qt5Base_jll v5.15.3+2\u001b[39m\n",
      " \u001b[90m [a2964d1f] \u001b[39m\u001b[92m+ Wayland_jll v1.21.0+0\u001b[39m\n",
      " \u001b[90m [2381bf8a] \u001b[39m\u001b[92m+ Wayland_protocols_jll v1.25.0+0\u001b[39m\n",
      " \u001b[90m [02c8fc9c] \u001b[39m\u001b[92m+ XML2_jll v2.10.3+0\u001b[39m\n",
      " \u001b[90m [aed1982a] \u001b[39m\u001b[92m+ XSLT_jll v1.1.34+0\u001b[39m\n",
      " \u001b[90m [4f6342f7] \u001b[39m\u001b[92m+ Xorg_libX11_jll v1.6.9+4\u001b[39m\n",
      " \u001b[90m [0c0b7dd1] \u001b[39m\u001b[92m+ Xorg_libXau_jll v1.0.9+4\u001b[39m\n",
      " \u001b[90m [935fb764] \u001b[39m\u001b[92m+ Xorg_libXcursor_jll v1.2.0+4\u001b[39m\n",
      " \u001b[90m [a3789734] \u001b[39m\u001b[92m+ Xorg_libXdmcp_jll v1.1.3+4\u001b[39m\n",
      " \u001b[90m [1082639a] \u001b[39m\u001b[92m+ Xorg_libXext_jll v1.3.4+4\u001b[39m\n",
      " \u001b[90m [d091e8ba] \u001b[39m\u001b[92m+ Xorg_libXfixes_jll v5.0.3+4\u001b[39m\n",
      " \u001b[90m [a51aa0fd] \u001b[39m\u001b[92m+ Xorg_libXi_jll v1.7.10+4\u001b[39m\n",
      " \u001b[90m [d1454406] \u001b[39m\u001b[92m+ Xorg_libXinerama_jll v1.1.4+4\u001b[39m\n",
      " \u001b[90m [ec84b674] \u001b[39m\u001b[92m+ Xorg_libXrandr_jll v1.5.2+4\u001b[39m\n",
      " \u001b[90m [ea2f1a96] \u001b[39m\u001b[92m+ Xorg_libXrender_jll v0.9.10+4\u001b[39m\n",
      " \u001b[90m [14d82f49] \u001b[39m\u001b[92m+ Xorg_libpthread_stubs_jll v0.1.0+3\u001b[39m\n",
      " \u001b[90m [c7cfdc94] \u001b[39m\u001b[92m+ Xorg_libxcb_jll v1.13.0+3\u001b[39m\n",
      " \u001b[90m [cc61e674] \u001b[39m\u001b[92m+ Xorg_libxkbfile_jll v1.1.0+4\u001b[39m\n",
      " \u001b[90m [12413925] \u001b[39m\u001b[92m+ Xorg_xcb_util_image_jll v0.4.0+1\u001b[39m\n",
      " \u001b[90m [2def613f] \u001b[39m\u001b[92m+ Xorg_xcb_util_jll v0.4.0+1\u001b[39m\n",
      " \u001b[90m [975044d2] \u001b[39m\u001b[92m+ Xorg_xcb_util_keysyms_jll v0.4.0+1\u001b[39m\n",
      " \u001b[90m [0d47668e] \u001b[39m\u001b[92m+ Xorg_xcb_util_renderutil_jll v0.3.9+1\u001b[39m\n",
      " \u001b[90m [c22f9ab0] \u001b[39m\u001b[92m+ Xorg_xcb_util_wm_jll v0.4.1+1\u001b[39m\n",
      " \u001b[90m [35661453] \u001b[39m\u001b[92m+ Xorg_xkbcomp_jll v1.4.2+4\u001b[39m\n",
      " \u001b[90m [33bec58e] \u001b[39m\u001b[92m+ Xorg_xkeyboard_config_jll v2.27.0+4\u001b[39m\n",
      " \u001b[90m [c5fb5394] \u001b[39m\u001b[92m+ Xorg_xtrans_jll v1.4.0+3\u001b[39m\n",
      " \u001b[90m [8f1865be] \u001b[39m\u001b[92m+ ZeroMQ_jll v4.3.4+0\u001b[39m\n",
      " \u001b[90m [3161d3a3] \u001b[39m\u001b[92m+ Zstd_jll v1.5.4+0\u001b[39m\n",
      "\u001b[33m⌅\u001b[39m\u001b[90m [214eeab7] \u001b[39m\u001b[92m+ fzf_jll v0.29.0+0\u001b[39m\n",
      " \u001b[90m [a4ae2306] \u001b[39m\u001b[92m+ libaom_jll v3.4.0+0\u001b[39m\n",
      " \u001b[90m [0ac62f75] \u001b[39m\u001b[92m+ libass_jll v0.15.1+0\u001b[39m\n",
      " \u001b[90m [f638f0a6] \u001b[39m\u001b[92m+ libfdk_aac_jll v2.0.2+0\u001b[39m\n",
      " \u001b[90m [b53b4c65] \u001b[39m\u001b[92m+ libpng_jll v1.6.38+0\u001b[39m\n",
      " \u001b[90m [075b6546] \u001b[39m\u001b[92m+ libsixel_jll v1.10.3+0\u001b[39m\n",
      " \u001b[90m [a9144af2] \u001b[39m\u001b[92m+ libsodium_jll v1.0.20+0\u001b[39m\n",
      " \u001b[90m [f27f6e37] \u001b[39m\u001b[92m+ libvorbis_jll v1.3.7+1\u001b[39m\n",
      " \u001b[90m [1270edf5] \u001b[39m\u001b[92m+ x264_jll v2021.5.5+0\u001b[39m\n",
      " \u001b[90m [dfaa095f] \u001b[39m\u001b[92m+ x265_jll v3.5.0+0\u001b[39m\n",
      " \u001b[90m [d8fb68d0] \u001b[39m\u001b[92m+ xkbcommon_jll v1.4.1+0\u001b[39m\n",
      " \u001b[90m [0dad84c5] \u001b[39m\u001b[92m+ ArgTools v1.1.1\u001b[39m\n",
      " \u001b[90m [56f22d72] \u001b[39m\u001b[92m+ Artifacts\u001b[39m\n",
      " \u001b[90m [2a0f44e3] \u001b[39m\u001b[92m+ Base64\u001b[39m\n",
      " \u001b[90m [ade2ca70] \u001b[39m\u001b[92m+ Dates\u001b[39m\n",
      " \u001b[90m [8bb1440f] \u001b[39m\u001b[92m+ DelimitedFiles\u001b[39m\n",
      " \u001b[90m [8ba89e20] \u001b[39m\u001b[92m+ Distributed\u001b[39m\n",
      " \u001b[90m [f43a241f] \u001b[39m\u001b[92m+ Downloads v1.6.0\u001b[39m\n",
      " \u001b[90m [7b1f6079] \u001b[39m\u001b[92m+ FileWatching\u001b[39m\n",
      " \u001b[90m [b77e0a4c] \u001b[39m\u001b[92m+ InteractiveUtils\u001b[39m\n",
      " \u001b[90m [4af54fe1] \u001b[39m\u001b[92m+ LazyArtifacts\u001b[39m\n",
      " \u001b[90m [b27032c2] \u001b[39m\u001b[92m+ LibCURL v0.6.3\u001b[39m\n",
      " \u001b[90m [76f85450] \u001b[39m\u001b[92m+ LibGit2\u001b[39m\n",
      " \u001b[90m [8f399da3] \u001b[39m\u001b[92m+ Libdl\u001b[39m\n",
      " \u001b[90m [37e2e46d] \u001b[39m\u001b[92m+ LinearAlgebra\u001b[39m\n",
      " \u001b[90m [56ddb016] \u001b[39m\u001b[92m+ Logging\u001b[39m\n",
      " \u001b[90m [d6f4376e] \u001b[39m\u001b[92m+ Markdown\u001b[39m\n",
      " \u001b[90m [a63ad114] \u001b[39m\u001b[92m+ Mmap\u001b[39m\n",
      " \u001b[90m [ca575930] \u001b[39m\u001b[92m+ NetworkOptions v1.2.0\u001b[39m\n",
      " \u001b[90m [44cfe95a] \u001b[39m\u001b[92m+ Pkg v1.8.0\u001b[39m\n",
      " \u001b[90m [de0858da] \u001b[39m\u001b[92m+ Printf\u001b[39m\n",
      " \u001b[90m [9abbd945] \u001b[39m\u001b[92m+ Profile\u001b[39m\n",
      " \u001b[90m [3fa0cd96] \u001b[39m\u001b[92m+ REPL\u001b[39m\n",
      " \u001b[90m [9a3f8284] \u001b[39m\u001b[92m+ Random\u001b[39m\n",
      " \u001b[90m [ea8e919c] \u001b[39m\u001b[92m+ SHA v0.7.0\u001b[39m\n",
      " \u001b[90m [9e88b42a] \u001b[39m\u001b[92m+ Serialization\u001b[39m\n",
      " \u001b[90m [1a1011a3] \u001b[39m\u001b[92m+ SharedArrays\u001b[39m\n",
      " \u001b[90m [6462fe0b] \u001b[39m\u001b[92m+ Sockets\u001b[39m\n",
      " \u001b[90m [2f01184e] \u001b[39m\u001b[92m+ SparseArrays\u001b[39m\n",
      " \u001b[90m [10745b16] \u001b[39m\u001b[92m+ Statistics\u001b[39m\n",
      " \u001b[90m [fa267f1f] \u001b[39m\u001b[92m+ TOML v1.0.0\u001b[39m\n",
      " \u001b[90m [a4e569a6] \u001b[39m\u001b[92m+ Tar v1.10.1\u001b[39m\n",
      " \u001b[90m [8dfed614] \u001b[39m\u001b[92m+ Test\u001b[39m\n",
      " \u001b[90m [cf7118a7] \u001b[39m\u001b[92m+ UUIDs\u001b[39m\n",
      " \u001b[90m [4ec0a83e] \u001b[39m\u001b[92m+ Unicode\u001b[39m\n",
      " \u001b[90m [e66e0078] \u001b[39m\u001b[92m+ CompilerSupportLibraries_jll v1.0.1+0\u001b[39m\n",
      " \u001b[90m [deac9b47] \u001b[39m\u001b[92m+ LibCURL_jll v7.84.0+0\u001b[39m\n",
      " \u001b[90m [29816b5a] \u001b[39m\u001b[92m+ LibSSH2_jll v1.10.2+0\u001b[39m\n",
      " \u001b[90m [c8ffd9c3] \u001b[39m\u001b[92m+ MbedTLS_jll v2.28.0+0\u001b[39m\n",
      " \u001b[90m [14a3606d] \u001b[39m\u001b[92m+ MozillaCACerts_jll v2022.2.1\u001b[39m\n",
      " \u001b[90m [4536629a] \u001b[39m\u001b[92m+ OpenBLAS_jll v0.3.20+0\u001b[39m\n",
      " \u001b[90m [05823500] \u001b[39m\u001b[92m+ OpenLibm_jll v0.8.1+0\u001b[39m\n",
      " \u001b[90m [efcefdf7] \u001b[39m\u001b[92m+ PCRE2_jll v10.40.0+0\u001b[39m\n",
      " \u001b[90m [83775a58] \u001b[39m\u001b[92m+ Zlib_jll v1.2.12+3\u001b[39m\n",
      " \u001b[90m [8e850b90] \u001b[39m\u001b[92m+ libblastrampoline_jll v5.1.1+0\u001b[39m\n",
      " \u001b[90m [8e850ede] \u001b[39m\u001b[92m+ nghttp2_jll v1.48.0+0\u001b[39m\n",
      " \u001b[90m [3f19e933] \u001b[39m\u001b[92m+ p7zip_jll v17.4.0+0\u001b[39m\n",
      "\u001b[36m\u001b[1m        Info\u001b[22m\u001b[39m Packages marked with \u001b[32m⌃\u001b[39m and \u001b[33m⌅\u001b[39m have new versions available, but those with \u001b[33m⌅\u001b[39m are restricted by compatibility constraints from upgrading. To see why use `status --outdated -m`\n",
      "\u001b[32m\u001b[1m    Building\u001b[22m\u001b[39m WebIO ───────→ `C:\\Users\\lilye\\.julia\\scratchspaces\\44cfe95a-1eb2-52ea-b672-e2afdf69b78f\\976d0738247f155d0dcd77607edea644f069e1e9\\build.log`\n",
      "\u001b[32m\u001b[1m    Building\u001b[22m\u001b[39m Knockout ────→ `C:\\Users\\lilye\\.julia\\scratchspaces\\44cfe95a-1eb2-52ea-b672-e2afdf69b78f\\91835de56d816864f1c38fb5e3fad6eb1e741271\\build.log`\n",
      "\u001b[32m\u001b[1m    Building\u001b[22m\u001b[39m InteractBase → `C:\\Users\\lilye\\.julia\\scratchspaces\\44cfe95a-1eb2-52ea-b672-e2afdf69b78f\\dc5a846040f1607740e29e582b6e66251b9ecf9d\\build.log`\n",
      "\u001b[32m\u001b[1m    Building\u001b[22m\u001b[39m Interact ────→ `C:\\Users\\lilye\\.julia\\scratchspaces\\44cfe95a-1eb2-52ea-b672-e2afdf69b78f\\c5091992248c7134af7c90554305c600d5d9012b\\build.log`\n"
     ]
    }
   ],
   "source": [
    "using Pkg\n",
    "Pkg.instantiate()"
   ]
  },
  {
   "cell_type": "code",
   "execution_count": 40,
   "metadata": {},
   "outputs": [],
   "source": [
    "using ColorBitstring, Test, SetRounding"
   ]
  },
  {
   "cell_type": "markdown",
   "metadata": {},
   "source": [
    "## 1. Integers"
   ]
  },
  {
   "cell_type": "markdown",
   "metadata": {},
   "source": [
    "Every primitive number type is stored as a sequence of bits.\n",
    "The number of _bytes_ (i.e. 8-bits) can be deduced using the `sizeof` function:"
   ]
  },
  {
   "cell_type": "code",
   "execution_count": 2,
   "metadata": {},
   "outputs": [
    {
     "data": {
      "text/plain": [
       "4"
      ]
     },
     "execution_count": 2,
     "metadata": {},
     "output_type": "execute_result"
    }
   ],
   "source": [
    "sizeof(UInt32) # 4 bytes == 4*8 bits == 32 bits"
   ]
  },
  {
   "cell_type": "markdown",
   "metadata": {},
   "source": [
    "The function `typeof` can be used to determine the type of a number.\n",
    "By default when we write an integer (e.g. `-123`) it is of type `Int`:"
   ]
  },
  {
   "cell_type": "code",
   "execution_count": 3,
   "metadata": {},
   "outputs": [
    {
     "data": {
      "text/plain": [
       "Int64"
      ]
     },
     "execution_count": 3,
     "metadata": {},
     "output_type": "execute_result"
    }
   ],
   "source": [
    "typeof(5)"
   ]
  },
  {
   "cell_type": "markdown",
   "metadata": {},
   "source": [
    "-----\n",
    "**Problem 1.1** Use `sizeof` to determine how many bits your machine uses for the type `Int`."
   ]
  },
  {
   "cell_type": "code",
   "execution_count": 1,
   "metadata": {},
   "outputs": [
    {
     "data": {
      "text/plain": [
       "8"
      ]
     },
     "execution_count": 1,
     "metadata": {},
     "output_type": "execute_result"
    }
   ],
   "source": [
    "sizeof(Int)"
   ]
  },
  {
   "cell_type": "markdown",
   "metadata": {},
   "source": [
    "-----"
   ]
  },
  {
   "cell_type": "markdown",
   "metadata": {},
   "source": [
    "There are a few ways to create other types of integers. Conversion\n",
    "converts between different types:"
   ]
  },
  {
   "cell_type": "code",
   "execution_count": 5,
   "metadata": {},
   "outputs": [
    {
     "data": {
      "text/plain": [
       "0x05"
      ]
     },
     "execution_count": 5,
     "metadata": {},
     "output_type": "execute_result"
    }
   ],
   "source": [
    "UInt8(5) # converts an `Int` to an `UInt8`, displaying the result in hex"
   ]
  },
  {
   "cell_type": "markdown",
   "metadata": {},
   "source": [
    "This fails if a number cannot be represented as a specified type: e.g. `UInt8(-5)` and `UInt8(2^8)`."
   ]
  },
  {
   "cell_type": "markdown",
   "metadata": {},
   "source": [
    "(These can also be written as e.g. `convert(UInt8, 5)`.)\n",
    "We can also create unsigned integers by specifying their bits\n",
    "by writing `0b` followed by a sequence of bits:"
   ]
  },
  {
   "cell_type": "code",
   "execution_count": 6,
   "metadata": {},
   "outputs": [
    {
     "data": {
      "text/plain": [
       "0x05"
      ]
     },
     "execution_count": 6,
     "metadata": {},
     "output_type": "execute_result"
    }
   ],
   "source": [
    "0b101 # isa UInt8, the smallest type with at least 3 bits"
   ]
  },
  {
   "cell_type": "code",
   "execution_count": 7,
   "metadata": {},
   "outputs": [
    {
     "data": {
      "text/plain": [
       "0x05dd"
      ]
     },
     "execution_count": 7,
     "metadata": {},
     "output_type": "execute_result"
    }
   ],
   "source": [
    "0b10111011101 # isa UInt16, the smallest type with at least 11 bits"
   ]
  },
  {
   "cell_type": "markdown",
   "metadata": {},
   "source": [
    "Or in base-16 using hexadecimal format (with digits `0–9a–f` following\n",
    "an `0x`), where each digit takes 4 bits to represent (since $2^4 = 16$):"
   ]
  },
  {
   "cell_type": "code",
   "execution_count": 8,
   "metadata": {},
   "outputs": [
    {
     "data": {
      "text/plain": [
       "0x000abcde"
      ]
     },
     "execution_count": 8,
     "metadata": {},
     "output_type": "execute_result"
    }
   ],
   "source": [
    "0xabcde # isa UInt32, the smallest type with at least 4*5 = 20 bits"
   ]
  },
  {
   "cell_type": "markdown",
   "metadata": {},
   "source": [
    "-----\n",
    "**Problem 1.2** Use binary format to create an `Int` corresponding to $(101101)_2$."
   ]
  },
  {
   "cell_type": "code",
   "execution_count": 6,
   "metadata": {},
   "outputs": [
    {
     "data": {
      "text/plain": [
       "45"
      ]
     },
     "execution_count": 6,
     "metadata": {},
     "output_type": "execute_result"
    }
   ],
   "source": [
    "Int(0b101101)"
   ]
  },
  {
   "cell_type": "markdown",
   "metadata": {},
   "source": [
    "-----"
   ]
  },
  {
   "cell_type": "markdown",
   "metadata": {},
   "source": [
    "**Problem 1.3** What happens if you specify more than 64 bits using `0b⋅⋅…⋅⋅`?\n",
    "What if you specify more than 128 bits?"
   ]
  },
  {
   "cell_type": "code",
   "execution_count": 12,
   "metadata": {},
   "outputs": [
    {
     "ename": "LoadError",
     "evalue": "InexactError: check_top_bit(Int64, 340282366920938463463374607431768211455)",
     "output_type": "error",
     "traceback": [
      "InexactError: check_top_bit(Int64, 340282366920938463463374607431768211455)",
      "",
      "Stacktrace:",
      " [1] throw_inexacterror(f::Symbol, #unused#::Type{Int64}, val::UInt128)",
      "   @ Core .\\boot.jl:614",
      " [2] check_top_bit",
      "   @ .\\boot.jl:628 [inlined]",
      " [3] toInt64",
      "   @ .\\boot.jl:690 [inlined]",
      " [4] Int64(x::UInt128)",
      "   @ Core .\\boot.jl:764",
      " [5] top-level scope",
      "   @ In[12]:1"
     ]
    }
   ],
   "source": [
    "Int(0b11111111111111111111111111111111111111111111111111111111111111111111111111111111111111111111111111111111111111111111111111111111)\n",
    "#inexact error for 64"
   ]
  },
  {
   "cell_type": "markdown",
   "metadata": {},
   "source": [
    "-----"
   ]
  },
  {
   "cell_type": "markdown",
   "metadata": {},
   "source": [
    "We can also reinterpret a sequence of bits in a different format:"
   ]
  },
  {
   "cell_type": "code",
   "execution_count": 11,
   "metadata": {},
   "outputs": [
    {
     "data": {
      "text/plain": [
       "-1"
      ]
     },
     "execution_count": 11,
     "metadata": {},
     "output_type": "execute_result"
    }
   ],
   "source": [
    "reinterpret(Int8, 0b11111111) # Create an Int8 with the bits 11111111"
   ]
  },
  {
   "cell_type": "markdown",
   "metadata": {},
   "source": [
    "Arithmetic follows modular arithmetic. The following examples test your understanding of this."
   ]
  },
  {
   "cell_type": "markdown",
   "metadata": {},
   "source": [
    "-----"
   ]
  },
  {
   "cell_type": "markdown",
   "metadata": {},
   "source": [
    "**Problem 1.5** Can you predict what the output of the following will be before hitting return?"
   ]
  },
  {
   "cell_type": "code",
   "execution_count": 4,
   "metadata": {},
   "outputs": [],
   "source": [
    "Int(UInt8(120) + UInt8(10)); # Convert to `Int` to see the number printed in decimal\n",
    "#130"
   ]
  },
  {
   "cell_type": "code",
   "execution_count": 2,
   "metadata": {},
   "outputs": [
    {
     "data": {
      "text/plain": [
       "-126"
      ]
     },
     "execution_count": 2,
     "metadata": {},
     "output_type": "execute_result"
    }
   ],
   "source": [
    "Int(Int8(120) + Int8(10));\n",
    "#130\n",
    "#Wrong- can only go to 127 with signed integer because if 1 at start then interpret as negative\n",
    "#basiclly you get 130 so make it 10000010 but then this is neg = 128-2 (2^7 - value) = -126"
   ]
  },
  {
   "cell_type": "code",
   "execution_count": 6,
   "metadata": {},
   "outputs": [],
   "source": [
    "Int(UInt8(2)^7);\n",
    "#128"
   ]
  },
  {
   "cell_type": "code",
   "execution_count": 7,
   "metadata": {},
   "outputs": [
    {
     "data": {
      "text/plain": [
       "-128"
      ]
     },
     "execution_count": 7,
     "metadata": {},
     "output_type": "execute_result"
    }
   ],
   "source": [
    "Int(Int8(2)^7);\n",
    "#128 = -128 (you get 10000000 so thinks neg so does -128 + rest = -128)"
   ]
  },
  {
   "cell_type": "code",
   "execution_count": 9,
   "metadata": {},
   "outputs": [
    {
     "data": {
      "text/plain": [
       "1"
      ]
     },
     "execution_count": 9,
     "metadata": {},
     "output_type": "execute_result"
    }
   ],
   "source": [
    "Int(Int8(2)^8)\n",
    "#0 overflows so only 0 in the 8bits"
   ]
  },
  {
   "cell_type": "markdown",
   "metadata": {},
   "source": [
    "-----"
   ]
  },
  {
   "cell_type": "markdown",
   "metadata": {},
   "source": [
    "## 2. Reals\n",
    "\n",
    "Real numbers interpret a sequence of bits in floating point format.\n",
    "\n",
    "-----\n",
    "**Problem 2.1** Use `printbits` to guess the binary representation of $1/5$."
   ]
  },
  {
   "cell_type": "code",
   "execution_count": 41,
   "metadata": {},
   "outputs": [
    {
     "name": "stdout",
     "output_type": "stream",
     "text": [
      "\u001b[31m0\u001b[0m\u001b[32m01111111101\u001b[0m\u001b[34m0101010101010101010101010101010101010101010101010101\u001b[0m"
     ]
    }
   ],
   "source": [
    "printbits(1/3)\n",
    "#"
   ]
  },
  {
   "cell_type": "markdown",
   "metadata": {},
   "source": [
    "-----"
   ]
  },
  {
   "cell_type": "markdown",
   "metadata": {},
   "source": [
    "**Problem 2.2** Create a positive `Float64` whose exponent is $q = 156$ and has significand\n",
    "bits\n",
    "$$\n",
    "b_k = \\begin{cases}\n",
    "    1 & k\\hbox{ is prime} \\\\\n",
    "    0 & \\hbox{otherwise}\n",
    "    \\end{cases}\n",
    "$$"
   ]
  },
  {
   "cell_type": "code",
   "execution_count": 18,
   "metadata": {},
   "outputs": [],
   "source": [
    "function isprime(k) # quick-and-dirty test for prime\n",
    "    if k <= 1\n",
    "        return false\n",
    "    end\n",
    "    for j=1:k-1\n",
    "        if gcd(k, j) ≠ 1\n",
    "            return false\n",
    "        end\n",
    "    end\n",
    "    return true\n",
    "end\n",
    "\n",
    "ret = \"1\" # leading coefficient\n",
    "\n",
    "for k = 1:52\n",
    "    global ret # in scripts we need to let Julia know ret is a global variable\n",
    "    if isprime(k)\n",
    "        ret *= \"1\"\n",
    "    else\n",
    "        ret *= \"0\"\n",
    "    end\n",
    "end\n",
    "\n",
    "sig = 2.0^(-52) * parse(Int, ret; base=2)\n",
    "\n",
    "2.0^(156 - 1023) * sig\n",
    "\n",
    "# END"
   ]
  },
  {
   "cell_type": "markdown",
   "metadata": {},
   "source": [
    "-----"
   ]
  },
  {
   "cell_type": "markdown",
   "metadata": {},
   "source": [
    "**Problem 2.3** Create the smallest postive non-zero sub-normal `Float16` by specifying\n",
    "its bits."
   ]
  },
  {
   "cell_type": "code",
   "execution_count": 19,
   "metadata": {},
   "outputs": [],
   "source": [
    "## SOLUTION\n",
    "# sign is + so sign bit is 0, exponent is 00000 and significand is all zeros apart from a 1:\n",
    "reinterpret(Float16, 0b0000000000000001) # == nextfloat(Float16(0))\n",
    "# END"
   ]
  },
  {
   "cell_type": "markdown",
   "metadata": {},
   "source": [
    "-----"
   ]
  },
  {
   "cell_type": "markdown",
   "metadata": {},
   "source": [
    "## 3. Strings and parsing"
   ]
  },
  {
   "cell_type": "markdown",
   "metadata": {},
   "source": [
    "Strings are a convenient way of representing arbitrary strings of digits.\n",
    "For example we can convert bits of a number to a string of \"1\"s and \"0\"s using the function `bitstring`."
   ]
  },
  {
   "cell_type": "markdown",
   "metadata": {},
   "source": [
    "-----"
   ]
  },
  {
   "cell_type": "markdown",
   "metadata": {},
   "source": [
    "**Problem 3.1** Can you predict what the output of the following will be before hitting return?"
   ]
  },
  {
   "cell_type": "code",
   "execution_count": 20,
   "metadata": {},
   "outputs": [],
   "source": [
    "bitstring(11);  # Semi-colon prohibits output, delete to check your answer"
   ]
  },
  {
   "cell_type": "code",
   "execution_count": 21,
   "metadata": {},
   "outputs": [],
   "source": [
    "bitstring(-11);"
   ]
  },
  {
   "cell_type": "markdown",
   "metadata": {},
   "source": [
    "-----"
   ]
  },
  {
   "cell_type": "markdown",
   "metadata": {},
   "source": [
    "We can `parse` a string of digits in base 2 or 10:"
   ]
  },
  {
   "cell_type": "code",
   "execution_count": 22,
   "metadata": {},
   "outputs": [
    {
     "data": {
      "text/plain": [
       "(3, 11)"
      ]
     },
     "execution_count": 22,
     "metadata": {},
     "output_type": "execute_result"
    }
   ],
   "source": [
    "parse(Int8, \"11\"; base=2),\n",
    "parse(Int8, \"00001011\"; base=2)"
   ]
  },
  {
   "cell_type": "markdown",
   "metadata": {},
   "source": [
    "Be careful with \"negative\" numbers, the following will fail: `parse(Int8, \"10001011\"; base=2)`"
   ]
  },
  {
   "cell_type": "markdown",
   "metadata": {},
   "source": [
    "It treats the string as binary digits, NOT bits. That is, negative numbers\n",
    "are represented using the minus sign:"
   ]
  },
  {
   "cell_type": "code",
   "execution_count": 23,
   "metadata": {},
   "outputs": [
    {
     "data": {
      "text/plain": [
       "-11"
      ]
     },
     "execution_count": 23,
     "metadata": {},
     "output_type": "execute_result"
    }
   ],
   "source": [
    "parse(Int8, \"-00001011\"; base=2)"
   ]
  },
  {
   "cell_type": "markdown",
   "metadata": {},
   "source": [
    "-----"
   ]
  },
  {
   "cell_type": "markdown",
   "metadata": {},
   "source": [
    "**Problem 3.2** Combine `parse`, `reinterpret`, and `UInt8` to convert the\n",
    "above string to a (negative) `Int8` with the specified bits."
   ]
  },
  {
   "cell_type": "code",
   "execution_count": 24,
   "metadata": {},
   "outputs": [],
   "source": [
    "#"
   ]
  },
  {
   "cell_type": "markdown",
   "metadata": {},
   "source": [
    "-----"
   ]
  },
  {
   "cell_type": "markdown",
   "metadata": {},
   "source": [
    "To concatenate strings we use `*` (multiplication is used because string concatenation\n",
    "is non-commutative):"
   ]
  },
  {
   "cell_type": "code",
   "execution_count": 25,
   "metadata": {},
   "outputs": [
    {
     "data": {
      "text/plain": [
       "\"hibye\""
      ]
     },
     "execution_count": 25,
     "metadata": {},
     "output_type": "execute_result"
    }
   ],
   "source": [
    "\"hi\" * \"bye\""
   ]
  },
  {
   "cell_type": "markdown",
   "metadata": {},
   "source": [
    "The string consisting of the first nine characters can be found using `str[1:9]` where `str` is any string:"
   ]
  },
  {
   "cell_type": "code",
   "execution_count": 26,
   "metadata": {},
   "outputs": [
    {
     "data": {
      "text/plain": [
       "\"hibye0123\""
      ]
     },
     "execution_count": 26,
     "metadata": {},
     "output_type": "execute_result"
    }
   ],
   "source": [
    "str=\"hibye0123445556\"\n",
    "str[1:9]  # returns \"hibye0123\""
   ]
  },
  {
   "cell_type": "markdown",
   "metadata": {},
   "source": [
    "The string consisting of the 11th through last character can be found using `str[11:end]`:"
   ]
  },
  {
   "cell_type": "code",
   "execution_count": 27,
   "metadata": {},
   "outputs": [
    {
     "data": {
      "text/plain": [
       "\"45556\""
      ]
     },
     "execution_count": 27,
     "metadata": {},
     "output_type": "execute_result"
    }
   ],
   "source": [
    "str=\"hibye0123445556\"\n",
    "str[11:end]  # returns \"45556\""
   ]
  },
  {
   "cell_type": "markdown",
   "metadata": {},
   "source": [
    "-----"
   ]
  },
  {
   "cell_type": "markdown",
   "metadata": {},
   "source": [
    "**Problem 3.3** Complete the following function that sets the 10th bit of an `Int32` to `1`,\n",
    "and returns an `Int32`, assuming that the input is a positive integer, using `bitstring`,\n",
    "`parse` and `*`."
   ]
  },
  {
   "cell_type": "code",
   "execution_count": 59,
   "metadata": {},
   "outputs": [
    {
     "data": {
      "text/plain": [
       "\u001b[32m\u001b[1mTest Passed\u001b[22m\u001b[39m"
      ]
     },
     "execution_count": 59,
     "metadata": {},
     "output_type": "execute_result"
    }
   ],
   "source": [
    "function tenthbitto1(x::Int32)\n",
    "    # TODO: change the 10th bit of `x` to 1\n",
    "    y = bitstring(x)\n",
    "    #so need to specify base = 1 so doesnt think i have a number thats like a billion as a string, need all index also\n",
    "    x = parse(Int32, y[1:9] * \"1\" * y[11:end]; base = 2)\n",
    "end\n",
    "\n",
    "# unit tests are to help you check your result\n",
    "# Change to `@test` to see if your test passes\n",
    "@test tenthbitto1(Int32(100)) ≡ Int32(4194404)"
   ]
  },
  {
   "cell_type": "markdown",
   "metadata": {},
   "source": [
    "-----"
   ]
  },
  {
   "cell_type": "markdown",
   "metadata": {},
   "source": [
    "**Problem 3.4**  Modify the previous function to also work with negative numbers."
   ]
  },
  {
   "cell_type": "code",
   "execution_count": 68,
   "metadata": {},
   "outputs": [
    {
     "data": {
      "text/plain": [
       "\u001b[32m\u001b[1mTest Passed\u001b[22m\u001b[39m"
      ]
     },
     "execution_count": 68,
     "metadata": {},
     "output_type": "execute_result"
    }
   ],
   "source": [
    "function tenthbitto1(x::Int32)\n",
    "# TODO: change the 10th bit of `x` to 1\n",
    "    y = bitstring(x)\n",
    "    if y[1] == '1'\n",
    "        z = parse(UInt32,  y[1:9] * \"1\" * y[11:end]; base = 2)\n",
    "        z = bitstring((2 ^ 32) - z)\n",
    "        x = parse(Int32, \"-\" * z; base = 2)\n",
    "    else\n",
    "        x = parse(Int32, y[1:9] * \"1\" * y[11:end]; base = 2)\n",
    "    end\n",
    "end\n",
    "\n",
    "#all you needed to do by ms\n",
    "#can jsut reinterpret both bexause wont change positive\n",
    "#also dont need to parse the second time now we have adjusted the string can just go straight to Int32\n",
    "function tenthbitto1(x::Int32)\n",
    "    # TODO: change the 10th bit of `x` to 1\n",
    "    ret = bitstring(x)\n",
    "    x = parse(UInt32, ret[1:9] * \"1\" * ret[11:end]; base=2)\n",
    "    reinterpret(Int32, x)\n",
    "end\n",
    "\n",
    "@test tenthbitto1(Int32(100)) ≡ Int32(4194404)\n",
    "@test tenthbitto1(-Int32(100000010)) ≡ Int32(-95805706)"
   ]
  },
  {
   "cell_type": "markdown",
   "metadata": {},
   "source": [
    "-----"
   ]
  },
  {
   "cell_type": "markdown",
   "metadata": {},
   "source": [
    "## 4. Types"
   ]
  },
  {
   "cell_type": "markdown",
   "metadata": {},
   "source": [
    "Types allow for combining multiple numbers (or other types) to represent a more complicated\n",
    "object. That is, while a computer can only apply functions on $p$-bits at a time,\n",
    "these functions can be combined to perform more complicated operations on types\n",
    "that require more than $p$-bits. A simple example is a rational function."
   ]
  },
  {
   "cell_type": "markdown",
   "metadata": {},
   "source": [
    "-----"
   ]
  },
  {
   "cell_type": "markdown",
   "metadata": {},
   "source": [
    "**Problem 4.1** Create a type `Rat` with two `Int` fields, `p` and `q`,\n",
    "representing a rational function including `+`, `*`, `-`, and `/`."
   ]
  },
  {
   "cell_type": "code",
   "execution_count": 77,
   "metadata": {},
   "outputs": [
    {
     "data": {
      "text/plain": [
       "\u001b[32m\u001b[1mTest Passed\u001b[22m\u001b[39m"
      ]
     },
     "execution_count": 77,
     "metadata": {},
     "output_type": "execute_result"
    }
   ],
   "source": [
    "# `struct` creates a new type called `Rat`\n",
    "# consisting of 128 bits, half encode `p`\n",
    "# and half encode `q`\n",
    "struct Rat\n",
    "    p::Int\n",
    "    q::Int\n",
    "end\n",
    "\n",
    "# A new instance of `Rat` is created via e.g. `Rat(1, 2)` represents 1/2\n",
    "# where the first argument specifies `p` and the second argument `q`.\n",
    "# The fields are accessed by `.`:\n",
    "\n",
    "x = Rat(1, 2)\n",
    "@test x.p == 1\n",
    "@test x.q == 2\n",
    "\n",
    "# We import `+`, `-`, `*`, `/` so we can \"overload\" these operations specifically\n",
    "# for `Rat`.\n",
    "import Base: +, -, *, /, ==\n",
    "\n",
    "\n",
    "# The ::Rat means the following version of `==` is only called if both arguments\n",
    "# are Rat\n",
    "function ==(x::Rat, y::Rat)\n",
    "    # TODO: implement equality, making sure to check the case where\n",
    "    # the numerator/denominator are possibly reducible\n",
    "    # Hint: `gcd` and `div` may be useful. Use `?` to find out what they do\n",
    "    x.p * y.q == x.q * y.p \n",
    "    \n",
    "end\n",
    "\n",
    "# We can also support equality when `x isa Rat` and `y isa Integer`\n",
    "function ==(x::Rat, y::Integer)\n",
    "    # TODO: implement\n",
    "    div(x.p,x.q) == y && gcd(x.p,x.q) == x.q\n",
    "    \n",
    "end\n",
    "\n",
    "# TODO: implement ==(x::Integer, y::Rat)\n",
    "function ==(x::Integer, y::Rat)\n",
    "    # TODO: implement\n",
    "    div(y.p,y.q) == x && gcd(y.p,y.q) == y.q\n",
    "    \n",
    "end\n",
    "\n",
    "@test Rat(1, 2) == Rat(2, 4)\n",
    "@test Rat(1, 2) ≠ Rat(1, 3)\n",
    "@test Rat(2,2) == 1\n",
    "@test 1 == Rat(2,2)\n",
    "\n",
    "# TODO: implement +, -, *, and /,\n",
    "function +(x::Rat, y::Rat)\n",
    "    # TODO: implement\n",
    "    Rat(x.p*y.q + y.p*x.q,x.q * y.q)\n",
    "    \n",
    "end\n",
    "\n",
    "function -(x::Rat, y::Rat)\n",
    "    # TODO: implement\n",
    "    Rat(x.p*y.q - y.p*x.q,x.q * y.q)\n",
    "    \n",
    "end\n",
    "\n",
    "function *(x::Rat, y::Rat)\n",
    "    # TODO: implement\n",
    "    Rat(x.p * y.p, x.q * y.q)\n",
    "    \n",
    "end\n",
    "\n",
    "function /(x::Rat, y::Rat)\n",
    "    # TODO: implement\n",
    "    Rat(x.p * y.q, x.q * y.p)\n",
    "    \n",
    "end\n",
    "\n",
    "@test Rat(1, 2) + Rat(1, 3) == Rat(5, 6)\n",
    "@test Rat(1, 3) - Rat(1, 2) == Rat(-1, 6)\n",
    "@test Rat(2, 3) * Rat(3, 4) == Rat(1, 2)\n",
    "@test Rat(2, 3) / Rat(3, 4) == Rat(8, 9)"
   ]
  },
  {
   "cell_type": "markdown",
   "metadata": {},
   "source": [
    "---------"
   ]
  },
  {
   "cell_type": "markdown",
   "metadata": {},
   "source": [
    "Templating is a way of letting fields take on different types. For example, the following\n",
    "code allows `x` to be any type:"
   ]
  },
  {
   "cell_type": "code",
   "execution_count": 31,
   "metadata": {},
   "outputs": [
    {
     "data": {
      "text/plain": [
       "Main.var\"##315\".Foo{Int64}(5)"
      ]
     },
     "execution_count": 31,
     "metadata": {},
     "output_type": "execute_result"
    }
   ],
   "source": [
    "struct Foo{T}\n",
    "    x::T\n",
    "end\n",
    "\n",
    "Foo(5) # isa Foo{Int}"
   ]
  },
  {
   "cell_type": "code",
   "execution_count": 32,
   "metadata": {},
   "outputs": [
    {
     "data": {
      "text/plain": [
       "Main.var\"##315\".Foo{String}(\"hi\")"
      ]
     },
     "execution_count": 32,
     "metadata": {},
     "output_type": "execute_result"
    }
   ],
   "source": [
    "Foo(\"hi\") # isa Foo{String}"
   ]
  },
  {
   "cell_type": "markdown",
   "metadata": {},
   "source": [
    "-----"
   ]
  },
  {
   "cell_type": "markdown",
   "metadata": {},
   "source": [
    "**Problem 4.2** Modify the above code so that `p` and `q` can be other types but both the same type,\n",
    "for example, `Int16` or `BigInt`."
   ]
  },
  {
   "cell_type": "code",
   "execution_count": 80,
   "metadata": {},
   "outputs": [
    {
     "ename": "LoadError",
     "evalue": "invalid redefinition of constant Rat",
     "output_type": "error",
     "traceback": [
      "invalid redefinition of constant Rat",
      "",
      "Stacktrace:",
      " [1] top-level scope",
      "   @ In[80]:4"
     ]
    }
   ],
   "source": [
    "## SOLUTION\n",
    "# Unfortunately we can't name our new type Rat again so I'll call it RatTemplated.\n",
    "# The rest of the cidode is the same.\n",
    "struct RatTemplated{T}\n",
    "    p::T\n",
    "    q::T\n",
    "end\n",
    "\n",
    "function ==(x::RatTemplated, y::RatTemplated)\n",
    "    xg = gcd(x.p, x.q)\n",
    "    yg = gcd(y.p, y.q)\n",
    "    div(x.p, xg) == div(y.p, yg) && div(x.q, xg) == div(y.q, yg)\n",
    "end\n",
    "\n",
    "==(x::RatTemplated, y::Integer) = x == RatTemplated(y, 1)\n",
    "==(x::Integer, y::RatTemplated) = RatTemplated(x,1) == y\n",
    "\n",
    "+(x::RatTemplated, y::RatTemplated) = RatTemplated(x.p * y.q + y.p * x.q, x.q * y.q)\n",
    "-(x::RatTemplated, y::RatTemplated) = RatTemplated(x.p * y.q - y.p * x.q, x.q * y.q)\n",
    "*(x::RatTemplated, y::RatTemplated) = RatTemplated(x.p * y.p, x.q * y.q)\n",
    "/(x::RatTemplated, y::RatTemplated) = x * RatTemplated(y.q, y.p)\n",
    "\n",
    "\n",
    "# END\n",
    "\n",
    "@test RatTemplated(big(2)^64, big(2)^65) == RatTemplated(1, 2)"
   ]
  },
  {
   "cell_type": "markdown",
   "metadata": {},
   "source": [
    "---\n",
    "\n",
    "*This notebook was generated using [Literate.jl](https://github.com/fredrikekre/Literate.jl).*"
   ]
  }
 ],
 "metadata": {
  "kernelspec": {
   "display_name": "Julia 1.8.5",
   "language": "julia",
   "name": "julia-1.8"
  },
  "language_info": {
   "file_extension": ".jl",
   "mimetype": "application/julia",
   "name": "julia",
   "version": "1.8.5"
  }
 },
 "nbformat": 4,
 "nbformat_minor": 3
}
