{
 "cells": [
  {
   "cell_type": "markdown",
   "metadata": {},
   "source": [
    "# MATH50003 (2022–23)\n",
    "# Lab 1: Introduction to Julia\n",
    "\n",
    "This problem sheet is designed to introduce some basic Julia\n",
    "knowledge. Note each problem has multiple solutions, and the solution\n",
    "sheet will show different ways of solving the same problem. We will discuss the\n",
    "following:\n",
    "\n",
    "1. Integers\n",
    "2. Reals\n",
    "2. Strings and parsing\n",
    "3. Types\n",
    "4. Functions\n",
    "\n",
    "In assessment, _any_ \"solution\" will be accepted provided it does the right thing!\n",
    "So you do not need to be able to write broadcasting or comprehensions\n",
    "if you can do for loops.\n",
    "\n",
    "We load the following package:"
   ]
  },
  {
   "cell_type": "code",
   "execution_count": 1,
   "metadata": {
    "execution": {
     "iopub.execute_input": "2023-01-09T16:20:52.097000Z",
     "iopub.status.busy": "2023-01-09T16:20:51.595000Z",
     "iopub.status.idle": "2023-01-09T16:20:52.354000Z",
     "shell.execute_reply": "2023-01-09T16:20:52.290000Z"
    }
   },
   "outputs": [],
   "source": [
    "using ColorBitstring"
   ]
  },
  {
   "cell_type": "markdown",
   "metadata": {},
   "source": [
    "## 1. Integers\n",
    "\n",
    "Every primitive number type is stored as a sequence of bits. \n",
    "The number of _bytes_ (i.e. 8-bits) can be deduced using the `sizeof` function:"
   ]
  },
  {
   "cell_type": "code",
   "execution_count": 2,
   "metadata": {
    "execution": {
     "iopub.execute_input": "2023-01-09T16:20:52.358000Z",
     "iopub.status.busy": "2023-01-09T16:20:52.357000Z",
     "iopub.status.idle": "2023-01-09T16:20:52.761000Z",
     "shell.execute_reply": "2023-01-09T16:20:52.761000Z"
    }
   },
   "outputs": [
    {
     "data": {
      "text/plain": [
       "4"
      ]
     },
     "execution_count": 2,
     "metadata": {},
     "output_type": "execute_result"
    }
   ],
   "source": [
    "sizeof(UInt32) # 4 bytes == 4*8 bits == 32 bits"
   ]
  },
  {
   "cell_type": "markdown",
   "metadata": {},
   "source": [
    "The function `typeof` can be used to determine the type of a number.\n",
    "By default when we write an integer (e.g. `-123`) it is of type `Int`:"
   ]
  },
  {
   "cell_type": "code",
   "execution_count": 3,
   "metadata": {
    "execution": {
     "iopub.execute_input": "2023-01-09T16:20:52.784000Z",
     "iopub.status.busy": "2023-01-09T16:20:52.784000Z",
     "iopub.status.idle": "2023-01-09T16:20:53.198000Z",
     "shell.execute_reply": "2023-01-09T16:20:53.198000Z"
    }
   },
   "outputs": [
    {
     "data": {
      "text/plain": [
       "Int64"
      ]
     },
     "execution_count": 3,
     "metadata": {},
     "output_type": "execute_result"
    }
   ],
   "source": [
    "typeof(5)"
   ]
  },
  {
   "cell_type": "markdown",
   "metadata": {},
   "source": [
    "**Problem 1.1** How many bits does your machine use for the type `Int`?"
   ]
  },
  {
   "cell_type": "code",
   "execution_count": null,
   "metadata": {},
   "outputs": [],
   "source": []
  },
  {
   "cell_type": "markdown",
   "metadata": {},
   "source": [
    "There are a few ways to create other types of integers. Conversion\n",
    "converts between different types:"
   ]
  },
  {
   "cell_type": "code",
   "execution_count": 4,
   "metadata": {
    "execution": {
     "iopub.execute_input": "2023-01-09T16:20:53.201000Z",
     "iopub.status.busy": "2023-01-09T16:20:53.201000Z",
     "iopub.status.idle": "2023-01-09T16:20:53.387000Z",
     "shell.execute_reply": "2023-01-09T16:20:53.387000Z"
    }
   },
   "outputs": [
    {
     "data": {
      "text/plain": [
       "0x05"
      ]
     },
     "execution_count": 4,
     "metadata": {},
     "output_type": "execute_result"
    }
   ],
   "source": [
    "UInt8(5) # converts an `Int` to an `UInt8`, displaying the result in hex"
   ]
  },
  {
   "cell_type": "markdown",
   "metadata": {},
   "source": [
    "This fails if a number cannot be represented as a specified type:"
   ]
  },
  {
   "cell_type": "code",
   "execution_count": 5,
   "metadata": {
    "execution": {
     "iopub.execute_input": "2023-01-09T16:20:53.390000Z",
     "iopub.status.busy": "2023-01-09T16:20:53.390000Z",
     "iopub.status.idle": "2023-01-09T16:20:54.379000Z",
     "shell.execute_reply": "2023-01-09T16:20:54.379000Z"
    }
   },
   "outputs": [
    {
     "ename": "LoadError",
     "evalue": "InexactError: trunc(UInt8, -5)",
     "output_type": "error",
     "traceback": [
      "InexactError: trunc(UInt8, -5)",
      "",
      "Stacktrace:",
      " [1] throw_inexacterror(f::Symbol, #unused#::Type{UInt8}, val::Int64)",
      "   @ Core ./boot.jl:614",
      " [2] checked_trunc_uint",
      "   @ ./boot.jl:644 [inlined]",
      " [3] toUInt8",
      "   @ ./boot.jl:706 [inlined]",
      " [4] UInt8(x::Int64)",
      "   @ Core ./boot.jl:766",
      " [5] top-level scope",
      "   @ In[5]:1"
     ]
    }
   ],
   "source": [
    "UInt8(-5) # No negative numbers"
   ]
  },
  {
   "cell_type": "code",
   "execution_count": 6,
   "metadata": {
    "execution": {
     "iopub.execute_input": "2023-01-09T16:20:54.382000Z",
     "iopub.status.busy": "2023-01-09T16:20:54.382000Z",
     "iopub.status.idle": "2023-01-09T16:20:54.389000Z",
     "shell.execute_reply": "2023-01-09T16:20:54.388000Z"
    }
   },
   "outputs": [
    {
     "ename": "LoadError",
     "evalue": "InexactError: trunc(UInt8, 256)",
     "output_type": "error",
     "traceback": [
      "InexactError: trunc(UInt8, 256)",
      "",
      "Stacktrace:",
      " [1] throw_inexacterror(f::Symbol, #unused#::Type{UInt8}, val::Int64)",
      "   @ Core ./boot.jl:614",
      " [2] checked_trunc_uint",
      "   @ ./boot.jl:644 [inlined]",
      " [3] toUInt8",
      "   @ ./boot.jl:706 [inlined]",
      " [4] UInt8(x::Int64)",
      "   @ Core ./boot.jl:766",
      " [5] top-level scope",
      "   @ In[6]:1"
     ]
    }
   ],
   "source": [
    "UInt8(2^8) # no numbers above 2^8-1"
   ]
  },
  {
   "cell_type": "markdown",
   "metadata": {},
   "source": [
    "(These can also be written as e.g. `convert(UInt8, 5)`.)\n",
    "We can also create unsigned integers by specifying their bits\n",
    "by writing `0b` followed by a sequence of bits:"
   ]
  },
  {
   "cell_type": "code",
   "execution_count": 7,
   "metadata": {
    "execution": {
     "iopub.execute_input": "2023-01-09T16:20:54.391000Z",
     "iopub.status.busy": "2023-01-09T16:20:54.391000Z",
     "iopub.status.idle": "2023-01-09T16:20:54.392000Z",
     "shell.execute_reply": "2023-01-09T16:20:54.392000Z"
    }
   },
   "outputs": [
    {
     "data": {
      "text/plain": [
       "0x05"
      ]
     },
     "execution_count": 7,
     "metadata": {},
     "output_type": "execute_result"
    }
   ],
   "source": [
    "0b101 # UInt8, the smallest type with at least 3 bits"
   ]
  },
  {
   "cell_type": "code",
   "execution_count": 8,
   "metadata": {
    "execution": {
     "iopub.execute_input": "2023-01-09T16:20:54.396000Z",
     "iopub.status.busy": "2023-01-09T16:20:54.396000Z",
     "iopub.status.idle": "2023-01-09T16:20:54.603000Z",
     "shell.execute_reply": "2023-01-09T16:20:54.603000Z"
    }
   },
   "outputs": [
    {
     "data": {
      "text/plain": [
       "0x05dd"
      ]
     },
     "execution_count": 8,
     "metadata": {},
     "output_type": "execute_result"
    }
   ],
   "source": [
    "0b10111011101 # UInt16, the smallest type with at least 11 bits"
   ]
  },
  {
   "cell_type": "markdown",
   "metadata": {},
   "source": [
    "Or in base-16 using hexadecimal format (with digits `0–9a–f` following\n",
    "an `0x`):"
   ]
  },
  {
   "cell_type": "code",
   "execution_count": 9,
   "metadata": {
    "execution": {
     "iopub.execute_input": "2023-01-09T16:20:54.606000Z",
     "iopub.status.busy": "2023-01-09T16:20:54.606000Z",
     "iopub.status.idle": "2023-01-09T16:20:54.811000Z",
     "shell.execute_reply": "2023-01-09T16:20:54.810000Z"
    }
   },
   "outputs": [
    {
     "data": {
      "text/plain": [
       "0x000abcde"
      ]
     },
     "execution_count": 9,
     "metadata": {},
     "output_type": "execute_result"
    }
   ],
   "source": [
    "0xabcde # UInt32, the smallest type with at least 16*5 = 80 bits"
   ]
  },
  {
   "cell_type": "markdown",
   "metadata": {},
   "source": [
    "**Problem 1.2** Use binary format to create an `Int` corresponding to $(101101)_2$."
   ]
  },
  {
   "cell_type": "code",
   "execution_count": null,
   "metadata": {},
   "outputs": [],
   "source": []
  },
  {
   "cell_type": "markdown",
   "metadata": {},
   "source": [
    "**Problem 1.3** What happens if you specify more than 64 bits? What if there are more than 128 bits?\n",
    "\n",
    "\n",
    "We can also reinterpret a sequence of bits in a different format:"
   ]
  },
  {
   "cell_type": "code",
   "execution_count": 10,
   "metadata": {
    "execution": {
     "iopub.execute_input": "2023-01-09T16:20:54.814000Z",
     "iopub.status.busy": "2023-01-09T16:20:54.813000Z",
     "iopub.status.idle": "2023-01-09T16:20:55.009000Z",
     "shell.execute_reply": "2023-01-09T16:20:55.009000Z"
    }
   },
   "outputs": [
    {
     "data": {
      "text/plain": [
       "-1"
      ]
     },
     "execution_count": 10,
     "metadata": {},
     "output_type": "execute_result"
    }
   ],
   "source": [
    "reinterpret(Int8, 0b11111111) # Create an Int8 with the bits 11111111"
   ]
  },
  {
   "cell_type": "markdown",
   "metadata": {},
   "source": [
    "To see the bits as a string one can use the function `bitstring`.\n",
    "\n",
    "**Problem 1.4** Can you predict what the output of the following will be before hitting return?"
   ]
  },
  {
   "cell_type": "code",
   "execution_count": 11,
   "metadata": {
    "execution": {
     "iopub.execute_input": "2023-01-09T16:20:55.012000Z",
     "iopub.status.busy": "2023-01-09T16:20:55.012000Z",
     "iopub.status.idle": "2023-01-09T16:20:55.026000Z",
     "shell.execute_reply": "2023-01-09T16:20:55.025000Z"
    }
   },
   "outputs": [],
   "source": [
    "bitstring(11);  # Semi-colon prohibits output, delete to check your answer"
   ]
  },
  {
   "cell_type": "code",
   "execution_count": 12,
   "metadata": {
    "execution": {
     "iopub.execute_input": "2023-01-09T16:20:55.028000Z",
     "iopub.status.busy": "2023-01-09T16:20:55.028000Z",
     "iopub.status.idle": "2023-01-09T16:20:55.029000Z",
     "shell.execute_reply": "2023-01-09T16:20:55.028000Z"
    }
   },
   "outputs": [],
   "source": [
    "bitstring(-11);"
   ]
  },
  {
   "cell_type": "markdown",
   "metadata": {},
   "source": [
    "Arithmetic is dictated by \n",
    "\n",
    "**Problem 1.5** Can you predict what the output of the following will be before hitting return?"
   ]
  },
  {
   "cell_type": "code",
   "execution_count": 13,
   "metadata": {
    "execution": {
     "iopub.execute_input": "2023-01-09T16:20:55.031000Z",
     "iopub.status.busy": "2023-01-09T16:20:55.031000Z",
     "iopub.status.idle": "2023-01-09T16:20:55.034000Z",
     "shell.execute_reply": "2023-01-09T16:20:55.034000Z"
    }
   },
   "outputs": [],
   "source": [
    "UInt8(120) + UInt8(10); # Convert to `Int` to see the number printed in decimal"
   ]
  },
  {
   "cell_type": "code",
   "execution_count": 14,
   "metadata": {
    "execution": {
     "iopub.execute_input": "2023-01-09T16:20:55.037000Z",
     "iopub.status.busy": "2023-01-09T16:20:55.037000Z",
     "iopub.status.idle": "2023-01-09T16:20:55.040000Z",
     "shell.execute_reply": "2023-01-09T16:20:55.040000Z"
    }
   },
   "outputs": [],
   "source": [
    "Int8(120) + Int8(10);"
   ]
  },
  {
   "cell_type": "markdown",
   "metadata": {},
   "source": [
    "## 2. Reals\n",
    "\n",
    "Real numbers interpret a sequence of bits in the floating point format. \n",
    "\n",
    "**Problem 1.1** What is the binary representation of $1/5$? (Hint: use `printbits` to derive a proposed form.)\n",
    "\n",
    "## 3. Strings and parsing\n",
    "\n",
    "**Problem 1.1** Create a new function that sets the 10th bit of an Int32 to 1, and returns an Int32, assuming that the input is a positive integer.  Two strings can be concatenated with `*`:"
   ]
  },
  {
   "cell_type": "code",
   "execution_count": 15,
   "metadata": {
    "execution": {
     "iopub.execute_input": "2023-01-09T16:20:55.042000Z",
     "iopub.status.busy": "2023-01-09T16:20:55.042000Z",
     "iopub.status.idle": "2023-01-09T16:20:55.490000Z",
     "shell.execute_reply": "2023-01-09T16:20:55.490000Z"
    }
   },
   "outputs": [
    {
     "data": {
      "text/plain": [
       "\"hibye\""
      ]
     },
     "execution_count": 15,
     "metadata": {},
     "output_type": "execute_result"
    }
   ],
   "source": [
    "\"hi\"*\"bye\" # returns the string \"hibye\""
   ]
  },
  {
   "cell_type": "markdown",
   "metadata": {},
   "source": [
    "The string consisting of the first nine characters can be found using `str[1:9]` where `str` is any string:"
   ]
  },
  {
   "cell_type": "code",
   "execution_count": 16,
   "metadata": {
    "execution": {
     "iopub.execute_input": "2023-01-09T16:20:55.493000Z",
     "iopub.status.busy": "2023-01-09T16:20:55.493000Z",
     "iopub.status.idle": "2023-01-09T16:20:55.494000Z",
     "shell.execute_reply": "2023-01-09T16:20:55.494000Z"
    }
   },
   "outputs": [
    {
     "data": {
      "text/plain": [
       "\"hibye0123\""
      ]
     },
     "execution_count": 16,
     "metadata": {},
     "output_type": "execute_result"
    }
   ],
   "source": [
    "str=\"hibye0123445556\"\n",
    "str[1:9]  # returns \"hibye0123\""
   ]
  },
  {
   "cell_type": "markdown",
   "metadata": {},
   "source": [
    "The string consisting of the 11th through last character can be found using `str[11:end]`:"
   ]
  },
  {
   "cell_type": "code",
   "execution_count": 17,
   "metadata": {
    "execution": {
     "iopub.execute_input": "2023-01-09T16:20:55.497000Z",
     "iopub.status.busy": "2023-01-09T16:20:55.497000Z",
     "iopub.status.idle": "2023-01-09T16:20:55.498000Z",
     "shell.execute_reply": "2023-01-09T16:20:55.498000Z"
    }
   },
   "outputs": [
    {
     "data": {
      "text/plain": [
       "\"45556\""
      ]
     },
     "execution_count": 17,
     "metadata": {},
     "output_type": "execute_result"
    }
   ],
   "source": [
    "str=\"hibye0123445556\"\n",
    "str[11:end]  # returns \"45556\""
   ]
  },
  {
   "cell_type": "markdown",
   "metadata": {},
   "source": [
    "The function\n",
    "```\n",
    "parse(Int32,str,2)\n",
    "```\n",
    "converts from a string in Base-2 to an `Int32`.\n",
    "\n",
    "**Excercise 3 (advanced)**  Modify the previous function to also work with negative numbers.  Recall that\n",
    "```\n",
    "reinterpret(Int32,x)\n",
    "```\n",
    "will reinterpret the bits of number `x` which is an unsigned integer `UInt32` as if it were a signed integer `Int32`.\n",
    "\n",
    "\n",
    "\n",
    "## 4. Types\n",
    "\n",
    "**Problem 2.1** Create a type `Rat` with two `Int` fields, `p` and `q`,\n",
    "representing a rational function including `+`, `*`, `-`, and `/`.\n",
    "Bonus points: Use `gcd` and `div` to reduce."
   ]
  }
 ],
 "metadata": {
  "kernelspec": {
   "display_name": "Julia 1.8.3",
   "language": "julia",
   "name": "julia-1.8"
  },
  "language_info": {
   "file_extension": ".jl",
   "mimetype": "application/julia",
   "name": "julia",
   "version": "1.8.3"
  }
 },
 "nbformat": 4,
 "nbformat_minor": 2
}
