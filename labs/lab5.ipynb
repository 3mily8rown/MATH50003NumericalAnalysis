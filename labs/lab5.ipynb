{
 "cells": [
  {
   "cell_type": "markdown",
   "metadata": {},
   "source": [
    "# MATH50003 Numerical Analysis (2022–23)\n",
    "# Lab 5: Orthogonal Matrices"
   ]
  },
  {
   "cell_type": "markdown",
   "metadata": {},
   "source": [
    "This lab explores orthogonal matrices, including permutations and reflections.\n",
    "We will construct special types to capture the structure of these orthogonal operations,\n",
    "With the goal of implementing fast matrix*vector and matrix\\vector operations."
   ]
  },
  {
   "cell_type": "code",
   "execution_count": 1,
   "metadata": {},
   "outputs": [],
   "source": [
    "using LinearAlgebra, Test\n",
    "import Base: getindex, *, size, \\"
   ]
  },
  {
   "cell_type": "markdown",
   "metadata": {},
   "source": [
    "------"
   ]
  },
  {
   "cell_type": "markdown",
   "metadata": {},
   "source": [
    "**Problem 1** Complete the implementation of a type representing\n",
    "permutation matrices that supports `P[k,j]` in $O(1)$ operations and `*` in $O(n)$ operations,\n",
    "where $n$ is the length of the permutation."
   ]
  },
  {
   "cell_type": "code",
   "execution_count": 2,
   "metadata": {},
   "outputs": [
    {
     "data": {
      "text/plain": [
       "\u001b[32m\u001b[1mTest Passed\u001b[22m\u001b[39m"
      ]
     },
     "execution_count": 2,
     "metadata": {},
     "output_type": "execute_result"
    }
   ],
   "source": [
    "struct PermutationMatrix <: AbstractMatrix{Int}\n",
    "    p::Vector{Int} # represents the permutation whose action is v[p]\n",
    "    # This is an internal constructor: allows us to check validity of the input.\n",
    "    function PermutationMatrix(p::Vector)\n",
    "        sort(p) == 1:length(p) || error(\"input is not a valid permutation\")\n",
    "        new(p)\n",
    "    end\n",
    "end\n",
    "\n",
    "function size(P::PermutationMatrix)\n",
    "    (length(P.p),length(P.p))\n",
    "end\n",
    "\n",
    "# getindex(P, k, j) is a synonym for P[k,j]\n",
    "function getindex(P::PermutationMatrix, k::Int, j::Int)\n",
    "    # TODO: Implement P[k,j]\n",
    "    (P.p[k] == j) ? 1 : 0\n",
    "    \n",
    "\n",
    "end\n",
    "function *(P::PermutationMatrix, x::AbstractVector)\n",
    "    # TODO: return a vector whose entries are permuted according to P.p\n",
    "    x[P.p]\n",
    "end\n",
    "\n",
    "# If your code is correct, this \"unit test\" will succeed\n",
    "p = [1, 4, 2, 5, 3]\n",
    "P = PermutationMatrix(p)\n",
    "@test P == I(5)[p,:]\n",
    "\n",
    "n = 100_000\n",
    "p = Vector(n:-1:1) # makes a Vector corresponding to [n,n-1,…,1]\n",
    "P = PermutationMatrix(p)\n",
    "x = randn(n)\n",
    "@test P*x == x[p]"
   ]
  },
  {
   "cell_type": "markdown",
   "metadata": {},
   "source": [
    "-------"
   ]
  },
  {
   "cell_type": "markdown",
   "metadata": {},
   "source": [
    "**Problem 2.1** Complete the implementation of a type representing an n × n\n",
    "reflection that supports `Q[k,j]` in $O(1)$ operations and `*` in $O(n)$ operations.\n",
    "The reflection may be complex (that is, $Q ∈ U(n)$ is unitary)."
   ]
  },
  {
   "cell_type": "code",
   "execution_count": 3,
   "metadata": {},
   "outputs": [
    {
     "data": {
      "text/plain": [
       "\u001b[32m\u001b[1mTest Passed\u001b[22m\u001b[39m"
      ]
     },
     "execution_count": 3,
     "metadata": {},
     "output_type": "execute_result"
    }
   ],
   "source": [
    "# Represents I - 2v*v'\n",
    "struct Reflection{T} <: AbstractMatrix{T}\n",
    "    v::Vector{T}\n",
    "end\n",
    "\n",
    "Reflection(x::Vector{T}) where T = Reflection{T}(x/norm(x))\n",
    "\n",
    "function size(Q::Reflection)\n",
    "    (length(Q.v),length(Q.v))\n",
    "end\n",
    "\n",
    "# getindex(Q, k, j) is synonym for Q[k,j]\n",
    "function getindex(Q::Reflection, k::Int, j::Int)\n",
    "    # TODO: implement Q[k,j] == (I - 2v*v')[k,j] but using O(1) operations.\n",
    "    # Hint: the function `conj` gives the complex-conjugate\n",
    "    if k == j\n",
    "        return 1 - 2Q.v[k] * conj(Q.v[j])\n",
    "    else\n",
    "        return -2Q.v[k] * conj(Q.v[j])\n",
    "    end\n",
    "    \n",
    "\n",
    "end\n",
    "function *(Q::Reflection, x::AbstractVector)\n",
    "    # TODO: implement Q* x, equivalent to (I - 2v*v')*x but using only O(n) operations\n",
    "    #dot literally has a function\n",
    "    #this formula is in the notes since finding Q would be nn so just doing this is n\n",
    "    #ie Qx = x - 2v(v.x)\n",
    "    x - 2 * Q.v * dot(Q.v, x)\n",
    "\n",
    "end\n",
    "\n",
    "# If your code is correct, these \"unit tests\" will succeed\n",
    "n = 10\n",
    "x = randn(n) + im*randn(n)\n",
    "Q = Reflection(x)\n",
    "v = x/norm(x)\n",
    "@test Q == I-2v*v'\n",
    "@test Q'Q ≈ I\n",
    "n = 100_000\n",
    "x = randn(n) + im*randn(n)\n",
    "Q = Reflection(x)\n",
    "v = x/norm(x)\n",
    "@test Q*v ≈ -v"
   ]
  },
  {
   "cell_type": "markdown",
   "metadata": {},
   "source": [
    "**Problem 2.2** Complete the following implementation of a Housholder reflection  so that the\n",
    "unit tests pass, using the `Reflection` type created above.\n",
    "Here `s == true` means the Householder reflection is sent to the positive axis and `s == false` is the negative axis."
   ]
  },
  {
   "cell_type": "code",
   "execution_count": 4,
   "metadata": {},
   "outputs": [
    {
     "data": {
      "text/plain": [
       "\u001b[32m\u001b[1mTest Passed\u001b[22m\u001b[39m"
      ]
     },
     "execution_count": 4,
     "metadata": {},
     "output_type": "execute_result"
    }
   ],
   "source": [
    "function householderreflection(s::Bool, x::AbstractVector)\n",
    "    #im assuming this is real\n",
    "    #the thing of just e1 normx sign is if then apply the reflection to another vector\n",
    "    #here add since just finding the reflection\n",
    "    # TODO: return a `Reflection` corresponding to a Householder reflection\n",
    "    #REFLECT ONTO POS X MEANS SIGN OF NORM(X) IS NEG!!!\n",
    "    sign = s ? -1 : 1\n",
    "    #use copy to keep original value\n",
    "    y = copy(x)\n",
    "\n",
    "    y[1] += (sign * norm(x))\n",
    "    #putting into reflection constructor\n",
    "    Reflection(y)\n",
    "\n",
    "end\n",
    "\n",
    "x = randn(5)\n",
    "Q = householderreflection(true, x)\n",
    "@test Q isa Reflection\n",
    "@test Q*x ≈ [norm(x);zeros(eltype(x),length(x)-1)]\n",
    "\n",
    "Q = householderreflection(false, x)\n",
    "@test Q isa Reflection\n",
    "@test Q*x ≈ [-norm(x);zeros(eltype(x),length(x)-1)]"
   ]
  },
  {
   "cell_type": "markdown",
   "metadata": {},
   "source": [
    "---------"
   ]
  },
  {
   "cell_type": "markdown",
   "metadata": {},
   "source": [
    "**Problem 3**\n",
    "Complete the definition of `Reflections` which supports a sequence of reflections,\n",
    "that is,\n",
    "$$\n",
    "Q = Q_{𝐯_1} ⋯ Q_{𝐯_m}\n",
    "$$\n",
    "where the vectors are stored as a matrix $V ∈ ℂ^{n × m}$ whose $j$-th column is $𝐯_j∈ ℂ^n$, and\n",
    "$$\n",
    "Q_{𝐯_j} = I - 2 𝐯_j 𝐯_j^⋆\n",
    "$$\n",
    "is a reflection."
   ]
  },
  {
   "cell_type": "code",
   "execution_count": 18,
   "metadata": {},
   "outputs": [
    {
     "name": "stdout",
     "output_type": "stream",
     "text": [
      "\u001b[91m\u001b[1mError During Test\u001b[22m\u001b[39m at \u001b[39m\u001b[1mIn[18]:54\u001b[22m\n",
      "  Test threw exception\n",
      "  Expression: Q ≈ (I - (2 * V[:, 1]) * (V[:, 1])') * (I - (2 * V[:, 2]) * (V[:, 2])') * (I - (2 * V[:, 3]) * (V[:, 3])')\n",
      "  StackOverflowError:\n",
      "  Stacktrace:\n",
      "    [1] \u001b[0m\u001b[1mArray\u001b[22m\n",
      "  \u001b[90m    @ \u001b[39m\u001b[90m.\\\u001b[39m\u001b[90m\u001b[4mboot.jl:459\u001b[24m\u001b[39m\u001b[90m [inlined]\u001b[39m\n",
      "    [2] \u001b[0m\u001b[1mArray\u001b[22m\n",
      "  \u001b[90m    @ \u001b[39m\u001b[90m.\\\u001b[39m\u001b[90m\u001b[4mboot.jl:468\u001b[24m\u001b[39m\u001b[90m [inlined]\u001b[39m\n",
      "    [3] \u001b[0m\u001b[1mzeros\u001b[22m\n",
      "  \u001b[90m    @ \u001b[39m\u001b[90m.\\\u001b[39m\u001b[90m\u001b[4marray.jl:588\u001b[24m\u001b[39m\u001b[90m [inlined]\u001b[39m\n",
      "    [4] \u001b[0m\u001b[1mzeros\u001b[22m\n",
      "  \u001b[90m    @ \u001b[39m\u001b[90m.\\\u001b[39m\u001b[90m\u001b[4marray.jl:584\u001b[24m\u001b[39m\u001b[90m [inlined]\u001b[39m\n",
      "    [5] \u001b[0m\u001b[1mgetindex\u001b[22m\u001b[0m\u001b[1m(\u001b[22m\u001b[90mQ\u001b[39m::\u001b[0mReflections\u001b[90m{Float64}\u001b[39m, \u001b[90mk\u001b[39m::\u001b[0mInt64, \u001b[90mj\u001b[39m::\u001b[0mInt64\u001b[0m\u001b[1m)\u001b[22m\n",
      "  \u001b[90m    @ \u001b[39m\u001b[35mMain\u001b[39m \u001b[90m.\\\u001b[39m\u001b[90m\u001b[4mIn[18]:35\u001b[24m\u001b[39m\n",
      "    [6] \u001b[0m\u001b[1mgetindex\u001b[22m\u001b[0m\u001b[1m(\u001b[22m\u001b[90mQ\u001b[39m::\u001b[0mReflections\u001b[90m{Float64}\u001b[39m, \u001b[90mk\u001b[39m::\u001b[0mInt64, \u001b[90mj\u001b[39m::\u001b[0mInt64\u001b[0m\u001b[1m)\u001b[22m\u001b[90m (repeats 52167 times)\u001b[39m\n",
      "  \u001b[90m    @ \u001b[39m\u001b[35mMain\u001b[39m \u001b[90m.\\\u001b[39m\u001b[90m\u001b[4mIn[18]:41\u001b[24m\u001b[39m\n",
      "    [7] \u001b[0m\u001b[1m_getindex\u001b[22m\n",
      "  \u001b[90m    @ \u001b[39m\u001b[90m.\\\u001b[39m\u001b[90m\u001b[4mabstractarray.jl:1291\u001b[24m\u001b[39m\u001b[90m [inlined]\u001b[39m\n",
      "    [8] \u001b[0m\u001b[1mgetindex\u001b[22m\n",
      "  \u001b[90m    @ \u001b[39m\u001b[90m.\\\u001b[39m\u001b[90m\u001b[4mabstractarray.jl:1241\u001b[24m\u001b[39m\u001b[90m [inlined]\u001b[39m\n",
      "    [9] \u001b[0m\u001b[1m_broadcast_getindex\u001b[22m\n",
      "  \u001b[90m    @ \u001b[39m\u001b[90m.\\\u001b[39m\u001b[90m\u001b[4mbroadcast.jl:636\u001b[24m\u001b[39m\u001b[90m [inlined]\u001b[39m\n",
      "   [10] \u001b[0m\u001b[1m_getindex\u001b[22m\n",
      "  \u001b[90m    @ \u001b[39m\u001b[90m.\\\u001b[39m\u001b[90m\u001b[4mbroadcast.jl:666\u001b[24m\u001b[39m\u001b[90m [inlined]\u001b[39m\n",
      "   [11] \u001b[0m\u001b[1m_broadcast_getindex\u001b[22m\n",
      "  \u001b[90m    @ \u001b[39m\u001b[90m.\\\u001b[39m\u001b[90m\u001b[4mbroadcast.jl:642\u001b[24m\u001b[39m\u001b[90m [inlined]\u001b[39m\n",
      "   [12] \u001b[0m\u001b[1mgetindex\u001b[22m\n",
      "  \u001b[90m    @ \u001b[39m\u001b[90m.\\\u001b[39m\u001b[90m\u001b[4mbroadcast.jl:597\u001b[24m\u001b[39m\u001b[90m [inlined]\u001b[39m\n",
      "   [13] \u001b[0m\u001b[1mmacro expansion\u001b[22m\n",
      "  \u001b[90m    @ \u001b[39m\u001b[90m.\\\u001b[39m\u001b[90m\u001b[4mbroadcast.jl:961\u001b[24m\u001b[39m\u001b[90m [inlined]\u001b[39m\n",
      "   [14] \u001b[0m\u001b[1mmacro expansion\u001b[22m\n",
      "  \u001b[90m    @ \u001b[39m\u001b[90m.\\\u001b[39m\u001b[90m\u001b[4msimdloop.jl:77\u001b[24m\u001b[39m\u001b[90m [inlined]\u001b[39m\n",
      "   [15] \u001b[0m\u001b[1mcopyto!\u001b[22m\n",
      "  \u001b[90m    @ \u001b[39m\u001b[90m.\\\u001b[39m\u001b[90m\u001b[4mbroadcast.jl:960\u001b[24m\u001b[39m\u001b[90m [inlined]\u001b[39m\n",
      "   [16] \u001b[0m\u001b[1mcopyto!\u001b[22m\n",
      "  \u001b[90m    @ \u001b[39m\u001b[90m.\\\u001b[39m\u001b[90m\u001b[4mbroadcast.jl:913\u001b[24m\u001b[39m\u001b[90m [inlined]\u001b[39m\n",
      "   [17] \u001b[0m\u001b[1mcopy\u001b[22m\n",
      "  \u001b[90m    @ \u001b[39m\u001b[90m.\\\u001b[39m\u001b[90m\u001b[4mbroadcast.jl:885\u001b[24m\u001b[39m\u001b[90m [inlined]\u001b[39m\n",
      "   [18] \u001b[0m\u001b[1mmaterialize\u001b[22m\n",
      "  \u001b[90m    @ \u001b[39m\u001b[90m.\\\u001b[39m\u001b[90m\u001b[4mbroadcast.jl:860\u001b[24m\u001b[39m\u001b[90m [inlined]\u001b[39m\n",
      "   [19] \u001b[0m\u001b[1mbroadcast_preserving_zero_d\u001b[22m\n",
      "  \u001b[90m    @ \u001b[39m\u001b[90m.\\\u001b[39m\u001b[90m\u001b[4mbroadcast.jl:849\u001b[24m\u001b[39m\u001b[90m [inlined]\u001b[39m\n",
      "   [20] \u001b[0m\u001b[1m-\u001b[22m\u001b[0m\u001b[1m(\u001b[22m\u001b[90mA\u001b[39m::\u001b[0mReflections\u001b[90m{Float64}\u001b[39m, \u001b[90mB\u001b[39m::\u001b[0mMatrix\u001b[90m{Float64}\u001b[39m\u001b[0m\u001b[1m)\u001b[22m\n",
      "  \u001b[90m    @ \u001b[39m\u001b[90mBase\u001b[39m \u001b[90m.\\\u001b[39m\u001b[90m\u001b[4marraymath.jl:8\u001b[24m\u001b[39m\n",
      "   [21] \u001b[0m\u001b[1misapprox\u001b[22m\u001b[0m\u001b[1m(\u001b[22m\u001b[90mx\u001b[39m::\u001b[0mReflections\u001b[90m{Float64}\u001b[39m, \u001b[90my\u001b[39m::\u001b[0mMatrix\u001b[90m{Float64}\u001b[39m; \u001b[90matol\u001b[39m::\u001b[0mInt64, \u001b[90mrtol\u001b[39m::\u001b[0mFloat64, \u001b[90mnans\u001b[39m::\u001b[0mBool, \u001b[90mnorm\u001b[39m::\u001b[0mtypeof(norm)\u001b[0m\u001b[1m)\u001b[22m\n",
      "  \u001b[90m    @ \u001b[39m\u001b[36mLinearAlgebra\u001b[39m \u001b[90mC:\\Users\\lilye\\AppData\\Local\\Programs\\Julia-1.8.5\\share\\julia\\stdlib\\v1.8\\LinearAlgebra\\src\\\u001b[39m\u001b[90m\u001b[4mgeneric.jl:1700\u001b[24m\u001b[39m\n",
      "   [22] \u001b[0m\u001b[1misapprox\u001b[22m\u001b[0m\u001b[1m(\u001b[22m\u001b[90mx\u001b[39m::\u001b[0mReflections\u001b[90m{Float64}\u001b[39m, \u001b[90my\u001b[39m::\u001b[0mMatrix\u001b[90m{Float64}\u001b[39m\u001b[0m\u001b[1m)\u001b[22m\n",
      "  \u001b[90m    @ \u001b[39m\u001b[36mLinearAlgebra\u001b[39m \u001b[90mC:\\Users\\lilye\\AppData\\Local\\Programs\\Julia-1.8.5\\share\\julia\\stdlib\\v1.8\\LinearAlgebra\\src\\\u001b[39m\u001b[90m\u001b[4mgeneric.jl:1696\u001b[24m\u001b[39m\n",
      "   [23] \u001b[0m\u001b[1meval_test\u001b[22m\u001b[0m\u001b[1m(\u001b[22m\u001b[90mevaluated\u001b[39m::\u001b[0mExpr, \u001b[90mquoted\u001b[39m::\u001b[0mExpr, \u001b[90msource\u001b[39m::\u001b[0mLineNumberNode, \u001b[90mnegate\u001b[39m::\u001b[0mBool\u001b[0m\u001b[1m)\u001b[22m\n",
      "  \u001b[90m    @ \u001b[39m\u001b[32mTest\u001b[39m \u001b[90mC:\\Users\\lilye\\AppData\\Local\\Programs\\Julia-1.8.5\\share\\julia\\stdlib\\v1.8\\Test\\src\\\u001b[39m\u001b[90m\u001b[4mTest.jl:307\u001b[24m\u001b[39m\n",
      "   [24] \u001b[0m\u001b[1meval\u001b[22m\n",
      "  \u001b[90m    @ \u001b[39m\u001b[90m.\\\u001b[39m\u001b[90m\u001b[4mboot.jl:368\u001b[24m\u001b[39m\u001b[90m [inlined]\u001b[39m\n",
      "   [25] \u001b[0m\u001b[1minclude_string\u001b[22m\u001b[0m\u001b[1m(\u001b[22m\u001b[90mmapexpr\u001b[39m::\u001b[0mtypeof(REPL.softscope), \u001b[90mmod\u001b[39m::\u001b[0mModule, \u001b[90mcode\u001b[39m::\u001b[0mString, \u001b[90mfilename\u001b[39m::\u001b[0mString\u001b[0m\u001b[1m)\u001b[22m\n",
      "  \u001b[90m    @ \u001b[39m\u001b[90mBase\u001b[39m \u001b[90m.\\\u001b[39m\u001b[90m\u001b[4mloading.jl:1428\u001b[24m\u001b[39m\n",
      "   [26] \u001b[0m\u001b[1msoftscope_include_string\u001b[22m\u001b[0m\u001b[1m(\u001b[22m\u001b[90mm\u001b[39m::\u001b[0mModule, \u001b[90mcode\u001b[39m::\u001b[0mString, \u001b[90mfilename\u001b[39m::\u001b[0mString\u001b[0m\u001b[1m)\u001b[22m\n",
      "  \u001b[90m    @ \u001b[39m\u001b[33mSoftGlobalScope\u001b[39m \u001b[90mC:\\Users\\lilye\\.julia\\packages\\SoftGlobalScope\\u4UzH\\src\\\u001b[39m\u001b[90m\u001b[4mSoftGlobalScope.jl:65\u001b[24m\u001b[39m\n",
      "   [27] \u001b[0m\u001b[1mexecute_request\u001b[22m\u001b[0m\u001b[1m(\u001b[22m\u001b[90msocket\u001b[39m::\u001b[0mZMQ.Socket, \u001b[90mmsg\u001b[39m::\u001b[0mIJulia.Msg\u001b[0m\u001b[1m)\u001b[22m\n",
      "  \u001b[90m    @ \u001b[39m\u001b[35mIJulia\u001b[39m \u001b[90mC:\\Users\\lilye\\.julia\\packages\\IJulia\\6TIq1\\src\\\u001b[39m\u001b[90m\u001b[4mexecute_request.jl:67\u001b[24m\u001b[39m\n",
      "   [28] \u001b[0m\u001b[1m#invokelatest#2\u001b[22m\n",
      "  \u001b[90m    @ \u001b[39m\u001b[90m.\\\u001b[39m\u001b[90m\u001b[4messentials.jl:729\u001b[24m\u001b[39m\u001b[90m [inlined]\u001b[39m\n",
      "   [29] \u001b[0m\u001b[1minvokelatest\u001b[22m\n",
      "  \u001b[90m    @ \u001b[39m\u001b[90m.\\\u001b[39m\u001b[90m\u001b[4messentials.jl:726\u001b[24m\u001b[39m\u001b[90m [inlined]\u001b[39m\n",
      "   [30] \u001b[0m\u001b[1meventloop\u001b[22m\u001b[0m\u001b[1m(\u001b[22m\u001b[90msocket\u001b[39m::\u001b[0mZMQ.Socket\u001b[0m\u001b[1m)\u001b[22m\n",
      "  \u001b[90m    @ \u001b[39m\u001b[35mIJulia\u001b[39m \u001b[90mC:\\Users\\lilye\\.julia\\packages\\IJulia\\6TIq1\\src\\\u001b[39m\u001b[90m\u001b[4meventloop.jl:8\u001b[24m\u001b[39m\n",
      "   [31] \u001b[0m\u001b[1m(::IJulia.var\"#15#18\")\u001b[22m\u001b[0m\u001b[1m(\u001b[22m\u001b[0m\u001b[1m)\u001b[22m\n",
      "  \u001b[90m    @ \u001b[39m\u001b[35mIJulia\u001b[39m \u001b[90m.\\\u001b[39m\u001b[90m\u001b[4mtask.jl:484\u001b[24m\u001b[39m\n"
     ]
    },
    {
     "ename": "LoadError",
     "evalue": "\u001b[91mThere was an error during testing\u001b[39m",
     "output_type": "error",
     "traceback": [
      "\u001b[91mThere was an error during testing\u001b[39m",
      "",
      "Stacktrace:",
      " [1] record(ts::Test.FallbackTestSet, t::Union{Test.Error, Test.Fail})",
      "   @ Test C:\\Users\\lilye\\AppData\\Local\\Programs\\Julia-1.8.5\\share\\julia\\stdlib\\v1.8\\Test\\src\\Test.jl:946",
      " [2] do_test(result::Test.ExecutionResult, orig_expr::Any)",
      "   @ Test C:\\Users\\lilye\\AppData\\Local\\Programs\\Julia-1.8.5\\share\\julia\\stdlib\\v1.8\\Test\\src\\Test.jl:656",
      " [3] top-level scope",
      "   @ C:\\Users\\lilye\\AppData\\Local\\Programs\\Julia-1.8.5\\share\\julia\\stdlib\\v1.8\\Test\\src\\Test.jl:464"
     ]
    }
   ],
   "source": [
    "struct Reflections{T} <: AbstractMatrix{T}\n",
    "    V::Matrix{T}\n",
    "end\n",
    "\n",
    "size(Q::Reflections) = (size(Q.V,1), size(Q.V,1))\n",
    "\n",
    "\n",
    "function *(Q::Reflections, x::AbstractVector)\n",
    "    # TODO: Apply Q in O(mn) operations by applying\n",
    "    # the reflection corresponding to each column of Q.V to x\n",
    "    #does order matter???\n",
    "    m, n = size(Q.V)\n",
    "    #formula for vector is x - 2v(v.x)   v is unit\n",
    "    #carry = I(n)\n",
    "    #start from n since apply nth column to x first and work backwards\n",
    "    for i = n:-1:1\n",
    "        #@show i\n",
    "        #order matters so can't do *= because need x to be later\n",
    "        #CAREFUL WITH MULTIPLICATION ORDER WITH VECTORS AND MATRIX ETC\n",
    "        x = Reflection(Q.V[:,i]) * x\n",
    "        \n",
    "    end\n",
    "\n",
    "    x\n",
    "end\n",
    "\n",
    "function getindex(Q::Reflections, k::Int, j::Int)\n",
    "    # TODO: Return Q[k,j] in O(mn) operations (hint: use *)\n",
    "    # Reflections is a matrix\n",
    "    # SOLUTION\n",
    "    T = eltype(Q.V)\n",
    "    #size of the reflection is just the size of the first column \n",
    "    #(this will be the dimension of the resulting matrix thats all their combination)\n",
    "    m,n = size(Q)\n",
    "    ej = zeros(T, m) \n",
    "    ej[j] = one(T)\n",
    "    \n",
    "    #ie get kth row of jth column of of the resulting matrix\n",
    "    #why is this any different to Q[k, j] => this is what we are currently defining so would just be\n",
    "    #recursive to do this\n",
    "    #have already defined it for a reflection vector so just get the jth column vector and get kth element\n",
    "    return (Q*ej)[k]\n",
    "\n",
    "    \n",
    "    #want index for the resulting total of the reflections in each column of V\n",
    "    #dont overrcomplicate getting index literally turn into something can already get and get particular part \n",
    "end\n",
    "\n",
    "Y = randn(5,3)\n",
    "V = Y * Diagonal([1/norm(Y[:,j]) for j=1:3])\n",
    "#so i guess this ccompares equality by checking size the same and each element equal \n",
    "#so if define get index wierdly like us then this below makes sense for checking the matrix Q is \n",
    "#equivalent to the reflections of each column of V\n",
    "Q = Reflections(V)\n",
    "@test Q ≈ (I - 2V[:,1]*V[:,1]')*(I - 2V[:,2]*V[:,2]')*(I - 2V[:,3]*V[:,3]')\n",
    "@test Q'Q ≈ I"
   ]
  },
  {
   "cell_type": "markdown",
   "metadata": {},
   "source": [
    "---\n",
    "\n",
    "*This notebook was generated using [Literate.jl](https://github.com/fredrikekre/Literate.jl).*"
   ]
  }
 ],
 "metadata": {
  "kernelspec": {
   "display_name": "Julia 1.8.5",
   "language": "julia",
   "name": "julia-1.8"
  },
  "language_info": {
   "file_extension": ".jl",
   "mimetype": "application/julia",
   "name": "julia",
   "version": "1.8.5"
  }
 },
 "nbformat": 4,
 "nbformat_minor": 3
}
