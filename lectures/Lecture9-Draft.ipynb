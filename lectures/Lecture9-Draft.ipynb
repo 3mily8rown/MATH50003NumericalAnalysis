{
 "cells": [
  {
   "cell_type": "code",
   "execution_count": 51,
   "id": "0424b3f0",
   "metadata": {},
   "outputs": [],
   "source": [
    "using Plots, Interact"
   ]
  },
  {
   "cell_type": "code",
   "execution_count": 52,
   "id": "8d6a4bb2",
   "metadata": {},
   "outputs": [
    {
     "data": {
      "application/vnd.webio.node+json": {
       "children": [
        {
         "children": [
          {
           "children": [
            {
             "children": [
              {
               "children": [
                {
                 "children": [
                  "x"
                 ],
                 "instanceArgs": {
                  "namespace": "html",
                  "tag": "label"
                 },
                 "nodeType": "DOM",
                 "props": {
                  "className": "interact ",
                  "style": {
                   "padding": "5px 10px 0px 10px"
                  }
                 },
                 "type": "node"
                }
               ],
               "instanceArgs": {
                "namespace": "html",
                "tag": "div"
               },
               "nodeType": "DOM",
               "props": {
                "className": "interact-flex-row-left"
               },
               "type": "node"
              },
              {
               "children": [
                {
                 "children": [],
                 "instanceArgs": {
                  "namespace": "html",
                  "tag": "input"
                 },
                 "nodeType": "DOM",
                 "props": {
                  "attributes": {
                   "data-bind": "numericValue: index, valueUpdate: 'input', event: {change: function (){this.changes(this.changes()+1)}}",
                   "orient": "horizontal",
                   "type": "range"
                  },
                  "className": "slider slider is-fullwidth",
                  "max": 40,
                  "min": 1,
                  "step": 1,
                  "style": {}
                 },
                 "type": "node"
                }
               ],
               "instanceArgs": {
                "namespace": "html",
                "tag": "div"
               },
               "nodeType": "DOM",
               "props": {
                "className": "interact-flex-row-center"
               },
               "type": "node"
              },
              {
               "children": [
                {
                 "children": [],
                 "instanceArgs": {
                  "namespace": "html",
                  "tag": "p"
                 },
                 "nodeType": "DOM",
                 "props": {
                  "attributes": {
                   "data-bind": "text: formatted_val"
                  }
                 },
                 "type": "node"
                }
               ],
               "instanceArgs": {
                "namespace": "html",
                "tag": "div"
               },
               "nodeType": "DOM",
               "props": {
                "className": "interact-flex-row-right"
               },
               "type": "node"
              }
             ],
             "instanceArgs": {
              "namespace": "html",
              "tag": "div"
             },
             "nodeType": "DOM",
             "props": {
              "className": "interact-flex-row interact-widget"
             },
             "type": "node"
            }
           ],
           "instanceArgs": {
            "handlers": {
             "changes": [
              "(function (val){return (val!=this.model[\"changes\"]()) ? (this.valueFromJulia[\"changes\"]=true, this.model[\"changes\"](val)) : undefined})"
             ],
             "index": [
              "(function (val){return (val!=this.model[\"index\"]()) ? (this.valueFromJulia[\"index\"]=true, this.model[\"index\"](val)) : undefined})"
             ]
            },
            "id": "17188164110446871906",
            "imports": {
             "data": [
              {
               "name": "knockout",
               "type": "js",
               "url": "/assetserver/7f6b498a95a9ac6b63c8a1071f981fdcb2e51812-knockout.js"
              },
              {
               "name": "knockout_punches",
               "type": "js",
               "url": "/assetserver/5f04fb6c5d5058eabc17f9b5db30d55e40586407-knockout_punches.js"
              },
              {
               "name": null,
               "type": "js",
               "url": "/assetserver/360a916de0e68fbc737b0c42b281e4a3865e0e0d-all.js"
              },
              {
               "name": null,
               "type": "css",
               "url": "/assetserver/e0177d064698cd1c6cb5700b95e35e3ddec1f896-style.css"
              },
              {
               "name": null,
               "type": "css",
               "url": "/assetserver/b73710587e210485b07cb381d6adb38aa7ca3e34-bulma_confined.min.css"
              }
             ],
             "type": "async_block"
            },
            "mount_callbacks": [
             "function () {\n    var handler = (function (ko, koPunches) {\n    ko.punches.enableAll();\n    ko.bindingHandlers.numericValue = {\n        init: function(element, valueAccessor, allBindings, data, context) {\n            var stringified = ko.observable(ko.unwrap(valueAccessor()));\n            stringified.subscribe(function(value) {\n                var val = parseFloat(value);\n                if (!isNaN(val)) {\n                    valueAccessor()(val);\n                }\n            });\n            valueAccessor().subscribe(function(value) {\n                var str = JSON.stringify(value);\n                if ((str == \"0\") && ([\"-0\", \"-0.\"].indexOf(stringified()) >= 0))\n                     return;\n                 if ([\"null\", \"\"].indexOf(str) >= 0)\n                     return;\n                stringified(str);\n            });\n            ko.applyBindingsToNode(\n                element,\n                {\n                    value: stringified,\n                    valueUpdate: allBindings.get('valueUpdate'),\n                },\n                context,\n            );\n        }\n    };\n    var json_data = {\"formatted_vals\":[\"-1.9\",\"-1.8\",\"-1.7\",\"-1.6\",\"-1.5\",\"-1.4\",\"-1.3\",\"-1.2\",\"-1.1\",\"-1.0\",\"-0.9\",\"-0.8\",\"-0.7\",\"-0.6\",\"-0.5\",\"-0.4\",\"-0.3\",\"-0.2\",\"-0.1\",\"0.0\",\"0.1\",\"0.2\",\"0.3\",\"0.4\",\"0.5\",\"0.6\",\"0.7\",\"0.8\",\"0.9\",\"1.0\",\"1.1\",\"1.2\",\"1.3\",\"1.4\",\"1.5\",\"1.6\",\"1.7\",\"1.8\",\"1.9\",\"2.0\"],\"changes\":WebIO.getval({\"name\":\"changes\",\"scope\":\"17188164110446871906\",\"id\":\"94263973988477221\",\"type\":\"observable\"}),\"index\":WebIO.getval({\"name\":\"index\",\"scope\":\"17188164110446871906\",\"id\":\"4458119895306093670\",\"type\":\"observable\"})};\n    var self = this;\n    function AppViewModel() {\n        for (var key in json_data) {\n            var el = json_data[key];\n            this[key] = Array.isArray(el) ? ko.observableArray(el) : ko.observable(el);\n        }\n        \n        [this[\"formatted_val\"]=ko.computed(    function(){\n        return this.formatted_vals()[parseInt(this.index())-(1)];\n    }\n,this)]\n        [this[\"changes\"].subscribe((function (val){!(this.valueFromJulia[\"changes\"]) ? (WebIO.setval({\"name\":\"changes\",\"scope\":\"17188164110446871906\",\"id\":\"94263973988477221\",\"type\":\"observable\"},val)) : undefined; return this.valueFromJulia[\"changes\"]=false}),self),this[\"index\"].subscribe((function (val){!(this.valueFromJulia[\"index\"]) ? (WebIO.setval({\"name\":\"index\",\"scope\":\"17188164110446871906\",\"id\":\"4458119895306093670\",\"type\":\"observable\"},val)) : undefined; return this.valueFromJulia[\"index\"]=false}),self)]\n        \n    }\n    self.model = new AppViewModel();\n    self.valueFromJulia = {};\n    for (var key in json_data) {\n        self.valueFromJulia[key] = false;\n    }\n    ko.applyBindings(self.model, self.dom);\n}\n);\n    (WebIO.importBlock({\"data\":[{\"name\":\"knockout\",\"type\":\"js\",\"url\":\"/assetserver/7f6b498a95a9ac6b63c8a1071f981fdcb2e51812-knockout.js\"},{\"name\":\"knockout_punches\",\"type\":\"js\",\"url\":\"/assetserver/5f04fb6c5d5058eabc17f9b5db30d55e40586407-knockout_punches.js\"}],\"type\":\"async_block\"})).then((imports) => handler.apply(this, imports));\n}\n"
            ],
            "observables": {
             "changes": {
              "id": "94263973988477221",
              "sync": false,
              "value": 0
             },
             "index": {
              "id": "4458119895306093670",
              "sync": true,
              "value": 20
             }
            },
            "systemjs_options": null
           },
           "nodeType": "Scope",
           "props": {},
           "type": "node"
          }
         ],
         "instanceArgs": {
          "namespace": "html",
          "tag": "div"
         },
         "nodeType": "DOM",
         "props": {
          "className": "field interact-widget"
         },
         "type": "node"
        },
        {
         "children": [
          {
           "children": [
            {
             "children": [
              {
               "children": [
                {
                 "children": [
                  "y"
                 ],
                 "instanceArgs": {
                  "namespace": "html",
                  "tag": "label"
                 },
                 "nodeType": "DOM",
                 "props": {
                  "className": "interact ",
                  "style": {
                   "padding": "5px 10px 0px 10px"
                  }
                 },
                 "type": "node"
                }
               ],
               "instanceArgs": {
                "namespace": "html",
                "tag": "div"
               },
               "nodeType": "DOM",
               "props": {
                "className": "interact-flex-row-left"
               },
               "type": "node"
              },
              {
               "children": [
                {
                 "children": [],
                 "instanceArgs": {
                  "namespace": "html",
                  "tag": "input"
                 },
                 "nodeType": "DOM",
                 "props": {
                  "attributes": {
                   "data-bind": "numericValue: index, valueUpdate: 'input', event: {change: function (){this.changes(this.changes()+1)}}",
                   "orient": "horizontal",
                   "type": "range"
                  },
                  "className": "slider slider is-fullwidth",
                  "max": 40,
                  "min": 1,
                  "step": 1,
                  "style": {}
                 },
                 "type": "node"
                }
               ],
               "instanceArgs": {
                "namespace": "html",
                "tag": "div"
               },
               "nodeType": "DOM",
               "props": {
                "className": "interact-flex-row-center"
               },
               "type": "node"
              },
              {
               "children": [
                {
                 "children": [],
                 "instanceArgs": {
                  "namespace": "html",
                  "tag": "p"
                 },
                 "nodeType": "DOM",
                 "props": {
                  "attributes": {
                   "data-bind": "text: formatted_val"
                  }
                 },
                 "type": "node"
                }
               ],
               "instanceArgs": {
                "namespace": "html",
                "tag": "div"
               },
               "nodeType": "DOM",
               "props": {
                "className": "interact-flex-row-right"
               },
               "type": "node"
              }
             ],
             "instanceArgs": {
              "namespace": "html",
              "tag": "div"
             },
             "nodeType": "DOM",
             "props": {
              "className": "interact-flex-row interact-widget"
             },
             "type": "node"
            }
           ],
           "instanceArgs": {
            "handlers": {
             "changes": [
              "(function (val){return (val!=this.model[\"changes\"]()) ? (this.valueFromJulia[\"changes\"]=true, this.model[\"changes\"](val)) : undefined})"
             ],
             "index": [
              "(function (val){return (val!=this.model[\"index\"]()) ? (this.valueFromJulia[\"index\"]=true, this.model[\"index\"](val)) : undefined})"
             ]
            },
            "id": "12666140662556174491",
            "imports": {
             "data": [
              {
               "name": "knockout",
               "type": "js",
               "url": "/assetserver/7f6b498a95a9ac6b63c8a1071f981fdcb2e51812-knockout.js"
              },
              {
               "name": "knockout_punches",
               "type": "js",
               "url": "/assetserver/5f04fb6c5d5058eabc17f9b5db30d55e40586407-knockout_punches.js"
              },
              {
               "name": null,
               "type": "js",
               "url": "/assetserver/360a916de0e68fbc737b0c42b281e4a3865e0e0d-all.js"
              },
              {
               "name": null,
               "type": "css",
               "url": "/assetserver/e0177d064698cd1c6cb5700b95e35e3ddec1f896-style.css"
              },
              {
               "name": null,
               "type": "css",
               "url": "/assetserver/b73710587e210485b07cb381d6adb38aa7ca3e34-bulma_confined.min.css"
              }
             ],
             "type": "async_block"
            },
            "mount_callbacks": [
             "function () {\n    var handler = (function (ko, koPunches) {\n    ko.punches.enableAll();\n    ko.bindingHandlers.numericValue = {\n        init: function(element, valueAccessor, allBindings, data, context) {\n            var stringified = ko.observable(ko.unwrap(valueAccessor()));\n            stringified.subscribe(function(value) {\n                var val = parseFloat(value);\n                if (!isNaN(val)) {\n                    valueAccessor()(val);\n                }\n            });\n            valueAccessor().subscribe(function(value) {\n                var str = JSON.stringify(value);\n                if ((str == \"0\") && ([\"-0\", \"-0.\"].indexOf(stringified()) >= 0))\n                     return;\n                 if ([\"null\", \"\"].indexOf(str) >= 0)\n                     return;\n                stringified(str);\n            });\n            ko.applyBindingsToNode(\n                element,\n                {\n                    value: stringified,\n                    valueUpdate: allBindings.get('valueUpdate'),\n                },\n                context,\n            );\n        }\n    };\n    var json_data = {\"formatted_vals\":[\"-1.9\",\"-1.8\",\"-1.7\",\"-1.6\",\"-1.5\",\"-1.4\",\"-1.3\",\"-1.2\",\"-1.1\",\"-1.0\",\"-0.9\",\"-0.8\",\"-0.7\",\"-0.6\",\"-0.5\",\"-0.4\",\"-0.3\",\"-0.2\",\"-0.1\",\"0.0\",\"0.1\",\"0.2\",\"0.3\",\"0.4\",\"0.5\",\"0.6\",\"0.7\",\"0.8\",\"0.9\",\"1.0\",\"1.1\",\"1.2\",\"1.3\",\"1.4\",\"1.5\",\"1.6\",\"1.7\",\"1.8\",\"1.9\",\"2.0\"],\"changes\":WebIO.getval({\"name\":\"changes\",\"scope\":\"12666140662556174491\",\"id\":\"120725102155087876\",\"type\":\"observable\"}),\"index\":WebIO.getval({\"name\":\"index\",\"scope\":\"12666140662556174491\",\"id\":\"2494877817118037105\",\"type\":\"observable\"})};\n    var self = this;\n    function AppViewModel() {\n        for (var key in json_data) {\n            var el = json_data[key];\n            this[key] = Array.isArray(el) ? ko.observableArray(el) : ko.observable(el);\n        }\n        \n        [this[\"formatted_val\"]=ko.computed(    function(){\n        return this.formatted_vals()[parseInt(this.index())-(1)];\n    }\n,this)]\n        [this[\"changes\"].subscribe((function (val){!(this.valueFromJulia[\"changes\"]) ? (WebIO.setval({\"name\":\"changes\",\"scope\":\"12666140662556174491\",\"id\":\"120725102155087876\",\"type\":\"observable\"},val)) : undefined; return this.valueFromJulia[\"changes\"]=false}),self),this[\"index\"].subscribe((function (val){!(this.valueFromJulia[\"index\"]) ? (WebIO.setval({\"name\":\"index\",\"scope\":\"12666140662556174491\",\"id\":\"2494877817118037105\",\"type\":\"observable\"},val)) : undefined; return this.valueFromJulia[\"index\"]=false}),self)]\n        \n    }\n    self.model = new AppViewModel();\n    self.valueFromJulia = {};\n    for (var key in json_data) {\n        self.valueFromJulia[key] = false;\n    }\n    ko.applyBindings(self.model, self.dom);\n}\n);\n    (WebIO.importBlock({\"data\":[{\"name\":\"knockout\",\"type\":\"js\",\"url\":\"/assetserver/7f6b498a95a9ac6b63c8a1071f981fdcb2e51812-knockout.js\"},{\"name\":\"knockout_punches\",\"type\":\"js\",\"url\":\"/assetserver/5f04fb6c5d5058eabc17f9b5db30d55e40586407-knockout_punches.js\"}],\"type\":\"async_block\"})).then((imports) => handler.apply(this, imports));\n}\n"
            ],
            "observables": {
             "changes": {
              "id": "120725102155087876",
              "sync": false,
              "value": 0
             },
             "index": {
              "id": "2494877817118037105",
              "sync": true,
              "value": 20
             }
            },
            "systemjs_options": null
           },
           "nodeType": "Scope",
           "props": {},
           "type": "node"
          }
         ],
         "instanceArgs": {
          "namespace": "html",
          "tag": "div"
         },
         "nodeType": "DOM",
         "props": {
          "className": "field interact-widget"
         },
         "type": "node"
        },
        {
         "children": [
          {
           "children": [
            {
             "children": [
              {
               "children": [
                {
                 "children": [
                  "z"
                 ],
                 "instanceArgs": {
                  "namespace": "html",
                  "tag": "label"
                 },
                 "nodeType": "DOM",
                 "props": {
                  "className": "interact ",
                  "style": {
                   "padding": "5px 10px 0px 10px"
                  }
                 },
                 "type": "node"
                }
               ],
               "instanceArgs": {
                "namespace": "html",
                "tag": "div"
               },
               "nodeType": "DOM",
               "props": {
                "className": "interact-flex-row-left"
               },
               "type": "node"
              },
              {
               "children": [
                {
                 "children": [],
                 "instanceArgs": {
                  "namespace": "html",
                  "tag": "input"
                 },
                 "nodeType": "DOM",
                 "props": {
                  "attributes": {
                   "data-bind": "numericValue: index, valueUpdate: 'input', event: {change: function (){this.changes(this.changes()+1)}}",
                   "orient": "horizontal",
                   "type": "range"
                  },
                  "className": "slider slider is-fullwidth",
                  "max": 20,
                  "min": 1,
                  "step": 1,
                  "style": {}
                 },
                 "type": "node"
                }
               ],
               "instanceArgs": {
                "namespace": "html",
                "tag": "div"
               },
               "nodeType": "DOM",
               "props": {
                "className": "interact-flex-row-center"
               },
               "type": "node"
              },
              {
               "children": [
                {
                 "children": [],
                 "instanceArgs": {
                  "namespace": "html",
                  "tag": "p"
                 },
                 "nodeType": "DOM",
                 "props": {
                  "attributes": {
                   "data-bind": "text: formatted_val"
                  }
                 },
                 "type": "node"
                }
               ],
               "instanceArgs": {
                "namespace": "html",
                "tag": "div"
               },
               "nodeType": "DOM",
               "props": {
                "className": "interact-flex-row-right"
               },
               "type": "node"
              }
             ],
             "instanceArgs": {
              "namespace": "html",
              "tag": "div"
             },
             "nodeType": "DOM",
             "props": {
              "className": "interact-flex-row interact-widget"
             },
             "type": "node"
            }
           ],
           "instanceArgs": {
            "handlers": {
             "changes": [
              "(function (val){return (val!=this.model[\"changes\"]()) ? (this.valueFromJulia[\"changes\"]=true, this.model[\"changes\"](val)) : undefined})"
             ],
             "index": [
              "(function (val){return (val!=this.model[\"index\"]()) ? (this.valueFromJulia[\"index\"]=true, this.model[\"index\"](val)) : undefined})"
             ]
            },
            "id": "7504640313202882879",
            "imports": {
             "data": [
              {
               "name": "knockout",
               "type": "js",
               "url": "/assetserver/7f6b498a95a9ac6b63c8a1071f981fdcb2e51812-knockout.js"
              },
              {
               "name": "knockout_punches",
               "type": "js",
               "url": "/assetserver/5f04fb6c5d5058eabc17f9b5db30d55e40586407-knockout_punches.js"
              },
              {
               "name": null,
               "type": "js",
               "url": "/assetserver/360a916de0e68fbc737b0c42b281e4a3865e0e0d-all.js"
              },
              {
               "name": null,
               "type": "css",
               "url": "/assetserver/e0177d064698cd1c6cb5700b95e35e3ddec1f896-style.css"
              },
              {
               "name": null,
               "type": "css",
               "url": "/assetserver/b73710587e210485b07cb381d6adb38aa7ca3e34-bulma_confined.min.css"
              }
             ],
             "type": "async_block"
            },
            "mount_callbacks": [
             "function () {\n    var handler = (function (ko, koPunches) {\n    ko.punches.enableAll();\n    ko.bindingHandlers.numericValue = {\n        init: function(element, valueAccessor, allBindings, data, context) {\n            var stringified = ko.observable(ko.unwrap(valueAccessor()));\n            stringified.subscribe(function(value) {\n                var val = parseFloat(value);\n                if (!isNaN(val)) {\n                    valueAccessor()(val);\n                }\n            });\n            valueAccessor().subscribe(function(value) {\n                var str = JSON.stringify(value);\n                if ((str == \"0\") && ([\"-0\", \"-0.\"].indexOf(stringified()) >= 0))\n                     return;\n                 if ([\"null\", \"\"].indexOf(str) >= 0)\n                     return;\n                stringified(str);\n            });\n            ko.applyBindingsToNode(\n                element,\n                {\n                    value: stringified,\n                    valueUpdate: allBindings.get('valueUpdate'),\n                },\n                context,\n            );\n        }\n    };\n    var json_data = {\"formatted_vals\":[\"0.1\",\"0.2\",\"0.3\",\"0.4\",\"0.5\",\"0.6\",\"0.7\",\"0.8\",\"0.9\",\"1.0\",\"1.1\",\"1.2\",\"1.3\",\"1.4\",\"1.5\",\"1.6\",\"1.7\",\"1.8\",\"1.9\",\"2.0\"],\"changes\":WebIO.getval({\"name\":\"changes\",\"scope\":\"7504640313202882879\",\"id\":\"2798357880669968118\",\"type\":\"observable\"}),\"index\":WebIO.getval({\"name\":\"index\",\"scope\":\"7504640313202882879\",\"id\":\"2229754691312903081\",\"type\":\"observable\"})};\n    var self = this;\n    function AppViewModel() {\n        for (var key in json_data) {\n            var el = json_data[key];\n            this[key] = Array.isArray(el) ? ko.observableArray(el) : ko.observable(el);\n        }\n        \n        [this[\"formatted_val\"]=ko.computed(    function(){\n        return this.formatted_vals()[parseInt(this.index())-(1)];\n    }\n,this)]\n        [this[\"changes\"].subscribe((function (val){!(this.valueFromJulia[\"changes\"]) ? (WebIO.setval({\"name\":\"changes\",\"scope\":\"7504640313202882879\",\"id\":\"2798357880669968118\",\"type\":\"observable\"},val)) : undefined; return this.valueFromJulia[\"changes\"]=false}),self),this[\"index\"].subscribe((function (val){!(this.valueFromJulia[\"index\"]) ? (WebIO.setval({\"name\":\"index\",\"scope\":\"7504640313202882879\",\"id\":\"2229754691312903081\",\"type\":\"observable\"},val)) : undefined; return this.valueFromJulia[\"index\"]=false}),self)]\n        \n    }\n    self.model = new AppViewModel();\n    self.valueFromJulia = {};\n    for (var key in json_data) {\n        self.valueFromJulia[key] = false;\n    }\n    ko.applyBindings(self.model, self.dom);\n}\n);\n    (WebIO.importBlock({\"data\":[{\"name\":\"knockout\",\"type\":\"js\",\"url\":\"/assetserver/7f6b498a95a9ac6b63c8a1071f981fdcb2e51812-knockout.js\"},{\"name\":\"knockout_punches\",\"type\":\"js\",\"url\":\"/assetserver/5f04fb6c5d5058eabc17f9b5db30d55e40586407-knockout_punches.js\"}],\"type\":\"async_block\"})).then((imports) => handler.apply(this, imports));\n}\n"
            ],
            "observables": {
             "changes": {
              "id": "2798357880669968118",
              "sync": false,
              "value": 0
             },
             "index": {
              "id": "2229754691312903081",
              "sync": true,
              "value": 10
             }
            },
            "systemjs_options": null
           },
           "nodeType": "Scope",
           "props": {},
           "type": "node"
          }
         ],
         "instanceArgs": {
          "namespace": "html",
          "tag": "div"
         },
         "nodeType": "DOM",
         "props": {
          "className": "field interact-widget"
         },
         "type": "node"
        },
        {
         "children": [
          {
           "children": [],
           "instanceArgs": {
            "id": "14027077842343092668",
            "name": "obs-node"
           },
           "nodeType": "ObservableNode",
           "props": {},
           "type": "node"
          }
         ],
         "instanceArgs": {
          "handlers": {},
          "id": "13938223245999726290",
          "imports": {
           "data": [],
           "type": "async_block"
          },
          "mount_callbacks": [],
          "observables": {
           "obs-node": {
            "id": "14027077842343092668",
            "sync": false,
            "value": {
             "children": [
              {
               "children": [],
               "instanceArgs": {
                "namespace": "html",
                "tag": "div"
               },
               "nodeType": "DOM",
               "props": {
                "setInnerHtml": "<?xml version=\"1.0\" encoding=\"utf-8\"?>\n<svg xmlns=\"http://www.w3.org/2000/svg\" xmlns:xlink=\"http://www.w3.org/1999/xlink\" width=\"600\" height=\"400\" viewBox=\"0 0 2400 1600\">\n<defs>\n  <clipPath id=\"clip080\">\n    <rect x=\"0\" y=\"0\" width=\"2400\" height=\"1600\"/>\n  </clipPath>\n</defs>\n<path clip-path=\"url(#clip080)\" d=\"\nM0 1600 L2400 1600 L2400 0 L0 0  Z\n  \" fill=\"#ffffff\" fill-rule=\"evenodd\" fill-opacity=\"1\"/>\n<defs>\n  <clipPath id=\"clip081\">\n    <rect x=\"480\" y=\"0\" width=\"1681\" height=\"1600\"/>\n  </clipPath>\n</defs>\n<defs>\n  <clipPath id=\"clip082\">\n    <rect x=\"147\" y=\"47\" width=\"1846\" height=\"1440\"/>\n  </clipPath>\n</defs>\n<path clip-path=\"url(#clip082)\" d=\"\nM786.351 984.764 L786.351 624.963 L994.082 445.062 L1353.88 548.928 L1353.88 908.729 L1146.15 1088.63 L786.351 984.764  Z\n  \" fill=\"#ffffff\" fill-rule=\"evenodd\" fill-opacity=\"1\"/>\n<polyline clip-path=\"url(#clip082)\" style=\"stroke:#000000; stroke-linecap:round; stroke-linejoin:round; stroke-width:2; stroke-opacity:0.1; fill:none\" points=\"\n  502.585,1202.68 918.047,842.881 918.047,123.279 \n  \"/>\n<polyline clip-path=\"url(#clip082)\" style=\"stroke:#000000; stroke-linecap:round; stroke-linejoin:round; stroke-width:2; stroke-opacity:0.1; fill:none\" points=\"\n  682.485,1254.61 1097.95,894.814 1097.95,175.212 \n  \"/>\n<polyline clip-path=\"url(#clip082)\" style=\"stroke:#000000; stroke-linecap:round; stroke-linejoin:round; stroke-width:2; stroke-opacity:0.1; fill:none\" points=\"\n  862.386,1306.55 1277.85,946.746 1277.85,227.145 \n  \"/>\n<polyline clip-path=\"url(#clip082)\" style=\"stroke:#000000; stroke-linecap:round; stroke-linejoin:round; stroke-width:2; stroke-opacity:0.1; fill:none\" points=\"\n  1042.29,1358.48 1457.75,998.679 1457.75,279.077 \n  \"/>\n<polyline clip-path=\"url(#clip082)\" style=\"stroke:#000000; stroke-linecap:round; stroke-linejoin:round; stroke-width:2; stroke-opacity:0.1; fill:none\" points=\"\n  1222.19,1410.41 1637.65,1050.61 1637.65,331.01 \n  \"/>\n<polyline clip-path=\"url(#clip080)\" style=\"stroke:#000000; stroke-linecap:round; stroke-linejoin:round; stroke-width:4; stroke-opacity:1; fill:none\" points=\"\n  502.585,1202.68 1222.19,1410.41 \n  \"/>\n<polyline clip-path=\"url(#clip080)\" style=\"stroke:#000000; stroke-linecap:round; stroke-linejoin:round; stroke-width:4; stroke-opacity:1; fill:none\" points=\"\n  502.585,1202.68 507.57,1198.36 \n  \"/>\n<polyline clip-path=\"url(#clip080)\" style=\"stroke:#000000; stroke-linecap:round; stroke-linejoin:round; stroke-width:4; stroke-opacity:1; fill:none\" points=\"\n  682.485,1254.61 687.471,1250.3 \n  \"/>\n<polyline clip-path=\"url(#clip080)\" style=\"stroke:#000000; stroke-linecap:round; stroke-linejoin:round; stroke-width:4; stroke-opacity:1; fill:none\" points=\"\n  862.386,1306.55 867.371,1302.23 \n  \"/>\n<polyline clip-path=\"url(#clip080)\" style=\"stroke:#000000; stroke-linecap:round; stroke-linejoin:round; stroke-width:4; stroke-opacity:1; fill:none\" points=\"\n  1042.29,1358.48 1047.27,1354.16 \n  \"/>\n<polyline clip-path=\"url(#clip080)\" style=\"stroke:#000000; stroke-linecap:round; stroke-linejoin:round; stroke-width:4; stroke-opacity:1; fill:none\" points=\"\n  1222.19,1410.41 1227.17,1406.1 \n  \"/>\n<path clip-path=\"url(#clip080)\" d=\"M434.482 1230.8 L464.157 1230.8 L464.157 1234.74 L434.482 1234.74 L434.482 1230.8 Z\" fill=\"#000000\" fill-rule=\"evenodd\" fill-opacity=\"1\" /><path clip-path=\"url(#clip080)\" d=\"M478.278 1243.7 L494.597 1243.7 L494.597 1247.63 L472.653 1247.63 L472.653 1243.7 Q475.315 1240.94 479.898 1236.31 Q484.505 1231.66 485.685 1230.32 Q487.93 1227.79 488.81 1226.06 Q489.713 1224.3 489.713 1222.61 Q489.713 1219.85 487.768 1218.12 Q485.847 1216.38 482.745 1216.38 Q480.546 1216.38 478.093 1217.15 Q475.662 1217.91 472.884 1219.46 L472.884 1214.74 Q475.708 1213.6 478.162 1213.03 Q480.616 1212.45 482.653 1212.45 Q488.023 1212.45 491.217 1215.13 Q494.412 1217.82 494.412 1222.31 Q494.412 1224.44 493.602 1226.36 Q492.815 1228.26 490.708 1230.85 Q490.13 1231.52 487.028 1234.74 Q483.926 1237.93 478.278 1243.7 Z\" fill=\"#000000\" fill-rule=\"evenodd\" fill-opacity=\"1\" /><path clip-path=\"url(#clip080)\" d=\"M614.012 1282.74 L643.688 1282.74 L643.688 1286.67 L614.012 1286.67 L614.012 1282.74 Z\" fill=\"#000000\" fill-rule=\"evenodd\" fill-opacity=\"1\" /><path clip-path=\"url(#clip080)\" d=\"M654.59 1295.63 L662.229 1295.63 L662.229 1269.26 L653.919 1270.93 L653.919 1266.67 L662.183 1265 L666.859 1265 L666.859 1295.63 L674.498 1295.63 L674.498 1299.56 L654.59 1299.56 L654.59 1295.63 Z\" fill=\"#000000\" fill-rule=\"evenodd\" fill-opacity=\"1\" /><path clip-path=\"url(#clip080)\" d=\"M842.454 1320.02 Q838.843 1320.02 837.014 1323.58 Q835.208 1327.12 835.208 1334.25 Q835.208 1341.36 837.014 1344.92 Q838.843 1348.47 842.454 1348.47 Q846.088 1348.47 847.893 1344.92 Q849.722 1341.36 849.722 1334.25 Q849.722 1327.12 847.893 1323.58 Q846.088 1320.02 842.454 1320.02 M842.454 1316.31 Q848.264 1316.31 851.319 1320.92 Q854.398 1325.5 854.398 1334.25 Q854.398 1342.98 851.319 1347.59 Q848.264 1352.17 842.454 1352.17 Q836.644 1352.17 833.565 1347.59 Q830.509 1342.98 830.509 1334.25 Q830.509 1325.5 833.565 1320.92 Q836.644 1316.31 842.454 1316.31 Z\" fill=\"#000000\" fill-rule=\"evenodd\" fill-opacity=\"1\" /><path clip-path=\"url(#clip080)\" d=\"M1014.39 1399.5 L1022.03 1399.5 L1022.03 1373.13 L1013.72 1374.8 L1013.72 1370.54 L1021.98 1368.87 L1026.66 1368.87 L1026.66 1399.5 L1034.3 1399.5 L1034.3 1403.43 L1014.39 1403.43 L1014.39 1399.5 Z\" fill=\"#000000\" fill-rule=\"evenodd\" fill-opacity=\"1\" /><path clip-path=\"url(#clip080)\" d=\"M1197.88 1451.43 L1214.2 1451.43 L1214.2 1455.36 L1192.25 1455.36 L1192.25 1451.43 Q1194.92 1448.67 1199.5 1444.04 Q1204.11 1439.39 1205.29 1438.05 Q1207.53 1435.53 1208.41 1433.79 Q1209.31 1432.03 1209.31 1430.34 Q1209.31 1427.59 1207.37 1425.85 Q1205.45 1424.11 1202.35 1424.11 Q1200.15 1424.11 1197.69 1424.88 Q1195.26 1425.64 1192.49 1427.19 L1192.49 1422.47 Q1195.31 1421.34 1197.76 1420.76 Q1200.22 1420.18 1202.25 1420.18 Q1207.62 1420.18 1210.82 1422.86 Q1214.01 1425.55 1214.01 1430.04 Q1214.01 1432.17 1213.2 1434.09 Q1212.42 1435.99 1210.31 1438.58 Q1209.73 1439.25 1206.63 1442.47 Q1203.53 1445.66 1197.88 1451.43 Z\" fill=\"#000000\" fill-rule=\"evenodd\" fill-opacity=\"1\" /><polyline clip-path=\"url(#clip082)\" style=\"stroke:#000000; stroke-linecap:round; stroke-linejoin:round; stroke-width:2; stroke-opacity:0.1; fill:none\" points=\"\n  1222.19,1410.41 502.585,1202.68 502.585,483.08 \n  \"/>\n<polyline clip-path=\"url(#clip082)\" style=\"stroke:#000000; stroke-linecap:round; stroke-linejoin:round; stroke-width:2; stroke-opacity:0.1; fill:none\" points=\"\n  1326.05,1320.46 606.45,1112.73 606.45,393.13 \n  \"/>\n<polyline clip-path=\"url(#clip082)\" style=\"stroke:#000000; stroke-linecap:round; stroke-linejoin:round; stroke-width:2; stroke-opacity:0.1; fill:none\" points=\"\n  1429.92,1230.51 710.316,1022.78 710.316,303.179 \n  \"/>\n<polyline clip-path=\"url(#clip082)\" style=\"stroke:#000000; stroke-linecap:round; stroke-linejoin:round; stroke-width:2; stroke-opacity:0.1; fill:none\" points=\"\n  1533.78,1140.56 814.182,932.831 814.182,213.229 \n  \"/>\n<polyline clip-path=\"url(#clip082)\" style=\"stroke:#000000; stroke-linecap:round; stroke-linejoin:round; stroke-width:2; stroke-opacity:0.1; fill:none\" points=\"\n  1637.65,1050.61 918.047,842.881 918.047,123.279 \n  \"/>\n<polyline clip-path=\"url(#clip080)\" style=\"stroke:#000000; stroke-linecap:round; stroke-linejoin:round; stroke-width:4; stroke-opacity:1; fill:none\" points=\"\n  1222.19,1410.41 1637.65,1050.61 \n  \"/>\n<polyline clip-path=\"url(#clip080)\" style=\"stroke:#000000; stroke-linecap:round; stroke-linejoin:round; stroke-width:4; stroke-opacity:1; fill:none\" points=\"\n  1222.19,1410.41 1213.55,1407.92 \n  \"/>\n<polyline clip-path=\"url(#clip080)\" style=\"stroke:#000000; stroke-linecap:round; stroke-linejoin:round; stroke-width:4; stroke-opacity:1; fill:none\" points=\"\n  1326.05,1320.46 1317.42,1317.97 \n  \"/>\n<polyline clip-path=\"url(#clip080)\" style=\"stroke:#000000; stroke-linecap:round; stroke-linejoin:round; stroke-width:4; stroke-opacity:1; fill:none\" points=\"\n  1429.92,1230.51 1421.28,1228.02 \n  \"/>\n<polyline clip-path=\"url(#clip080)\" style=\"stroke:#000000; stroke-linecap:round; stroke-linejoin:round; stroke-width:4; stroke-opacity:1; fill:none\" points=\"\n  1533.78,1140.56 1525.15,1138.07 \n  \"/>\n<polyline clip-path=\"url(#clip080)\" style=\"stroke:#000000; stroke-linecap:round; stroke-linejoin:round; stroke-width:4; stroke-opacity:1; fill:none\" points=\"\n  1637.65,1050.61 1629.01,1048.12 \n  \"/>\n<path clip-path=\"url(#clip080)\" d=\"M1241.04 1432.64 L1270.72 1432.64 L1270.72 1436.57 L1241.04 1436.57 L1241.04 1432.64 Z\" fill=\"#000000\" fill-rule=\"evenodd\" fill-opacity=\"1\" /><path clip-path=\"url(#clip080)\" d=\"M1284.84 1445.53 L1301.16 1445.53 L1301.16 1449.46 L1279.21 1449.46 L1279.21 1445.53 Q1281.87 1442.77 1286.46 1438.14 Q1291.06 1433.49 1292.24 1432.15 Q1294.49 1429.63 1295.37 1427.89 Q1296.27 1426.13 1296.27 1424.44 Q1296.27 1421.69 1294.33 1419.95 Q1292.41 1418.21 1289.3 1418.21 Q1287.11 1418.21 1284.65 1418.98 Q1282.22 1419.74 1279.44 1421.29 L1279.44 1416.57 Q1282.27 1415.44 1284.72 1414.86 Q1287.17 1414.28 1289.21 1414.28 Q1294.58 1414.28 1297.78 1416.96 Q1300.97 1419.65 1300.97 1424.14 Q1300.97 1426.27 1300.16 1428.19 Q1299.37 1430.09 1297.27 1432.68 Q1296.69 1433.35 1293.59 1436.57 Q1290.48 1439.76 1284.84 1445.53 Z\" fill=\"#000000\" fill-rule=\"evenodd\" fill-opacity=\"1\" /><path clip-path=\"url(#clip080)\" d=\"M1344.91 1342.68 L1374.58 1342.68 L1374.58 1346.62 L1344.91 1346.62 L1344.91 1342.68 Z\" fill=\"#000000\" fill-rule=\"evenodd\" fill-opacity=\"1\" /><path clip-path=\"url(#clip080)\" d=\"M1385.48 1355.58 L1393.12 1355.58 L1393.12 1329.21 L1384.81 1330.88 L1384.81 1326.62 L1393.08 1324.95 L1397.75 1324.95 L1397.75 1355.58 L1405.39 1355.58 L1405.39 1359.51 L1385.48 1359.51 L1385.48 1355.58 Z\" fill=\"#000000\" fill-rule=\"evenodd\" fill-opacity=\"1\" /><path clip-path=\"url(#clip080)\" d=\"M1460.72 1238.08 Q1457.11 1238.08 1455.28 1241.65 Q1453.47 1245.19 1453.47 1252.32 Q1453.47 1259.42 1455.28 1262.99 Q1457.11 1266.53 1460.72 1266.53 Q1464.35 1266.53 1466.16 1262.99 Q1467.98 1259.42 1467.98 1252.32 Q1467.98 1245.19 1466.16 1241.65 Q1464.35 1238.08 1460.72 1238.08 M1460.72 1234.38 Q1466.53 1234.38 1469.58 1238.98 Q1472.66 1243.57 1472.66 1252.32 Q1472.66 1261.04 1469.58 1265.65 Q1466.53 1270.23 1460.72 1270.23 Q1454.91 1270.23 1451.83 1265.65 Q1448.77 1261.04 1448.77 1252.32 Q1448.77 1243.57 1451.83 1238.98 Q1454.91 1234.38 1460.72 1234.38 Z\" fill=\"#000000\" fill-rule=\"evenodd\" fill-opacity=\"1\" /><path clip-path=\"url(#clip080)\" d=\"M1553.31 1175.68 L1560.95 1175.68 L1560.95 1149.31 L1552.64 1150.98 L1552.64 1146.72 L1560.9 1145.05 L1565.58 1145.05 L1565.58 1175.68 L1573.22 1175.68 L1573.22 1179.61 L1553.31 1179.61 L1553.31 1175.68 Z\" fill=\"#000000\" fill-rule=\"evenodd\" fill-opacity=\"1\" /><path clip-path=\"url(#clip080)\" d=\"M1662.13 1085.73 L1678.45 1085.73 L1678.45 1089.66 L1656.5 1089.66 L1656.5 1085.73 Q1659.17 1082.97 1663.75 1078.34 Q1668.35 1073.69 1669.54 1072.35 Q1671.78 1069.82 1672.66 1068.09 Q1673.56 1066.33 1673.56 1064.64 Q1673.56 1061.89 1671.62 1060.15 Q1669.7 1058.41 1666.6 1058.41 Q1664.4 1058.41 1661.94 1059.18 Q1659.51 1059.94 1656.73 1061.49 L1656.73 1056.77 Q1659.56 1055.64 1662.01 1055.06 Q1664.47 1054.48 1666.5 1054.48 Q1671.87 1054.48 1675.07 1057.16 Q1678.26 1059.85 1678.26 1064.34 Q1678.26 1066.47 1677.45 1068.39 Q1676.66 1070.29 1674.56 1072.88 Q1673.98 1073.55 1670.88 1076.77 Q1667.78 1079.96 1662.13 1085.73 Z\" fill=\"#000000\" fill-rule=\"evenodd\" fill-opacity=\"1\" /><polyline clip-path=\"url(#clip082)\" style=\"stroke:#000000; stroke-linecap:round; stroke-linejoin:round; stroke-width:2; stroke-opacity:0.1; fill:none\" points=\"\n  502.585,1202.68 918.047,842.881 1637.65,1050.61 \n  \"/>\n<polyline clip-path=\"url(#clip082)\" style=\"stroke:#000000; stroke-linecap:round; stroke-linejoin:round; stroke-width:2; stroke-opacity:0.1; fill:none\" points=\"\n  502.585,1022.78 918.047,662.98 1637.65,870.712 \n  \"/>\n<polyline clip-path=\"url(#clip082)\" style=\"stroke:#000000; stroke-linecap:round; stroke-linejoin:round; stroke-width:2; stroke-opacity:0.1; fill:none\" points=\"\n  502.585,842.881 918.047,483.08 1637.65,690.811 \n  \"/>\n<polyline clip-path=\"url(#clip082)\" style=\"stroke:#000000; stroke-linecap:round; stroke-linejoin:round; stroke-width:2; stroke-opacity:0.1; fill:none\" points=\"\n  502.585,662.98 918.047,303.179 1637.65,510.911 \n  \"/>\n<polyline clip-path=\"url(#clip082)\" style=\"stroke:#000000; stroke-linecap:round; stroke-linejoin:round; stroke-width:2; stroke-opacity:0.1; fill:none\" points=\"\n  502.585,483.08 918.047,123.279 1637.65,331.01 \n  \"/>\n<polyline clip-path=\"url(#clip080)\" style=\"stroke:#000000; stroke-linecap:round; stroke-linejoin:round; stroke-width:4; stroke-opacity:1; fill:none\" points=\"\n  502.585,1202.68 502.585,483.08 \n  \"/>\n<polyline clip-path=\"url(#clip080)\" style=\"stroke:#000000; stroke-linecap:round; stroke-linejoin:round; stroke-width:4; stroke-opacity:1; fill:none\" points=\"\n  502.585,1202.68 507.57,1198.36 \n  \"/>\n<polyline clip-path=\"url(#clip080)\" style=\"stroke:#000000; stroke-linecap:round; stroke-linejoin:round; stroke-width:4; stroke-opacity:1; fill:none\" points=\"\n  502.585,1022.78 507.57,1018.46 \n  \"/>\n<polyline clip-path=\"url(#clip080)\" style=\"stroke:#000000; stroke-linecap:round; stroke-linejoin:round; stroke-width:4; stroke-opacity:1; fill:none\" points=\"\n  502.585,842.881 507.57,838.563 \n  \"/>\n<polyline clip-path=\"url(#clip080)\" style=\"stroke:#000000; stroke-linecap:round; stroke-linejoin:round; stroke-width:4; stroke-opacity:1; fill:none\" points=\"\n  502.585,662.98 507.57,658.663 \n  \"/>\n<polyline clip-path=\"url(#clip080)\" style=\"stroke:#000000; stroke-linecap:round; stroke-linejoin:round; stroke-width:4; stroke-opacity:1; fill:none\" points=\"\n  502.585,483.08 507.57,478.762 \n  \"/>\n<path clip-path=\"url(#clip080)\" d=\"M413.669 1203.13 L443.345 1203.13 L443.345 1207.07 L413.669 1207.07 L413.669 1203.13 Z\" fill=\"#000000\" fill-rule=\"evenodd\" fill-opacity=\"1\" /><path clip-path=\"url(#clip080)\" d=\"M457.465 1216.03 L473.785 1216.03 L473.785 1219.96 L451.84 1219.96 L451.84 1216.03 Q454.502 1213.27 459.086 1208.64 Q463.692 1203.99 464.873 1202.65 Q467.118 1200.12 467.998 1198.39 Q468.901 1196.63 468.901 1194.94 Q468.901 1192.18 466.956 1190.45 Q465.035 1188.71 461.933 1188.71 Q459.734 1188.71 457.28 1189.48 Q454.85 1190.24 452.072 1191.79 L452.072 1187.07 Q454.896 1185.93 457.35 1185.36 Q459.803 1184.78 461.84 1184.78 Q467.211 1184.78 470.405 1187.46 Q473.6 1190.15 473.6 1194.64 Q473.6 1196.77 472.789 1198.69 Q472.002 1200.59 469.896 1203.18 Q469.317 1203.85 466.215 1207.07 Q463.114 1210.26 457.465 1216.03 Z\" fill=\"#000000\" fill-rule=\"evenodd\" fill-opacity=\"1\" /><path clip-path=\"url(#clip080)\" d=\"M413.299 1023.23 L442.975 1023.23 L442.975 1027.17 L413.299 1027.17 L413.299 1023.23 Z\" fill=\"#000000\" fill-rule=\"evenodd\" fill-opacity=\"1\" /><path clip-path=\"url(#clip080)\" d=\"M453.877 1036.13 L461.516 1036.13 L461.516 1009.76 L453.206 1011.43 L453.206 1007.17 L461.47 1005.5 L466.146 1005.5 L466.146 1036.13 L473.785 1036.13 L473.785 1040.06 L453.877 1040.06 L453.877 1036.13 Z\" fill=\"#000000\" fill-rule=\"evenodd\" fill-opacity=\"1\" /><path clip-path=\"url(#clip080)\" d=\"M461.84 828.68 Q458.229 828.68 456.401 832.244 Q454.595 835.786 454.595 842.916 Q454.595 850.022 456.401 853.587 Q458.229 857.128 461.84 857.128 Q465.475 857.128 467.28 853.587 Q469.109 850.022 469.109 842.916 Q469.109 835.786 467.28 832.244 Q465.475 828.68 461.84 828.68 M461.84 824.976 Q467.651 824.976 470.706 829.582 Q473.785 834.166 473.785 842.916 Q473.785 851.642 470.706 856.249 Q467.651 860.832 461.84 860.832 Q456.03 860.832 452.952 856.249 Q449.896 851.642 449.896 842.916 Q449.896 834.166 452.952 829.582 Q456.03 824.976 461.84 824.976 Z\" fill=\"#000000\" fill-rule=\"evenodd\" fill-opacity=\"1\" /><path clip-path=\"url(#clip080)\" d=\"M453.877 676.325 L461.516 676.325 L461.516 649.96 L453.206 651.626 L453.206 647.367 L461.47 645.7 L466.146 645.7 L466.146 676.325 L473.785 676.325 L473.785 680.26 L453.877 680.26 L453.877 676.325 Z\" fill=\"#000000\" fill-rule=\"evenodd\" fill-opacity=\"1\" /><path clip-path=\"url(#clip080)\" d=\"M457.465 496.425 L473.785 496.425 L473.785 500.36 L451.84 500.36 L451.84 496.425 Q454.502 493.67 459.086 489.041 Q463.692 484.388 464.873 483.045 Q467.118 480.522 467.998 478.786 Q468.901 477.027 468.901 475.337 Q468.901 472.582 466.956 470.846 Q465.035 469.11 461.933 469.11 Q459.734 469.11 457.28 469.874 Q454.85 470.638 452.072 472.189 L452.072 467.467 Q454.896 466.332 457.35 465.754 Q459.803 465.175 461.84 465.175 Q467.211 465.175 470.405 467.86 Q473.6 470.545 473.6 475.036 Q473.6 477.166 472.789 479.087 Q472.002 480.985 469.896 483.578 Q469.317 484.249 466.215 487.466 Q463.114 490.661 457.465 496.425 Z\" fill=\"#000000\" fill-rule=\"evenodd\" fill-opacity=\"1\" /><circle clip-path=\"url(#clip082)\" cx=\"1070.12\" cy=\"586.946\" r=\"14.4\" fill=\"#009af9\" fill-rule=\"evenodd\" fill-opacity=\"1\" stroke=\"#000000\" stroke-opacity=\"1\" stroke-width=\"3.2\"/>\n<polyline clip-path=\"url(#clip082)\" style=\"stroke:#0000ff; stroke-linecap:round; stroke-linejoin:round; stroke-width:4; stroke-opacity:1; fill:none\" points=\"\n  1070.12,766.846 1070.12,586.946 \n  \"/>\n<path clip-path=\"url(#clip082)\" d=\"\nM918.047 483.08 L502.585 842.881 L1222.19 1050.61 L1637.65 690.811  Z\n  \" fill=\"#bb3754\" fill-rule=\"evenodd\" fill-opacity=\"0.5\"/>\n<defs>\n  <clipPath id=\"clip083\">\n    <rect x=\"2160\" y=\"47\" width=\"73\" height=\"1440\"/>\n  </clipPath>\n</defs>\n<g clip-path=\"url(#clip083)\">\n<image width=\"72\" height=\"1439\" xlink:href=\"data:image/png;base64,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\nBYGCQOE/LrLuTX/wFc8AAAAASUVORK5CYII=\n\" transform=\"translate(2161, 47)\"/>\n</g>\n<path clip-path=\"url(#clip080)\" d=\"M2280.7 1468.62 Q2277.09 1468.62 2275.26 1472.18 Q2273.45 1475.72 2273.45 1482.85 Q2273.45 1489.96 2275.26 1493.53 Q2277.09 1497.07 2280.7 1497.07 Q2284.33 1497.07 2286.14 1493.53 Q2287.97 1489.96 2287.97 1482.85 Q2287.97 1475.72 2286.14 1472.18 Q2284.33 1468.62 2280.7 1468.62 M2280.7 1464.91 Q2286.51 1464.91 2289.57 1469.52 Q2292.64 1474.1 2292.64 1482.85 Q2292.64 1491.58 2289.57 1496.19 Q2286.51 1500.77 2280.7 1500.77 Q2274.89 1500.77 2271.81 1496.19 Q2268.76 1491.58 2268.76 1482.85 Q2268.76 1474.1 2271.81 1469.52 Q2274.89 1464.91 2280.7 1464.91 Z\" fill=\"#000000\" fill-rule=\"evenodd\" fill-opacity=\"1\" /><path clip-path=\"url(#clip080)\" d=\"M2280.7 1324.7 Q2277.09 1324.7 2275.26 1328.26 Q2273.45 1331.8 2273.45 1338.93 Q2273.45 1346.04 2275.26 1349.6 Q2277.09 1353.15 2280.7 1353.15 Q2284.33 1353.15 2286.14 1349.6 Q2287.97 1346.04 2287.97 1338.93 Q2287.97 1331.8 2286.14 1328.26 Q2284.33 1324.7 2280.7 1324.7 M2280.7 1320.99 Q2286.51 1320.99 2289.57 1325.6 Q2292.64 1330.18 2292.64 1338.93 Q2292.64 1347.66 2289.57 1352.27 Q2286.51 1356.85 2280.7 1356.85 Q2274.89 1356.85 2271.81 1352.27 Q2268.76 1347.66 2268.76 1338.93 Q2268.76 1330.18 2271.81 1325.6 Q2274.89 1320.99 2280.7 1320.99 Z\" fill=\"#000000\" fill-rule=\"evenodd\" fill-opacity=\"1\" /><path clip-path=\"url(#clip080)\" d=\"M2300.86 1350.3 L2305.75 1350.3 L2305.75 1356.18 L2300.86 1356.18 L2300.86 1350.3 Z\" fill=\"#000000\" fill-rule=\"evenodd\" fill-opacity=\"1\" /><path clip-path=\"url(#clip080)\" d=\"M2316.74 1352.24 L2324.38 1352.24 L2324.38 1325.88 L2316.07 1327.54 L2316.07 1323.29 L2324.33 1321.62 L2329.01 1321.62 L2329.01 1352.24 L2336.65 1352.24 L2336.65 1356.18 L2316.74 1356.18 L2316.74 1352.24 Z\" fill=\"#000000\" fill-rule=\"evenodd\" fill-opacity=\"1\" /><path clip-path=\"url(#clip080)\" d=\"M2280.7 1180.78 Q2277.09 1180.78 2275.26 1184.34 Q2273.45 1187.88 2273.45 1195.01 Q2273.45 1202.12 2275.26 1205.68 Q2277.09 1209.23 2280.7 1209.23 Q2284.33 1209.23 2286.14 1205.68 Q2287.97 1202.12 2287.97 1195.01 Q2287.97 1187.88 2286.14 1184.34 Q2284.33 1180.78 2280.7 1180.78 M2280.7 1177.07 Q2286.51 1177.07 2289.57 1181.68 Q2292.64 1186.26 2292.64 1195.01 Q2292.64 1203.74 2289.57 1208.35 Q2286.51 1212.93 2280.7 1212.93 Q2274.89 1212.93 2271.81 1208.35 Q2268.76 1203.74 2268.76 1195.01 Q2268.76 1186.26 2271.81 1181.68 Q2274.89 1177.07 2280.7 1177.07 Z\" fill=\"#000000\" fill-rule=\"evenodd\" fill-opacity=\"1\" /><path clip-path=\"url(#clip080)\" d=\"M2300.86 1206.38 L2305.75 1206.38 L2305.75 1212.26 L2300.86 1212.26 L2300.86 1206.38 Z\" fill=\"#000000\" fill-rule=\"evenodd\" fill-opacity=\"1\" /><path clip-path=\"url(#clip080)\" d=\"M2319.96 1208.32 L2336.28 1208.32 L2336.28 1212.26 L2314.33 1212.26 L2314.33 1208.32 Q2317 1205.57 2321.58 1200.94 Q2326.19 1196.29 2327.37 1194.94 Q2329.61 1192.42 2330.49 1190.68 Q2331.39 1188.93 2331.39 1187.24 Q2331.39 1184.48 2329.45 1182.74 Q2327.53 1181.01 2324.43 1181.01 Q2322.23 1181.01 2319.77 1181.77 Q2317.34 1182.54 2314.57 1184.09 L2314.57 1179.36 Q2317.39 1178.23 2319.84 1177.65 Q2322.3 1177.07 2324.33 1177.07 Q2329.7 1177.07 2332.9 1179.76 Q2336.09 1182.44 2336.09 1186.93 Q2336.09 1189.06 2335.28 1190.99 Q2334.5 1192.88 2332.39 1195.48 Q2331.81 1196.15 2328.71 1199.36 Q2325.61 1202.56 2319.96 1208.32 Z\" fill=\"#000000\" fill-rule=\"evenodd\" fill-opacity=\"1\" /><path clip-path=\"url(#clip080)\" d=\"M2280.7 1036.86 Q2277.09 1036.86 2275.26 1040.42 Q2273.45 1043.96 2273.45 1051.09 Q2273.45 1058.2 2275.26 1061.76 Q2277.09 1065.31 2280.7 1065.31 Q2284.33 1065.31 2286.14 1061.76 Q2287.97 1058.2 2287.97 1051.09 Q2287.97 1043.96 2286.14 1040.42 Q2284.33 1036.86 2280.7 1036.86 M2280.7 1033.15 Q2286.51 1033.15 2289.57 1037.76 Q2292.64 1042.34 2292.64 1051.09 Q2292.64 1059.82 2289.57 1064.43 Q2286.51 1069.01 2280.7 1069.01 Q2274.89 1069.01 2271.81 1064.43 Q2268.76 1059.82 2268.76 1051.09 Q2268.76 1042.34 2271.81 1037.76 Q2274.89 1033.15 2280.7 1033.15 Z\" fill=\"#000000\" fill-rule=\"evenodd\" fill-opacity=\"1\" /><path clip-path=\"url(#clip080)\" d=\"M2300.86 1062.46 L2305.75 1062.46 L2305.75 1068.34 L2300.86 1068.34 L2300.86 1062.46 Z\" fill=\"#000000\" fill-rule=\"evenodd\" fill-opacity=\"1\" /><path clip-path=\"url(#clip080)\" d=\"M2330.1 1049.7 Q2333.45 1050.42 2335.33 1052.69 Q2337.23 1054.96 2337.23 1058.29 Q2337.23 1063.41 2333.71 1066.21 Q2330.19 1069.01 2323.71 1069.01 Q2321.53 1069.01 2319.22 1068.57 Q2316.93 1068.15 2314.47 1067.3 L2314.47 1062.78 Q2316.42 1063.92 2318.73 1064.5 Q2321.05 1065.07 2323.57 1065.07 Q2327.97 1065.07 2330.26 1063.34 Q2332.58 1061.6 2332.58 1058.29 Q2332.58 1055.24 2330.42 1053.52 Q2328.29 1051.79 2324.47 1051.79 L2320.45 1051.79 L2320.45 1047.94 L2324.66 1047.94 Q2328.11 1047.94 2329.94 1046.58 Q2331.76 1045.19 2331.76 1042.6 Q2331.76 1039.94 2329.87 1038.52 Q2327.99 1037.09 2324.47 1037.09 Q2322.55 1037.09 2320.35 1037.5 Q2318.15 1037.92 2315.51 1038.8 L2315.51 1034.63 Q2318.18 1033.89 2320.49 1033.52 Q2322.83 1033.15 2324.89 1033.15 Q2330.21 1033.15 2333.32 1035.58 Q2336.42 1037.99 2336.42 1042.11 Q2336.42 1044.98 2334.77 1046.97 Q2333.13 1048.94 2330.1 1049.7 Z\" fill=\"#000000\" fill-rule=\"evenodd\" fill-opacity=\"1\" /><path clip-path=\"url(#clip080)\" d=\"M2280.7 892.936 Q2277.09 892.936 2275.26 896.501 Q2273.45 900.043 2273.45 907.172 Q2273.45 914.279 2275.26 917.844 Q2277.09 921.385 2280.7 921.385 Q2284.33 921.385 2286.14 917.844 Q2287.97 914.279 2287.97 907.172 Q2287.97 900.043 2286.14 896.501 Q2284.33 892.936 2280.7 892.936 M2280.7 889.233 Q2286.51 889.233 2289.57 893.839 Q2292.64 898.422 2292.64 907.172 Q2292.64 915.899 2289.57 920.506 Q2286.51 925.089 2280.7 925.089 Q2274.89 925.089 2271.81 920.506 Q2268.76 915.899 2268.76 907.172 Q2268.76 898.422 2271.81 893.839 Q2274.89 889.233 2280.7 889.233 Z\" fill=\"#000000\" fill-rule=\"evenodd\" fill-opacity=\"1\" /><path clip-path=\"url(#clip080)\" d=\"M2300.86 918.538 L2305.75 918.538 L2305.75 924.418 L2300.86 924.418 L2300.86 918.538 Z\" fill=\"#000000\" fill-rule=\"evenodd\" fill-opacity=\"1\" /><path clip-path=\"url(#clip080)\" d=\"M2328.78 893.932 L2316.97 912.381 L2328.78 912.381 L2328.78 893.932 M2327.55 889.858 L2333.43 889.858 L2333.43 912.381 L2338.36 912.381 L2338.36 916.269 L2333.43 916.269 L2333.43 924.418 L2328.78 924.418 L2328.78 916.269 L2313.18 916.269 L2313.18 911.756 L2327.55 889.858 Z\" fill=\"#000000\" fill-rule=\"evenodd\" fill-opacity=\"1\" /><path clip-path=\"url(#clip080)\" d=\"M2280.7 749.016 Q2277.09 749.016 2275.26 752.581 Q2273.45 756.122 2273.45 763.252 Q2273.45 770.358 2275.26 773.923 Q2277.09 777.465 2280.7 777.465 Q2284.33 777.465 2286.14 773.923 Q2287.97 770.358 2287.97 763.252 Q2287.97 756.122 2286.14 752.581 Q2284.33 749.016 2280.7 749.016 M2280.7 745.312 Q2286.51 745.312 2289.57 749.919 Q2292.64 754.502 2292.64 763.252 Q2292.64 771.979 2289.57 776.585 Q2286.51 781.168 2280.7 781.168 Q2274.89 781.168 2271.81 776.585 Q2268.76 771.979 2268.76 763.252 Q2268.76 754.502 2271.81 749.919 Q2274.89 745.312 2280.7 745.312 Z\" fill=\"#000000\" fill-rule=\"evenodd\" fill-opacity=\"1\" /><path clip-path=\"url(#clip080)\" d=\"M2300.86 774.618 L2305.75 774.618 L2305.75 780.497 L2300.86 780.497 L2300.86 774.618 Z\" fill=\"#000000\" fill-rule=\"evenodd\" fill-opacity=\"1\" /><path clip-path=\"url(#clip080)\" d=\"M2315.98 745.937 L2334.33 745.937 L2334.33 749.872 L2320.26 749.872 L2320.26 758.345 Q2321.28 757.997 2322.3 757.835 Q2323.32 757.65 2324.33 757.65 Q2330.12 757.65 2333.5 760.821 Q2336.88 763.993 2336.88 769.409 Q2336.88 774.988 2333.41 778.09 Q2329.94 781.168 2323.62 781.168 Q2321.44 781.168 2319.17 780.798 Q2316.93 780.428 2314.52 779.687 L2314.52 774.988 Q2316.6 776.122 2318.83 776.678 Q2321.05 777.233 2323.52 777.233 Q2327.53 777.233 2329.87 775.127 Q2332.2 773.02 2332.2 769.409 Q2332.2 765.798 2329.87 763.692 Q2327.53 761.585 2323.52 761.585 Q2321.65 761.585 2319.77 762.002 Q2317.92 762.419 2315.98 763.298 L2315.98 745.937 Z\" fill=\"#000000\" fill-rule=\"evenodd\" fill-opacity=\"1\" /><path clip-path=\"url(#clip080)\" d=\"M2280.7 605.095 Q2277.09 605.095 2275.26 608.66 Q2273.45 612.202 2273.45 619.332 Q2273.45 626.438 2275.26 630.003 Q2277.09 633.544 2280.7 633.544 Q2284.33 633.544 2286.14 630.003 Q2287.97 626.438 2287.97 619.332 Q2287.97 612.202 2286.14 608.66 Q2284.33 605.095 2280.7 605.095 M2280.7 601.392 Q2286.51 601.392 2289.57 605.998 Q2292.64 610.582 2292.64 619.332 Q2292.64 628.058 2289.57 632.665 Q2286.51 637.248 2280.7 637.248 Q2274.89 637.248 2271.81 632.665 Q2268.76 628.058 2268.76 619.332 Q2268.76 610.582 2271.81 605.998 Q2274.89 601.392 2280.7 601.392 Z\" fill=\"#000000\" fill-rule=\"evenodd\" fill-opacity=\"1\" /><path clip-path=\"url(#clip080)\" d=\"M2300.86 630.697 L2305.75 630.697 L2305.75 636.577 L2300.86 636.577 L2300.86 630.697 Z\" fill=\"#000000\" fill-rule=\"evenodd\" fill-opacity=\"1\" /><path clip-path=\"url(#clip080)\" d=\"M2326.51 617.433 Q2323.36 617.433 2321.51 619.586 Q2319.68 621.739 2319.68 625.489 Q2319.68 629.216 2321.51 631.392 Q2323.36 633.544 2326.51 633.544 Q2329.66 633.544 2331.49 631.392 Q2333.34 629.216 2333.34 625.489 Q2333.34 621.739 2331.49 619.586 Q2329.66 617.433 2326.51 617.433 M2335.79 602.781 L2335.79 607.04 Q2334.03 606.207 2332.23 605.767 Q2330.45 605.327 2328.69 605.327 Q2324.06 605.327 2321.6 608.452 Q2319.17 611.577 2318.83 617.896 Q2320.19 615.882 2322.25 614.818 Q2324.31 613.73 2326.79 613.73 Q2332 613.73 2335.01 616.901 Q2338.04 620.049 2338.04 625.489 Q2338.04 630.813 2334.89 634.031 Q2331.74 637.248 2326.51 637.248 Q2320.51 637.248 2317.34 632.665 Q2314.17 628.058 2314.17 619.332 Q2314.17 611.137 2318.06 606.276 Q2321.95 601.392 2328.5 601.392 Q2330.26 601.392 2332.04 601.739 Q2333.85 602.086 2335.79 602.781 Z\" fill=\"#000000\" fill-rule=\"evenodd\" fill-opacity=\"1\" /><path clip-path=\"url(#clip080)\" d=\"M2280.7 461.175 Q2277.09 461.175 2275.26 464.74 Q2273.45 468.282 2273.45 475.411 Q2273.45 482.518 2275.26 486.082 Q2277.09 489.624 2280.7 489.624 Q2284.33 489.624 2286.14 486.082 Q2287.97 482.518 2287.97 475.411 Q2287.97 468.282 2286.14 464.74 Q2284.33 461.175 2280.7 461.175 M2280.7 457.471 Q2286.51 457.471 2289.57 462.078 Q2292.64 466.661 2292.64 475.411 Q2292.64 484.138 2289.57 488.744 Q2286.51 493.328 2280.7 493.328 Q2274.89 493.328 2271.81 488.744 Q2268.76 484.138 2268.76 475.411 Q2268.76 466.661 2271.81 462.078 Q2274.89 457.471 2280.7 457.471 Z\" fill=\"#000000\" fill-rule=\"evenodd\" fill-opacity=\"1\" /><path clip-path=\"url(#clip080)\" d=\"M2300.86 486.777 L2305.75 486.777 L2305.75 492.656 L2300.86 492.656 L2300.86 486.777 Z\" fill=\"#000000\" fill-rule=\"evenodd\" fill-opacity=\"1\" /><path clip-path=\"url(#clip080)\" d=\"M2314.75 458.096 L2336.97 458.096 L2336.97 460.087 L2324.43 492.656 L2319.54 492.656 L2331.35 462.032 L2314.75 462.032 L2314.75 458.096 Z\" fill=\"#000000\" fill-rule=\"evenodd\" fill-opacity=\"1\" /><path clip-path=\"url(#clip080)\" d=\"M2280.7 317.255 Q2277.09 317.255 2275.26 320.82 Q2273.45 324.361 2273.45 331.491 Q2273.45 338.597 2275.26 342.162 Q2277.09 345.704 2280.7 345.704 Q2284.33 345.704 2286.14 342.162 Q2287.97 338.597 2287.97 331.491 Q2287.97 324.361 2286.14 320.82 Q2284.33 317.255 2280.7 317.255 M2280.7 313.551 Q2286.51 313.551 2289.57 318.158 Q2292.64 322.741 2292.64 331.491 Q2292.64 340.218 2289.57 344.824 Q2286.51 349.407 2280.7 349.407 Q2274.89 349.407 2271.81 344.824 Q2268.76 340.218 2268.76 331.491 Q2268.76 322.741 2271.81 318.158 Q2274.89 313.551 2280.7 313.551 Z\" fill=\"#000000\" fill-rule=\"evenodd\" fill-opacity=\"1\" /><path clip-path=\"url(#clip080)\" d=\"M2300.86 342.856 L2305.75 342.856 L2305.75 348.736 L2300.86 348.736 L2300.86 342.856 Z\" fill=\"#000000\" fill-rule=\"evenodd\" fill-opacity=\"1\" /><path clip-path=\"url(#clip080)\" d=\"M2325.93 332.324 Q2322.6 332.324 2320.68 334.106 Q2318.78 335.889 2318.78 339.014 Q2318.78 342.139 2320.68 343.921 Q2322.6 345.704 2325.93 345.704 Q2329.26 345.704 2331.19 343.921 Q2333.11 342.116 2333.11 339.014 Q2333.11 335.889 2331.19 334.106 Q2329.29 332.324 2325.93 332.324 M2321.26 330.333 Q2318.25 329.593 2316.56 327.532 Q2314.89 325.472 2314.89 322.509 Q2314.89 318.366 2317.83 315.958 Q2320.79 313.551 2325.93 313.551 Q2331.09 313.551 2334.03 315.958 Q2336.97 318.366 2336.97 322.509 Q2336.97 325.472 2335.28 327.532 Q2333.62 329.593 2330.63 330.333 Q2334.01 331.12 2335.89 333.412 Q2337.78 335.704 2337.78 339.014 Q2337.78 344.037 2334.7 346.722 Q2331.65 349.407 2325.93 349.407 Q2320.21 349.407 2317.14 346.722 Q2314.08 344.037 2314.08 339.014 Q2314.08 335.704 2315.98 333.412 Q2317.88 331.12 2321.26 330.333 M2319.54 322.949 Q2319.54 325.634 2321.21 327.139 Q2322.9 328.644 2325.93 328.644 Q2328.94 328.644 2330.63 327.139 Q2332.34 325.634 2332.34 322.949 Q2332.34 320.264 2330.63 318.759 Q2328.94 317.255 2325.93 317.255 Q2322.9 317.255 2321.21 318.759 Q2319.54 320.264 2319.54 322.949 Z\" fill=\"#000000\" fill-rule=\"evenodd\" fill-opacity=\"1\" /><path clip-path=\"url(#clip080)\" d=\"M2280.7 173.334 Q2277.09 173.334 2275.26 176.899 Q2273.45 180.441 2273.45 187.57 Q2273.45 194.677 2275.26 198.242 Q2277.09 201.783 2280.7 201.783 Q2284.33 201.783 2286.14 198.242 Q2287.97 194.677 2287.97 187.57 Q2287.97 180.441 2286.14 176.899 Q2284.33 173.334 2280.7 173.334 M2280.7 169.631 Q2286.51 169.631 2289.57 174.237 Q2292.64 178.82 2292.64 187.57 Q2292.64 196.297 2289.57 200.904 Q2286.51 205.487 2280.7 205.487 Q2274.89 205.487 2271.81 200.904 Q2268.76 196.297 2268.76 187.57 Q2268.76 178.82 2271.81 174.237 Q2274.89 169.631 2280.7 169.631 Z\" fill=\"#000000\" fill-rule=\"evenodd\" fill-opacity=\"1\" /><path clip-path=\"url(#clip080)\" d=\"M2300.86 198.936 L2305.75 198.936 L2305.75 204.816 L2300.86 204.816 L2300.86 198.936 Z\" fill=\"#000000\" fill-rule=\"evenodd\" fill-opacity=\"1\" /><path clip-path=\"url(#clip080)\" d=\"M2316.07 204.098 L2316.07 199.839 Q2317.83 200.672 2319.64 201.112 Q2321.44 201.552 2323.18 201.552 Q2327.81 201.552 2330.24 198.45 Q2332.69 195.325 2333.04 188.982 Q2331.7 190.973 2329.64 192.038 Q2327.58 193.103 2325.08 193.103 Q2319.89 193.103 2316.86 189.978 Q2313.85 186.83 2313.85 181.39 Q2313.85 176.066 2317 172.848 Q2320.14 169.631 2325.38 169.631 Q2331.37 169.631 2334.52 174.237 Q2337.69 178.82 2337.69 187.57 Q2337.69 195.742 2333.8 200.626 Q2329.94 205.487 2323.39 205.487 Q2321.63 205.487 2319.82 205.14 Q2318.01 204.793 2316.07 204.098 M2325.38 189.445 Q2328.52 189.445 2330.35 187.293 Q2332.2 185.14 2332.2 181.39 Q2332.2 177.663 2330.35 175.51 Q2328.52 173.334 2325.38 173.334 Q2322.23 173.334 2320.38 175.51 Q2318.55 177.663 2318.55 181.39 Q2318.55 185.14 2320.38 187.293 Q2322.23 189.445 2325.38 189.445 Z\" fill=\"#000000\" fill-rule=\"evenodd\" fill-opacity=\"1\" /><path clip-path=\"url(#clip080)\" d=\"M2269.43 56.9601 L2277.07 56.9601 L2277.07 30.5945 L2268.76 32.2612 L2268.76 28.002 L2277.02 26.3353 L2281.7 26.3353 L2281.7 56.9601 L2289.33 56.9601 L2289.33 60.8953 L2269.43 60.8953 L2269.43 56.9601 Z\" fill=\"#000000\" fill-rule=\"evenodd\" fill-opacity=\"1\" /><path clip-path=\"url(#clip080)\" d=\"M2298.78 55.0157 L2303.66 55.0157 L2303.66 60.8953 L2298.78 60.8953 L2298.78 55.0157 Z\" fill=\"#000000\" fill-rule=\"evenodd\" fill-opacity=\"1\" /><path clip-path=\"url(#clip080)\" d=\"M2323.85 29.414 Q2320.24 29.414 2318.41 32.9788 Q2316.6 36.5204 2316.6 43.65 Q2316.6 50.7565 2318.41 54.3213 Q2320.24 57.8629 2323.85 57.8629 Q2327.48 57.8629 2329.29 54.3213 Q2331.12 50.7565 2331.12 43.65 Q2331.12 36.5204 2329.29 32.9788 Q2327.48 29.414 2323.85 29.414 M2323.85 25.7103 Q2329.66 25.7103 2332.71 30.3168 Q2335.79 34.9001 2335.79 43.65 Q2335.79 52.3768 2332.71 56.9833 Q2329.66 61.5666 2323.85 61.5666 Q2318.04 61.5666 2314.96 56.9833 Q2311.9 52.3768 2311.9 43.65 Q2311.9 34.9001 2314.96 30.3168 Q2318.04 25.7103 2323.85 25.7103 Z\" fill=\"#000000\" fill-rule=\"evenodd\" fill-opacity=\"1\" /><polyline clip-path=\"url(#clip080)\" style=\"stroke:#000000; stroke-linecap:round; stroke-linejoin:round; stroke-width:4; stroke-opacity:1; fill:none\" points=\"\n  2232.76,1486.45 2232.76,1486.45 2256.76,1486.45 2232.76,1486.45 2232.76,1342.53 2256.76,1342.53 2232.76,1342.53 2232.76,1198.61 2256.76,1198.61 2232.76,1198.61 \n  2232.76,1054.69 2256.76,1054.69 2232.76,1054.69 2232.76,910.766 2256.76,910.766 2232.76,910.766 2232.76,766.846 2256.76,766.846 2232.76,766.846 2232.76,622.926 \n  2256.76,622.926 2232.76,622.926 2232.76,479.005 2256.76,479.005 2232.76,479.005 2232.76,335.085 2256.76,335.085 2232.76,335.085 2232.76,191.164 2256.76,191.164 \n  2232.76,191.164 2232.76,47.2441 2256.76,47.2441 2232.76,47.2441 \n  \"/>\n<path clip-path=\"url(#clip080)\" d=\"\nM208.987 1438.47 L418.654 1438.47 L418.654 1334.79 L208.987 1334.79  Z\n  \" fill=\"#ffffff\" fill-rule=\"evenodd\" fill-opacity=\"1\"/>\n<polyline clip-path=\"url(#clip080)\" style=\"stroke:#000000; stroke-linecap:round; stroke-linejoin:round; stroke-width:4; stroke-opacity:1; fill:none\" points=\"\n  208.987,1438.47 418.654,1438.47 418.654,1334.79 208.987,1334.79 208.987,1438.47 \n  \"/>\n<circle clip-path=\"url(#clip080)\" cx=\"291\" cy=\"1386.63\" r=\"23.04\" fill=\"#009af9\" fill-rule=\"evenodd\" fill-opacity=\"1\" stroke=\"#000000\" stroke-opacity=\"1\" stroke-width=\"5.12\"/>\n<path clip-path=\"url(#clip080)\" d=\"M397.665 1377.99 L388.29 1390.6 L398.151 1403.91 L393.128 1403.91 L385.581 1393.73 L378.035 1403.91 L373.012 1403.91 L383.081 1390.35 L373.868 1377.99 L378.891 1377.99 L385.766 1387.22 L392.641 1377.99 L397.665 1377.99 Z\" fill=\"#000000\" fill-rule=\"evenodd\" fill-opacity=\"1\" /></svg>\n"
               },
               "type": "node"
              }
             ],
             "instanceArgs": {
              "namespace": "html",
              "tag": "div"
             },
             "nodeType": "DOM",
             "props": {
              "className": "interact-flex-row interact-widget"
             },
             "type": "node"
            }
           }
          },
          "systemjs_options": null
         },
         "nodeType": "Scope",
         "props": {},
         "type": "node"
        }
       ],
       "instanceArgs": {
        "namespace": "html",
        "tag": "div"
       },
       "nodeType": "DOM",
       "props": {},
       "type": "node"
      },
      "text/html": [
       "<div\n",
       "    class=\"webio-mountpoint\"\n",
       "    data-webio-mountpoint=\"12637170741333715073\"\n",
       ">\n",
       "    <script>\n",
       "    (function(){\n",
       "    // Some integrations (namely, IJulia/Jupyter) use an alternate render pathway than\n",
       "    // just putting the html on the page. If WebIO isn't defined, then it's pretty likely\n",
       "    // that we're in one of those situations and the integration just isn't installed\n",
       "    // correctly.\n",
       "    if (typeof window.WebIO === \"undefined\") {\n",
       "        document\n",
       "            .querySelector('[data-webio-mountpoint=\"12637170741333715073\"]')\n",
       "            .innerHTML = (\n",
       "                '<div style=\"padding: 1em; background-color: #f8d6da; border: 1px solid #f5c6cb; font-weight: bold;\">' +\n",
       "                '<p><strong>WebIO not detected.</strong></p>' +\n",
       "                '<p>Please read ' +\n",
       "                '<a href=\"https://juliagizmos.github.io/WebIO.jl/latest/troubleshooting/not-detected/\" target=\"_blank\">the troubleshooting guide</a> ' +\n",
       "                'for more information on how to resolve this issue.</p>' +\n",
       "                '<p><a href=\"https://juliagizmos.github.io/WebIO.jl/latest/troubleshooting/not-detected/\" target=\"_blank\">https://juliagizmos.github.io/WebIO.jl/latest/troubleshooting/not-detected/</a></p>' +\n",
       "                '</div>'\n",
       "            );\n",
       "        return;\n",
       "    }\n",
       "    WebIO.mount(\n",
       "        document.querySelector('[data-webio-mountpoint=\"12637170741333715073\"]'),\n",
       "        {\"props\":{},\"nodeType\":\"DOM\",\"type\":\"node\",\"instanceArgs\":{\"namespace\":\"html\",\"tag\":\"div\"},\"children\":[{\"props\":{\"className\":\"field interact-widget\"},\"nodeType\":\"DOM\",\"type\":\"node\",\"instanceArgs\":{\"namespace\":\"html\",\"tag\":\"div\"},\"children\":[{\"props\":{},\"nodeType\":\"Scope\",\"type\":\"node\",\"instanceArgs\":{\"imports\":{\"data\":[{\"name\":\"knockout\",\"type\":\"js\",\"url\":\"\\/assetserver\\/7f6b498a95a9ac6b63c8a1071f981fdcb2e51812-knockout.js\"},{\"name\":\"knockout_punches\",\"type\":\"js\",\"url\":\"\\/assetserver\\/5f04fb6c5d5058eabc17f9b5db30d55e40586407-knockout_punches.js\"},{\"name\":null,\"type\":\"js\",\"url\":\"\\/assetserver\\/360a916de0e68fbc737b0c42b281e4a3865e0e0d-all.js\"},{\"name\":null,\"type\":\"css\",\"url\":\"\\/assetserver\\/e0177d064698cd1c6cb5700b95e35e3ddec1f896-style.css\"},{\"name\":null,\"type\":\"css\",\"url\":\"\\/assetserver\\/b73710587e210485b07cb381d6adb38aa7ca3e34-bulma_confined.min.css\"}],\"type\":\"async_block\"},\"id\":\"17188164110446871906\",\"handlers\":{\"changes\":[\"(function (val){return (val!=this.model[\\\"changes\\\"]()) ? (this.valueFromJulia[\\\"changes\\\"]=true, this.model[\\\"changes\\\"](val)) : undefined})\"],\"index\":[\"(function (val){return (val!=this.model[\\\"index\\\"]()) ? (this.valueFromJulia[\\\"index\\\"]=true, this.model[\\\"index\\\"](val)) : undefined})\"]},\"systemjs_options\":null,\"mount_callbacks\":[\"function () {\\n    var handler = (function (ko, koPunches) {\\n    ko.punches.enableAll();\\n    ko.bindingHandlers.numericValue = {\\n        init: function(element, valueAccessor, allBindings, data, context) {\\n            var stringified = ko.observable(ko.unwrap(valueAccessor()));\\n            stringified.subscribe(function(value) {\\n                var val = parseFloat(value);\\n                if (!isNaN(val)) {\\n                    valueAccessor()(val);\\n                }\\n            });\\n            valueAccessor().subscribe(function(value) {\\n                var str = JSON.stringify(value);\\n                if ((str == \\\"0\\\") && ([\\\"-0\\\", \\\"-0.\\\"].indexOf(stringified()) >= 0))\\n                     return;\\n                 if ([\\\"null\\\", \\\"\\\"].indexOf(str) >= 0)\\n                     return;\\n                stringified(str);\\n            });\\n            ko.applyBindingsToNode(\\n                element,\\n                {\\n                    value: stringified,\\n                    valueUpdate: allBindings.get('valueUpdate'),\\n                },\\n                context,\\n            );\\n        }\\n    };\\n    var json_data = {\\\"formatted_vals\\\":[\\\"-1.9\\\",\\\"-1.8\\\",\\\"-1.7\\\",\\\"-1.6\\\",\\\"-1.5\\\",\\\"-1.4\\\",\\\"-1.3\\\",\\\"-1.2\\\",\\\"-1.1\\\",\\\"-1.0\\\",\\\"-0.9\\\",\\\"-0.8\\\",\\\"-0.7\\\",\\\"-0.6\\\",\\\"-0.5\\\",\\\"-0.4\\\",\\\"-0.3\\\",\\\"-0.2\\\",\\\"-0.1\\\",\\\"0.0\\\",\\\"0.1\\\",\\\"0.2\\\",\\\"0.3\\\",\\\"0.4\\\",\\\"0.5\\\",\\\"0.6\\\",\\\"0.7\\\",\\\"0.8\\\",\\\"0.9\\\",\\\"1.0\\\",\\\"1.1\\\",\\\"1.2\\\",\\\"1.3\\\",\\\"1.4\\\",\\\"1.5\\\",\\\"1.6\\\",\\\"1.7\\\",\\\"1.8\\\",\\\"1.9\\\",\\\"2.0\\\"],\\\"changes\\\":WebIO.getval({\\\"name\\\":\\\"changes\\\",\\\"scope\\\":\\\"17188164110446871906\\\",\\\"id\\\":\\\"94263973988477221\\\",\\\"type\\\":\\\"observable\\\"}),\\\"index\\\":WebIO.getval({\\\"name\\\":\\\"index\\\",\\\"scope\\\":\\\"17188164110446871906\\\",\\\"id\\\":\\\"4458119895306093670\\\",\\\"type\\\":\\\"observable\\\"})};\\n    var self = this;\\n    function AppViewModel() {\\n        for (var key in json_data) {\\n            var el = json_data[key];\\n            this[key] = Array.isArray(el) ? ko.observableArray(el) : ko.observable(el);\\n        }\\n        \\n        [this[\\\"formatted_val\\\"]=ko.computed(    function(){\\n        return this.formatted_vals()[parseInt(this.index())-(1)];\\n    }\\n,this)]\\n        [this[\\\"changes\\\"].subscribe((function (val){!(this.valueFromJulia[\\\"changes\\\"]) ? (WebIO.setval({\\\"name\\\":\\\"changes\\\",\\\"scope\\\":\\\"17188164110446871906\\\",\\\"id\\\":\\\"94263973988477221\\\",\\\"type\\\":\\\"observable\\\"},val)) : undefined; return this.valueFromJulia[\\\"changes\\\"]=false}),self),this[\\\"index\\\"].subscribe((function (val){!(this.valueFromJulia[\\\"index\\\"]) ? (WebIO.setval({\\\"name\\\":\\\"index\\\",\\\"scope\\\":\\\"17188164110446871906\\\",\\\"id\\\":\\\"4458119895306093670\\\",\\\"type\\\":\\\"observable\\\"},val)) : undefined; return this.valueFromJulia[\\\"index\\\"]=false}),self)]\\n        \\n    }\\n    self.model = new AppViewModel();\\n    self.valueFromJulia = {};\\n    for (var key in json_data) {\\n        self.valueFromJulia[key] = false;\\n    }\\n    ko.applyBindings(self.model, self.dom);\\n}\\n);\\n    (WebIO.importBlock({\\\"data\\\":[{\\\"name\\\":\\\"knockout\\\",\\\"type\\\":\\\"js\\\",\\\"url\\\":\\\"\\/assetserver\\/7f6b498a95a9ac6b63c8a1071f981fdcb2e51812-knockout.js\\\"},{\\\"name\\\":\\\"knockout_punches\\\",\\\"type\\\":\\\"js\\\",\\\"url\\\":\\\"\\/assetserver\\/5f04fb6c5d5058eabc17f9b5db30d55e40586407-knockout_punches.js\\\"}],\\\"type\\\":\\\"async_block\\\"})).then((imports) => handler.apply(this, imports));\\n}\\n\"],\"observables\":{\"changes\":{\"sync\":false,\"id\":\"94263973988477221\",\"value\":0},\"index\":{\"sync\":true,\"id\":\"4458119895306093670\",\"value\":20}}},\"children\":[{\"props\":{\"className\":\"interact-flex-row interact-widget\"},\"nodeType\":\"DOM\",\"type\":\"node\",\"instanceArgs\":{\"namespace\":\"html\",\"tag\":\"div\"},\"children\":[{\"props\":{\"className\":\"interact-flex-row-left\"},\"nodeType\":\"DOM\",\"type\":\"node\",\"instanceArgs\":{\"namespace\":\"html\",\"tag\":\"div\"},\"children\":[{\"props\":{\"className\":\"interact \",\"style\":{\"padding\":\"5px 10px 0px 10px\"}},\"nodeType\":\"DOM\",\"type\":\"node\",\"instanceArgs\":{\"namespace\":\"html\",\"tag\":\"label\"},\"children\":[\"x\"]}]},{\"props\":{\"className\":\"interact-flex-row-center\"},\"nodeType\":\"DOM\",\"type\":\"node\",\"instanceArgs\":{\"namespace\":\"html\",\"tag\":\"div\"},\"children\":[{\"props\":{\"max\":40,\"min\":1,\"attributes\":{\"type\":\"range\",\"data-bind\":\"numericValue: index, valueUpdate: 'input', event: {change: function (){this.changes(this.changes()+1)}}\",\"orient\":\"horizontal\"},\"step\":1,\"className\":\"slider slider is-fullwidth\",\"style\":{}},\"nodeType\":\"DOM\",\"type\":\"node\",\"instanceArgs\":{\"namespace\":\"html\",\"tag\":\"input\"},\"children\":[]}]},{\"props\":{\"className\":\"interact-flex-row-right\"},\"nodeType\":\"DOM\",\"type\":\"node\",\"instanceArgs\":{\"namespace\":\"html\",\"tag\":\"div\"},\"children\":[{\"props\":{\"attributes\":{\"data-bind\":\"text: formatted_val\"}},\"nodeType\":\"DOM\",\"type\":\"node\",\"instanceArgs\":{\"namespace\":\"html\",\"tag\":\"p\"},\"children\":[]}]}]}]}]},{\"props\":{\"className\":\"field interact-widget\"},\"nodeType\":\"DOM\",\"type\":\"node\",\"instanceArgs\":{\"namespace\":\"html\",\"tag\":\"div\"},\"children\":[{\"props\":{},\"nodeType\":\"Scope\",\"type\":\"node\",\"instanceArgs\":{\"imports\":{\"data\":[{\"name\":\"knockout\",\"type\":\"js\",\"url\":\"\\/assetserver\\/7f6b498a95a9ac6b63c8a1071f981fdcb2e51812-knockout.js\"},{\"name\":\"knockout_punches\",\"type\":\"js\",\"url\":\"\\/assetserver\\/5f04fb6c5d5058eabc17f9b5db30d55e40586407-knockout_punches.js\"},{\"name\":null,\"type\":\"js\",\"url\":\"\\/assetserver\\/360a916de0e68fbc737b0c42b281e4a3865e0e0d-all.js\"},{\"name\":null,\"type\":\"css\",\"url\":\"\\/assetserver\\/e0177d064698cd1c6cb5700b95e35e3ddec1f896-style.css\"},{\"name\":null,\"type\":\"css\",\"url\":\"\\/assetserver\\/b73710587e210485b07cb381d6adb38aa7ca3e34-bulma_confined.min.css\"}],\"type\":\"async_block\"},\"id\":\"12666140662556174491\",\"handlers\":{\"changes\":[\"(function (val){return (val!=this.model[\\\"changes\\\"]()) ? (this.valueFromJulia[\\\"changes\\\"]=true, this.model[\\\"changes\\\"](val)) : undefined})\"],\"index\":[\"(function (val){return (val!=this.model[\\\"index\\\"]()) ? (this.valueFromJulia[\\\"index\\\"]=true, this.model[\\\"index\\\"](val)) : undefined})\"]},\"systemjs_options\":null,\"mount_callbacks\":[\"function () {\\n    var handler = (function (ko, koPunches) {\\n    ko.punches.enableAll();\\n    ko.bindingHandlers.numericValue = {\\n        init: function(element, valueAccessor, allBindings, data, context) {\\n            var stringified = ko.observable(ko.unwrap(valueAccessor()));\\n            stringified.subscribe(function(value) {\\n                var val = parseFloat(value);\\n                if (!isNaN(val)) {\\n                    valueAccessor()(val);\\n                }\\n            });\\n            valueAccessor().subscribe(function(value) {\\n                var str = JSON.stringify(value);\\n                if ((str == \\\"0\\\") && ([\\\"-0\\\", \\\"-0.\\\"].indexOf(stringified()) >= 0))\\n                     return;\\n                 if ([\\\"null\\\", \\\"\\\"].indexOf(str) >= 0)\\n                     return;\\n                stringified(str);\\n            });\\n            ko.applyBindingsToNode(\\n                element,\\n                {\\n                    value: stringified,\\n                    valueUpdate: allBindings.get('valueUpdate'),\\n                },\\n                context,\\n            );\\n        }\\n    };\\n    var json_data = {\\\"formatted_vals\\\":[\\\"-1.9\\\",\\\"-1.8\\\",\\\"-1.7\\\",\\\"-1.6\\\",\\\"-1.5\\\",\\\"-1.4\\\",\\\"-1.3\\\",\\\"-1.2\\\",\\\"-1.1\\\",\\\"-1.0\\\",\\\"-0.9\\\",\\\"-0.8\\\",\\\"-0.7\\\",\\\"-0.6\\\",\\\"-0.5\\\",\\\"-0.4\\\",\\\"-0.3\\\",\\\"-0.2\\\",\\\"-0.1\\\",\\\"0.0\\\",\\\"0.1\\\",\\\"0.2\\\",\\\"0.3\\\",\\\"0.4\\\",\\\"0.5\\\",\\\"0.6\\\",\\\"0.7\\\",\\\"0.8\\\",\\\"0.9\\\",\\\"1.0\\\",\\\"1.1\\\",\\\"1.2\\\",\\\"1.3\\\",\\\"1.4\\\",\\\"1.5\\\",\\\"1.6\\\",\\\"1.7\\\",\\\"1.8\\\",\\\"1.9\\\",\\\"2.0\\\"],\\\"changes\\\":WebIO.getval({\\\"name\\\":\\\"changes\\\",\\\"scope\\\":\\\"12666140662556174491\\\",\\\"id\\\":\\\"120725102155087876\\\",\\\"type\\\":\\\"observable\\\"}),\\\"index\\\":WebIO.getval({\\\"name\\\":\\\"index\\\",\\\"scope\\\":\\\"12666140662556174491\\\",\\\"id\\\":\\\"2494877817118037105\\\",\\\"type\\\":\\\"observable\\\"})};\\n    var self = this;\\n    function AppViewModel() {\\n        for (var key in json_data) {\\n            var el = json_data[key];\\n            this[key] = Array.isArray(el) ? ko.observableArray(el) : ko.observable(el);\\n        }\\n        \\n        [this[\\\"formatted_val\\\"]=ko.computed(    function(){\\n        return this.formatted_vals()[parseInt(this.index())-(1)];\\n    }\\n,this)]\\n        [this[\\\"changes\\\"].subscribe((function (val){!(this.valueFromJulia[\\\"changes\\\"]) ? (WebIO.setval({\\\"name\\\":\\\"changes\\\",\\\"scope\\\":\\\"12666140662556174491\\\",\\\"id\\\":\\\"120725102155087876\\\",\\\"type\\\":\\\"observable\\\"},val)) : undefined; return this.valueFromJulia[\\\"changes\\\"]=false}),self),this[\\\"index\\\"].subscribe((function (val){!(this.valueFromJulia[\\\"index\\\"]) ? (WebIO.setval({\\\"name\\\":\\\"index\\\",\\\"scope\\\":\\\"12666140662556174491\\\",\\\"id\\\":\\\"2494877817118037105\\\",\\\"type\\\":\\\"observable\\\"},val)) : undefined; return this.valueFromJulia[\\\"index\\\"]=false}),self)]\\n        \\n    }\\n    self.model = new AppViewModel();\\n    self.valueFromJulia = {};\\n    for (var key in json_data) {\\n        self.valueFromJulia[key] = false;\\n    }\\n    ko.applyBindings(self.model, self.dom);\\n}\\n);\\n    (WebIO.importBlock({\\\"data\\\":[{\\\"name\\\":\\\"knockout\\\",\\\"type\\\":\\\"js\\\",\\\"url\\\":\\\"\\/assetserver\\/7f6b498a95a9ac6b63c8a1071f981fdcb2e51812-knockout.js\\\"},{\\\"name\\\":\\\"knockout_punches\\\",\\\"type\\\":\\\"js\\\",\\\"url\\\":\\\"\\/assetserver\\/5f04fb6c5d5058eabc17f9b5db30d55e40586407-knockout_punches.js\\\"}],\\\"type\\\":\\\"async_block\\\"})).then((imports) => handler.apply(this, imports));\\n}\\n\"],\"observables\":{\"changes\":{\"sync\":false,\"id\":\"120725102155087876\",\"value\":0},\"index\":{\"sync\":true,\"id\":\"2494877817118037105\",\"value\":20}}},\"children\":[{\"props\":{\"className\":\"interact-flex-row interact-widget\"},\"nodeType\":\"DOM\",\"type\":\"node\",\"instanceArgs\":{\"namespace\":\"html\",\"tag\":\"div\"},\"children\":[{\"props\":{\"className\":\"interact-flex-row-left\"},\"nodeType\":\"DOM\",\"type\":\"node\",\"instanceArgs\":{\"namespace\":\"html\",\"tag\":\"div\"},\"children\":[{\"props\":{\"className\":\"interact \",\"style\":{\"padding\":\"5px 10px 0px 10px\"}},\"nodeType\":\"DOM\",\"type\":\"node\",\"instanceArgs\":{\"namespace\":\"html\",\"tag\":\"label\"},\"children\":[\"y\"]}]},{\"props\":{\"className\":\"interact-flex-row-center\"},\"nodeType\":\"DOM\",\"type\":\"node\",\"instanceArgs\":{\"namespace\":\"html\",\"tag\":\"div\"},\"children\":[{\"props\":{\"max\":40,\"min\":1,\"attributes\":{\"type\":\"range\",\"data-bind\":\"numericValue: index, valueUpdate: 'input', event: {change: function (){this.changes(this.changes()+1)}}\",\"orient\":\"horizontal\"},\"step\":1,\"className\":\"slider slider is-fullwidth\",\"style\":{}},\"nodeType\":\"DOM\",\"type\":\"node\",\"instanceArgs\":{\"namespace\":\"html\",\"tag\":\"input\"},\"children\":[]}]},{\"props\":{\"className\":\"interact-flex-row-right\"},\"nodeType\":\"DOM\",\"type\":\"node\",\"instanceArgs\":{\"namespace\":\"html\",\"tag\":\"div\"},\"children\":[{\"props\":{\"attributes\":{\"data-bind\":\"text: formatted_val\"}},\"nodeType\":\"DOM\",\"type\":\"node\",\"instanceArgs\":{\"namespace\":\"html\",\"tag\":\"p\"},\"children\":[]}]}]}]}]},{\"props\":{\"className\":\"field interact-widget\"},\"nodeType\":\"DOM\",\"type\":\"node\",\"instanceArgs\":{\"namespace\":\"html\",\"tag\":\"div\"},\"children\":[{\"props\":{},\"nodeType\":\"Scope\",\"type\":\"node\",\"instanceArgs\":{\"imports\":{\"data\":[{\"name\":\"knockout\",\"type\":\"js\",\"url\":\"\\/assetserver\\/7f6b498a95a9ac6b63c8a1071f981fdcb2e51812-knockout.js\"},{\"name\":\"knockout_punches\",\"type\":\"js\",\"url\":\"\\/assetserver\\/5f04fb6c5d5058eabc17f9b5db30d55e40586407-knockout_punches.js\"},{\"name\":null,\"type\":\"js\",\"url\":\"\\/assetserver\\/360a916de0e68fbc737b0c42b281e4a3865e0e0d-all.js\"},{\"name\":null,\"type\":\"css\",\"url\":\"\\/assetserver\\/e0177d064698cd1c6cb5700b95e35e3ddec1f896-style.css\"},{\"name\":null,\"type\":\"css\",\"url\":\"\\/assetserver\\/b73710587e210485b07cb381d6adb38aa7ca3e34-bulma_confined.min.css\"}],\"type\":\"async_block\"},\"id\":\"7504640313202882879\",\"handlers\":{\"changes\":[\"(function (val){return (val!=this.model[\\\"changes\\\"]()) ? (this.valueFromJulia[\\\"changes\\\"]=true, this.model[\\\"changes\\\"](val)) : undefined})\"],\"index\":[\"(function (val){return (val!=this.model[\\\"index\\\"]()) ? (this.valueFromJulia[\\\"index\\\"]=true, this.model[\\\"index\\\"](val)) : undefined})\"]},\"systemjs_options\":null,\"mount_callbacks\":[\"function () {\\n    var handler = (function (ko, koPunches) {\\n    ko.punches.enableAll();\\n    ko.bindingHandlers.numericValue = {\\n        init: function(element, valueAccessor, allBindings, data, context) {\\n            var stringified = ko.observable(ko.unwrap(valueAccessor()));\\n            stringified.subscribe(function(value) {\\n                var val = parseFloat(value);\\n                if (!isNaN(val)) {\\n                    valueAccessor()(val);\\n                }\\n            });\\n            valueAccessor().subscribe(function(value) {\\n                var str = JSON.stringify(value);\\n                if ((str == \\\"0\\\") && ([\\\"-0\\\", \\\"-0.\\\"].indexOf(stringified()) >= 0))\\n                     return;\\n                 if ([\\\"null\\\", \\\"\\\"].indexOf(str) >= 0)\\n                     return;\\n                stringified(str);\\n            });\\n            ko.applyBindingsToNode(\\n                element,\\n                {\\n                    value: stringified,\\n                    valueUpdate: allBindings.get('valueUpdate'),\\n                },\\n                context,\\n            );\\n        }\\n    };\\n    var json_data = {\\\"formatted_vals\\\":[\\\"0.1\\\",\\\"0.2\\\",\\\"0.3\\\",\\\"0.4\\\",\\\"0.5\\\",\\\"0.6\\\",\\\"0.7\\\",\\\"0.8\\\",\\\"0.9\\\",\\\"1.0\\\",\\\"1.1\\\",\\\"1.2\\\",\\\"1.3\\\",\\\"1.4\\\",\\\"1.5\\\",\\\"1.6\\\",\\\"1.7\\\",\\\"1.8\\\",\\\"1.9\\\",\\\"2.0\\\"],\\\"changes\\\":WebIO.getval({\\\"name\\\":\\\"changes\\\",\\\"scope\\\":\\\"7504640313202882879\\\",\\\"id\\\":\\\"2798357880669968118\\\",\\\"type\\\":\\\"observable\\\"}),\\\"index\\\":WebIO.getval({\\\"name\\\":\\\"index\\\",\\\"scope\\\":\\\"7504640313202882879\\\",\\\"id\\\":\\\"2229754691312903081\\\",\\\"type\\\":\\\"observable\\\"})};\\n    var self = this;\\n    function AppViewModel() {\\n        for (var key in json_data) {\\n            var el = json_data[key];\\n            this[key] = Array.isArray(el) ? ko.observableArray(el) : ko.observable(el);\\n        }\\n        \\n        [this[\\\"formatted_val\\\"]=ko.computed(    function(){\\n        return this.formatted_vals()[parseInt(this.index())-(1)];\\n    }\\n,this)]\\n        [this[\\\"changes\\\"].subscribe((function (val){!(this.valueFromJulia[\\\"changes\\\"]) ? (WebIO.setval({\\\"name\\\":\\\"changes\\\",\\\"scope\\\":\\\"7504640313202882879\\\",\\\"id\\\":\\\"2798357880669968118\\\",\\\"type\\\":\\\"observable\\\"},val)) : undefined; return this.valueFromJulia[\\\"changes\\\"]=false}),self),this[\\\"index\\\"].subscribe((function (val){!(this.valueFromJulia[\\\"index\\\"]) ? (WebIO.setval({\\\"name\\\":\\\"index\\\",\\\"scope\\\":\\\"7504640313202882879\\\",\\\"id\\\":\\\"2229754691312903081\\\",\\\"type\\\":\\\"observable\\\"},val)) : undefined; return this.valueFromJulia[\\\"index\\\"]=false}),self)]\\n        \\n    }\\n    self.model = new AppViewModel();\\n    self.valueFromJulia = {};\\n    for (var key in json_data) {\\n        self.valueFromJulia[key] = false;\\n    }\\n    ko.applyBindings(self.model, self.dom);\\n}\\n);\\n    (WebIO.importBlock({\\\"data\\\":[{\\\"name\\\":\\\"knockout\\\",\\\"type\\\":\\\"js\\\",\\\"url\\\":\\\"\\/assetserver\\/7f6b498a95a9ac6b63c8a1071f981fdcb2e51812-knockout.js\\\"},{\\\"name\\\":\\\"knockout_punches\\\",\\\"type\\\":\\\"js\\\",\\\"url\\\":\\\"\\/assetserver\\/5f04fb6c5d5058eabc17f9b5db30d55e40586407-knockout_punches.js\\\"}],\\\"type\\\":\\\"async_block\\\"})).then((imports) => handler.apply(this, imports));\\n}\\n\"],\"observables\":{\"changes\":{\"sync\":false,\"id\":\"2798357880669968118\",\"value\":0},\"index\":{\"sync\":true,\"id\":\"2229754691312903081\",\"value\":10}}},\"children\":[{\"props\":{\"className\":\"interact-flex-row interact-widget\"},\"nodeType\":\"DOM\",\"type\":\"node\",\"instanceArgs\":{\"namespace\":\"html\",\"tag\":\"div\"},\"children\":[{\"props\":{\"className\":\"interact-flex-row-left\"},\"nodeType\":\"DOM\",\"type\":\"node\",\"instanceArgs\":{\"namespace\":\"html\",\"tag\":\"div\"},\"children\":[{\"props\":{\"className\":\"interact \",\"style\":{\"padding\":\"5px 10px 0px 10px\"}},\"nodeType\":\"DOM\",\"type\":\"node\",\"instanceArgs\":{\"namespace\":\"html\",\"tag\":\"label\"},\"children\":[\"z\"]}]},{\"props\":{\"className\":\"interact-flex-row-center\"},\"nodeType\":\"DOM\",\"type\":\"node\",\"instanceArgs\":{\"namespace\":\"html\",\"tag\":\"div\"},\"children\":[{\"props\":{\"max\":20,\"min\":1,\"attributes\":{\"type\":\"range\",\"data-bind\":\"numericValue: index, valueUpdate: 'input', event: {change: function (){this.changes(this.changes()+1)}}\",\"orient\":\"horizontal\"},\"step\":1,\"className\":\"slider slider is-fullwidth\",\"style\":{}},\"nodeType\":\"DOM\",\"type\":\"node\",\"instanceArgs\":{\"namespace\":\"html\",\"tag\":\"input\"},\"children\":[]}]},{\"props\":{\"className\":\"interact-flex-row-right\"},\"nodeType\":\"DOM\",\"type\":\"node\",\"instanceArgs\":{\"namespace\":\"html\",\"tag\":\"div\"},\"children\":[{\"props\":{\"attributes\":{\"data-bind\":\"text: formatted_val\"}},\"nodeType\":\"DOM\",\"type\":\"node\",\"instanceArgs\":{\"namespace\":\"html\",\"tag\":\"p\"},\"children\":[]}]}]}]}]},{\"props\":{},\"nodeType\":\"Scope\",\"type\":\"node\",\"instanceArgs\":{\"imports\":{\"data\":[],\"type\":\"async_block\"},\"id\":\"12263318014192150248\",\"handlers\":{},\"systemjs_options\":null,\"mount_callbacks\":[],\"observables\":{\"obs-node\":{\"sync\":false,\"id\":\"10114380000569929667\",\"value\":{\"props\":{\"className\":\"interact-flex-row interact-widget\"},\"nodeType\":\"DOM\",\"type\":\"node\",\"instanceArgs\":{\"namespace\":\"html\",\"tag\":\"div\"},\"children\":[{\"props\":{\"setInnerHtml\":\"<?xml version=\\\"1.0\\\" encoding=\\\"utf-8\\\"?>\\n<svg xmlns=\\\"http:\\/\\/www.w3.org\\/2000\\/svg\\\" xmlns:xlink=\\\"http:\\/\\/www.w3.org\\/1999\\/xlink\\\" width=\\\"600\\\" height=\\\"400\\\" viewBox=\\\"0 0 2400 1600\\\">\\n<defs>\\n  <clipPath id=\\\"clip040\\\">\\n    <rect x=\\\"0\\\" y=\\\"0\\\" width=\\\"2400\\\" height=\\\"1600\\\"\\/>\\n  <\\/clipPath>\\n<\\/defs>\\n<path clip-path=\\\"url(#clip040)\\\" d=\\\"\\nM0 1600 L2400 1600 L2400 0 L0 0  Z\\n  \\\" fill=\\\"#ffffff\\\" fill-rule=\\\"evenodd\\\" fill-opacity=\\\"1\\\"\\/>\\n<defs>\\n  <clipPath id=\\\"clip041\\\">\\n    <rect x=\\\"480\\\" y=\\\"0\\\" width=\\\"1681\\\" height=\\\"1600\\\"\\/>\\n  <\\/clipPath>\\n<\\/defs>\\n<defs>\\n  <clipPath id=\\\"clip042\\\">\\n    <rect x=\\\"147\\\" y=\\\"47\\\" width=\\\"1846\\\" height=\\\"1440\\\"\\/>\\n  <\\/clipPath>\\n<\\/defs>\\n<path clip-path=\\\"url(#clip042)\\\" d=\\\"\\nM786.351 984.764 L786.351 624.963 L994.082 445.062 L1353.88 548.928 L1353.88 908.729 L1146.15 1088.63 L786.351 984.764  Z\\n  \\\" fill=\\\"#ffffff\\\" fill-rule=\\\"evenodd\\\" fill-opacity=\\\"1\\\"\\/>\\n<polyline clip-path=\\\"url(#clip042)\\\" style=\\\"stroke:#000000; stroke-linecap:round; stroke-linejoin:round; stroke-width:2; stroke-opacity:0.1; fill:none\\\" points=\\\"\\n  502.585,1202.68 918.047,842.881 918.047,123.279 \\n  \\\"\\/>\\n<polyline clip-path=\\\"url(#clip042)\\\" style=\\\"stroke:#000000; stroke-linecap:round; stroke-linejoin:round; stroke-width:2; stroke-opacity:0.1; fill:none\\\" points=\\\"\\n  682.485,1254.61 1097.95,894.814 1097.95,175.212 \\n  \\\"\\/>\\n<polyline clip-path=\\\"url(#clip042)\\\" style=\\\"stroke:#000000; stroke-linecap:round; stroke-linejoin:round; stroke-width:2; stroke-opacity:0.1; fill:none\\\" points=\\\"\\n  862.386,1306.55 1277.85,946.746 1277.85,227.145 \\n  \\\"\\/>\\n<polyline clip-path=\\\"url(#clip042)\\\" style=\\\"stroke:#000000; stroke-linecap:round; stroke-linejoin:round; stroke-width:2; stroke-opacity:0.1; fill:none\\\" points=\\\"\\n  1042.29,1358.48 1457.75,998.679 1457.75,279.077 \\n  \\\"\\/>\\n<polyline clip-path=\\\"url(#clip042)\\\" style=\\\"stroke:#000000; stroke-linecap:round; stroke-linejoin:round; stroke-width:2; stroke-opacity:0.1; fill:none\\\" points=\\\"\\n  1222.19,1410.41 1637.65,1050.61 1637.65,331.01 \\n  \\\"\\/>\\n<polyline clip-path=\\\"url(#clip040)\\\" style=\\\"stroke:#000000; stroke-linecap:round; stroke-linejoin:round; stroke-width:4; stroke-opacity:1; fill:none\\\" points=\\\"\\n  502.585,1202.68 1222.19,1410.41 \\n  \\\"\\/>\\n<polyline clip-path=\\\"url(#clip040)\\\" style=\\\"stroke:#000000; stroke-linecap:round; stroke-linejoin:round; stroke-width:4; stroke-opacity:1; fill:none\\\" points=\\\"\\n  502.585,1202.68 507.57,1198.36 \\n  \\\"\\/>\\n<polyline clip-path=\\\"url(#clip040)\\\" style=\\\"stroke:#000000; stroke-linecap:round; stroke-linejoin:round; stroke-width:4; stroke-opacity:1; fill:none\\\" points=\\\"\\n  682.485,1254.61 687.471,1250.3 \\n  \\\"\\/>\\n<polyline clip-path=\\\"url(#clip040)\\\" style=\\\"stroke:#000000; stroke-linecap:round; stroke-linejoin:round; stroke-width:4; stroke-opacity:1; fill:none\\\" points=\\\"\\n  862.386,1306.55 867.371,1302.23 \\n  \\\"\\/>\\n<polyline clip-path=\\\"url(#clip040)\\\" style=\\\"stroke:#000000; stroke-linecap:round; stroke-linejoin:round; stroke-width:4; stroke-opacity:1; fill:none\\\" points=\\\"\\n  1042.29,1358.48 1047.27,1354.16 \\n  \\\"\\/>\\n<polyline clip-path=\\\"url(#clip040)\\\" style=\\\"stroke:#000000; stroke-linecap:round; stroke-linejoin:round; stroke-width:4; stroke-opacity:1; fill:none\\\" points=\\\"\\n  1222.19,1410.41 1227.17,1406.1 \\n  \\\"\\/>\\n<path clip-path=\\\"url(#clip040)\\\" d=\\\"M434.482 1230.8 L464.157 1230.8 L464.157 1234.74 L434.482 1234.74 L434.482 1230.8 Z\\\" fill=\\\"#000000\\\" fill-rule=\\\"evenodd\\\" fill-opacity=\\\"1\\\" \\/><path clip-path=\\\"url(#clip040)\\\" d=\\\"M478.278 1243.7 L494.597 1243.7 L494.597 1247.63 L472.653 1247.63 L472.653 1243.7 Q475.315 1240.94 479.898 1236.31 Q484.505 1231.66 485.685 1230.32 Q487.93 1227.79 488.81 1226.06 Q489.713 1224.3 489.713 1222.61 Q489.713 1219.85 487.768 1218.12 Q485.847 1216.38 482.745 1216.38 Q480.546 1216.38 478.093 1217.15 Q475.662 1217.91 472.884 1219.46 L472.884 1214.74 Q475.708 1213.6 478.162 1213.03 Q480.616 1212.45 482.653 1212.45 Q488.023 1212.45 491.217 1215.13 Q494.412 1217.82 494.412 1222.31 Q494.412 1224.44 493.602 1226.36 Q492.815 1228.26 490.708 1230.85 Q490.13 1231.52 487.028 1234.74 Q483.926 1237.93 478.278 1243.7 Z\\\" fill=\\\"#000000\\\" fill-rule=\\\"evenodd\\\" fill-opacity=\\\"1\\\" \\/><path clip-path=\\\"url(#clip040)\\\" d=\\\"M614.012 1282.74 L643.688 1282.74 L643.688 1286.67 L614.012 1286.67 L614.012 1282.74 Z\\\" fill=\\\"#000000\\\" fill-rule=\\\"evenodd\\\" fill-opacity=\\\"1\\\" \\/><path clip-path=\\\"url(#clip040)\\\" d=\\\"M654.59 1295.63 L662.229 1295.63 L662.229 1269.26 L653.919 1270.93 L653.919 1266.67 L662.183 1265 L666.859 1265 L666.859 1295.63 L674.498 1295.63 L674.498 1299.56 L654.59 1299.56 L654.59 1295.63 Z\\\" fill=\\\"#000000\\\" fill-rule=\\\"evenodd\\\" fill-opacity=\\\"1\\\" \\/><path clip-path=\\\"url(#clip040)\\\" d=\\\"M842.454 1320.02 Q838.843 1320.02 837.014 1323.58 Q835.208 1327.12 835.208 1334.25 Q835.208 1341.36 837.014 1344.92 Q838.843 1348.47 842.454 1348.47 Q846.088 1348.47 847.893 1344.92 Q849.722 1341.36 849.722 1334.25 Q849.722 1327.12 847.893 1323.58 Q846.088 1320.02 842.454 1320.02 M842.454 1316.31 Q848.264 1316.31 851.319 1320.92 Q854.398 1325.5 854.398 1334.25 Q854.398 1342.98 851.319 1347.59 Q848.264 1352.17 842.454 1352.17 Q836.644 1352.17 833.565 1347.59 Q830.509 1342.98 830.509 1334.25 Q830.509 1325.5 833.565 1320.92 Q836.644 1316.31 842.454 1316.31 Z\\\" fill=\\\"#000000\\\" fill-rule=\\\"evenodd\\\" fill-opacity=\\\"1\\\" \\/><path clip-path=\\\"url(#clip040)\\\" d=\\\"M1014.39 1399.5 L1022.03 1399.5 L1022.03 1373.13 L1013.72 1374.8 L1013.72 1370.54 L1021.98 1368.87 L1026.66 1368.87 L1026.66 1399.5 L1034.3 1399.5 L1034.3 1403.43 L1014.39 1403.43 L1014.39 1399.5 Z\\\" fill=\\\"#000000\\\" fill-rule=\\\"evenodd\\\" fill-opacity=\\\"1\\\" \\/><path clip-path=\\\"url(#clip040)\\\" d=\\\"M1197.88 1451.43 L1214.2 1451.43 L1214.2 1455.36 L1192.25 1455.36 L1192.25 1451.43 Q1194.92 1448.67 1199.5 1444.04 Q1204.11 1439.39 1205.29 1438.05 Q1207.53 1435.53 1208.41 1433.79 Q1209.31 1432.03 1209.31 1430.34 Q1209.31 1427.59 1207.37 1425.85 Q1205.45 1424.11 1202.35 1424.11 Q1200.15 1424.11 1197.69 1424.88 Q1195.26 1425.64 1192.49 1427.19 L1192.49 1422.47 Q1195.31 1421.34 1197.76 1420.76 Q1200.22 1420.18 1202.25 1420.18 Q1207.62 1420.18 1210.82 1422.86 Q1214.01 1425.55 1214.01 1430.04 Q1214.01 1432.17 1213.2 1434.09 Q1212.42 1435.99 1210.31 1438.58 Q1209.73 1439.25 1206.63 1442.47 Q1203.53 1445.66 1197.88 1451.43 Z\\\" fill=\\\"#000000\\\" fill-rule=\\\"evenodd\\\" fill-opacity=\\\"1\\\" \\/><polyline clip-path=\\\"url(#clip042)\\\" style=\\\"stroke:#000000; stroke-linecap:round; stroke-linejoin:round; stroke-width:2; stroke-opacity:0.1; fill:none\\\" points=\\\"\\n  1222.19,1410.41 502.585,1202.68 502.585,483.08 \\n  \\\"\\/>\\n<polyline clip-path=\\\"url(#clip042)\\\" style=\\\"stroke:#000000; stroke-linecap:round; stroke-linejoin:round; stroke-width:2; stroke-opacity:0.1; fill:none\\\" points=\\\"\\n  1326.05,1320.46 606.45,1112.73 606.45,393.13 \\n  \\\"\\/>\\n<polyline clip-path=\\\"url(#clip042)\\\" style=\\\"stroke:#000000; stroke-linecap:round; stroke-linejoin:round; stroke-width:2; stroke-opacity:0.1; fill:none\\\" points=\\\"\\n  1429.92,1230.51 710.316,1022.78 710.316,303.179 \\n  \\\"\\/>\\n<polyline clip-path=\\\"url(#clip042)\\\" style=\\\"stroke:#000000; stroke-linecap:round; stroke-linejoin:round; stroke-width:2; stroke-opacity:0.1; fill:none\\\" points=\\\"\\n  1533.78,1140.56 814.182,932.831 814.182,213.229 \\n  \\\"\\/>\\n<polyline clip-path=\\\"url(#clip042)\\\" style=\\\"stroke:#000000; stroke-linecap:round; stroke-linejoin:round; stroke-width:2; stroke-opacity:0.1; fill:none\\\" points=\\\"\\n  1637.65,1050.61 918.047,842.881 918.047,123.279 \\n  \\\"\\/>\\n<polyline clip-path=\\\"url(#clip040)\\\" style=\\\"stroke:#000000; stroke-linecap:round; stroke-linejoin:round; stroke-width:4; stroke-opacity:1; fill:none\\\" points=\\\"\\n  1222.19,1410.41 1637.65,1050.61 \\n  \\\"\\/>\\n<polyline clip-path=\\\"url(#clip040)\\\" style=\\\"stroke:#000000; stroke-linecap:round; stroke-linejoin:round; stroke-width:4; stroke-opacity:1; fill:none\\\" points=\\\"\\n  1222.19,1410.41 1213.55,1407.92 \\n  \\\"\\/>\\n<polyline clip-path=\\\"url(#clip040)\\\" style=\\\"stroke:#000000; stroke-linecap:round; stroke-linejoin:round; stroke-width:4; stroke-opacity:1; fill:none\\\" points=\\\"\\n  1326.05,1320.46 1317.42,1317.97 \\n  \\\"\\/>\\n<polyline clip-path=\\\"url(#clip040)\\\" style=\\\"stroke:#000000; stroke-linecap:round; stroke-linejoin:round; stroke-width:4; stroke-opacity:1; fill:none\\\" points=\\\"\\n  1429.92,1230.51 1421.28,1228.02 \\n  \\\"\\/>\\n<polyline clip-path=\\\"url(#clip040)\\\" style=\\\"stroke:#000000; stroke-linecap:round; stroke-linejoin:round; stroke-width:4; stroke-opacity:1; fill:none\\\" points=\\\"\\n  1533.78,1140.56 1525.15,1138.07 \\n  \\\"\\/>\\n<polyline clip-path=\\\"url(#clip040)\\\" style=\\\"stroke:#000000; stroke-linecap:round; stroke-linejoin:round; stroke-width:4; stroke-opacity:1; fill:none\\\" points=\\\"\\n  1637.65,1050.61 1629.01,1048.12 \\n  \\\"\\/>\\n<path clip-path=\\\"url(#clip040)\\\" d=\\\"M1241.04 1432.64 L1270.72 1432.64 L1270.72 1436.57 L1241.04 1436.57 L1241.04 1432.64 Z\\\" fill=\\\"#000000\\\" fill-rule=\\\"evenodd\\\" fill-opacity=\\\"1\\\" \\/><path clip-path=\\\"url(#clip040)\\\" d=\\\"M1284.84 1445.53 L1301.16 1445.53 L1301.16 1449.46 L1279.21 1449.46 L1279.21 1445.53 Q1281.87 1442.77 1286.46 1438.14 Q1291.06 1433.49 1292.24 1432.15 Q1294.49 1429.63 1295.37 1427.89 Q1296.27 1426.13 1296.27 1424.44 Q1296.27 1421.69 1294.33 1419.95 Q1292.41 1418.21 1289.3 1418.21 Q1287.11 1418.21 1284.65 1418.98 Q1282.22 1419.74 1279.44 1421.29 L1279.44 1416.57 Q1282.27 1415.44 1284.72 1414.86 Q1287.17 1414.28 1289.21 1414.28 Q1294.58 1414.28 1297.78 1416.96 Q1300.97 1419.65 1300.97 1424.14 Q1300.97 1426.27 1300.16 1428.19 Q1299.37 1430.09 1297.27 1432.68 Q1296.69 1433.35 1293.59 1436.57 Q1290.48 1439.76 1284.84 1445.53 Z\\\" fill=\\\"#000000\\\" fill-rule=\\\"evenodd\\\" fill-opacity=\\\"1\\\" \\/><path clip-path=\\\"url(#clip040)\\\" d=\\\"M1344.91 1342.68 L1374.58 1342.68 L1374.58 1346.62 L1344.91 1346.62 L1344.91 1342.68 Z\\\" fill=\\\"#000000\\\" fill-rule=\\\"evenodd\\\" fill-opacity=\\\"1\\\" \\/><path clip-path=\\\"url(#clip040)\\\" d=\\\"M1385.48 1355.58 L1393.12 1355.58 L1393.12 1329.21 L1384.81 1330.88 L1384.81 1326.62 L1393.08 1324.95 L1397.75 1324.95 L1397.75 1355.58 L1405.39 1355.58 L1405.39 1359.51 L1385.48 1359.51 L1385.48 1355.58 Z\\\" fill=\\\"#000000\\\" fill-rule=\\\"evenodd\\\" fill-opacity=\\\"1\\\" \\/><path clip-path=\\\"url(#clip040)\\\" d=\\\"M1460.72 1238.08 Q1457.11 1238.08 1455.28 1241.65 Q1453.47 1245.19 1453.47 1252.32 Q1453.47 1259.42 1455.28 1262.99 Q1457.11 1266.53 1460.72 1266.53 Q1464.35 1266.53 1466.16 1262.99 Q1467.98 1259.42 1467.98 1252.32 Q1467.98 1245.19 1466.16 1241.65 Q1464.35 1238.08 1460.72 1238.08 M1460.72 1234.38 Q1466.53 1234.38 1469.58 1238.98 Q1472.66 1243.57 1472.66 1252.32 Q1472.66 1261.04 1469.58 1265.65 Q1466.53 1270.23 1460.72 1270.23 Q1454.91 1270.23 1451.83 1265.65 Q1448.77 1261.04 1448.77 1252.32 Q1448.77 1243.57 1451.83 1238.98 Q1454.91 1234.38 1460.72 1234.38 Z\\\" fill=\\\"#000000\\\" fill-rule=\\\"evenodd\\\" fill-opacity=\\\"1\\\" \\/><path clip-path=\\\"url(#clip040)\\\" d=\\\"M1553.31 1175.68 L1560.95 1175.68 L1560.95 1149.31 L1552.64 1150.98 L1552.64 1146.72 L1560.9 1145.05 L1565.58 1145.05 L1565.58 1175.68 L1573.22 1175.68 L1573.22 1179.61 L1553.31 1179.61 L1553.31 1175.68 Z\\\" fill=\\\"#000000\\\" fill-rule=\\\"evenodd\\\" fill-opacity=\\\"1\\\" \\/><path clip-path=\\\"url(#clip040)\\\" d=\\\"M1662.13 1085.73 L1678.45 1085.73 L1678.45 1089.66 L1656.5 1089.66 L1656.5 1085.73 Q1659.17 1082.97 1663.75 1078.34 Q1668.35 1073.69 1669.54 1072.35 Q1671.78 1069.82 1672.66 1068.09 Q1673.56 1066.33 1673.56 1064.64 Q1673.56 1061.89 1671.62 1060.15 Q1669.7 1058.41 1666.6 1058.41 Q1664.4 1058.41 1661.94 1059.18 Q1659.51 1059.94 1656.73 1061.49 L1656.73 1056.77 Q1659.56 1055.64 1662.01 1055.06 Q1664.47 1054.48 1666.5 1054.48 Q1671.87 1054.48 1675.07 1057.16 Q1678.26 1059.85 1678.26 1064.34 Q1678.26 1066.47 1677.45 1068.39 Q1676.66 1070.29 1674.56 1072.88 Q1673.98 1073.55 1670.88 1076.77 Q1667.78 1079.96 1662.13 1085.73 Z\\\" fill=\\\"#000000\\\" fill-rule=\\\"evenodd\\\" fill-opacity=\\\"1\\\" \\/><polyline clip-path=\\\"url(#clip042)\\\" style=\\\"stroke:#000000; stroke-linecap:round; stroke-linejoin:round; stroke-width:2; stroke-opacity:0.1; fill:none\\\" points=\\\"\\n  502.585,1202.68 918.047,842.881 1637.65,1050.61 \\n  \\\"\\/>\\n<polyline clip-path=\\\"url(#clip042)\\\" style=\\\"stroke:#000000; stroke-linecap:round; stroke-linejoin:round; stroke-width:2; stroke-opacity:0.1; fill:none\\\" points=\\\"\\n  502.585,1022.78 918.047,662.98 1637.65,870.712 \\n  \\\"\\/>\\n<polyline clip-path=\\\"url(#clip042)\\\" style=\\\"stroke:#000000; stroke-linecap:round; stroke-linejoin:round; stroke-width:2; stroke-opacity:0.1; fill:none\\\" points=\\\"\\n  502.585,842.881 918.047,483.08 1637.65,690.811 \\n  \\\"\\/>\\n<polyline clip-path=\\\"url(#clip042)\\\" style=\\\"stroke:#000000; stroke-linecap:round; stroke-linejoin:round; stroke-width:2; stroke-opacity:0.1; fill:none\\\" points=\\\"\\n  502.585,662.98 918.047,303.179 1637.65,510.911 \\n  \\\"\\/>\\n<polyline clip-path=\\\"url(#clip042)\\\" style=\\\"stroke:#000000; stroke-linecap:round; stroke-linejoin:round; stroke-width:2; stroke-opacity:0.1; fill:none\\\" points=\\\"\\n  502.585,483.08 918.047,123.279 1637.65,331.01 \\n  \\\"\\/>\\n<polyline clip-path=\\\"url(#clip040)\\\" style=\\\"stroke:#000000; stroke-linecap:round; stroke-linejoin:round; stroke-width:4; stroke-opacity:1; fill:none\\\" points=\\\"\\n  502.585,1202.68 502.585,483.08 \\n  \\\"\\/>\\n<polyline clip-path=\\\"url(#clip040)\\\" style=\\\"stroke:#000000; stroke-linecap:round; stroke-linejoin:round; stroke-width:4; stroke-opacity:1; fill:none\\\" points=\\\"\\n  502.585,1202.68 507.57,1198.36 \\n  \\\"\\/>\\n<polyline clip-path=\\\"url(#clip040)\\\" style=\\\"stroke:#000000; stroke-linecap:round; stroke-linejoin:round; stroke-width:4; stroke-opacity:1; fill:none\\\" points=\\\"\\n  502.585,1022.78 507.57,1018.46 \\n  \\\"\\/>\\n<polyline clip-path=\\\"url(#clip040)\\\" style=\\\"stroke:#000000; stroke-linecap:round; stroke-linejoin:round; stroke-width:4; stroke-opacity:1; fill:none\\\" points=\\\"\\n  502.585,842.881 507.57,838.563 \\n  \\\"\\/>\\n<polyline clip-path=\\\"url(#clip040)\\\" style=\\\"stroke:#000000; stroke-linecap:round; stroke-linejoin:round; stroke-width:4; stroke-opacity:1; fill:none\\\" points=\\\"\\n  502.585,662.98 507.57,658.663 \\n  \\\"\\/>\\n<polyline clip-path=\\\"url(#clip040)\\\" style=\\\"stroke:#000000; stroke-linecap:round; stroke-linejoin:round; stroke-width:4; stroke-opacity:1; fill:none\\\" points=\\\"\\n  502.585,483.08 507.57,478.762 \\n  \\\"\\/>\\n<path clip-path=\\\"url(#clip040)\\\" d=\\\"M413.669 1203.13 L443.345 1203.13 L443.345 1207.07 L413.669 1207.07 L413.669 1203.13 Z\\\" fill=\\\"#000000\\\" fill-rule=\\\"evenodd\\\" fill-opacity=\\\"1\\\" \\/><path clip-path=\\\"url(#clip040)\\\" d=\\\"M457.465 1216.03 L473.785 1216.03 L473.785 1219.96 L451.84 1219.96 L451.84 1216.03 Q454.502 1213.27 459.086 1208.64 Q463.692 1203.99 464.873 1202.65 Q467.118 1200.12 467.998 1198.39 Q468.901 1196.63 468.901 1194.94 Q468.901 1192.18 466.956 1190.45 Q465.035 1188.71 461.933 1188.71 Q459.734 1188.71 457.28 1189.48 Q454.85 1190.24 452.072 1191.79 L452.072 1187.07 Q454.896 1185.93 457.35 1185.36 Q459.803 1184.78 461.84 1184.78 Q467.211 1184.78 470.405 1187.46 Q473.6 1190.15 473.6 1194.64 Q473.6 1196.77 472.789 1198.69 Q472.002 1200.59 469.896 1203.18 Q469.317 1203.85 466.215 1207.07 Q463.114 1210.26 457.465 1216.03 Z\\\" fill=\\\"#000000\\\" fill-rule=\\\"evenodd\\\" fill-opacity=\\\"1\\\" \\/><path clip-path=\\\"url(#clip040)\\\" d=\\\"M413.299 1023.23 L442.975 1023.23 L442.975 1027.17 L413.299 1027.17 L413.299 1023.23 Z\\\" fill=\\\"#000000\\\" fill-rule=\\\"evenodd\\\" fill-opacity=\\\"1\\\" \\/><path clip-path=\\\"url(#clip040)\\\" d=\\\"M453.877 1036.13 L461.516 1036.13 L461.516 1009.76 L453.206 1011.43 L453.206 1007.17 L461.47 1005.5 L466.146 1005.5 L466.146 1036.13 L473.785 1036.13 L473.785 1040.06 L453.877 1040.06 L453.877 1036.13 Z\\\" fill=\\\"#000000\\\" fill-rule=\\\"evenodd\\\" fill-opacity=\\\"1\\\" \\/><path clip-path=\\\"url(#clip040)\\\" d=\\\"M461.84 828.68 Q458.229 828.68 456.401 832.244 Q454.595 835.786 454.595 842.916 Q454.595 850.022 456.401 853.587 Q458.229 857.128 461.84 857.128 Q465.475 857.128 467.28 853.587 Q469.109 850.022 469.109 842.916 Q469.109 835.786 467.28 832.244 Q465.475 828.68 461.84 828.68 M461.84 824.976 Q467.651 824.976 470.706 829.582 Q473.785 834.166 473.785 842.916 Q473.785 851.642 470.706 856.249 Q467.651 860.832 461.84 860.832 Q456.03 860.832 452.952 856.249 Q449.896 851.642 449.896 842.916 Q449.896 834.166 452.952 829.582 Q456.03 824.976 461.84 824.976 Z\\\" fill=\\\"#000000\\\" fill-rule=\\\"evenodd\\\" fill-opacity=\\\"1\\\" \\/><path clip-path=\\\"url(#clip040)\\\" d=\\\"M453.877 676.325 L461.516 676.325 L461.516 649.96 L453.206 651.626 L453.206 647.367 L461.47 645.7 L466.146 645.7 L466.146 676.325 L473.785 676.325 L473.785 680.26 L453.877 680.26 L453.877 676.325 Z\\\" fill=\\\"#000000\\\" fill-rule=\\\"evenodd\\\" fill-opacity=\\\"1\\\" \\/><path clip-path=\\\"url(#clip040)\\\" d=\\\"M457.465 496.425 L473.785 496.425 L473.785 500.36 L451.84 500.36 L451.84 496.425 Q454.502 493.67 459.086 489.041 Q463.692 484.388 464.873 483.045 Q467.118 480.522 467.998 478.786 Q468.901 477.027 468.901 475.337 Q468.901 472.582 466.956 470.846 Q465.035 469.11 461.933 469.11 Q459.734 469.11 457.28 469.874 Q454.85 470.638 452.072 472.189 L452.072 467.467 Q454.896 466.332 457.35 465.754 Q459.803 465.175 461.84 465.175 Q467.211 465.175 470.405 467.86 Q473.6 470.545 473.6 475.036 Q473.6 477.166 472.789 479.087 Q472.002 480.985 469.896 483.578 Q469.317 484.249 466.215 487.466 Q463.114 490.661 457.465 496.425 Z\\\" fill=\\\"#000000\\\" fill-rule=\\\"evenodd\\\" fill-opacity=\\\"1\\\" \\/><circle clip-path=\\\"url(#clip042)\\\" cx=\\\"1070.12\\\" cy=\\\"586.946\\\" r=\\\"14.4\\\" fill=\\\"#009af9\\\" fill-rule=\\\"evenodd\\\" fill-opacity=\\\"1\\\" stroke=\\\"#000000\\\" stroke-opacity=\\\"1\\\" stroke-width=\\\"3.2\\\"\\/>\\n<polyline clip-path=\\\"url(#clip042)\\\" style=\\\"stroke:#0000ff; stroke-linecap:round; stroke-linejoin:round; stroke-width:4; stroke-opacity:1; fill:none\\\" points=\\\"\\n  1070.12,766.846 1070.12,586.946 \\n  \\\"\\/>\\n<path clip-path=\\\"url(#clip042)\\\" d=\\\"\\nM918.047 483.08 L502.585 842.881 L1222.19 1050.61 L1637.65 690.811  Z\\n  \\\" fill=\\\"#bb3754\\\" fill-rule=\\\"evenodd\\\" fill-opacity=\\\"0.5\\\"\\/>\\n<defs>\\n  <clipPath id=\\\"clip043\\\">\\n    <rect x=\\\"2160\\\" y=\\\"47\\\" width=\\\"73\\\" height=\\\"1440\\\"\\/>\\n  <\\/clipPath>\\n<\\/defs>\\n<g clip-path=\\\"url(#clip043)\\\">\\n<image width=\\\"72\\\" height=\\\"1439\\\" xlink:href=\\\"data:image\\/png;base64,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\\nBYGCQOE\\/LrLuTX\\/wFc8AAAAASUVORK5CYII=\\n\\\" transform=\\\"translate(2161, 47)\\\"\\/>\\n<\\/g>\\n<path clip-path=\\\"url(#clip040)\\\" d=\\\"M2280.7 1468.62 Q2277.09 1468.62 2275.26 1472.18 Q2273.45 1475.72 2273.45 1482.85 Q2273.45 1489.96 2275.26 1493.53 Q2277.09 1497.07 2280.7 1497.07 Q2284.33 1497.07 2286.14 1493.53 Q2287.97 1489.96 2287.97 1482.85 Q2287.97 1475.72 2286.14 1472.18 Q2284.33 1468.62 2280.7 1468.62 M2280.7 1464.91 Q2286.51 1464.91 2289.57 1469.52 Q2292.64 1474.1 2292.64 1482.85 Q2292.64 1491.58 2289.57 1496.19 Q2286.51 1500.77 2280.7 1500.77 Q2274.89 1500.77 2271.81 1496.19 Q2268.76 1491.58 2268.76 1482.85 Q2268.76 1474.1 2271.81 1469.52 Q2274.89 1464.91 2280.7 1464.91 Z\\\" fill=\\\"#000000\\\" fill-rule=\\\"evenodd\\\" fill-opacity=\\\"1\\\" \\/><path clip-path=\\\"url(#clip040)\\\" d=\\\"M2280.7 1324.7 Q2277.09 1324.7 2275.26 1328.26 Q2273.45 1331.8 2273.45 1338.93 Q2273.45 1346.04 2275.26 1349.6 Q2277.09 1353.15 2280.7 1353.15 Q2284.33 1353.15 2286.14 1349.6 Q2287.97 1346.04 2287.97 1338.93 Q2287.97 1331.8 2286.14 1328.26 Q2284.33 1324.7 2280.7 1324.7 M2280.7 1320.99 Q2286.51 1320.99 2289.57 1325.6 Q2292.64 1330.18 2292.64 1338.93 Q2292.64 1347.66 2289.57 1352.27 Q2286.51 1356.85 2280.7 1356.85 Q2274.89 1356.85 2271.81 1352.27 Q2268.76 1347.66 2268.76 1338.93 Q2268.76 1330.18 2271.81 1325.6 Q2274.89 1320.99 2280.7 1320.99 Z\\\" fill=\\\"#000000\\\" fill-rule=\\\"evenodd\\\" fill-opacity=\\\"1\\\" \\/><path clip-path=\\\"url(#clip040)\\\" d=\\\"M2300.86 1350.3 L2305.75 1350.3 L2305.75 1356.18 L2300.86 1356.18 L2300.86 1350.3 Z\\\" fill=\\\"#000000\\\" fill-rule=\\\"evenodd\\\" fill-opacity=\\\"1\\\" \\/><path clip-path=\\\"url(#clip040)\\\" d=\\\"M2316.74 1352.24 L2324.38 1352.24 L2324.38 1325.88 L2316.07 1327.54 L2316.07 1323.29 L2324.33 1321.62 L2329.01 1321.62 L2329.01 1352.24 L2336.65 1352.24 L2336.65 1356.18 L2316.74 1356.18 L2316.74 1352.24 Z\\\" fill=\\\"#000000\\\" fill-rule=\\\"evenodd\\\" fill-opacity=\\\"1\\\" \\/><path clip-path=\\\"url(#clip040)\\\" d=\\\"M2280.7 1180.78 Q2277.09 1180.78 2275.26 1184.34 Q2273.45 1187.88 2273.45 1195.01 Q2273.45 1202.12 2275.26 1205.68 Q2277.09 1209.23 2280.7 1209.23 Q2284.33 1209.23 2286.14 1205.68 Q2287.97 1202.12 2287.97 1195.01 Q2287.97 1187.88 2286.14 1184.34 Q2284.33 1180.78 2280.7 1180.78 M2280.7 1177.07 Q2286.51 1177.07 2289.57 1181.68 Q2292.64 1186.26 2292.64 1195.01 Q2292.64 1203.74 2289.57 1208.35 Q2286.51 1212.93 2280.7 1212.93 Q2274.89 1212.93 2271.81 1208.35 Q2268.76 1203.74 2268.76 1195.01 Q2268.76 1186.26 2271.81 1181.68 Q2274.89 1177.07 2280.7 1177.07 Z\\\" fill=\\\"#000000\\\" fill-rule=\\\"evenodd\\\" fill-opacity=\\\"1\\\" \\/><path clip-path=\\\"url(#clip040)\\\" d=\\\"M2300.86 1206.38 L2305.75 1206.38 L2305.75 1212.26 L2300.86 1212.26 L2300.86 1206.38 Z\\\" fill=\\\"#000000\\\" fill-rule=\\\"evenodd\\\" fill-opacity=\\\"1\\\" \\/><path clip-path=\\\"url(#clip040)\\\" d=\\\"M2319.96 1208.32 L2336.28 1208.32 L2336.28 1212.26 L2314.33 1212.26 L2314.33 1208.32 Q2317 1205.57 2321.58 1200.94 Q2326.19 1196.29 2327.37 1194.94 Q2329.61 1192.42 2330.49 1190.68 Q2331.39 1188.93 2331.39 1187.24 Q2331.39 1184.48 2329.45 1182.74 Q2327.53 1181.01 2324.43 1181.01 Q2322.23 1181.01 2319.77 1181.77 Q2317.34 1182.54 2314.57 1184.09 L2314.57 1179.36 Q2317.39 1178.23 2319.84 1177.65 Q2322.3 1177.07 2324.33 1177.07 Q2329.7 1177.07 2332.9 1179.76 Q2336.09 1182.44 2336.09 1186.93 Q2336.09 1189.06 2335.28 1190.99 Q2334.5 1192.88 2332.39 1195.48 Q2331.81 1196.15 2328.71 1199.36 Q2325.61 1202.56 2319.96 1208.32 Z\\\" fill=\\\"#000000\\\" fill-rule=\\\"evenodd\\\" fill-opacity=\\\"1\\\" \\/><path clip-path=\\\"url(#clip040)\\\" d=\\\"M2280.7 1036.86 Q2277.09 1036.86 2275.26 1040.42 Q2273.45 1043.96 2273.45 1051.09 Q2273.45 1058.2 2275.26 1061.76 Q2277.09 1065.31 2280.7 1065.31 Q2284.33 1065.31 2286.14 1061.76 Q2287.97 1058.2 2287.97 1051.09 Q2287.97 1043.96 2286.14 1040.42 Q2284.33 1036.86 2280.7 1036.86 M2280.7 1033.15 Q2286.51 1033.15 2289.57 1037.76 Q2292.64 1042.34 2292.64 1051.09 Q2292.64 1059.82 2289.57 1064.43 Q2286.51 1069.01 2280.7 1069.01 Q2274.89 1069.01 2271.81 1064.43 Q2268.76 1059.82 2268.76 1051.09 Q2268.76 1042.34 2271.81 1037.76 Q2274.89 1033.15 2280.7 1033.15 Z\\\" fill=\\\"#000000\\\" fill-rule=\\\"evenodd\\\" fill-opacity=\\\"1\\\" \\/><path clip-path=\\\"url(#clip040)\\\" d=\\\"M2300.86 1062.46 L2305.75 1062.46 L2305.75 1068.34 L2300.86 1068.34 L2300.86 1062.46 Z\\\" fill=\\\"#000000\\\" fill-rule=\\\"evenodd\\\" fill-opacity=\\\"1\\\" \\/><path clip-path=\\\"url(#clip040)\\\" d=\\\"M2330.1 1049.7 Q2333.45 1050.42 2335.33 1052.69 Q2337.23 1054.96 2337.23 1058.29 Q2337.23 1063.41 2333.71 1066.21 Q2330.19 1069.01 2323.71 1069.01 Q2321.53 1069.01 2319.22 1068.57 Q2316.93 1068.15 2314.47 1067.3 L2314.47 1062.78 Q2316.42 1063.92 2318.73 1064.5 Q2321.05 1065.07 2323.57 1065.07 Q2327.97 1065.07 2330.26 1063.34 Q2332.58 1061.6 2332.58 1058.29 Q2332.58 1055.24 2330.42 1053.52 Q2328.29 1051.79 2324.47 1051.79 L2320.45 1051.79 L2320.45 1047.94 L2324.66 1047.94 Q2328.11 1047.94 2329.94 1046.58 Q2331.76 1045.19 2331.76 1042.6 Q2331.76 1039.94 2329.87 1038.52 Q2327.99 1037.09 2324.47 1037.09 Q2322.55 1037.09 2320.35 1037.5 Q2318.15 1037.92 2315.51 1038.8 L2315.51 1034.63 Q2318.18 1033.89 2320.49 1033.52 Q2322.83 1033.15 2324.89 1033.15 Q2330.21 1033.15 2333.32 1035.58 Q2336.42 1037.99 2336.42 1042.11 Q2336.42 1044.98 2334.77 1046.97 Q2333.13 1048.94 2330.1 1049.7 Z\\\" fill=\\\"#000000\\\" fill-rule=\\\"evenodd\\\" fill-opacity=\\\"1\\\" \\/><path clip-path=\\\"url(#clip040)\\\" d=\\\"M2280.7 892.936 Q2277.09 892.936 2275.26 896.501 Q2273.45 900.043 2273.45 907.172 Q2273.45 914.279 2275.26 917.844 Q2277.09 921.385 2280.7 921.385 Q2284.33 921.385 2286.14 917.844 Q2287.97 914.279 2287.97 907.172 Q2287.97 900.043 2286.14 896.501 Q2284.33 892.936 2280.7 892.936 M2280.7 889.233 Q2286.51 889.233 2289.57 893.839 Q2292.64 898.422 2292.64 907.172 Q2292.64 915.899 2289.57 920.506 Q2286.51 925.089 2280.7 925.089 Q2274.89 925.089 2271.81 920.506 Q2268.76 915.899 2268.76 907.172 Q2268.76 898.422 2271.81 893.839 Q2274.89 889.233 2280.7 889.233 Z\\\" fill=\\\"#000000\\\" fill-rule=\\\"evenodd\\\" fill-opacity=\\\"1\\\" \\/><path clip-path=\\\"url(#clip040)\\\" d=\\\"M2300.86 918.538 L2305.75 918.538 L2305.75 924.418 L2300.86 924.418 L2300.86 918.538 Z\\\" fill=\\\"#000000\\\" fill-rule=\\\"evenodd\\\" fill-opacity=\\\"1\\\" \\/><path clip-path=\\\"url(#clip040)\\\" d=\\\"M2328.78 893.932 L2316.97 912.381 L2328.78 912.381 L2328.78 893.932 M2327.55 889.858 L2333.43 889.858 L2333.43 912.381 L2338.36 912.381 L2338.36 916.269 L2333.43 916.269 L2333.43 924.418 L2328.78 924.418 L2328.78 916.269 L2313.18 916.269 L2313.18 911.756 L2327.55 889.858 Z\\\" fill=\\\"#000000\\\" fill-rule=\\\"evenodd\\\" fill-opacity=\\\"1\\\" \\/><path clip-path=\\\"url(#clip040)\\\" d=\\\"M2280.7 749.016 Q2277.09 749.016 2275.26 752.581 Q2273.45 756.122 2273.45 763.252 Q2273.45 770.358 2275.26 773.923 Q2277.09 777.465 2280.7 777.465 Q2284.33 777.465 2286.14 773.923 Q2287.97 770.358 2287.97 763.252 Q2287.97 756.122 2286.14 752.581 Q2284.33 749.016 2280.7 749.016 M2280.7 745.312 Q2286.51 745.312 2289.57 749.919 Q2292.64 754.502 2292.64 763.252 Q2292.64 771.979 2289.57 776.585 Q2286.51 781.168 2280.7 781.168 Q2274.89 781.168 2271.81 776.585 Q2268.76 771.979 2268.76 763.252 Q2268.76 754.502 2271.81 749.919 Q2274.89 745.312 2280.7 745.312 Z\\\" fill=\\\"#000000\\\" fill-rule=\\\"evenodd\\\" fill-opacity=\\\"1\\\" \\/><path clip-path=\\\"url(#clip040)\\\" d=\\\"M2300.86 774.618 L2305.75 774.618 L2305.75 780.497 L2300.86 780.497 L2300.86 774.618 Z\\\" fill=\\\"#000000\\\" fill-rule=\\\"evenodd\\\" fill-opacity=\\\"1\\\" \\/><path clip-path=\\\"url(#clip040)\\\" d=\\\"M2315.98 745.937 L2334.33 745.937 L2334.33 749.872 L2320.26 749.872 L2320.26 758.345 Q2321.28 757.997 2322.3 757.835 Q2323.32 757.65 2324.33 757.65 Q2330.12 757.65 2333.5 760.821 Q2336.88 763.993 2336.88 769.409 Q2336.88 774.988 2333.41 778.09 Q2329.94 781.168 2323.62 781.168 Q2321.44 781.168 2319.17 780.798 Q2316.93 780.428 2314.52 779.687 L2314.52 774.988 Q2316.6 776.122 2318.83 776.678 Q2321.05 777.233 2323.52 777.233 Q2327.53 777.233 2329.87 775.127 Q2332.2 773.02 2332.2 769.409 Q2332.2 765.798 2329.87 763.692 Q2327.53 761.585 2323.52 761.585 Q2321.65 761.585 2319.77 762.002 Q2317.92 762.419 2315.98 763.298 L2315.98 745.937 Z\\\" fill=\\\"#000000\\\" fill-rule=\\\"evenodd\\\" fill-opacity=\\\"1\\\" \\/><path clip-path=\\\"url(#clip040)\\\" d=\\\"M2280.7 605.095 Q2277.09 605.095 2275.26 608.66 Q2273.45 612.202 2273.45 619.332 Q2273.45 626.438 2275.26 630.003 Q2277.09 633.544 2280.7 633.544 Q2284.33 633.544 2286.14 630.003 Q2287.97 626.438 2287.97 619.332 Q2287.97 612.202 2286.14 608.66 Q2284.33 605.095 2280.7 605.095 M2280.7 601.392 Q2286.51 601.392 2289.57 605.998 Q2292.64 610.582 2292.64 619.332 Q2292.64 628.058 2289.57 632.665 Q2286.51 637.248 2280.7 637.248 Q2274.89 637.248 2271.81 632.665 Q2268.76 628.058 2268.76 619.332 Q2268.76 610.582 2271.81 605.998 Q2274.89 601.392 2280.7 601.392 Z\\\" fill=\\\"#000000\\\" fill-rule=\\\"evenodd\\\" fill-opacity=\\\"1\\\" \\/><path clip-path=\\\"url(#clip040)\\\" d=\\\"M2300.86 630.697 L2305.75 630.697 L2305.75 636.577 L2300.86 636.577 L2300.86 630.697 Z\\\" fill=\\\"#000000\\\" fill-rule=\\\"evenodd\\\" fill-opacity=\\\"1\\\" \\/><path clip-path=\\\"url(#clip040)\\\" d=\\\"M2326.51 617.433 Q2323.36 617.433 2321.51 619.586 Q2319.68 621.739 2319.68 625.489 Q2319.68 629.216 2321.51 631.392 Q2323.36 633.544 2326.51 633.544 Q2329.66 633.544 2331.49 631.392 Q2333.34 629.216 2333.34 625.489 Q2333.34 621.739 2331.49 619.586 Q2329.66 617.433 2326.51 617.433 M2335.79 602.781 L2335.79 607.04 Q2334.03 606.207 2332.23 605.767 Q2330.45 605.327 2328.69 605.327 Q2324.06 605.327 2321.6 608.452 Q2319.17 611.577 2318.83 617.896 Q2320.19 615.882 2322.25 614.818 Q2324.31 613.73 2326.79 613.73 Q2332 613.73 2335.01 616.901 Q2338.04 620.049 2338.04 625.489 Q2338.04 630.813 2334.89 634.031 Q2331.74 637.248 2326.51 637.248 Q2320.51 637.248 2317.34 632.665 Q2314.17 628.058 2314.17 619.332 Q2314.17 611.137 2318.06 606.276 Q2321.95 601.392 2328.5 601.392 Q2330.26 601.392 2332.04 601.739 Q2333.85 602.086 2335.79 602.781 Z\\\" fill=\\\"#000000\\\" fill-rule=\\\"evenodd\\\" fill-opacity=\\\"1\\\" \\/><path clip-path=\\\"url(#clip040)\\\" d=\\\"M2280.7 461.175 Q2277.09 461.175 2275.26 464.74 Q2273.45 468.282 2273.45 475.411 Q2273.45 482.518 2275.26 486.082 Q2277.09 489.624 2280.7 489.624 Q2284.33 489.624 2286.14 486.082 Q2287.97 482.518 2287.97 475.411 Q2287.97 468.282 2286.14 464.74 Q2284.33 461.175 2280.7 461.175 M2280.7 457.471 Q2286.51 457.471 2289.57 462.078 Q2292.64 466.661 2292.64 475.411 Q2292.64 484.138 2289.57 488.744 Q2286.51 493.328 2280.7 493.328 Q2274.89 493.328 2271.81 488.744 Q2268.76 484.138 2268.76 475.411 Q2268.76 466.661 2271.81 462.078 Q2274.89 457.471 2280.7 457.471 Z\\\" fill=\\\"#000000\\\" fill-rule=\\\"evenodd\\\" fill-opacity=\\\"1\\\" \\/><path clip-path=\\\"url(#clip040)\\\" d=\\\"M2300.86 486.777 L2305.75 486.777 L2305.75 492.656 L2300.86 492.656 L2300.86 486.777 Z\\\" fill=\\\"#000000\\\" fill-rule=\\\"evenodd\\\" fill-opacity=\\\"1\\\" \\/><path clip-path=\\\"url(#clip040)\\\" d=\\\"M2314.75 458.096 L2336.97 458.096 L2336.97 460.087 L2324.43 492.656 L2319.54 492.656 L2331.35 462.032 L2314.75 462.032 L2314.75 458.096 Z\\\" fill=\\\"#000000\\\" fill-rule=\\\"evenodd\\\" fill-opacity=\\\"1\\\" \\/><path clip-path=\\\"url(#clip040)\\\" d=\\\"M2280.7 317.255 Q2277.09 317.255 2275.26 320.82 Q2273.45 324.361 2273.45 331.491 Q2273.45 338.597 2275.26 342.162 Q2277.09 345.704 2280.7 345.704 Q2284.33 345.704 2286.14 342.162 Q2287.97 338.597 2287.97 331.491 Q2287.97 324.361 2286.14 320.82 Q2284.33 317.255 2280.7 317.255 M2280.7 313.551 Q2286.51 313.551 2289.57 318.158 Q2292.64 322.741 2292.64 331.491 Q2292.64 340.218 2289.57 344.824 Q2286.51 349.407 2280.7 349.407 Q2274.89 349.407 2271.81 344.824 Q2268.76 340.218 2268.76 331.491 Q2268.76 322.741 2271.81 318.158 Q2274.89 313.551 2280.7 313.551 Z\\\" fill=\\\"#000000\\\" fill-rule=\\\"evenodd\\\" fill-opacity=\\\"1\\\" \\/><path clip-path=\\\"url(#clip040)\\\" d=\\\"M2300.86 342.856 L2305.75 342.856 L2305.75 348.736 L2300.86 348.736 L2300.86 342.856 Z\\\" fill=\\\"#000000\\\" fill-rule=\\\"evenodd\\\" fill-opacity=\\\"1\\\" \\/><path clip-path=\\\"url(#clip040)\\\" d=\\\"M2325.93 332.324 Q2322.6 332.324 2320.68 334.106 Q2318.78 335.889 2318.78 339.014 Q2318.78 342.139 2320.68 343.921 Q2322.6 345.704 2325.93 345.704 Q2329.26 345.704 2331.19 343.921 Q2333.11 342.116 2333.11 339.014 Q2333.11 335.889 2331.19 334.106 Q2329.29 332.324 2325.93 332.324 M2321.26 330.333 Q2318.25 329.593 2316.56 327.532 Q2314.89 325.472 2314.89 322.509 Q2314.89 318.366 2317.83 315.958 Q2320.79 313.551 2325.93 313.551 Q2331.09 313.551 2334.03 315.958 Q2336.97 318.366 2336.97 322.509 Q2336.97 325.472 2335.28 327.532 Q2333.62 329.593 2330.63 330.333 Q2334.01 331.12 2335.89 333.412 Q2337.78 335.704 2337.78 339.014 Q2337.78 344.037 2334.7 346.722 Q2331.65 349.407 2325.93 349.407 Q2320.21 349.407 2317.14 346.722 Q2314.08 344.037 2314.08 339.014 Q2314.08 335.704 2315.98 333.412 Q2317.88 331.12 2321.26 330.333 M2319.54 322.949 Q2319.54 325.634 2321.21 327.139 Q2322.9 328.644 2325.93 328.644 Q2328.94 328.644 2330.63 327.139 Q2332.34 325.634 2332.34 322.949 Q2332.34 320.264 2330.63 318.759 Q2328.94 317.255 2325.93 317.255 Q2322.9 317.255 2321.21 318.759 Q2319.54 320.264 2319.54 322.949 Z\\\" fill=\\\"#000000\\\" fill-rule=\\\"evenodd\\\" fill-opacity=\\\"1\\\" \\/><path clip-path=\\\"url(#clip040)\\\" d=\\\"M2280.7 173.334 Q2277.09 173.334 2275.26 176.899 Q2273.45 180.441 2273.45 187.57 Q2273.45 194.677 2275.26 198.242 Q2277.09 201.783 2280.7 201.783 Q2284.33 201.783 2286.14 198.242 Q2287.97 194.677 2287.97 187.57 Q2287.97 180.441 2286.14 176.899 Q2284.33 173.334 2280.7 173.334 M2280.7 169.631 Q2286.51 169.631 2289.57 174.237 Q2292.64 178.82 2292.64 187.57 Q2292.64 196.297 2289.57 200.904 Q2286.51 205.487 2280.7 205.487 Q2274.89 205.487 2271.81 200.904 Q2268.76 196.297 2268.76 187.57 Q2268.76 178.82 2271.81 174.237 Q2274.89 169.631 2280.7 169.631 Z\\\" fill=\\\"#000000\\\" fill-rule=\\\"evenodd\\\" fill-opacity=\\\"1\\\" \\/><path clip-path=\\\"url(#clip040)\\\" d=\\\"M2300.86 198.936 L2305.75 198.936 L2305.75 204.816 L2300.86 204.816 L2300.86 198.936 Z\\\" fill=\\\"#000000\\\" fill-rule=\\\"evenodd\\\" fill-opacity=\\\"1\\\" \\/><path clip-path=\\\"url(#clip040)\\\" d=\\\"M2316.07 204.098 L2316.07 199.839 Q2317.83 200.672 2319.64 201.112 Q2321.44 201.552 2323.18 201.552 Q2327.81 201.552 2330.24 198.45 Q2332.69 195.325 2333.04 188.982 Q2331.7 190.973 2329.64 192.038 Q2327.58 193.103 2325.08 193.103 Q2319.89 193.103 2316.86 189.978 Q2313.85 186.83 2313.85 181.39 Q2313.85 176.066 2317 172.848 Q2320.14 169.631 2325.38 169.631 Q2331.37 169.631 2334.52 174.237 Q2337.69 178.82 2337.69 187.57 Q2337.69 195.742 2333.8 200.626 Q2329.94 205.487 2323.39 205.487 Q2321.63 205.487 2319.82 205.14 Q2318.01 204.793 2316.07 204.098 M2325.38 189.445 Q2328.52 189.445 2330.35 187.293 Q2332.2 185.14 2332.2 181.39 Q2332.2 177.663 2330.35 175.51 Q2328.52 173.334 2325.38 173.334 Q2322.23 173.334 2320.38 175.51 Q2318.55 177.663 2318.55 181.39 Q2318.55 185.14 2320.38 187.293 Q2322.23 189.445 2325.38 189.445 Z\\\" fill=\\\"#000000\\\" fill-rule=\\\"evenodd\\\" fill-opacity=\\\"1\\\" \\/><path clip-path=\\\"url(#clip040)\\\" d=\\\"M2269.43 56.9601 L2277.07 56.9601 L2277.07 30.5945 L2268.76 32.2612 L2268.76 28.002 L2277.02 26.3353 L2281.7 26.3353 L2281.7 56.9601 L2289.33 56.9601 L2289.33 60.8953 L2269.43 60.8953 L2269.43 56.9601 Z\\\" fill=\\\"#000000\\\" fill-rule=\\\"evenodd\\\" fill-opacity=\\\"1\\\" \\/><path clip-path=\\\"url(#clip040)\\\" d=\\\"M2298.78 55.0157 L2303.66 55.0157 L2303.66 60.8953 L2298.78 60.8953 L2298.78 55.0157 Z\\\" fill=\\\"#000000\\\" fill-rule=\\\"evenodd\\\" fill-opacity=\\\"1\\\" \\/><path clip-path=\\\"url(#clip040)\\\" d=\\\"M2323.85 29.414 Q2320.24 29.414 2318.41 32.9788 Q2316.6 36.5204 2316.6 43.65 Q2316.6 50.7565 2318.41 54.3213 Q2320.24 57.8629 2323.85 57.8629 Q2327.48 57.8629 2329.29 54.3213 Q2331.12 50.7565 2331.12 43.65 Q2331.12 36.5204 2329.29 32.9788 Q2327.48 29.414 2323.85 29.414 M2323.85 25.7103 Q2329.66 25.7103 2332.71 30.3168 Q2335.79 34.9001 2335.79 43.65 Q2335.79 52.3768 2332.71 56.9833 Q2329.66 61.5666 2323.85 61.5666 Q2318.04 61.5666 2314.96 56.9833 Q2311.9 52.3768 2311.9 43.65 Q2311.9 34.9001 2314.96 30.3168 Q2318.04 25.7103 2323.85 25.7103 Z\\\" fill=\\\"#000000\\\" fill-rule=\\\"evenodd\\\" fill-opacity=\\\"1\\\" \\/><polyline clip-path=\\\"url(#clip040)\\\" style=\\\"stroke:#000000; stroke-linecap:round; stroke-linejoin:round; stroke-width:4; stroke-opacity:1; fill:none\\\" points=\\\"\\n  2232.76,1486.45 2232.76,1486.45 2256.76,1486.45 2232.76,1486.45 2232.76,1342.53 2256.76,1342.53 2232.76,1342.53 2232.76,1198.61 2256.76,1198.61 2232.76,1198.61 \\n  2232.76,1054.69 2256.76,1054.69 2232.76,1054.69 2232.76,910.766 2256.76,910.766 2232.76,910.766 2232.76,766.846 2256.76,766.846 2232.76,766.846 2232.76,622.926 \\n  2256.76,622.926 2232.76,622.926 2232.76,479.005 2256.76,479.005 2232.76,479.005 2232.76,335.085 2256.76,335.085 2232.76,335.085 2232.76,191.164 2256.76,191.164 \\n  2232.76,191.164 2232.76,47.2441 2256.76,47.2441 2232.76,47.2441 \\n  \\\"\\/>\\n<path clip-path=\\\"url(#clip040)\\\" d=\\\"\\nM208.987 1438.47 L418.654 1438.47 L418.654 1334.79 L208.987 1334.79  Z\\n  \\\" fill=\\\"#ffffff\\\" fill-rule=\\\"evenodd\\\" fill-opacity=\\\"1\\\"\\/>\\n<polyline clip-path=\\\"url(#clip040)\\\" style=\\\"stroke:#000000; stroke-linecap:round; stroke-linejoin:round; stroke-width:4; stroke-opacity:1; fill:none\\\" points=\\\"\\n  208.987,1438.47 418.654,1438.47 418.654,1334.79 208.987,1334.79 208.987,1438.47 \\n  \\\"\\/>\\n<circle clip-path=\\\"url(#clip040)\\\" cx=\\\"291\\\" cy=\\\"1386.63\\\" r=\\\"23.04\\\" fill=\\\"#009af9\\\" fill-rule=\\\"evenodd\\\" fill-opacity=\\\"1\\\" stroke=\\\"#000000\\\" stroke-opacity=\\\"1\\\" stroke-width=\\\"5.12\\\"\\/>\\n<path clip-path=\\\"url(#clip040)\\\" d=\\\"M397.665 1377.99 L388.29 1390.6 L398.151 1403.91 L393.128 1403.91 L385.581 1393.73 L378.035 1403.91 L373.012 1403.91 L383.081 1390.35 L373.868 1377.99 L378.891 1377.99 L385.766 1387.22 L392.641 1377.99 L397.665 1377.99 Z\\\" fill=\\\"#000000\\\" fill-rule=\\\"evenodd\\\" fill-opacity=\\\"1\\\" \\/><\\/svg>\\n\"},\"nodeType\":\"DOM\",\"type\":\"node\",\"instanceArgs\":{\"namespace\":\"html\",\"tag\":\"div\"},\"children\":[]}]}}}},\"children\":[{\"props\":{},\"nodeType\":\"ObservableNode\",\"type\":\"node\",\"instanceArgs\":{\"id\":\"10114380000569929667\",\"name\":\"obs-node\"},\"children\":[]}]}]},\n",
       "        window,\n",
       "    );\n",
       "    })()\n",
       "    </script>\n",
       "</div>\n"
      ],
      "text/plain": [
       "Node{WebIO.DOM}(WebIO.DOM(:html, :div), Any[Node{WebIO.DOM}(WebIO.DOM(:html, :div), Any[Scope(Node{WebIO.DOM}(WebIO.DOM(:html, :div), Any[Node{WebIO.DOM}(WebIO.DOM(:html, :div), Any[Node{WebIO.DOM}(WebIO.DOM(:html, :label), Any[\"x\"], Dict{Symbol, Any}(:className => \"interact \", :style => Dict{Any, Any}(:padding => \"5px 10px 0px 10px\")))], Dict{Symbol, Any}(:className => \"interact-flex-row-left\")), Node{WebIO.DOM}(WebIO.DOM(:html, :div), Any[Node{WebIO.DOM}(WebIO.DOM(:html, :input), Any[], Dict{Symbol, Any}(:max => 40, :min => 1, :attributes => Dict{Any, Any}(:type => \"range\", Symbol(\"data-bind\") => \"numericValue: index, valueUpdate: 'input', event: {change: function (){this.changes(this.changes()+1)}}\", \"orient\" => \"horizontal\"), :step => 1, :className => \"slider slider is-fullwidth\", :style => Dict{Any, Any}()))], Dict{Symbol, Any}(:className => \"interact-flex-row-center\")), Node{WebIO.DOM}(WebIO.DOM(:html, :div), Any[Node{WebIO.DOM}(WebIO.DOM(:html, :p), Any[], Dict{Symbol, Any}(:attributes => Dict(\"data-bind\" => \"text: formatted_val\")))], Dict{Symbol, Any}(:className => \"interact-flex-row-right\"))], Dict{Symbol, Any}(:className => \"interact-flex-row interact-widget\")), Dict{String, Tuple{AbstractObservable, Union{Nothing, Bool}}}(\"changes\" => (Observable(0), nothing), \"index\" => (Observable{Any}(20), nothing)), Set{String}(), nothing, Asset[Asset(\"js\", \"knockout\", \"/Users/sheehanolver/.julia/packages/Knockout/HReiN/src/../assets/knockout.js\"), Asset(\"js\", \"knockout_punches\", \"/Users/sheehanolver/.julia/packages/Knockout/HReiN/src/../assets/knockout_punches.js\"), Asset(\"js\", nothing, \"/Users/sheehanolver/.julia/packages/InteractBase/Qhvxg/src/../assets/all.js\"), Asset(\"css\", nothing, \"/Users/sheehanolver/.julia/packages/InteractBase/Qhvxg/src/../assets/style.css\"), Asset(\"css\", nothing, \"/Users/sheehanolver/.julia/packages/Interact/PENUy/src/../assets/bulma_confined.min.css\")], Dict{Any, Any}(\"changes\" => Any[WebIO.JSString(\"(function (val){return (val!=this.model[\\\"changes\\\"]()) ? (this.valueFromJulia[\\\"changes\\\"]=true, this.model[\\\"changes\\\"](val)) : undefined})\")], \"index\" => Any[WebIO.JSString(\"(function (val){return (val!=this.model[\\\"index\\\"]()) ? (this.valueFromJulia[\\\"index\\\"]=true, this.model[\\\"index\\\"](val)) : undefined})\")]), WebIO.ConnectionPool(Channel{Any}(32), Set{AbstractConnection}(), Condition(Base.InvasiveLinkedList{Task}(Task (runnable) @0x00000001441d47f0, Task (runnable) @0x00000001441d47f0), Base.AlwaysLockedST(1))), WebIO.JSString[WebIO.JSString(\"function () {\\n    var handler = (function (ko, koPunches) {\\n    ko.punches.enableAll();\\n    ko.bindingHandlers.numericValue = {\\n        init: function(element, valueAccessor, allBindings, data, context) {\\n            var stringified = ko.observable(ko.unwrap(valueAccessor()));\\n            stringified.subscribe(function(value) {\\n                var val = parseFloat(value);\\n                if (!isNaN(val)) {\\n                    valueAccessor()(val);\\n                }\\n            });\\n            valueAccessor().subscribe(function(value) {\\n                var str = JSON.stringify(value);\\n                if ((str == \\\"0\\\") && ([\\\"-0\\\", \\\"-0.\\\"].indexOf(stringified()) >= 0))\\n                     return;\\n                 if ([\\\"null\\\", \\\"\\\"].indexOf(str) >= 0)\\n                     return;\\n                stringified(str);\\n            });\\n            ko.applyBindingsToNode(\\n                element,\\n                {\\n                    value: stringified,\\n                    valueUpdate: allBindings.get('valueUpdate'),\\n                },\\n                context,\\n            );\\n        }\\n    };\\n    var json_data = {\\\"formatted_vals\\\":[\\\"-1.9\\\",\\\"-1.8\\\",\\\"-1.7\\\",\\\"-1.6\\\",\\\"-1.5\\\",\\\"-1.4\\\",\\\"-1.3\\\",\\\"-1.2\\\",\\\"-1.1\\\",\\\"-1.0\\\",\\\"-0.9\\\",\\\"-0.8\\\",\\\"-0.7\\\",\\\"-0.6\\\",\\\"-0.5\\\",\\\"-0.4\\\",\\\"-0.3\\\",\\\"-0.2\\\",\\\"-0.1\\\",\\\"0.0\\\",\\\"0.1\\\",\\\"0.2\\\",\\\"0.3\\\",\\\"0.4\\\",\\\"0.5\\\",\\\"0.6\\\",\\\"0.7\\\",\\\"0.8\\\",\\\"0.9\\\",\\\"1.0\\\",\\\"1.1\\\",\\\"1.2\\\",\\\"1.3\\\",\\\"1.4\\\",\\\"1.5\\\",\\\"1.6\\\",\\\"1.7\\\",\\\"1.8\\\",\\\"1.9\\\",\\\"2.0\\\"],\\\"changes\\\":WebIO.getval({\\\"name\\\":\\\"changes\\\",\\\"scope\\\":\\\"17188164110446871906\\\",\\\"id\\\":\\\"94263973988477221\\\",\\\"type\\\":\\\"observable\\\"}),\\\"index\\\":WebIO.getval({\\\"name\\\":\\\"index\\\",\\\"scope\\\":\\\"17188164110446871906\\\",\\\"id\\\":\\\"4458119895306093670\\\",\\\"type\\\":\\\"observable\\\"})};\\n    var self = this;\\n    function AppViewModel() {\\n        for (var key in json_data) {\\n            var el = json_data[key];\\n            this[key] = Array.isArray(el) ? ko.observableArray(el) : ko.observable(el);\\n        }\\n        \\n        [this[\\\"formatted_val\\\"]=ko.computed(    function(){\\n        return this.formatted_vals()[parseInt(this.index())-(1)];\\n    }\\n,this)]\\n        [this[\\\"changes\\\"].subscribe((function (val){!(this.valueFromJulia[\\\"changes\\\"]) ? (WebIO.setval({\\\"name\\\":\\\"changes\\\",\\\"scope\\\":\\\"17188164110446871906\\\",\\\"id\\\":\\\"94263973988477221\\\",\\\"type\\\":\\\"observable\\\"},val)) : undefined; return this.valueFromJulia[\\\"changes\\\"]=false}),self),this[\\\"index\\\"].subscribe((function (val){!(this.valueFromJulia[\\\"index\\\"]) ? (WebIO.setval({\\\"name\\\":\\\"index\\\",\\\"scope\\\":\\\"17188164110446871906\\\",\\\"id\\\":\\\"4458119895306093670\\\",\\\"type\\\":\\\"observable\\\"},val)) : undefined; return this.valueFromJulia[\\\"index\\\"]=false}),self)]\\n        \\n    }\\n    self.model = new AppViewModel();\\n    self.valueFromJulia = {};\\n    for (var key in json_data) {\\n        self.valueFromJulia[key] = false;\\n    }\\n    ko.applyBindings(self.model, self.dom);\\n}\\n);\\n    (WebIO.importBlock({\\\"data\\\":[{\\\"name\\\":\\\"knockout\\\",\\\"type\\\":\\\"js\\\",\\\"url\\\":\\\"/assetserver/7f6b498a95a9ac6b63c8a1071f981fdcb2e51812-knockout.js\\\"},{\\\"name\\\":\\\"knockout_punches\\\",\\\"type\\\":\\\"js\\\",\\\"url\\\":\\\"/assetserver/5f04fb6c5d5058eabc17f9b5db30d55e40586407-knockout_punches.js\\\"}],\\\"type\\\":\\\"async_block\\\"})).then((imports) => handler.apply(this, imports));\\n}\\n\")])], Dict{Symbol, Any}(:className => \"field interact-widget\")), Node{WebIO.DOM}(WebIO.DOM(:html, :div), Any[Scope(Node{WebIO.DOM}(WebIO.DOM(:html, :div), Any[Node{WebIO.DOM}(WebIO.DOM(:html, :div), Any[Node{WebIO.DOM}(WebIO.DOM(:html, :label), Any[\"y\"], Dict{Symbol, Any}(:className => \"interact \", :style => Dict{Any, Any}(:padding => \"5px 10px 0px 10px\")))], Dict{Symbol, Any}(:className => \"interact-flex-row-left\")), Node{WebIO.DOM}(WebIO.DOM(:html, :div), Any[Node{WebIO.DOM}(WebIO.DOM(:html, :input), Any[], Dict{Symbol, Any}(:max => 40, :min => 1, :attributes => Dict{Any, Any}(:type => \"range\", Symbol(\"data-bind\") => \"numericValue: index, valueUpdate: 'input', event: {change: function (){this.changes(this.changes()+1)}}\", \"orient\" => \"horizontal\"), :step => 1, :className => \"slider slider is-fullwidth\", :style => Dict{Any, Any}()))], Dict{Symbol, Any}(:className => \"interact-flex-row-center\")), Node{WebIO.DOM}(WebIO.DOM(:html, :div), Any[Node{WebIO.DOM}(WebIO.DOM(:html, :p), Any[], Dict{Symbol, Any}(:attributes => Dict(\"data-bind\" => \"text: formatted_val\")))], Dict{Symbol, Any}(:className => \"interact-flex-row-right\"))], Dict{Symbol, Any}(:className => \"interact-flex-row interact-widget\")), Dict{String, Tuple{AbstractObservable, Union{Nothing, Bool}}}(\"changes\" => (Observable(0), nothing), \"index\" => (Observable{Any}(20), nothing)), Set{String}(), nothing, Asset[Asset(\"js\", \"knockout\", \"/Users/sheehanolver/.julia/packages/Knockout/HReiN/src/../assets/knockout.js\"), Asset(\"js\", \"knockout_punches\", \"/Users/sheehanolver/.julia/packages/Knockout/HReiN/src/../assets/knockout_punches.js\"), Asset(\"js\", nothing, \"/Users/sheehanolver/.julia/packages/InteractBase/Qhvxg/src/../assets/all.js\"), Asset(\"css\", nothing, \"/Users/sheehanolver/.julia/packages/InteractBase/Qhvxg/src/../assets/style.css\"), Asset(\"css\", nothing, \"/Users/sheehanolver/.julia/packages/Interact/PENUy/src/../assets/bulma_confined.min.css\")], Dict{Any, Any}(\"changes\" => Any[WebIO.JSString(\"(function (val){return (val!=this.model[\\\"changes\\\"]()) ? (this.valueFromJulia[\\\"changes\\\"]=true, this.model[\\\"changes\\\"](val)) : undefined})\")], \"index\" => Any[WebIO.JSString(\"(function (val){return (val!=this.model[\\\"index\\\"]()) ? (this.valueFromJulia[\\\"index\\\"]=true, this.model[\\\"index\\\"](val)) : undefined})\")]), WebIO.ConnectionPool(Channel{Any}(32), Set{AbstractConnection}(), Condition(Base.InvasiveLinkedList{Task}(Task (runnable) @0x00000001441d4940, Task (runnable) @0x00000001441d4940), Base.AlwaysLockedST(1))), WebIO.JSString[WebIO.JSString(\"function () {\\n    var handler = (function (ko, koPunches) {\\n    ko.punches.enableAll();\\n    ko.bindingHandlers.numericValue = {\\n        init: function(element, valueAccessor, allBindings, data, context) {\\n            var stringified = ko.observable(ko.unwrap(valueAccessor()));\\n            stringified.subscribe(function(value) {\\n                var val = parseFloat(value);\\n                if (!isNaN(val)) {\\n                    valueAccessor()(val);\\n                }\\n            });\\n            valueAccessor().subscribe(function(value) {\\n                var str = JSON.stringify(value);\\n                if ((str == \\\"0\\\") && ([\\\"-0\\\", \\\"-0.\\\"].indexOf(stringified()) >= 0))\\n                     return;\\n                 if ([\\\"null\\\", \\\"\\\"].indexOf(str) >= 0)\\n                     return;\\n                stringified(str);\\n            });\\n            ko.applyBindingsToNode(\\n                element,\\n                {\\n                    value: stringified,\\n                    valueUpdate: allBindings.get('valueUpdate'),\\n                },\\n                context,\\n            );\\n        }\\n    };\\n    var json_data = {\\\"formatted_vals\\\":[\\\"-1.9\\\",\\\"-1.8\\\",\\\"-1.7\\\",\\\"-1.6\\\",\\\"-1.5\\\",\\\"-1.4\\\",\\\"-1.3\\\",\\\"-1.2\\\",\\\"-1.1\\\",\\\"-1.0\\\",\\\"-0.9\\\",\\\"-0.8\\\",\\\"-0.7\\\",\\\"-0.6\\\",\\\"-0.5\\\",\\\"-0.4\\\",\\\"-0.3\\\",\\\"-0.2\\\",\\\"-0.1\\\",\\\"0.0\\\",\\\"0.1\\\",\\\"0.2\\\",\\\"0.3\\\",\\\"0.4\\\",\\\"0.5\\\",\\\"0.6\\\",\\\"0.7\\\",\\\"0.8\\\",\\\"0.9\\\",\\\"1.0\\\",\\\"1.1\\\",\\\"1.2\\\",\\\"1.3\\\",\\\"1.4\\\",\\\"1.5\\\",\\\"1.6\\\",\\\"1.7\\\",\\\"1.8\\\",\\\"1.9\\\",\\\"2.0\\\"],\\\"changes\\\":WebIO.getval({\\\"name\\\":\\\"changes\\\",\\\"scope\\\":\\\"12666140662556174491\\\",\\\"id\\\":\\\"120725102155087876\\\",\\\"type\\\":\\\"observable\\\"}),\\\"index\\\":WebIO.getval({\\\"name\\\":\\\"index\\\",\\\"scope\\\":\\\"12666140662556174491\\\",\\\"id\\\":\\\"2494877817118037105\\\",\\\"type\\\":\\\"observable\\\"})};\\n    var self = this;\\n    function AppViewModel() {\\n        for (var key in json_data) {\\n            var el = json_data[key];\\n            this[key] = Array.isArray(el) ? ko.observableArray(el) : ko.observable(el);\\n        }\\n        \\n        [this[\\\"formatted_val\\\"]=ko.computed(    function(){\\n        return this.formatted_vals()[parseInt(this.index())-(1)];\\n    }\\n,this)]\\n        [this[\\\"changes\\\"].subscribe((function (val){!(this.valueFromJulia[\\\"changes\\\"]) ? (WebIO.setval({\\\"name\\\":\\\"changes\\\",\\\"scope\\\":\\\"12666140662556174491\\\",\\\"id\\\":\\\"120725102155087876\\\",\\\"type\\\":\\\"observable\\\"},val)) : undefined; return this.valueFromJulia[\\\"changes\\\"]=false}),self),this[\\\"index\\\"].subscribe((function (val){!(this.valueFromJulia[\\\"index\\\"]) ? (WebIO.setval({\\\"name\\\":\\\"index\\\",\\\"scope\\\":\\\"12666140662556174491\\\",\\\"id\\\":\\\"2494877817118037105\\\",\\\"type\\\":\\\"observable\\\"},val)) : undefined; return this.valueFromJulia[\\\"index\\\"]=false}),self)]\\n        \\n    }\\n    self.model = new AppViewModel();\\n    self.valueFromJulia = {};\\n    for (var key in json_data) {\\n        self.valueFromJulia[key] = false;\\n    }\\n    ko.applyBindings(self.model, self.dom);\\n}\\n);\\n    (WebIO.importBlock({\\\"data\\\":[{\\\"name\\\":\\\"knockout\\\",\\\"type\\\":\\\"js\\\",\\\"url\\\":\\\"/assetserver/7f6b498a95a9ac6b63c8a1071f981fdcb2e51812-knockout.js\\\"},{\\\"name\\\":\\\"knockout_punches\\\",\\\"type\\\":\\\"js\\\",\\\"url\\\":\\\"/assetserver/5f04fb6c5d5058eabc17f9b5db30d55e40586407-knockout_punches.js\\\"}],\\\"type\\\":\\\"async_block\\\"})).then((imports) => handler.apply(this, imports));\\n}\\n\")])], Dict{Symbol, Any}(:className => \"field interact-widget\")), Node{WebIO.DOM}(WebIO.DOM(:html, :div), Any[Scope(Node{WebIO.DOM}(WebIO.DOM(:html, :div), Any[Node{WebIO.DOM}(WebIO.DOM(:html, :div), Any[Node{WebIO.DOM}(WebIO.DOM(:html, :label), Any[\"z\"], Dict{Symbol, Any}(:className => \"interact \", :style => Dict{Any, Any}(:padding => \"5px 10px 0px 10px\")))], Dict{Symbol, Any}(:className => \"interact-flex-row-left\")), Node{WebIO.DOM}(WebIO.DOM(:html, :div), Any[Node{WebIO.DOM}(WebIO.DOM(:html, :input), Any[], Dict{Symbol, Any}(:max => 20, :min => 1, :attributes => Dict{Any, Any}(:type => \"range\", Symbol(\"data-bind\") => \"numericValue: index, valueUpdate: 'input', event: {change: function (){this.changes(this.changes()+1)}}\", \"orient\" => \"horizontal\"), :step => 1, :className => \"slider slider is-fullwidth\", :style => Dict{Any, Any}()))], Dict{Symbol, Any}(:className => \"interact-flex-row-center\")), Node{WebIO.DOM}(WebIO.DOM(:html, :div), Any[Node{WebIO.DOM}(WebIO.DOM(:html, :p), Any[], Dict{Symbol, Any}(:attributes => Dict(\"data-bind\" => \"text: formatted_val\")))], Dict{Symbol, Any}(:className => \"interact-flex-row-right\"))], Dict{Symbol, Any}(:className => \"interact-flex-row interact-widget\")), Dict{String, Tuple{AbstractObservable, Union{Nothing, Bool}}}(\"changes\" => (Observable(0), nothing), \"index\" => (Observable{Any}(10), nothing)), Set{String}(), nothing, Asset[Asset(\"js\", \"knockout\", \"/Users/sheehanolver/.julia/packages/Knockout/HReiN/src/../assets/knockout.js\"), Asset(\"js\", \"knockout_punches\", \"/Users/sheehanolver/.julia/packages/Knockout/HReiN/src/../assets/knockout_punches.js\"), Asset(\"js\", nothing, \"/Users/sheehanolver/.julia/packages/InteractBase/Qhvxg/src/../assets/all.js\"), Asset(\"css\", nothing, \"/Users/sheehanolver/.julia/packages/InteractBase/Qhvxg/src/../assets/style.css\"), Asset(\"css\", nothing, \"/Users/sheehanolver/.julia/packages/Interact/PENUy/src/../assets/bulma_confined.min.css\")], Dict{Any, Any}(\"changes\" => Any[WebIO.JSString(\"(function (val){return (val!=this.model[\\\"changes\\\"]()) ? (this.valueFromJulia[\\\"changes\\\"]=true, this.model[\\\"changes\\\"](val)) : undefined})\")], \"index\" => Any[WebIO.JSString(\"(function (val){return (val!=this.model[\\\"index\\\"]()) ? (this.valueFromJulia[\\\"index\\\"]=true, this.model[\\\"index\\\"](val)) : undefined})\")]), WebIO.ConnectionPool(Channel{Any}(32), Set{AbstractConnection}(), Condition(Base.InvasiveLinkedList{Task}(Task (runnable) @0x00000001441d4be0, Task (runnable) @0x00000001441d4be0), Base.AlwaysLockedST(1))), WebIO.JSString[WebIO.JSString(\"function () {\\n    var handler = (function (ko, koPunches) {\\n    ko.punches.enableAll();\\n    ko.bindingHandlers.numericValue = {\\n        init: function(element, valueAccessor, allBindings, data, context) {\\n            var stringified = ko.observable(ko.unwrap(valueAccessor()));\\n            stringified.subscribe(function(value) {\\n                var val = parseFloat(value);\\n                if (!isNaN(val)) {\\n                    valueAccessor()(val);\\n                }\\n            });\\n            valueAccessor().subscribe(function(value) {\\n                var str = JSON.stringify(value);\\n                if ((str == \\\"0\\\") && ([\\\"-0\\\", \\\"-0.\\\"].indexOf(stringified()) >= 0))\\n                     return;\\n                 if ([\\\"null\\\", \\\"\\\"].indexOf(str) >= 0)\\n                     return;\\n                stringified(str);\\n            });\\n            ko.applyBindingsToNode(\\n                element,\\n                {\\n                    value: stringified,\\n                    valueUpdate: allBindings.get('valueUpdate'),\\n                },\\n                context,\\n            );\\n        }\\n    };\\n    var json_data = {\\\"formatted_vals\\\":[\\\"0.1\\\",\\\"0.2\\\",\\\"0.3\\\",\\\"0.4\\\",\\\"0.5\\\",\\\"0.6\\\",\\\"0.7\\\",\\\"0.8\\\",\\\"0.9\\\",\\\"1.0\\\",\\\"1.1\\\",\\\"1.2\\\",\\\"1.3\\\",\\\"1.4\\\",\\\"1.5\\\",\\\"1.6\\\",\\\"1.7\\\",\\\"1.8\\\",\\\"1.9\\\",\\\"2.0\\\"],\\\"changes\\\":WebIO.getval({\\\"name\\\":\\\"changes\\\",\\\"scope\\\":\\\"7504640313202882879\\\",\\\"id\\\":\\\"2798357880669968118\\\",\\\"type\\\":\\\"observable\\\"}),\\\"index\\\":WebIO.getval({\\\"name\\\":\\\"index\\\",\\\"scope\\\":\\\"7504640313202882879\\\",\\\"id\\\":\\\"2229754691312903081\\\",\\\"type\\\":\\\"observable\\\"})};\\n    var self = this;\\n    function AppViewModel() {\\n        for (var key in json_data) {\\n            var el = json_data[key];\\n            this[key] = Array.isArray(el) ? ko.observableArray(el) : ko.observable(el);\\n        }\\n        \\n        [this[\\\"formatted_val\\\"]=ko.computed(    function(){\\n        return this.formatted_vals()[parseInt(this.index())-(1)];\\n    }\\n,this)]\\n        [this[\\\"changes\\\"].subscribe((function (val){!(this.valueFromJulia[\\\"changes\\\"]) ? (WebIO.setval({\\\"name\\\":\\\"changes\\\",\\\"scope\\\":\\\"7504640313202882879\\\",\\\"id\\\":\\\"2798357880669968118\\\",\\\"type\\\":\\\"observable\\\"},val)) : undefined; return this.valueFromJulia[\\\"changes\\\"]=false}),self),this[\\\"index\\\"].subscribe((function (val){!(this.valueFromJulia[\\\"index\\\"]) ? (WebIO.setval({\\\"name\\\":\\\"index\\\",\\\"scope\\\":\\\"7504640313202882879\\\",\\\"id\\\":\\\"2229754691312903081\\\",\\\"type\\\":\\\"observable\\\"},val)) : undefined; return this.valueFromJulia[\\\"index\\\"]=false}),self)]\\n        \\n    }\\n    self.model = new AppViewModel();\\n    self.valueFromJulia = {};\\n    for (var key in json_data) {\\n        self.valueFromJulia[key] = false;\\n    }\\n    ko.applyBindings(self.model, self.dom);\\n}\\n);\\n    (WebIO.importBlock({\\\"data\\\":[{\\\"name\\\":\\\"knockout\\\",\\\"type\\\":\\\"js\\\",\\\"url\\\":\\\"/assetserver/7f6b498a95a9ac6b63c8a1071f981fdcb2e51812-knockout.js\\\"},{\\\"name\\\":\\\"knockout_punches\\\",\\\"type\\\":\\\"js\\\",\\\"url\\\":\\\"/assetserver/5f04fb6c5d5058eabc17f9b5db30d55e40586407-knockout_punches.js\\\"}],\\\"type\\\":\\\"async_block\\\"})).then((imports) => handler.apply(this, imports));\\n}\\n\")])], Dict{Symbol, Any}(:className => \"field interact-widget\")), Observable(Node{WebIO.DOM}(WebIO.DOM(:html, :div), Any[Plot{Plots.GRBackend() n=3}], Dict{Symbol, Any}(:className => \"interact-flex-row interact-widget\")))], Dict{Symbol, Any}())"
      ]
     },
     "execution_count": 52,
     "metadata": {
      "application/vnd.webio.node+json": {
       "kernelId": "4246cf49-069c-40d8-87b6-7180a3934de9"
      }
     },
     "output_type": "execute_result"
    }
   ],
   "source": [
    "# use Interact.jl for sliders via @manipulate\n",
    "@manipulate for x=-1.9:0.1:2, y=-1.9:0.1:2, z=0.1:0.1:2\n",
    "    𝐱 = [x,y,z]\n",
    "\n",
    "    scatter3d([𝐱[1]], [𝐱[2]], [𝐱[3]]; label=\"x\", legend=:bottomleft, xlims=(-2,2), ylims=(-2,2), zlims=(-2,2))\n",
    "    plot!([0,𝐱[1]], [0,𝐱[2]], [0,𝐱[3]]; arrow=true, label=nothing, linecolor=:blue)\n",
    "\n",
    "    xs, ys = [-2,2], [-2,2]\n",
    "\n",
    "    Q = nullspace(𝐱')\n",
    "    a,b = svd(Q[1:2,:]') \\ Q[3,:]\n",
    "    p = (x,y) -> a*x + b*y\n",
    "\n",
    "    surface!(xs, ys, p.(xs', ys); alpha=0.5)\n",
    "end"
   ]
  },
  {
   "cell_type": "code",
   "execution_count": 56,
   "id": "d507fcf6",
   "metadata": {
    "scrolled": false
   },
   "outputs": [
    {
     "data": {
      "application/vnd.webio.node+json": {
       "children": [
        {
         "children": [
          {
           "children": [
            {
             "children": [
              {
               "children": [
                {
                 "children": [
                  "x"
                 ],
                 "instanceArgs": {
                  "namespace": "html",
                  "tag": "label"
                 },
                 "nodeType": "DOM",
                 "props": {
                  "className": "interact ",
                  "style": {
                   "padding": "5px 10px 0px 10px"
                  }
                 },
                 "type": "node"
                }
               ],
               "instanceArgs": {
                "namespace": "html",
                "tag": "div"
               },
               "nodeType": "DOM",
               "props": {
                "className": "interact-flex-row-left"
               },
               "type": "node"
              },
              {
               "children": [
                {
                 "children": [],
                 "instanceArgs": {
                  "namespace": "html",
                  "tag": "input"
                 },
                 "nodeType": "DOM",
                 "props": {
                  "attributes": {
                   "data-bind": "numericValue: index, valueUpdate: 'input', event: {change: function (){this.changes(this.changes()+1)}}",
                   "orient": "horizontal",
                   "type": "range"
                  },
                  "className": "slider slider is-fullwidth",
                  "max": 40,
                  "min": 1,
                  "step": 1,
                  "style": {}
                 },
                 "type": "node"
                }
               ],
               "instanceArgs": {
                "namespace": "html",
                "tag": "div"
               },
               "nodeType": "DOM",
               "props": {
                "className": "interact-flex-row-center"
               },
               "type": "node"
              },
              {
               "children": [
                {
                 "children": [],
                 "instanceArgs": {
                  "namespace": "html",
                  "tag": "p"
                 },
                 "nodeType": "DOM",
                 "props": {
                  "attributes": {
                   "data-bind": "text: formatted_val"
                  }
                 },
                 "type": "node"
                }
               ],
               "instanceArgs": {
                "namespace": "html",
                "tag": "div"
               },
               "nodeType": "DOM",
               "props": {
                "className": "interact-flex-row-right"
               },
               "type": "node"
              }
             ],
             "instanceArgs": {
              "namespace": "html",
              "tag": "div"
             },
             "nodeType": "DOM",
             "props": {
              "className": "interact-flex-row interact-widget"
             },
             "type": "node"
            }
           ],
           "instanceArgs": {
            "handlers": {
             "changes": [
              "(function (val){return (val!=this.model[\"changes\"]()) ? (this.valueFromJulia[\"changes\"]=true, this.model[\"changes\"](val)) : undefined})"
             ],
             "index": [
              "(function (val){return (val!=this.model[\"index\"]()) ? (this.valueFromJulia[\"index\"]=true, this.model[\"index\"](val)) : undefined})"
             ]
            },
            "id": "12085418636875583525",
            "imports": {
             "data": [
              {
               "name": "knockout",
               "type": "js",
               "url": "/assetserver/7f6b498a95a9ac6b63c8a1071f981fdcb2e51812-knockout.js"
              },
              {
               "name": "knockout_punches",
               "type": "js",
               "url": "/assetserver/5f04fb6c5d5058eabc17f9b5db30d55e40586407-knockout_punches.js"
              },
              {
               "name": null,
               "type": "js",
               "url": "/assetserver/360a916de0e68fbc737b0c42b281e4a3865e0e0d-all.js"
              },
              {
               "name": null,
               "type": "css",
               "url": "/assetserver/e0177d064698cd1c6cb5700b95e35e3ddec1f896-style.css"
              },
              {
               "name": null,
               "type": "css",
               "url": "/assetserver/b73710587e210485b07cb381d6adb38aa7ca3e34-bulma_confined.min.css"
              }
             ],
             "type": "async_block"
            },
            "mount_callbacks": [
             "function () {\n    var handler = (function (ko, koPunches) {\n    ko.punches.enableAll();\n    ko.bindingHandlers.numericValue = {\n        init: function(element, valueAccessor, allBindings, data, context) {\n            var stringified = ko.observable(ko.unwrap(valueAccessor()));\n            stringified.subscribe(function(value) {\n                var val = parseFloat(value);\n                if (!isNaN(val)) {\n                    valueAccessor()(val);\n                }\n            });\n            valueAccessor().subscribe(function(value) {\n                var str = JSON.stringify(value);\n                if ((str == \"0\") && ([\"-0\", \"-0.\"].indexOf(stringified()) >= 0))\n                     return;\n                 if ([\"null\", \"\"].indexOf(str) >= 0)\n                     return;\n                stringified(str);\n            });\n            ko.applyBindingsToNode(\n                element,\n                {\n                    value: stringified,\n                    valueUpdate: allBindings.get('valueUpdate'),\n                },\n                context,\n            );\n        }\n    };\n    var json_data = {\"formatted_vals\":[\"-1.9\",\"-1.8\",\"-1.7\",\"-1.6\",\"-1.5\",\"-1.4\",\"-1.3\",\"-1.2\",\"-1.1\",\"-1.0\",\"-0.9\",\"-0.8\",\"-0.7\",\"-0.6\",\"-0.5\",\"-0.4\",\"-0.3\",\"-0.2\",\"-0.1\",\"0.0\",\"0.1\",\"0.2\",\"0.3\",\"0.4\",\"0.5\",\"0.6\",\"0.7\",\"0.8\",\"0.9\",\"1.0\",\"1.1\",\"1.2\",\"1.3\",\"1.4\",\"1.5\",\"1.6\",\"1.7\",\"1.8\",\"1.9\",\"2.0\"],\"changes\":WebIO.getval({\"name\":\"changes\",\"scope\":\"12085418636875583525\",\"id\":\"16497858394903429238\",\"type\":\"observable\"}),\"index\":WebIO.getval({\"name\":\"index\",\"scope\":\"12085418636875583525\",\"id\":\"5169219422236929025\",\"type\":\"observable\"})};\n    var self = this;\n    function AppViewModel() {\n        for (var key in json_data) {\n            var el = json_data[key];\n            this[key] = Array.isArray(el) ? ko.observableArray(el) : ko.observable(el);\n        }\n        \n        [this[\"formatted_val\"]=ko.computed(    function(){\n        return this.formatted_vals()[parseInt(this.index())-(1)];\n    }\n,this)]\n        [this[\"changes\"].subscribe((function (val){!(this.valueFromJulia[\"changes\"]) ? (WebIO.setval({\"name\":\"changes\",\"scope\":\"12085418636875583525\",\"id\":\"16497858394903429238\",\"type\":\"observable\"},val)) : undefined; return this.valueFromJulia[\"changes\"]=false}),self),this[\"index\"].subscribe((function (val){!(this.valueFromJulia[\"index\"]) ? (WebIO.setval({\"name\":\"index\",\"scope\":\"12085418636875583525\",\"id\":\"5169219422236929025\",\"type\":\"observable\"},val)) : undefined; return this.valueFromJulia[\"index\"]=false}),self)]\n        \n    }\n    self.model = new AppViewModel();\n    self.valueFromJulia = {};\n    for (var key in json_data) {\n        self.valueFromJulia[key] = false;\n    }\n    ko.applyBindings(self.model, self.dom);\n}\n);\n    (WebIO.importBlock({\"data\":[{\"name\":\"knockout\",\"type\":\"js\",\"url\":\"/assetserver/7f6b498a95a9ac6b63c8a1071f981fdcb2e51812-knockout.js\"},{\"name\":\"knockout_punches\",\"type\":\"js\",\"url\":\"/assetserver/5f04fb6c5d5058eabc17f9b5db30d55e40586407-knockout_punches.js\"}],\"type\":\"async_block\"})).then((imports) => handler.apply(this, imports));\n}\n"
            ],
            "observables": {
             "changes": {
              "id": "16497858394903429238",
              "sync": false,
              "value": 0
             },
             "index": {
              "id": "5169219422236929025",
              "sync": true,
              "value": 20
             }
            },
            "systemjs_options": null
           },
           "nodeType": "Scope",
           "props": {},
           "type": "node"
          }
         ],
         "instanceArgs": {
          "namespace": "html",
          "tag": "div"
         },
         "nodeType": "DOM",
         "props": {
          "className": "field interact-widget"
         },
         "type": "node"
        },
        {
         "children": [
          {
           "children": [
            {
             "children": [
              {
               "children": [
                {
                 "children": [
                  "y"
                 ],
                 "instanceArgs": {
                  "namespace": "html",
                  "tag": "label"
                 },
                 "nodeType": "DOM",
                 "props": {
                  "className": "interact ",
                  "style": {
                   "padding": "5px 10px 0px 10px"
                  }
                 },
                 "type": "node"
                }
               ],
               "instanceArgs": {
                "namespace": "html",
                "tag": "div"
               },
               "nodeType": "DOM",
               "props": {
                "className": "interact-flex-row-left"
               },
               "type": "node"
              },
              {
               "children": [
                {
                 "children": [],
                 "instanceArgs": {
                  "namespace": "html",
                  "tag": "input"
                 },
                 "nodeType": "DOM",
                 "props": {
                  "attributes": {
                   "data-bind": "numericValue: index, valueUpdate: 'input', event: {change: function (){this.changes(this.changes()+1)}}",
                   "orient": "horizontal",
                   "type": "range"
                  },
                  "className": "slider slider is-fullwidth",
                  "max": 40,
                  "min": 1,
                  "step": 1,
                  "style": {}
                 },
                 "type": "node"
                }
               ],
               "instanceArgs": {
                "namespace": "html",
                "tag": "div"
               },
               "nodeType": "DOM",
               "props": {
                "className": "interact-flex-row-center"
               },
               "type": "node"
              },
              {
               "children": [
                {
                 "children": [],
                 "instanceArgs": {
                  "namespace": "html",
                  "tag": "p"
                 },
                 "nodeType": "DOM",
                 "props": {
                  "attributes": {
                   "data-bind": "text: formatted_val"
                  }
                 },
                 "type": "node"
                }
               ],
               "instanceArgs": {
                "namespace": "html",
                "tag": "div"
               },
               "nodeType": "DOM",
               "props": {
                "className": "interact-flex-row-right"
               },
               "type": "node"
              }
             ],
             "instanceArgs": {
              "namespace": "html",
              "tag": "div"
             },
             "nodeType": "DOM",
             "props": {
              "className": "interact-flex-row interact-widget"
             },
             "type": "node"
            }
           ],
           "instanceArgs": {
            "handlers": {
             "changes": [
              "(function (val){return (val!=this.model[\"changes\"]()) ? (this.valueFromJulia[\"changes\"]=true, this.model[\"changes\"](val)) : undefined})"
             ],
             "index": [
              "(function (val){return (val!=this.model[\"index\"]()) ? (this.valueFromJulia[\"index\"]=true, this.model[\"index\"](val)) : undefined})"
             ]
            },
            "id": "13867969527428788855",
            "imports": {
             "data": [
              {
               "name": "knockout",
               "type": "js",
               "url": "/assetserver/7f6b498a95a9ac6b63c8a1071f981fdcb2e51812-knockout.js"
              },
              {
               "name": "knockout_punches",
               "type": "js",
               "url": "/assetserver/5f04fb6c5d5058eabc17f9b5db30d55e40586407-knockout_punches.js"
              },
              {
               "name": null,
               "type": "js",
               "url": "/assetserver/360a916de0e68fbc737b0c42b281e4a3865e0e0d-all.js"
              },
              {
               "name": null,
               "type": "css",
               "url": "/assetserver/e0177d064698cd1c6cb5700b95e35e3ddec1f896-style.css"
              },
              {
               "name": null,
               "type": "css",
               "url": "/assetserver/b73710587e210485b07cb381d6adb38aa7ca3e34-bulma_confined.min.css"
              }
             ],
             "type": "async_block"
            },
            "mount_callbacks": [
             "function () {\n    var handler = (function (ko, koPunches) {\n    ko.punches.enableAll();\n    ko.bindingHandlers.numericValue = {\n        init: function(element, valueAccessor, allBindings, data, context) {\n            var stringified = ko.observable(ko.unwrap(valueAccessor()));\n            stringified.subscribe(function(value) {\n                var val = parseFloat(value);\n                if (!isNaN(val)) {\n                    valueAccessor()(val);\n                }\n            });\n            valueAccessor().subscribe(function(value) {\n                var str = JSON.stringify(value);\n                if ((str == \"0\") && ([\"-0\", \"-0.\"].indexOf(stringified()) >= 0))\n                     return;\n                 if ([\"null\", \"\"].indexOf(str) >= 0)\n                     return;\n                stringified(str);\n            });\n            ko.applyBindingsToNode(\n                element,\n                {\n                    value: stringified,\n                    valueUpdate: allBindings.get('valueUpdate'),\n                },\n                context,\n            );\n        }\n    };\n    var json_data = {\"formatted_vals\":[\"-1.9\",\"-1.8\",\"-1.7\",\"-1.6\",\"-1.5\",\"-1.4\",\"-1.3\",\"-1.2\",\"-1.1\",\"-1.0\",\"-0.9\",\"-0.8\",\"-0.7\",\"-0.6\",\"-0.5\",\"-0.4\",\"-0.3\",\"-0.2\",\"-0.1\",\"0.0\",\"0.1\",\"0.2\",\"0.3\",\"0.4\",\"0.5\",\"0.6\",\"0.7\",\"0.8\",\"0.9\",\"1.0\",\"1.1\",\"1.2\",\"1.3\",\"1.4\",\"1.5\",\"1.6\",\"1.7\",\"1.8\",\"1.9\",\"2.0\"],\"changes\":WebIO.getval({\"name\":\"changes\",\"scope\":\"13867969527428788855\",\"id\":\"9676506777198614932\",\"type\":\"observable\"}),\"index\":WebIO.getval({\"name\":\"index\",\"scope\":\"13867969527428788855\",\"id\":\"13599623982008031655\",\"type\":\"observable\"})};\n    var self = this;\n    function AppViewModel() {\n        for (var key in json_data) {\n            var el = json_data[key];\n            this[key] = Array.isArray(el) ? ko.observableArray(el) : ko.observable(el);\n        }\n        \n        [this[\"formatted_val\"]=ko.computed(    function(){\n        return this.formatted_vals()[parseInt(this.index())-(1)];\n    }\n,this)]\n        [this[\"changes\"].subscribe((function (val){!(this.valueFromJulia[\"changes\"]) ? (WebIO.setval({\"name\":\"changes\",\"scope\":\"13867969527428788855\",\"id\":\"9676506777198614932\",\"type\":\"observable\"},val)) : undefined; return this.valueFromJulia[\"changes\"]=false}),self),this[\"index\"].subscribe((function (val){!(this.valueFromJulia[\"index\"]) ? (WebIO.setval({\"name\":\"index\",\"scope\":\"13867969527428788855\",\"id\":\"13599623982008031655\",\"type\":\"observable\"},val)) : undefined; return this.valueFromJulia[\"index\"]=false}),self)]\n        \n    }\n    self.model = new AppViewModel();\n    self.valueFromJulia = {};\n    for (var key in json_data) {\n        self.valueFromJulia[key] = false;\n    }\n    ko.applyBindings(self.model, self.dom);\n}\n);\n    (WebIO.importBlock({\"data\":[{\"name\":\"knockout\",\"type\":\"js\",\"url\":\"/assetserver/7f6b498a95a9ac6b63c8a1071f981fdcb2e51812-knockout.js\"},{\"name\":\"knockout_punches\",\"type\":\"js\",\"url\":\"/assetserver/5f04fb6c5d5058eabc17f9b5db30d55e40586407-knockout_punches.js\"}],\"type\":\"async_block\"})).then((imports) => handler.apply(this, imports));\n}\n"
            ],
            "observables": {
             "changes": {
              "id": "9676506777198614932",
              "sync": false,
              "value": 0
             },
             "index": {
              "id": "13599623982008031655",
              "sync": true,
              "value": 20
             }
            },
            "systemjs_options": null
           },
           "nodeType": "Scope",
           "props": {},
           "type": "node"
          }
         ],
         "instanceArgs": {
          "namespace": "html",
          "tag": "div"
         },
         "nodeType": "DOM",
         "props": {
          "className": "field interact-widget"
         },
         "type": "node"
        },
        {
         "children": [
          {
           "children": [
            {
             "children": [
              {
               "children": [
                {
                 "children": [
                  "z"
                 ],
                 "instanceArgs": {
                  "namespace": "html",
                  "tag": "label"
                 },
                 "nodeType": "DOM",
                 "props": {
                  "className": "interact ",
                  "style": {
                   "padding": "5px 10px 0px 10px"
                  }
                 },
                 "type": "node"
                }
               ],
               "instanceArgs": {
                "namespace": "html",
                "tag": "div"
               },
               "nodeType": "DOM",
               "props": {
                "className": "interact-flex-row-left"
               },
               "type": "node"
              },
              {
               "children": [
                {
                 "children": [],
                 "instanceArgs": {
                  "namespace": "html",
                  "tag": "input"
                 },
                 "nodeType": "DOM",
                 "props": {
                  "attributes": {
                   "data-bind": "numericValue: index, valueUpdate: 'input', event: {change: function (){this.changes(this.changes()+1)}}",
                   "orient": "horizontal",
                   "type": "range"
                  },
                  "className": "slider slider is-fullwidth",
                  "max": 20,
                  "min": 1,
                  "step": 1,
                  "style": {}
                 },
                 "type": "node"
                }
               ],
               "instanceArgs": {
                "namespace": "html",
                "tag": "div"
               },
               "nodeType": "DOM",
               "props": {
                "className": "interact-flex-row-center"
               },
               "type": "node"
              },
              {
               "children": [
                {
                 "children": [],
                 "instanceArgs": {
                  "namespace": "html",
                  "tag": "p"
                 },
                 "nodeType": "DOM",
                 "props": {
                  "attributes": {
                   "data-bind": "text: formatted_val"
                  }
                 },
                 "type": "node"
                }
               ],
               "instanceArgs": {
                "namespace": "html",
                "tag": "div"
               },
               "nodeType": "DOM",
               "props": {
                "className": "interact-flex-row-right"
               },
               "type": "node"
              }
             ],
             "instanceArgs": {
              "namespace": "html",
              "tag": "div"
             },
             "nodeType": "DOM",
             "props": {
              "className": "interact-flex-row interact-widget"
             },
             "type": "node"
            }
           ],
           "instanceArgs": {
            "handlers": {
             "changes": [
              "(function (val){return (val!=this.model[\"changes\"]()) ? (this.valueFromJulia[\"changes\"]=true, this.model[\"changes\"](val)) : undefined})"
             ],
             "index": [
              "(function (val){return (val!=this.model[\"index\"]()) ? (this.valueFromJulia[\"index\"]=true, this.model[\"index\"](val)) : undefined})"
             ]
            },
            "id": "15100207381223110524",
            "imports": {
             "data": [
              {
               "name": "knockout",
               "type": "js",
               "url": "/assetserver/7f6b498a95a9ac6b63c8a1071f981fdcb2e51812-knockout.js"
              },
              {
               "name": "knockout_punches",
               "type": "js",
               "url": "/assetserver/5f04fb6c5d5058eabc17f9b5db30d55e40586407-knockout_punches.js"
              },
              {
               "name": null,
               "type": "js",
               "url": "/assetserver/360a916de0e68fbc737b0c42b281e4a3865e0e0d-all.js"
              },
              {
               "name": null,
               "type": "css",
               "url": "/assetserver/e0177d064698cd1c6cb5700b95e35e3ddec1f896-style.css"
              },
              {
               "name": null,
               "type": "css",
               "url": "/assetserver/b73710587e210485b07cb381d6adb38aa7ca3e34-bulma_confined.min.css"
              }
             ],
             "type": "async_block"
            },
            "mount_callbacks": [
             "function () {\n    var handler = (function (ko, koPunches) {\n    ko.punches.enableAll();\n    ko.bindingHandlers.numericValue = {\n        init: function(element, valueAccessor, allBindings, data, context) {\n            var stringified = ko.observable(ko.unwrap(valueAccessor()));\n            stringified.subscribe(function(value) {\n                var val = parseFloat(value);\n                if (!isNaN(val)) {\n                    valueAccessor()(val);\n                }\n            });\n            valueAccessor().subscribe(function(value) {\n                var str = JSON.stringify(value);\n                if ((str == \"0\") && ([\"-0\", \"-0.\"].indexOf(stringified()) >= 0))\n                     return;\n                 if ([\"null\", \"\"].indexOf(str) >= 0)\n                     return;\n                stringified(str);\n            });\n            ko.applyBindingsToNode(\n                element,\n                {\n                    value: stringified,\n                    valueUpdate: allBindings.get('valueUpdate'),\n                },\n                context,\n            );\n        }\n    };\n    var json_data = {\"formatted_vals\":[\"0.1\",\"0.2\",\"0.3\",\"0.4\",\"0.5\",\"0.6\",\"0.7\",\"0.8\",\"0.9\",\"1.0\",\"1.1\",\"1.2\",\"1.3\",\"1.4\",\"1.5\",\"1.6\",\"1.7\",\"1.8\",\"1.9\",\"2.0\"],\"changes\":WebIO.getval({\"name\":\"changes\",\"scope\":\"15100207381223110524\",\"id\":\"12662641984372177028\",\"type\":\"observable\"}),\"index\":WebIO.getval({\"name\":\"index\",\"scope\":\"15100207381223110524\",\"id\":\"5420163604713154512\",\"type\":\"observable\"})};\n    var self = this;\n    function AppViewModel() {\n        for (var key in json_data) {\n            var el = json_data[key];\n            this[key] = Array.isArray(el) ? ko.observableArray(el) : ko.observable(el);\n        }\n        \n        [this[\"formatted_val\"]=ko.computed(    function(){\n        return this.formatted_vals()[parseInt(this.index())-(1)];\n    }\n,this)]\n        [this[\"changes\"].subscribe((function (val){!(this.valueFromJulia[\"changes\"]) ? (WebIO.setval({\"name\":\"changes\",\"scope\":\"15100207381223110524\",\"id\":\"12662641984372177028\",\"type\":\"observable\"},val)) : undefined; return this.valueFromJulia[\"changes\"]=false}),self),this[\"index\"].subscribe((function (val){!(this.valueFromJulia[\"index\"]) ? (WebIO.setval({\"name\":\"index\",\"scope\":\"15100207381223110524\",\"id\":\"5420163604713154512\",\"type\":\"observable\"},val)) : undefined; return this.valueFromJulia[\"index\"]=false}),self)]\n        \n    }\n    self.model = new AppViewModel();\n    self.valueFromJulia = {};\n    for (var key in json_data) {\n        self.valueFromJulia[key] = false;\n    }\n    ko.applyBindings(self.model, self.dom);\n}\n);\n    (WebIO.importBlock({\"data\":[{\"name\":\"knockout\",\"type\":\"js\",\"url\":\"/assetserver/7f6b498a95a9ac6b63c8a1071f981fdcb2e51812-knockout.js\"},{\"name\":\"knockout_punches\",\"type\":\"js\",\"url\":\"/assetserver/5f04fb6c5d5058eabc17f9b5db30d55e40586407-knockout_punches.js\"}],\"type\":\"async_block\"})).then((imports) => handler.apply(this, imports));\n}\n"
            ],
            "observables": {
             "changes": {
              "id": "12662641984372177028",
              "sync": false,
              "value": 0
             },
             "index": {
              "id": "5420163604713154512",
              "sync": true,
              "value": 10
             }
            },
            "systemjs_options": null
           },
           "nodeType": "Scope",
           "props": {},
           "type": "node"
          }
         ],
         "instanceArgs": {
          "namespace": "html",
          "tag": "div"
         },
         "nodeType": "DOM",
         "props": {
          "className": "field interact-widget"
         },
         "type": "node"
        },
        {
         "children": [
          {
           "children": [],
           "instanceArgs": {
            "id": "8583155317062695474",
            "name": "obs-node"
           },
           "nodeType": "ObservableNode",
           "props": {},
           "type": "node"
          }
         ],
         "instanceArgs": {
          "handlers": {},
          "id": "6193953307860885899",
          "imports": {
           "data": [],
           "type": "async_block"
          },
          "mount_callbacks": [],
          "observables": {
           "obs-node": {
            "id": "8583155317062695474",
            "sync": false,
            "value": {
             "children": [
              {
               "children": [],
               "instanceArgs": {
                "namespace": "html",
                "tag": "div"
               },
               "nodeType": "DOM",
               "props": {
                "setInnerHtml": "<?xml version=\"1.0\" encoding=\"utf-8\"?>\n<svg xmlns=\"http://www.w3.org/2000/svg\" xmlns:xlink=\"http://www.w3.org/1999/xlink\" width=\"600\" height=\"400\" viewBox=\"0 0 2400 1600\">\n<defs>\n  <clipPath id=\"clip040\">\n    <rect x=\"0\" y=\"0\" width=\"2400\" height=\"1600\"/>\n  </clipPath>\n</defs>\n<path clip-path=\"url(#clip040)\" d=\"\nM0 1600 L2400 1600 L2400 0 L0 0  Z\n  \" fill=\"#ffffff\" fill-rule=\"evenodd\" fill-opacity=\"1\"/>\n<defs>\n  <clipPath id=\"clip041\">\n    <rect x=\"480\" y=\"0\" width=\"1681\" height=\"1600\"/>\n  </clipPath>\n</defs>\n<defs>\n  <clipPath id=\"clip042\">\n    <rect x=\"147\" y=\"47\" width=\"1846\" height=\"1440\"/>\n  </clipPath>\n</defs>\n<path clip-path=\"url(#clip042)\" d=\"\nM786.351 984.764 L786.351 624.963 L994.082 445.062 L1353.88 548.928 L1353.88 908.729 L1146.15 1088.63 L786.351 984.764  Z\n  \" fill=\"#ffffff\" fill-rule=\"evenodd\" fill-opacity=\"1\"/>\n<polyline clip-path=\"url(#clip042)\" style=\"stroke:#000000; stroke-linecap:round; stroke-linejoin:round; stroke-width:2; stroke-opacity:0.1; fill:none\" points=\"\n  502.585,1202.68 918.047,842.881 918.047,123.279 \n  \"/>\n<polyline clip-path=\"url(#clip042)\" style=\"stroke:#000000; stroke-linecap:round; stroke-linejoin:round; stroke-width:2; stroke-opacity:0.1; fill:none\" points=\"\n  682.485,1254.61 1097.95,894.814 1097.95,175.212 \n  \"/>\n<polyline clip-path=\"url(#clip042)\" style=\"stroke:#000000; stroke-linecap:round; stroke-linejoin:round; stroke-width:2; stroke-opacity:0.1; fill:none\" points=\"\n  862.386,1306.55 1277.85,946.746 1277.85,227.145 \n  \"/>\n<polyline clip-path=\"url(#clip042)\" style=\"stroke:#000000; stroke-linecap:round; stroke-linejoin:round; stroke-width:2; stroke-opacity:0.1; fill:none\" points=\"\n  1042.29,1358.48 1457.75,998.679 1457.75,279.077 \n  \"/>\n<polyline clip-path=\"url(#clip042)\" style=\"stroke:#000000; stroke-linecap:round; stroke-linejoin:round; stroke-width:2; stroke-opacity:0.1; fill:none\" points=\"\n  1222.19,1410.41 1637.65,1050.61 1637.65,331.01 \n  \"/>\n<polyline clip-path=\"url(#clip040)\" style=\"stroke:#000000; stroke-linecap:round; stroke-linejoin:round; stroke-width:4; stroke-opacity:1; fill:none\" points=\"\n  502.585,1202.68 1222.19,1410.41 \n  \"/>\n<polyline clip-path=\"url(#clip040)\" style=\"stroke:#000000; stroke-linecap:round; stroke-linejoin:round; stroke-width:4; stroke-opacity:1; fill:none\" points=\"\n  502.585,1202.68 507.57,1198.36 \n  \"/>\n<polyline clip-path=\"url(#clip040)\" style=\"stroke:#000000; stroke-linecap:round; stroke-linejoin:round; stroke-width:4; stroke-opacity:1; fill:none\" points=\"\n  682.485,1254.61 687.471,1250.3 \n  \"/>\n<polyline clip-path=\"url(#clip040)\" style=\"stroke:#000000; stroke-linecap:round; stroke-linejoin:round; stroke-width:4; stroke-opacity:1; fill:none\" points=\"\n  862.386,1306.55 867.371,1302.23 \n  \"/>\n<polyline clip-path=\"url(#clip040)\" style=\"stroke:#000000; stroke-linecap:round; stroke-linejoin:round; stroke-width:4; stroke-opacity:1; fill:none\" points=\"\n  1042.29,1358.48 1047.27,1354.16 \n  \"/>\n<polyline clip-path=\"url(#clip040)\" style=\"stroke:#000000; stroke-linecap:round; stroke-linejoin:round; stroke-width:4; stroke-opacity:1; fill:none\" points=\"\n  1222.19,1410.41 1227.17,1406.1 \n  \"/>\n<path clip-path=\"url(#clip040)\" d=\"M434.482 1230.8 L464.157 1230.8 L464.157 1234.74 L434.482 1234.74 L434.482 1230.8 Z\" fill=\"#000000\" fill-rule=\"evenodd\" fill-opacity=\"1\" /><path clip-path=\"url(#clip040)\" d=\"M478.278 1243.7 L494.597 1243.7 L494.597 1247.63 L472.653 1247.63 L472.653 1243.7 Q475.315 1240.94 479.898 1236.31 Q484.505 1231.66 485.685 1230.32 Q487.93 1227.79 488.81 1226.06 Q489.713 1224.3 489.713 1222.61 Q489.713 1219.85 487.768 1218.12 Q485.847 1216.38 482.745 1216.38 Q480.546 1216.38 478.093 1217.15 Q475.662 1217.91 472.884 1219.46 L472.884 1214.74 Q475.708 1213.6 478.162 1213.03 Q480.616 1212.45 482.653 1212.45 Q488.023 1212.45 491.217 1215.13 Q494.412 1217.82 494.412 1222.31 Q494.412 1224.44 493.602 1226.36 Q492.815 1228.26 490.708 1230.85 Q490.13 1231.52 487.028 1234.74 Q483.926 1237.93 478.278 1243.7 Z\" fill=\"#000000\" fill-rule=\"evenodd\" fill-opacity=\"1\" /><path clip-path=\"url(#clip040)\" d=\"M614.012 1282.74 L643.688 1282.74 L643.688 1286.67 L614.012 1286.67 L614.012 1282.74 Z\" fill=\"#000000\" fill-rule=\"evenodd\" fill-opacity=\"1\" /><path clip-path=\"url(#clip040)\" d=\"M654.59 1295.63 L662.229 1295.63 L662.229 1269.26 L653.919 1270.93 L653.919 1266.67 L662.183 1265 L666.859 1265 L666.859 1295.63 L674.498 1295.63 L674.498 1299.56 L654.59 1299.56 L654.59 1295.63 Z\" fill=\"#000000\" fill-rule=\"evenodd\" fill-opacity=\"1\" /><path clip-path=\"url(#clip040)\" d=\"M842.454 1320.02 Q838.843 1320.02 837.014 1323.58 Q835.208 1327.12 835.208 1334.25 Q835.208 1341.36 837.014 1344.92 Q838.843 1348.47 842.454 1348.47 Q846.088 1348.47 847.893 1344.92 Q849.722 1341.36 849.722 1334.25 Q849.722 1327.12 847.893 1323.58 Q846.088 1320.02 842.454 1320.02 M842.454 1316.31 Q848.264 1316.31 851.319 1320.92 Q854.398 1325.5 854.398 1334.25 Q854.398 1342.98 851.319 1347.59 Q848.264 1352.17 842.454 1352.17 Q836.644 1352.17 833.565 1347.59 Q830.509 1342.98 830.509 1334.25 Q830.509 1325.5 833.565 1320.92 Q836.644 1316.31 842.454 1316.31 Z\" fill=\"#000000\" fill-rule=\"evenodd\" fill-opacity=\"1\" /><path clip-path=\"url(#clip040)\" d=\"M1014.39 1399.5 L1022.03 1399.5 L1022.03 1373.13 L1013.72 1374.8 L1013.72 1370.54 L1021.98 1368.87 L1026.66 1368.87 L1026.66 1399.5 L1034.3 1399.5 L1034.3 1403.43 L1014.39 1403.43 L1014.39 1399.5 Z\" fill=\"#000000\" fill-rule=\"evenodd\" fill-opacity=\"1\" /><path clip-path=\"url(#clip040)\" d=\"M1197.88 1451.43 L1214.2 1451.43 L1214.2 1455.36 L1192.25 1455.36 L1192.25 1451.43 Q1194.92 1448.67 1199.5 1444.04 Q1204.11 1439.39 1205.29 1438.05 Q1207.53 1435.53 1208.41 1433.79 Q1209.31 1432.03 1209.31 1430.34 Q1209.31 1427.59 1207.37 1425.85 Q1205.45 1424.11 1202.35 1424.11 Q1200.15 1424.11 1197.69 1424.88 Q1195.26 1425.64 1192.49 1427.19 L1192.49 1422.47 Q1195.31 1421.34 1197.76 1420.76 Q1200.22 1420.18 1202.25 1420.18 Q1207.62 1420.18 1210.82 1422.86 Q1214.01 1425.55 1214.01 1430.04 Q1214.01 1432.17 1213.2 1434.09 Q1212.42 1435.99 1210.31 1438.58 Q1209.73 1439.25 1206.63 1442.47 Q1203.53 1445.66 1197.88 1451.43 Z\" fill=\"#000000\" fill-rule=\"evenodd\" fill-opacity=\"1\" /><polyline clip-path=\"url(#clip042)\" style=\"stroke:#000000; stroke-linecap:round; stroke-linejoin:round; stroke-width:2; stroke-opacity:0.1; fill:none\" points=\"\n  1222.19,1410.41 502.585,1202.68 502.585,483.08 \n  \"/>\n<polyline clip-path=\"url(#clip042)\" style=\"stroke:#000000; stroke-linecap:round; stroke-linejoin:round; stroke-width:2; stroke-opacity:0.1; fill:none\" points=\"\n  1326.05,1320.46 606.45,1112.73 606.45,393.13 \n  \"/>\n<polyline clip-path=\"url(#clip042)\" style=\"stroke:#000000; stroke-linecap:round; stroke-linejoin:round; stroke-width:2; stroke-opacity:0.1; fill:none\" points=\"\n  1429.92,1230.51 710.316,1022.78 710.316,303.179 \n  \"/>\n<polyline clip-path=\"url(#clip042)\" style=\"stroke:#000000; stroke-linecap:round; stroke-linejoin:round; stroke-width:2; stroke-opacity:0.1; fill:none\" points=\"\n  1533.78,1140.56 814.182,932.831 814.182,213.229 \n  \"/>\n<polyline clip-path=\"url(#clip042)\" style=\"stroke:#000000; stroke-linecap:round; stroke-linejoin:round; stroke-width:2; stroke-opacity:0.1; fill:none\" points=\"\n  1637.65,1050.61 918.047,842.881 918.047,123.279 \n  \"/>\n<polyline clip-path=\"url(#clip040)\" style=\"stroke:#000000; stroke-linecap:round; stroke-linejoin:round; stroke-width:4; stroke-opacity:1; fill:none\" points=\"\n  1222.19,1410.41 1637.65,1050.61 \n  \"/>\n<polyline clip-path=\"url(#clip040)\" style=\"stroke:#000000; stroke-linecap:round; stroke-linejoin:round; stroke-width:4; stroke-opacity:1; fill:none\" points=\"\n  1222.19,1410.41 1213.55,1407.92 \n  \"/>\n<polyline clip-path=\"url(#clip040)\" style=\"stroke:#000000; stroke-linecap:round; stroke-linejoin:round; stroke-width:4; stroke-opacity:1; fill:none\" points=\"\n  1326.05,1320.46 1317.42,1317.97 \n  \"/>\n<polyline clip-path=\"url(#clip040)\" style=\"stroke:#000000; stroke-linecap:round; stroke-linejoin:round; stroke-width:4; stroke-opacity:1; fill:none\" points=\"\n  1429.92,1230.51 1421.28,1228.02 \n  \"/>\n<polyline clip-path=\"url(#clip040)\" style=\"stroke:#000000; stroke-linecap:round; stroke-linejoin:round; stroke-width:4; stroke-opacity:1; fill:none\" points=\"\n  1533.78,1140.56 1525.15,1138.07 \n  \"/>\n<polyline clip-path=\"url(#clip040)\" style=\"stroke:#000000; stroke-linecap:round; stroke-linejoin:round; stroke-width:4; stroke-opacity:1; fill:none\" points=\"\n  1637.65,1050.61 1629.01,1048.12 \n  \"/>\n<path clip-path=\"url(#clip040)\" d=\"M1241.04 1432.64 L1270.72 1432.64 L1270.72 1436.57 L1241.04 1436.57 L1241.04 1432.64 Z\" fill=\"#000000\" fill-rule=\"evenodd\" fill-opacity=\"1\" /><path clip-path=\"url(#clip040)\" d=\"M1284.84 1445.53 L1301.16 1445.53 L1301.16 1449.46 L1279.21 1449.46 L1279.21 1445.53 Q1281.87 1442.77 1286.46 1438.14 Q1291.06 1433.49 1292.24 1432.15 Q1294.49 1429.63 1295.37 1427.89 Q1296.27 1426.13 1296.27 1424.44 Q1296.27 1421.69 1294.33 1419.95 Q1292.41 1418.21 1289.3 1418.21 Q1287.11 1418.21 1284.65 1418.98 Q1282.22 1419.74 1279.44 1421.29 L1279.44 1416.57 Q1282.27 1415.44 1284.72 1414.86 Q1287.17 1414.28 1289.21 1414.28 Q1294.58 1414.28 1297.78 1416.96 Q1300.97 1419.65 1300.97 1424.14 Q1300.97 1426.27 1300.16 1428.19 Q1299.37 1430.09 1297.27 1432.68 Q1296.69 1433.35 1293.59 1436.57 Q1290.48 1439.76 1284.84 1445.53 Z\" fill=\"#000000\" fill-rule=\"evenodd\" fill-opacity=\"1\" /><path clip-path=\"url(#clip040)\" d=\"M1344.91 1342.68 L1374.58 1342.68 L1374.58 1346.62 L1344.91 1346.62 L1344.91 1342.68 Z\" fill=\"#000000\" fill-rule=\"evenodd\" fill-opacity=\"1\" /><path clip-path=\"url(#clip040)\" d=\"M1385.48 1355.58 L1393.12 1355.58 L1393.12 1329.21 L1384.81 1330.88 L1384.81 1326.62 L1393.08 1324.95 L1397.75 1324.95 L1397.75 1355.58 L1405.39 1355.58 L1405.39 1359.51 L1385.48 1359.51 L1385.48 1355.58 Z\" fill=\"#000000\" fill-rule=\"evenodd\" fill-opacity=\"1\" /><path clip-path=\"url(#clip040)\" d=\"M1460.72 1238.08 Q1457.11 1238.08 1455.28 1241.65 Q1453.47 1245.19 1453.47 1252.32 Q1453.47 1259.42 1455.28 1262.99 Q1457.11 1266.53 1460.72 1266.53 Q1464.35 1266.53 1466.16 1262.99 Q1467.98 1259.42 1467.98 1252.32 Q1467.98 1245.19 1466.16 1241.65 Q1464.35 1238.08 1460.72 1238.08 M1460.72 1234.38 Q1466.53 1234.38 1469.58 1238.98 Q1472.66 1243.57 1472.66 1252.32 Q1472.66 1261.04 1469.58 1265.65 Q1466.53 1270.23 1460.72 1270.23 Q1454.91 1270.23 1451.83 1265.65 Q1448.77 1261.04 1448.77 1252.32 Q1448.77 1243.57 1451.83 1238.98 Q1454.91 1234.38 1460.72 1234.38 Z\" fill=\"#000000\" fill-rule=\"evenodd\" fill-opacity=\"1\" /><path clip-path=\"url(#clip040)\" d=\"M1553.31 1175.68 L1560.95 1175.68 L1560.95 1149.31 L1552.64 1150.98 L1552.64 1146.72 L1560.9 1145.05 L1565.58 1145.05 L1565.58 1175.68 L1573.22 1175.68 L1573.22 1179.61 L1553.31 1179.61 L1553.31 1175.68 Z\" fill=\"#000000\" fill-rule=\"evenodd\" fill-opacity=\"1\" /><path clip-path=\"url(#clip040)\" d=\"M1662.13 1085.73 L1678.45 1085.73 L1678.45 1089.66 L1656.5 1089.66 L1656.5 1085.73 Q1659.17 1082.97 1663.75 1078.34 Q1668.35 1073.69 1669.54 1072.35 Q1671.78 1069.82 1672.66 1068.09 Q1673.56 1066.33 1673.56 1064.64 Q1673.56 1061.89 1671.62 1060.15 Q1669.7 1058.41 1666.6 1058.41 Q1664.4 1058.41 1661.94 1059.18 Q1659.51 1059.94 1656.73 1061.49 L1656.73 1056.77 Q1659.56 1055.64 1662.01 1055.06 Q1664.47 1054.48 1666.5 1054.48 Q1671.87 1054.48 1675.07 1057.16 Q1678.26 1059.85 1678.26 1064.34 Q1678.26 1066.47 1677.45 1068.39 Q1676.66 1070.29 1674.56 1072.88 Q1673.98 1073.55 1670.88 1076.77 Q1667.78 1079.96 1662.13 1085.73 Z\" fill=\"#000000\" fill-rule=\"evenodd\" fill-opacity=\"1\" /><polyline clip-path=\"url(#clip042)\" style=\"stroke:#000000; stroke-linecap:round; stroke-linejoin:round; stroke-width:2; stroke-opacity:0.1; fill:none\" points=\"\n  502.585,1202.68 918.047,842.881 1637.65,1050.61 \n  \"/>\n<polyline clip-path=\"url(#clip042)\" style=\"stroke:#000000; stroke-linecap:round; stroke-linejoin:round; stroke-width:2; stroke-opacity:0.1; fill:none\" points=\"\n  502.585,1022.78 918.047,662.98 1637.65,870.712 \n  \"/>\n<polyline clip-path=\"url(#clip042)\" style=\"stroke:#000000; stroke-linecap:round; stroke-linejoin:round; stroke-width:2; stroke-opacity:0.1; fill:none\" points=\"\n  502.585,842.881 918.047,483.08 1637.65,690.811 \n  \"/>\n<polyline clip-path=\"url(#clip042)\" style=\"stroke:#000000; stroke-linecap:round; stroke-linejoin:round; stroke-width:2; stroke-opacity:0.1; fill:none\" points=\"\n  502.585,662.98 918.047,303.179 1637.65,510.911 \n  \"/>\n<polyline clip-path=\"url(#clip042)\" style=\"stroke:#000000; stroke-linecap:round; stroke-linejoin:round; stroke-width:2; stroke-opacity:0.1; fill:none\" points=\"\n  502.585,483.08 918.047,123.279 1637.65,331.01 \n  \"/>\n<polyline clip-path=\"url(#clip040)\" style=\"stroke:#000000; stroke-linecap:round; stroke-linejoin:round; stroke-width:4; stroke-opacity:1; fill:none\" points=\"\n  502.585,1202.68 502.585,483.08 \n  \"/>\n<polyline clip-path=\"url(#clip040)\" style=\"stroke:#000000; stroke-linecap:round; stroke-linejoin:round; stroke-width:4; stroke-opacity:1; fill:none\" points=\"\n  502.585,1202.68 507.57,1198.36 \n  \"/>\n<polyline clip-path=\"url(#clip040)\" style=\"stroke:#000000; stroke-linecap:round; stroke-linejoin:round; stroke-width:4; stroke-opacity:1; fill:none\" points=\"\n  502.585,1022.78 507.57,1018.46 \n  \"/>\n<polyline clip-path=\"url(#clip040)\" style=\"stroke:#000000; stroke-linecap:round; stroke-linejoin:round; stroke-width:4; stroke-opacity:1; fill:none\" points=\"\n  502.585,842.881 507.57,838.563 \n  \"/>\n<polyline clip-path=\"url(#clip040)\" style=\"stroke:#000000; stroke-linecap:round; stroke-linejoin:round; stroke-width:4; stroke-opacity:1; fill:none\" points=\"\n  502.585,662.98 507.57,658.663 \n  \"/>\n<polyline clip-path=\"url(#clip040)\" style=\"stroke:#000000; stroke-linecap:round; stroke-linejoin:round; stroke-width:4; stroke-opacity:1; fill:none\" points=\"\n  502.585,483.08 507.57,478.762 \n  \"/>\n<path clip-path=\"url(#clip040)\" d=\"M413.669 1203.13 L443.345 1203.13 L443.345 1207.07 L413.669 1207.07 L413.669 1203.13 Z\" fill=\"#000000\" fill-rule=\"evenodd\" fill-opacity=\"1\" /><path clip-path=\"url(#clip040)\" d=\"M457.465 1216.03 L473.785 1216.03 L473.785 1219.96 L451.84 1219.96 L451.84 1216.03 Q454.502 1213.27 459.086 1208.64 Q463.692 1203.99 464.873 1202.65 Q467.118 1200.12 467.998 1198.39 Q468.901 1196.63 468.901 1194.94 Q468.901 1192.18 466.956 1190.45 Q465.035 1188.71 461.933 1188.71 Q459.734 1188.71 457.28 1189.48 Q454.85 1190.24 452.072 1191.79 L452.072 1187.07 Q454.896 1185.93 457.35 1185.36 Q459.803 1184.78 461.84 1184.78 Q467.211 1184.78 470.405 1187.46 Q473.6 1190.15 473.6 1194.64 Q473.6 1196.77 472.789 1198.69 Q472.002 1200.59 469.896 1203.18 Q469.317 1203.85 466.215 1207.07 Q463.114 1210.26 457.465 1216.03 Z\" fill=\"#000000\" fill-rule=\"evenodd\" fill-opacity=\"1\" /><path clip-path=\"url(#clip040)\" d=\"M413.299 1023.23 L442.975 1023.23 L442.975 1027.17 L413.299 1027.17 L413.299 1023.23 Z\" fill=\"#000000\" fill-rule=\"evenodd\" fill-opacity=\"1\" /><path clip-path=\"url(#clip040)\" d=\"M453.877 1036.13 L461.516 1036.13 L461.516 1009.76 L453.206 1011.43 L453.206 1007.17 L461.47 1005.5 L466.146 1005.5 L466.146 1036.13 L473.785 1036.13 L473.785 1040.06 L453.877 1040.06 L453.877 1036.13 Z\" fill=\"#000000\" fill-rule=\"evenodd\" fill-opacity=\"1\" /><path clip-path=\"url(#clip040)\" d=\"M461.84 828.68 Q458.229 828.68 456.401 832.244 Q454.595 835.786 454.595 842.916 Q454.595 850.022 456.401 853.587 Q458.229 857.128 461.84 857.128 Q465.475 857.128 467.28 853.587 Q469.109 850.022 469.109 842.916 Q469.109 835.786 467.28 832.244 Q465.475 828.68 461.84 828.68 M461.84 824.976 Q467.651 824.976 470.706 829.582 Q473.785 834.166 473.785 842.916 Q473.785 851.642 470.706 856.249 Q467.651 860.832 461.84 860.832 Q456.03 860.832 452.952 856.249 Q449.896 851.642 449.896 842.916 Q449.896 834.166 452.952 829.582 Q456.03 824.976 461.84 824.976 Z\" fill=\"#000000\" fill-rule=\"evenodd\" fill-opacity=\"1\" /><path clip-path=\"url(#clip040)\" d=\"M453.877 676.325 L461.516 676.325 L461.516 649.96 L453.206 651.626 L453.206 647.367 L461.47 645.7 L466.146 645.7 L466.146 676.325 L473.785 676.325 L473.785 680.26 L453.877 680.26 L453.877 676.325 Z\" fill=\"#000000\" fill-rule=\"evenodd\" fill-opacity=\"1\" /><path clip-path=\"url(#clip040)\" d=\"M457.465 496.425 L473.785 496.425 L473.785 500.36 L451.84 500.36 L451.84 496.425 Q454.502 493.67 459.086 489.041 Q463.692 484.388 464.873 483.045 Q467.118 480.522 467.998 478.786 Q468.901 477.027 468.901 475.337 Q468.901 472.582 466.956 470.846 Q465.035 469.11 461.933 469.11 Q459.734 469.11 457.28 469.874 Q454.85 470.638 452.072 472.189 L452.072 467.467 Q454.896 466.332 457.35 465.754 Q459.803 465.175 461.84 465.175 Q467.211 465.175 470.405 467.86 Q473.6 470.545 473.6 475.036 Q473.6 477.166 472.789 479.087 Q472.002 480.985 469.896 483.578 Q469.317 484.249 466.215 487.466 Q463.114 490.661 457.465 496.425 Z\" fill=\"#000000\" fill-rule=\"evenodd\" fill-opacity=\"1\" /><circle clip-path=\"url(#clip042)\" cx=\"1070.12\" cy=\"586.946\" r=\"14.4\" fill=\"#009af9\" fill-rule=\"evenodd\" fill-opacity=\"1\" stroke=\"#000000\" stroke-opacity=\"1\" stroke-width=\"3.2\"/>\n<circle clip-path=\"url(#clip042)\" cx=\"1250.02\" cy=\"638.878\" r=\"14.4\" fill=\"#e26f46\" fill-rule=\"evenodd\" fill-opacity=\"1\" stroke=\"#000000\" stroke-opacity=\"1\" stroke-width=\"3.2\"/>\n<polyline clip-path=\"url(#clip042)\" style=\"stroke:#0000ff; stroke-linecap:round; stroke-linejoin:round; stroke-width:4; stroke-opacity:1; fill:none\" points=\"\n  1070.12,766.846 1070.12,586.946 \n  \"/>\n<polyline clip-path=\"url(#clip042)\" style=\"stroke:#ff0000; stroke-linecap:round; stroke-linejoin:round; stroke-width:4; stroke-opacity:1; fill:none\" points=\"\n  1070.12,766.846 1250.02,638.878 \n  \"/>\n<path clip-path=\"url(#clip042)\" d=\"\nM918.047 123.279 L502.585 483.08 L1222.19 1410.41 L1637.65 1050.61  Z\n  \" fill=\"#bb3754\" fill-rule=\"evenodd\" fill-opacity=\"0.5\"/>\n<defs>\n  <clipPath id=\"clip043\">\n    <rect x=\"2160\" y=\"47\" width=\"73\" height=\"1440\"/>\n  </clipPath>\n</defs>\n<g clip-path=\"url(#clip043)\">\n<image width=\"72\" height=\"1439\" xlink:href=\"data:image/png;base64,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\nBYGCQOE/LrLuTX/wFc8AAAAASUVORK5CYII=\n\" transform=\"translate(2161, 47)\"/>\n</g>\n<path clip-path=\"url(#clip040)\" d=\"M2268.76 1483.27 L2298.43 1483.27 L2298.43 1487.21 L2268.76 1487.21 L2268.76 1483.27 Z\" fill=\"#000000\" fill-rule=\"evenodd\" fill-opacity=\"1\" /><path clip-path=\"url(#clip040)\" d=\"M2312.55 1496.16 L2328.87 1496.16 L2328.87 1500.1 L2306.93 1500.1 L2306.93 1496.16 Q2309.59 1493.41 2314.17 1488.78 Q2318.78 1484.13 2319.96 1482.78 Q2322.2 1480.26 2323.08 1478.53 Q2323.99 1476.77 2323.99 1475.08 Q2323.99 1472.32 2322.04 1470.59 Q2320.12 1468.85 2317.02 1468.85 Q2314.82 1468.85 2312.37 1469.61 Q2309.94 1470.38 2307.16 1471.93 L2307.16 1467.21 Q2309.98 1466.07 2312.44 1465.49 Q2314.89 1464.91 2316.93 1464.91 Q2322.3 1464.91 2325.49 1467.6 Q2328.69 1470.28 2328.69 1474.78 Q2328.69 1476.9 2327.88 1478.83 Q2327.09 1480.72 2324.98 1483.32 Q2324.4 1483.99 2321.3 1487.21 Q2318.2 1490.4 2312.55 1496.16 Z\" fill=\"#000000\" fill-rule=\"evenodd\" fill-opacity=\"1\" /><path clip-path=\"url(#clip040)\" d=\"M2338.69 1494.22 L2343.57 1494.22 L2343.57 1500.1 L2338.69 1500.1 L2338.69 1494.22 Z\" fill=\"#000000\" fill-rule=\"evenodd\" fill-opacity=\"1\" /><path clip-path=\"url(#clip040)\" d=\"M2363.76 1468.62 Q2360.14 1468.62 2358.32 1472.18 Q2356.51 1475.72 2356.51 1482.85 Q2356.51 1489.96 2358.32 1493.53 Q2360.14 1497.07 2363.76 1497.07 Q2367.39 1497.07 2369.2 1493.53 Q2371.02 1489.96 2371.02 1482.85 Q2371.02 1475.72 2369.2 1472.18 Q2367.39 1468.62 2363.76 1468.62 M2363.76 1464.91 Q2369.57 1464.91 2372.62 1469.52 Q2375.7 1474.1 2375.7 1482.85 Q2375.7 1491.58 2372.62 1496.19 Q2369.57 1500.77 2363.76 1500.77 Q2357.95 1500.77 2354.87 1496.19 Q2351.81 1491.58 2351.81 1482.85 Q2351.81 1474.1 2354.87 1469.52 Q2357.95 1464.91 2363.76 1464.91 Z\" fill=\"#000000\" fill-rule=\"evenodd\" fill-opacity=\"1\" /><path clip-path=\"url(#clip040)\" d=\"M2268.76 1303.37 L2298.43 1303.37 L2298.43 1307.31 L2268.76 1307.31 L2268.76 1303.37 Z\" fill=\"#000000\" fill-rule=\"evenodd\" fill-opacity=\"1\" /><path clip-path=\"url(#clip040)\" d=\"M2309.33 1316.26 L2316.97 1316.26 L2316.97 1289.9 L2308.66 1291.56 L2308.66 1287.31 L2316.93 1285.64 L2321.6 1285.64 L2321.6 1316.26 L2329.24 1316.26 L2329.24 1320.2 L2309.33 1320.2 L2309.33 1316.26 Z\" fill=\"#000000\" fill-rule=\"evenodd\" fill-opacity=\"1\" /><path clip-path=\"url(#clip040)\" d=\"M2338.69 1314.32 L2343.57 1314.32 L2343.57 1320.2 L2338.69 1320.2 L2338.69 1314.32 Z\" fill=\"#000000\" fill-rule=\"evenodd\" fill-opacity=\"1\" /><path clip-path=\"url(#clip040)\" d=\"M2353.8 1285.64 L2372.16 1285.64 L2372.16 1289.57 L2358.08 1289.57 L2358.08 1298.05 Q2359.1 1297.7 2360.12 1297.54 Q2361.14 1297.35 2362.16 1297.35 Q2367.95 1297.35 2371.32 1300.52 Q2374.7 1303.69 2374.7 1309.11 Q2374.7 1314.69 2371.23 1317.79 Q2367.76 1320.87 2361.44 1320.87 Q2359.26 1320.87 2357 1320.5 Q2354.75 1320.13 2352.34 1319.39 L2352.34 1314.69 Q2354.43 1315.82 2356.65 1316.38 Q2358.87 1316.93 2361.35 1316.93 Q2365.35 1316.93 2367.69 1314.83 Q2370.03 1312.72 2370.03 1309.11 Q2370.03 1305.5 2367.69 1303.39 Q2365.35 1301.29 2361.35 1301.29 Q2359.47 1301.29 2357.6 1301.7 Q2355.75 1302.12 2353.8 1303 L2353.8 1285.64 Z\" fill=\"#000000\" fill-rule=\"evenodd\" fill-opacity=\"1\" /><path clip-path=\"url(#clip040)\" d=\"M2268.76 1123.47 L2298.43 1123.47 L2298.43 1127.4 L2268.76 1127.4 L2268.76 1123.47 Z\" fill=\"#000000\" fill-rule=\"evenodd\" fill-opacity=\"1\" /><path clip-path=\"url(#clip040)\" d=\"M2309.33 1136.36 L2316.97 1136.36 L2316.97 1110 L2308.66 1111.66 L2308.66 1107.4 L2316.93 1105.74 L2321.6 1105.74 L2321.6 1136.36 L2329.24 1136.36 L2329.24 1140.3 L2309.33 1140.3 L2309.33 1136.36 Z\" fill=\"#000000\" fill-rule=\"evenodd\" fill-opacity=\"1\" /><path clip-path=\"url(#clip040)\" d=\"M2338.69 1134.42 L2343.57 1134.42 L2343.57 1140.3 L2338.69 1140.3 L2338.69 1134.42 Z\" fill=\"#000000\" fill-rule=\"evenodd\" fill-opacity=\"1\" /><path clip-path=\"url(#clip040)\" d=\"M2363.76 1108.82 Q2360.14 1108.82 2358.32 1112.38 Q2356.51 1115.92 2356.51 1123.05 Q2356.51 1130.16 2358.32 1133.72 Q2360.14 1137.27 2363.76 1137.27 Q2367.39 1137.27 2369.2 1133.72 Q2371.02 1130.16 2371.02 1123.05 Q2371.02 1115.92 2369.2 1112.38 Q2367.39 1108.82 2363.76 1108.82 M2363.76 1105.11 Q2369.57 1105.11 2372.62 1109.72 Q2375.7 1114.3 2375.7 1123.05 Q2375.7 1131.78 2372.62 1136.39 Q2369.57 1140.97 2363.76 1140.97 Q2357.95 1140.97 2354.87 1136.39 Q2351.81 1131.78 2351.81 1123.05 Q2351.81 1114.3 2354.87 1109.72 Q2357.95 1105.11 2363.76 1105.11 Z\" fill=\"#000000\" fill-rule=\"evenodd\" fill-opacity=\"1\" /><path clip-path=\"url(#clip040)\" d=\"M2268.76 943.569 L2298.43 943.569 L2298.43 947.504 L2268.76 947.504 L2268.76 943.569 Z\" fill=\"#000000\" fill-rule=\"evenodd\" fill-opacity=\"1\" /><path clip-path=\"url(#clip040)\" d=\"M2318.52 928.916 Q2314.91 928.916 2313.08 932.481 Q2311.28 936.023 2311.28 943.152 Q2311.28 950.259 2313.08 953.824 Q2314.91 957.365 2318.52 957.365 Q2322.16 957.365 2323.96 953.824 Q2325.79 950.259 2325.79 943.152 Q2325.79 936.023 2323.96 932.481 Q2322.16 928.916 2318.52 928.916 M2318.52 925.213 Q2324.33 925.213 2327.39 929.819 Q2330.47 934.402 2330.47 943.152 Q2330.47 951.879 2327.39 956.486 Q2324.33 961.069 2318.52 961.069 Q2312.71 961.069 2309.64 956.486 Q2306.58 951.879 2306.58 943.152 Q2306.58 934.402 2309.64 929.819 Q2312.71 925.213 2318.52 925.213 Z\" fill=\"#000000\" fill-rule=\"evenodd\" fill-opacity=\"1\" /><path clip-path=\"url(#clip040)\" d=\"M2338.69 954.518 L2343.57 954.518 L2343.57 960.398 L2338.69 960.398 L2338.69 954.518 Z\" fill=\"#000000\" fill-rule=\"evenodd\" fill-opacity=\"1\" /><path clip-path=\"url(#clip040)\" d=\"M2353.8 925.838 L2372.16 925.838 L2372.16 929.773 L2358.08 929.773 L2358.08 938.245 Q2359.1 937.898 2360.12 937.736 Q2361.14 937.551 2362.16 937.551 Q2367.95 937.551 2371.32 940.722 Q2374.7 943.893 2374.7 949.31 Q2374.7 954.888 2371.23 957.99 Q2367.76 961.069 2361.44 961.069 Q2359.26 961.069 2357 960.699 Q2354.75 960.328 2352.34 959.587 L2352.34 954.888 Q2354.43 956.023 2356.65 956.578 Q2358.87 957.134 2361.35 957.134 Q2365.35 957.134 2367.69 955.027 Q2370.03 952.921 2370.03 949.31 Q2370.03 945.699 2367.69 943.592 Q2365.35 941.486 2361.35 941.486 Q2359.47 941.486 2357.6 941.902 Q2355.75 942.319 2353.8 943.199 L2353.8 925.838 Z\" fill=\"#000000\" fill-rule=\"evenodd\" fill-opacity=\"1\" /><path clip-path=\"url(#clip040)\" d=\"M2280.7 749.016 Q2277.09 749.016 2275.26 752.581 Q2273.45 756.122 2273.45 763.252 Q2273.45 770.358 2275.26 773.923 Q2277.09 777.465 2280.7 777.465 Q2284.33 777.465 2286.14 773.923 Q2287.97 770.358 2287.97 763.252 Q2287.97 756.122 2286.14 752.581 Q2284.33 749.016 2280.7 749.016 M2280.7 745.312 Q2286.51 745.312 2289.57 749.919 Q2292.64 754.502 2292.64 763.252 Q2292.64 771.979 2289.57 776.585 Q2286.51 781.168 2280.7 781.168 Q2274.89 781.168 2271.81 776.585 Q2268.76 771.979 2268.76 763.252 Q2268.76 754.502 2271.81 749.919 Q2274.89 745.312 2280.7 745.312 Z\" fill=\"#000000\" fill-rule=\"evenodd\" fill-opacity=\"1\" /><path clip-path=\"url(#clip040)\" d=\"M2280.7 569.115 Q2277.09 569.115 2275.26 572.68 Q2273.45 576.222 2273.45 583.351 Q2273.45 590.458 2275.26 594.023 Q2277.09 597.564 2280.7 597.564 Q2284.33 597.564 2286.14 594.023 Q2287.97 590.458 2287.97 583.351 Q2287.97 576.222 2286.14 572.68 Q2284.33 569.115 2280.7 569.115 M2280.7 565.412 Q2286.51 565.412 2289.57 570.018 Q2292.64 574.601 2292.64 583.351 Q2292.64 592.078 2289.57 596.685 Q2286.51 601.268 2280.7 601.268 Q2274.89 601.268 2271.81 596.685 Q2268.76 592.078 2268.76 583.351 Q2268.76 574.601 2271.81 570.018 Q2274.89 565.412 2280.7 565.412 Z\" fill=\"#000000\" fill-rule=\"evenodd\" fill-opacity=\"1\" /><path clip-path=\"url(#clip040)\" d=\"M2300.86 594.717 L2305.75 594.717 L2305.75 600.597 L2300.86 600.597 L2300.86 594.717 Z\" fill=\"#000000\" fill-rule=\"evenodd\" fill-opacity=\"1\" /><path clip-path=\"url(#clip040)\" d=\"M2315.98 566.037 L2334.33 566.037 L2334.33 569.972 L2320.26 569.972 L2320.26 578.444 Q2321.28 578.097 2322.3 577.935 Q2323.32 577.75 2324.33 577.75 Q2330.12 577.75 2333.5 580.921 Q2336.88 584.092 2336.88 589.509 Q2336.88 595.087 2333.41 598.189 Q2329.94 601.268 2323.62 601.268 Q2321.44 601.268 2319.17 600.898 Q2316.93 600.527 2314.52 599.787 L2314.52 595.087 Q2316.6 596.222 2318.83 596.777 Q2321.05 597.333 2323.52 597.333 Q2327.53 597.333 2329.87 595.226 Q2332.2 593.12 2332.2 589.509 Q2332.2 585.898 2329.87 583.791 Q2327.53 581.685 2323.52 581.685 Q2321.65 581.685 2319.77 582.101 Q2317.92 582.518 2315.98 583.398 L2315.98 566.037 Z\" fill=\"#000000\" fill-rule=\"evenodd\" fill-opacity=\"1\" /><path clip-path=\"url(#clip040)\" d=\"M2269.43 416.761 L2277.07 416.761 L2277.07 390.395 L2268.76 392.062 L2268.76 387.803 L2277.02 386.136 L2281.7 386.136 L2281.7 416.761 L2289.33 416.761 L2289.33 420.696 L2269.43 420.696 L2269.43 416.761 Z\" fill=\"#000000\" fill-rule=\"evenodd\" fill-opacity=\"1\" /><path clip-path=\"url(#clip040)\" d=\"M2298.78 414.817 L2303.66 414.817 L2303.66 420.696 L2298.78 420.696 L2298.78 414.817 Z\" fill=\"#000000\" fill-rule=\"evenodd\" fill-opacity=\"1\" /><path clip-path=\"url(#clip040)\" d=\"M2323.85 389.215 Q2320.24 389.215 2318.41 392.78 Q2316.6 396.321 2316.6 403.451 Q2316.6 410.557 2318.41 414.122 Q2320.24 417.664 2323.85 417.664 Q2327.48 417.664 2329.29 414.122 Q2331.12 410.557 2331.12 403.451 Q2331.12 396.321 2329.29 392.78 Q2327.48 389.215 2323.85 389.215 M2323.85 385.511 Q2329.66 385.511 2332.71 390.118 Q2335.79 394.701 2335.79 403.451 Q2335.79 412.178 2332.71 416.784 Q2329.66 421.368 2323.85 421.368 Q2318.04 421.368 2314.96 416.784 Q2311.9 412.178 2311.9 403.451 Q2311.9 394.701 2314.96 390.118 Q2318.04 385.511 2323.85 385.511 Z\" fill=\"#000000\" fill-rule=\"evenodd\" fill-opacity=\"1\" /><path clip-path=\"url(#clip040)\" d=\"M2269.43 236.861 L2277.07 236.861 L2277.07 210.495 L2268.76 212.162 L2268.76 207.902 L2277.02 206.236 L2281.7 206.236 L2281.7 236.861 L2289.33 236.861 L2289.33 240.796 L2269.43 240.796 L2269.43 236.861 Z\" fill=\"#000000\" fill-rule=\"evenodd\" fill-opacity=\"1\" /><path clip-path=\"url(#clip040)\" d=\"M2298.78 234.916 L2303.66 234.916 L2303.66 240.796 L2298.78 240.796 L2298.78 234.916 Z\" fill=\"#000000\" fill-rule=\"evenodd\" fill-opacity=\"1\" /><path clip-path=\"url(#clip040)\" d=\"M2313.89 206.236 L2332.25 206.236 L2332.25 210.171 L2318.18 210.171 L2318.18 218.643 Q2319.2 218.296 2320.21 218.134 Q2321.23 217.949 2322.25 217.949 Q2328.04 217.949 2331.42 221.12 Q2334.8 224.291 2334.8 229.708 Q2334.8 235.287 2331.33 238.388 Q2327.85 241.467 2321.53 241.467 Q2319.36 241.467 2317.09 241.097 Q2314.84 240.726 2312.44 239.986 L2312.44 235.287 Q2314.52 236.421 2316.74 236.976 Q2318.96 237.532 2321.44 237.532 Q2325.45 237.532 2327.78 235.425 Q2330.12 233.319 2330.12 229.708 Q2330.12 226.097 2327.78 223.99 Q2325.45 221.884 2321.44 221.884 Q2319.57 221.884 2317.69 222.3 Q2315.84 222.717 2313.89 223.597 L2313.89 206.236 Z\" fill=\"#000000\" fill-rule=\"evenodd\" fill-opacity=\"1\" /><path clip-path=\"url(#clip040)\" d=\"M2274.38 56.9601 L2290.7 56.9601 L2290.7 60.8953 L2268.76 60.8953 L2268.76 56.9601 Q2271.42 54.2055 2276 49.5759 Q2280.61 44.9232 2281.79 43.5806 Q2284.03 41.0574 2284.91 39.3213 Q2285.82 37.5621 2285.82 35.8723 Q2285.82 33.1177 2283.87 31.3816 Q2281.95 29.6455 2278.85 29.6455 Q2276.65 29.6455 2274.2 30.4093 Q2271.77 31.1732 2268.99 32.7241 L2268.99 28.002 Q2271.81 26.8677 2274.27 26.289 Q2276.72 25.7103 2278.76 25.7103 Q2284.13 25.7103 2287.32 28.3955 Q2290.52 31.0806 2290.52 35.5714 Q2290.52 37.701 2289.7 39.6223 Q2288.92 41.5204 2286.81 44.113 Q2286.23 44.7843 2283.13 48.0018 Q2280.03 51.1963 2274.38 56.9601 Z\" fill=\"#000000\" fill-rule=\"evenodd\" fill-opacity=\"1\" /><path clip-path=\"url(#clip040)\" d=\"M2300.51 55.0157 L2305.4 55.0157 L2305.4 60.8953 L2300.51 60.8953 L2300.51 55.0157 Z\" fill=\"#000000\" fill-rule=\"evenodd\" fill-opacity=\"1\" /><path clip-path=\"url(#clip040)\" d=\"M2325.58 29.414 Q2321.97 29.414 2320.14 32.9788 Q2318.34 36.5204 2318.34 43.65 Q2318.34 50.7565 2320.14 54.3213 Q2321.97 57.8629 2325.58 57.8629 Q2329.22 57.8629 2331.02 54.3213 Q2332.85 50.7565 2332.85 43.65 Q2332.85 36.5204 2331.02 32.9788 Q2329.22 29.414 2325.58 29.414 M2325.58 25.7103 Q2331.39 25.7103 2334.45 30.3168 Q2337.53 34.9001 2337.53 43.65 Q2337.53 52.3768 2334.45 56.9833 Q2331.39 61.5666 2325.58 61.5666 Q2319.77 61.5666 2316.7 56.9833 Q2313.64 52.3768 2313.64 43.65 Q2313.64 34.9001 2316.7 30.3168 Q2319.77 25.7103 2325.58 25.7103 Z\" fill=\"#000000\" fill-rule=\"evenodd\" fill-opacity=\"1\" /><polyline clip-path=\"url(#clip040)\" style=\"stroke:#000000; stroke-linecap:round; stroke-linejoin:round; stroke-width:4; stroke-opacity:1; fill:none\" points=\"\n  2232.76,1486.45 2232.76,1486.45 2256.76,1486.45 2232.76,1486.45 2232.76,1306.55 2256.76,1306.55 2232.76,1306.55 2232.76,1126.65 2256.76,1126.65 2232.76,1126.65 \n  2232.76,946.746 2256.76,946.746 2232.76,946.746 2232.76,766.846 2256.76,766.846 2232.76,766.846 2232.76,586.946 2256.76,586.946 2232.76,586.946 2232.76,407.045 \n  2256.76,407.045 2232.76,407.045 2232.76,227.145 2256.76,227.145 2232.76,227.145 2232.76,47.2441 2256.76,47.2441 2232.76,47.2441 \n  \"/>\n<path clip-path=\"url(#clip040)\" d=\"\nM208.987 1438.47 L428.306 1438.47 L428.306 1282.95 L208.987 1282.95  Z\n  \" fill=\"#ffffff\" fill-rule=\"evenodd\" fill-opacity=\"1\"/>\n<polyline clip-path=\"url(#clip040)\" style=\"stroke:#000000; stroke-linecap:round; stroke-linejoin:round; stroke-width:4; stroke-opacity:1; fill:none\" points=\"\n  208.987,1438.47 428.306,1438.47 428.306,1282.95 208.987,1282.95 208.987,1438.47 \n  \"/>\n<circle clip-path=\"url(#clip040)\" cx=\"291\" cy=\"1334.79\" r=\"23.04\" fill=\"#009af9\" fill-rule=\"evenodd\" fill-opacity=\"1\" stroke=\"#000000\" stroke-opacity=\"1\" stroke-width=\"5.12\"/>\n<path clip-path=\"url(#clip040)\" d=\"M397.665 1326.15 L388.29 1338.76 L398.151 1352.07 L393.128 1352.07 L385.581 1341.89 L378.035 1352.07 L373.012 1352.07 L383.081 1338.51 L373.868 1326.15 L378.891 1326.15 L385.766 1335.38 L392.641 1326.15 L397.665 1326.15 Z\" fill=\"#000000\" fill-rule=\"evenodd\" fill-opacity=\"1\" /><circle clip-path=\"url(#clip040)\" cx=\"291\" cy=\"1386.63\" r=\"23.04\" fill=\"#e26f46\" fill-rule=\"evenodd\" fill-opacity=\"1\" stroke=\"#000000\" stroke-opacity=\"1\" stroke-width=\"5.12\"/>\n<path clip-path=\"url(#clip040)\" d=\"M373.012 1377.99 L377.271 1377.99 L382.595 1398.22 L387.896 1377.99 L392.919 1377.99 L398.243 1398.22 L403.544 1377.99 L407.803 1377.99 L401.021 1403.91 L395.998 1403.91 L390.419 1382.66 L384.817 1403.91 L379.794 1403.91 L373.012 1377.99 Z\" fill=\"#000000\" fill-rule=\"evenodd\" fill-opacity=\"1\" /></svg>\n"
               },
               "type": "node"
              }
             ],
             "instanceArgs": {
              "namespace": "html",
              "tag": "div"
             },
             "nodeType": "DOM",
             "props": {
              "className": "interact-flex-row interact-widget"
             },
             "type": "node"
            }
           }
          },
          "systemjs_options": null
         },
         "nodeType": "Scope",
         "props": {},
         "type": "node"
        }
       ],
       "instanceArgs": {
        "namespace": "html",
        "tag": "div"
       },
       "nodeType": "DOM",
       "props": {},
       "type": "node"
      },
      "text/html": [
       "<div\n",
       "    class=\"webio-mountpoint\"\n",
       "    data-webio-mountpoint=\"14545153933173372077\"\n",
       ">\n",
       "    <script>\n",
       "    (function(){\n",
       "    // Some integrations (namely, IJulia/Jupyter) use an alternate render pathway than\n",
       "    // just putting the html on the page. If WebIO isn't defined, then it's pretty likely\n",
       "    // that we're in one of those situations and the integration just isn't installed\n",
       "    // correctly.\n",
       "    if (typeof window.WebIO === \"undefined\") {\n",
       "        document\n",
       "            .querySelector('[data-webio-mountpoint=\"14545153933173372077\"]')\n",
       "            .innerHTML = (\n",
       "                '<div style=\"padding: 1em; background-color: #f8d6da; border: 1px solid #f5c6cb; font-weight: bold;\">' +\n",
       "                '<p><strong>WebIO not detected.</strong></p>' +\n",
       "                '<p>Please read ' +\n",
       "                '<a href=\"https://juliagizmos.github.io/WebIO.jl/latest/troubleshooting/not-detected/\" target=\"_blank\">the troubleshooting guide</a> ' +\n",
       "                'for more information on how to resolve this issue.</p>' +\n",
       "                '<p><a href=\"https://juliagizmos.github.io/WebIO.jl/latest/troubleshooting/not-detected/\" target=\"_blank\">https://juliagizmos.github.io/WebIO.jl/latest/troubleshooting/not-detected/</a></p>' +\n",
       "                '</div>'\n",
       "            );\n",
       "        return;\n",
       "    }\n",
       "    WebIO.mount(\n",
       "        document.querySelector('[data-webio-mountpoint=\"14545153933173372077\"]'),\n",
       "        {\"props\":{},\"nodeType\":\"DOM\",\"type\":\"node\",\"instanceArgs\":{\"namespace\":\"html\",\"tag\":\"div\"},\"children\":[{\"props\":{\"className\":\"field interact-widget\"},\"nodeType\":\"DOM\",\"type\":\"node\",\"instanceArgs\":{\"namespace\":\"html\",\"tag\":\"div\"},\"children\":[{\"props\":{},\"nodeType\":\"Scope\",\"type\":\"node\",\"instanceArgs\":{\"imports\":{\"data\":[{\"name\":\"knockout\",\"type\":\"js\",\"url\":\"\\/assetserver\\/7f6b498a95a9ac6b63c8a1071f981fdcb2e51812-knockout.js\"},{\"name\":\"knockout_punches\",\"type\":\"js\",\"url\":\"\\/assetserver\\/5f04fb6c5d5058eabc17f9b5db30d55e40586407-knockout_punches.js\"},{\"name\":null,\"type\":\"js\",\"url\":\"\\/assetserver\\/360a916de0e68fbc737b0c42b281e4a3865e0e0d-all.js\"},{\"name\":null,\"type\":\"css\",\"url\":\"\\/assetserver\\/e0177d064698cd1c6cb5700b95e35e3ddec1f896-style.css\"},{\"name\":null,\"type\":\"css\",\"url\":\"\\/assetserver\\/b73710587e210485b07cb381d6adb38aa7ca3e34-bulma_confined.min.css\"}],\"type\":\"async_block\"},\"id\":\"12085418636875583525\",\"handlers\":{\"changes\":[\"(function (val){return (val!=this.model[\\\"changes\\\"]()) ? (this.valueFromJulia[\\\"changes\\\"]=true, this.model[\\\"changes\\\"](val)) : undefined})\"],\"index\":[\"(function (val){return (val!=this.model[\\\"index\\\"]()) ? (this.valueFromJulia[\\\"index\\\"]=true, this.model[\\\"index\\\"](val)) : undefined})\"]},\"systemjs_options\":null,\"mount_callbacks\":[\"function () {\\n    var handler = (function (ko, koPunches) {\\n    ko.punches.enableAll();\\n    ko.bindingHandlers.numericValue = {\\n        init: function(element, valueAccessor, allBindings, data, context) {\\n            var stringified = ko.observable(ko.unwrap(valueAccessor()));\\n            stringified.subscribe(function(value) {\\n                var val = parseFloat(value);\\n                if (!isNaN(val)) {\\n                    valueAccessor()(val);\\n                }\\n            });\\n            valueAccessor().subscribe(function(value) {\\n                var str = JSON.stringify(value);\\n                if ((str == \\\"0\\\") && ([\\\"-0\\\", \\\"-0.\\\"].indexOf(stringified()) >= 0))\\n                     return;\\n                 if ([\\\"null\\\", \\\"\\\"].indexOf(str) >= 0)\\n                     return;\\n                stringified(str);\\n            });\\n            ko.applyBindingsToNode(\\n                element,\\n                {\\n                    value: stringified,\\n                    valueUpdate: allBindings.get('valueUpdate'),\\n                },\\n                context,\\n            );\\n        }\\n    };\\n    var json_data = {\\\"formatted_vals\\\":[\\\"-1.9\\\",\\\"-1.8\\\",\\\"-1.7\\\",\\\"-1.6\\\",\\\"-1.5\\\",\\\"-1.4\\\",\\\"-1.3\\\",\\\"-1.2\\\",\\\"-1.1\\\",\\\"-1.0\\\",\\\"-0.9\\\",\\\"-0.8\\\",\\\"-0.7\\\",\\\"-0.6\\\",\\\"-0.5\\\",\\\"-0.4\\\",\\\"-0.3\\\",\\\"-0.2\\\",\\\"-0.1\\\",\\\"0.0\\\",\\\"0.1\\\",\\\"0.2\\\",\\\"0.3\\\",\\\"0.4\\\",\\\"0.5\\\",\\\"0.6\\\",\\\"0.7\\\",\\\"0.8\\\",\\\"0.9\\\",\\\"1.0\\\",\\\"1.1\\\",\\\"1.2\\\",\\\"1.3\\\",\\\"1.4\\\",\\\"1.5\\\",\\\"1.6\\\",\\\"1.7\\\",\\\"1.8\\\",\\\"1.9\\\",\\\"2.0\\\"],\\\"changes\\\":WebIO.getval({\\\"name\\\":\\\"changes\\\",\\\"scope\\\":\\\"12085418636875583525\\\",\\\"id\\\":\\\"16497858394903429238\\\",\\\"type\\\":\\\"observable\\\"}),\\\"index\\\":WebIO.getval({\\\"name\\\":\\\"index\\\",\\\"scope\\\":\\\"12085418636875583525\\\",\\\"id\\\":\\\"5169219422236929025\\\",\\\"type\\\":\\\"observable\\\"})};\\n    var self = this;\\n    function AppViewModel() {\\n        for (var key in json_data) {\\n            var el = json_data[key];\\n            this[key] = Array.isArray(el) ? ko.observableArray(el) : ko.observable(el);\\n        }\\n        \\n        [this[\\\"formatted_val\\\"]=ko.computed(    function(){\\n        return this.formatted_vals()[parseInt(this.index())-(1)];\\n    }\\n,this)]\\n        [this[\\\"changes\\\"].subscribe((function (val){!(this.valueFromJulia[\\\"changes\\\"]) ? (WebIO.setval({\\\"name\\\":\\\"changes\\\",\\\"scope\\\":\\\"12085418636875583525\\\",\\\"id\\\":\\\"16497858394903429238\\\",\\\"type\\\":\\\"observable\\\"},val)) : undefined; return this.valueFromJulia[\\\"changes\\\"]=false}),self),this[\\\"index\\\"].subscribe((function (val){!(this.valueFromJulia[\\\"index\\\"]) ? (WebIO.setval({\\\"name\\\":\\\"index\\\",\\\"scope\\\":\\\"12085418636875583525\\\",\\\"id\\\":\\\"5169219422236929025\\\",\\\"type\\\":\\\"observable\\\"},val)) : undefined; return this.valueFromJulia[\\\"index\\\"]=false}),self)]\\n        \\n    }\\n    self.model = new AppViewModel();\\n    self.valueFromJulia = {};\\n    for (var key in json_data) {\\n        self.valueFromJulia[key] = false;\\n    }\\n    ko.applyBindings(self.model, self.dom);\\n}\\n);\\n    (WebIO.importBlock({\\\"data\\\":[{\\\"name\\\":\\\"knockout\\\",\\\"type\\\":\\\"js\\\",\\\"url\\\":\\\"\\/assetserver\\/7f6b498a95a9ac6b63c8a1071f981fdcb2e51812-knockout.js\\\"},{\\\"name\\\":\\\"knockout_punches\\\",\\\"type\\\":\\\"js\\\",\\\"url\\\":\\\"\\/assetserver\\/5f04fb6c5d5058eabc17f9b5db30d55e40586407-knockout_punches.js\\\"}],\\\"type\\\":\\\"async_block\\\"})).then((imports) => handler.apply(this, imports));\\n}\\n\"],\"observables\":{\"changes\":{\"sync\":false,\"id\":\"16497858394903429238\",\"value\":0},\"index\":{\"sync\":true,\"id\":\"5169219422236929025\",\"value\":20}}},\"children\":[{\"props\":{\"className\":\"interact-flex-row interact-widget\"},\"nodeType\":\"DOM\",\"type\":\"node\",\"instanceArgs\":{\"namespace\":\"html\",\"tag\":\"div\"},\"children\":[{\"props\":{\"className\":\"interact-flex-row-left\"},\"nodeType\":\"DOM\",\"type\":\"node\",\"instanceArgs\":{\"namespace\":\"html\",\"tag\":\"div\"},\"children\":[{\"props\":{\"className\":\"interact \",\"style\":{\"padding\":\"5px 10px 0px 10px\"}},\"nodeType\":\"DOM\",\"type\":\"node\",\"instanceArgs\":{\"namespace\":\"html\",\"tag\":\"label\"},\"children\":[\"x\"]}]},{\"props\":{\"className\":\"interact-flex-row-center\"},\"nodeType\":\"DOM\",\"type\":\"node\",\"instanceArgs\":{\"namespace\":\"html\",\"tag\":\"div\"},\"children\":[{\"props\":{\"max\":40,\"min\":1,\"attributes\":{\"type\":\"range\",\"data-bind\":\"numericValue: index, valueUpdate: 'input', event: {change: function (){this.changes(this.changes()+1)}}\",\"orient\":\"horizontal\"},\"step\":1,\"className\":\"slider slider is-fullwidth\",\"style\":{}},\"nodeType\":\"DOM\",\"type\":\"node\",\"instanceArgs\":{\"namespace\":\"html\",\"tag\":\"input\"},\"children\":[]}]},{\"props\":{\"className\":\"interact-flex-row-right\"},\"nodeType\":\"DOM\",\"type\":\"node\",\"instanceArgs\":{\"namespace\":\"html\",\"tag\":\"div\"},\"children\":[{\"props\":{\"attributes\":{\"data-bind\":\"text: formatted_val\"}},\"nodeType\":\"DOM\",\"type\":\"node\",\"instanceArgs\":{\"namespace\":\"html\",\"tag\":\"p\"},\"children\":[]}]}]}]}]},{\"props\":{\"className\":\"field interact-widget\"},\"nodeType\":\"DOM\",\"type\":\"node\",\"instanceArgs\":{\"namespace\":\"html\",\"tag\":\"div\"},\"children\":[{\"props\":{},\"nodeType\":\"Scope\",\"type\":\"node\",\"instanceArgs\":{\"imports\":{\"data\":[{\"name\":\"knockout\",\"type\":\"js\",\"url\":\"\\/assetserver\\/7f6b498a95a9ac6b63c8a1071f981fdcb2e51812-knockout.js\"},{\"name\":\"knockout_punches\",\"type\":\"js\",\"url\":\"\\/assetserver\\/5f04fb6c5d5058eabc17f9b5db30d55e40586407-knockout_punches.js\"},{\"name\":null,\"type\":\"js\",\"url\":\"\\/assetserver\\/360a916de0e68fbc737b0c42b281e4a3865e0e0d-all.js\"},{\"name\":null,\"type\":\"css\",\"url\":\"\\/assetserver\\/e0177d064698cd1c6cb5700b95e35e3ddec1f896-style.css\"},{\"name\":null,\"type\":\"css\",\"url\":\"\\/assetserver\\/b73710587e210485b07cb381d6adb38aa7ca3e34-bulma_confined.min.css\"}],\"type\":\"async_block\"},\"id\":\"13867969527428788855\",\"handlers\":{\"changes\":[\"(function (val){return (val!=this.model[\\\"changes\\\"]()) ? (this.valueFromJulia[\\\"changes\\\"]=true, this.model[\\\"changes\\\"](val)) : undefined})\"],\"index\":[\"(function (val){return (val!=this.model[\\\"index\\\"]()) ? (this.valueFromJulia[\\\"index\\\"]=true, this.model[\\\"index\\\"](val)) : undefined})\"]},\"systemjs_options\":null,\"mount_callbacks\":[\"function () {\\n    var handler = (function (ko, koPunches) {\\n    ko.punches.enableAll();\\n    ko.bindingHandlers.numericValue = {\\n        init: function(element, valueAccessor, allBindings, data, context) {\\n            var stringified = ko.observable(ko.unwrap(valueAccessor()));\\n            stringified.subscribe(function(value) {\\n                var val = parseFloat(value);\\n                if (!isNaN(val)) {\\n                    valueAccessor()(val);\\n                }\\n            });\\n            valueAccessor().subscribe(function(value) {\\n                var str = JSON.stringify(value);\\n                if ((str == \\\"0\\\") && ([\\\"-0\\\", \\\"-0.\\\"].indexOf(stringified()) >= 0))\\n                     return;\\n                 if ([\\\"null\\\", \\\"\\\"].indexOf(str) >= 0)\\n                     return;\\n                stringified(str);\\n            });\\n            ko.applyBindingsToNode(\\n                element,\\n                {\\n                    value: stringified,\\n                    valueUpdate: allBindings.get('valueUpdate'),\\n                },\\n                context,\\n            );\\n        }\\n    };\\n    var json_data = {\\\"formatted_vals\\\":[\\\"-1.9\\\",\\\"-1.8\\\",\\\"-1.7\\\",\\\"-1.6\\\",\\\"-1.5\\\",\\\"-1.4\\\",\\\"-1.3\\\",\\\"-1.2\\\",\\\"-1.1\\\",\\\"-1.0\\\",\\\"-0.9\\\",\\\"-0.8\\\",\\\"-0.7\\\",\\\"-0.6\\\",\\\"-0.5\\\",\\\"-0.4\\\",\\\"-0.3\\\",\\\"-0.2\\\",\\\"-0.1\\\",\\\"0.0\\\",\\\"0.1\\\",\\\"0.2\\\",\\\"0.3\\\",\\\"0.4\\\",\\\"0.5\\\",\\\"0.6\\\",\\\"0.7\\\",\\\"0.8\\\",\\\"0.9\\\",\\\"1.0\\\",\\\"1.1\\\",\\\"1.2\\\",\\\"1.3\\\",\\\"1.4\\\",\\\"1.5\\\",\\\"1.6\\\",\\\"1.7\\\",\\\"1.8\\\",\\\"1.9\\\",\\\"2.0\\\"],\\\"changes\\\":WebIO.getval({\\\"name\\\":\\\"changes\\\",\\\"scope\\\":\\\"13867969527428788855\\\",\\\"id\\\":\\\"9676506777198614932\\\",\\\"type\\\":\\\"observable\\\"}),\\\"index\\\":WebIO.getval({\\\"name\\\":\\\"index\\\",\\\"scope\\\":\\\"13867969527428788855\\\",\\\"id\\\":\\\"13599623982008031655\\\",\\\"type\\\":\\\"observable\\\"})};\\n    var self = this;\\n    function AppViewModel() {\\n        for (var key in json_data) {\\n            var el = json_data[key];\\n            this[key] = Array.isArray(el) ? ko.observableArray(el) : ko.observable(el);\\n        }\\n        \\n        [this[\\\"formatted_val\\\"]=ko.computed(    function(){\\n        return this.formatted_vals()[parseInt(this.index())-(1)];\\n    }\\n,this)]\\n        [this[\\\"changes\\\"].subscribe((function (val){!(this.valueFromJulia[\\\"changes\\\"]) ? (WebIO.setval({\\\"name\\\":\\\"changes\\\",\\\"scope\\\":\\\"13867969527428788855\\\",\\\"id\\\":\\\"9676506777198614932\\\",\\\"type\\\":\\\"observable\\\"},val)) : undefined; return this.valueFromJulia[\\\"changes\\\"]=false}),self),this[\\\"index\\\"].subscribe((function (val){!(this.valueFromJulia[\\\"index\\\"]) ? (WebIO.setval({\\\"name\\\":\\\"index\\\",\\\"scope\\\":\\\"13867969527428788855\\\",\\\"id\\\":\\\"13599623982008031655\\\",\\\"type\\\":\\\"observable\\\"},val)) : undefined; return this.valueFromJulia[\\\"index\\\"]=false}),self)]\\n        \\n    }\\n    self.model = new AppViewModel();\\n    self.valueFromJulia = {};\\n    for (var key in json_data) {\\n        self.valueFromJulia[key] = false;\\n    }\\n    ko.applyBindings(self.model, self.dom);\\n}\\n);\\n    (WebIO.importBlock({\\\"data\\\":[{\\\"name\\\":\\\"knockout\\\",\\\"type\\\":\\\"js\\\",\\\"url\\\":\\\"\\/assetserver\\/7f6b498a95a9ac6b63c8a1071f981fdcb2e51812-knockout.js\\\"},{\\\"name\\\":\\\"knockout_punches\\\",\\\"type\\\":\\\"js\\\",\\\"url\\\":\\\"\\/assetserver\\/5f04fb6c5d5058eabc17f9b5db30d55e40586407-knockout_punches.js\\\"}],\\\"type\\\":\\\"async_block\\\"})).then((imports) => handler.apply(this, imports));\\n}\\n\"],\"observables\":{\"changes\":{\"sync\":false,\"id\":\"9676506777198614932\",\"value\":0},\"index\":{\"sync\":true,\"id\":\"13599623982008031655\",\"value\":20}}},\"children\":[{\"props\":{\"className\":\"interact-flex-row interact-widget\"},\"nodeType\":\"DOM\",\"type\":\"node\",\"instanceArgs\":{\"namespace\":\"html\",\"tag\":\"div\"},\"children\":[{\"props\":{\"className\":\"interact-flex-row-left\"},\"nodeType\":\"DOM\",\"type\":\"node\",\"instanceArgs\":{\"namespace\":\"html\",\"tag\":\"div\"},\"children\":[{\"props\":{\"className\":\"interact \",\"style\":{\"padding\":\"5px 10px 0px 10px\"}},\"nodeType\":\"DOM\",\"type\":\"node\",\"instanceArgs\":{\"namespace\":\"html\",\"tag\":\"label\"},\"children\":[\"y\"]}]},{\"props\":{\"className\":\"interact-flex-row-center\"},\"nodeType\":\"DOM\",\"type\":\"node\",\"instanceArgs\":{\"namespace\":\"html\",\"tag\":\"div\"},\"children\":[{\"props\":{\"max\":40,\"min\":1,\"attributes\":{\"type\":\"range\",\"data-bind\":\"numericValue: index, valueUpdate: 'input', event: {change: function (){this.changes(this.changes()+1)}}\",\"orient\":\"horizontal\"},\"step\":1,\"className\":\"slider slider is-fullwidth\",\"style\":{}},\"nodeType\":\"DOM\",\"type\":\"node\",\"instanceArgs\":{\"namespace\":\"html\",\"tag\":\"input\"},\"children\":[]}]},{\"props\":{\"className\":\"interact-flex-row-right\"},\"nodeType\":\"DOM\",\"type\":\"node\",\"instanceArgs\":{\"namespace\":\"html\",\"tag\":\"div\"},\"children\":[{\"props\":{\"attributes\":{\"data-bind\":\"text: formatted_val\"}},\"nodeType\":\"DOM\",\"type\":\"node\",\"instanceArgs\":{\"namespace\":\"html\",\"tag\":\"p\"},\"children\":[]}]}]}]}]},{\"props\":{\"className\":\"field interact-widget\"},\"nodeType\":\"DOM\",\"type\":\"node\",\"instanceArgs\":{\"namespace\":\"html\",\"tag\":\"div\"},\"children\":[{\"props\":{},\"nodeType\":\"Scope\",\"type\":\"node\",\"instanceArgs\":{\"imports\":{\"data\":[{\"name\":\"knockout\",\"type\":\"js\",\"url\":\"\\/assetserver\\/7f6b498a95a9ac6b63c8a1071f981fdcb2e51812-knockout.js\"},{\"name\":\"knockout_punches\",\"type\":\"js\",\"url\":\"\\/assetserver\\/5f04fb6c5d5058eabc17f9b5db30d55e40586407-knockout_punches.js\"},{\"name\":null,\"type\":\"js\",\"url\":\"\\/assetserver\\/360a916de0e68fbc737b0c42b281e4a3865e0e0d-all.js\"},{\"name\":null,\"type\":\"css\",\"url\":\"\\/assetserver\\/e0177d064698cd1c6cb5700b95e35e3ddec1f896-style.css\"},{\"name\":null,\"type\":\"css\",\"url\":\"\\/assetserver\\/b73710587e210485b07cb381d6adb38aa7ca3e34-bulma_confined.min.css\"}],\"type\":\"async_block\"},\"id\":\"15100207381223110524\",\"handlers\":{\"changes\":[\"(function (val){return (val!=this.model[\\\"changes\\\"]()) ? (this.valueFromJulia[\\\"changes\\\"]=true, this.model[\\\"changes\\\"](val)) : undefined})\"],\"index\":[\"(function (val){return (val!=this.model[\\\"index\\\"]()) ? (this.valueFromJulia[\\\"index\\\"]=true, this.model[\\\"index\\\"](val)) : undefined})\"]},\"systemjs_options\":null,\"mount_callbacks\":[\"function () {\\n    var handler = (function (ko, koPunches) {\\n    ko.punches.enableAll();\\n    ko.bindingHandlers.numericValue = {\\n        init: function(element, valueAccessor, allBindings, data, context) {\\n            var stringified = ko.observable(ko.unwrap(valueAccessor()));\\n            stringified.subscribe(function(value) {\\n                var val = parseFloat(value);\\n                if (!isNaN(val)) {\\n                    valueAccessor()(val);\\n                }\\n            });\\n            valueAccessor().subscribe(function(value) {\\n                var str = JSON.stringify(value);\\n                if ((str == \\\"0\\\") && ([\\\"-0\\\", \\\"-0.\\\"].indexOf(stringified()) >= 0))\\n                     return;\\n                 if ([\\\"null\\\", \\\"\\\"].indexOf(str) >= 0)\\n                     return;\\n                stringified(str);\\n            });\\n            ko.applyBindingsToNode(\\n                element,\\n                {\\n                    value: stringified,\\n                    valueUpdate: allBindings.get('valueUpdate'),\\n                },\\n                context,\\n            );\\n        }\\n    };\\n    var json_data = {\\\"formatted_vals\\\":[\\\"0.1\\\",\\\"0.2\\\",\\\"0.3\\\",\\\"0.4\\\",\\\"0.5\\\",\\\"0.6\\\",\\\"0.7\\\",\\\"0.8\\\",\\\"0.9\\\",\\\"1.0\\\",\\\"1.1\\\",\\\"1.2\\\",\\\"1.3\\\",\\\"1.4\\\",\\\"1.5\\\",\\\"1.6\\\",\\\"1.7\\\",\\\"1.8\\\",\\\"1.9\\\",\\\"2.0\\\"],\\\"changes\\\":WebIO.getval({\\\"name\\\":\\\"changes\\\",\\\"scope\\\":\\\"15100207381223110524\\\",\\\"id\\\":\\\"12662641984372177028\\\",\\\"type\\\":\\\"observable\\\"}),\\\"index\\\":WebIO.getval({\\\"name\\\":\\\"index\\\",\\\"scope\\\":\\\"15100207381223110524\\\",\\\"id\\\":\\\"5420163604713154512\\\",\\\"type\\\":\\\"observable\\\"})};\\n    var self = this;\\n    function AppViewModel() {\\n        for (var key in json_data) {\\n            var el = json_data[key];\\n            this[key] = Array.isArray(el) ? ko.observableArray(el) : ko.observable(el);\\n        }\\n        \\n        [this[\\\"formatted_val\\\"]=ko.computed(    function(){\\n        return this.formatted_vals()[parseInt(this.index())-(1)];\\n    }\\n,this)]\\n        [this[\\\"changes\\\"].subscribe((function (val){!(this.valueFromJulia[\\\"changes\\\"]) ? (WebIO.setval({\\\"name\\\":\\\"changes\\\",\\\"scope\\\":\\\"15100207381223110524\\\",\\\"id\\\":\\\"12662641984372177028\\\",\\\"type\\\":\\\"observable\\\"},val)) : undefined; return this.valueFromJulia[\\\"changes\\\"]=false}),self),this[\\\"index\\\"].subscribe((function (val){!(this.valueFromJulia[\\\"index\\\"]) ? (WebIO.setval({\\\"name\\\":\\\"index\\\",\\\"scope\\\":\\\"15100207381223110524\\\",\\\"id\\\":\\\"5420163604713154512\\\",\\\"type\\\":\\\"observable\\\"},val)) : undefined; return this.valueFromJulia[\\\"index\\\"]=false}),self)]\\n        \\n    }\\n    self.model = new AppViewModel();\\n    self.valueFromJulia = {};\\n    for (var key in json_data) {\\n        self.valueFromJulia[key] = false;\\n    }\\n    ko.applyBindings(self.model, self.dom);\\n}\\n);\\n    (WebIO.importBlock({\\\"data\\\":[{\\\"name\\\":\\\"knockout\\\",\\\"type\\\":\\\"js\\\",\\\"url\\\":\\\"\\/assetserver\\/7f6b498a95a9ac6b63c8a1071f981fdcb2e51812-knockout.js\\\"},{\\\"name\\\":\\\"knockout_punches\\\",\\\"type\\\":\\\"js\\\",\\\"url\\\":\\\"\\/assetserver\\/5f04fb6c5d5058eabc17f9b5db30d55e40586407-knockout_punches.js\\\"}],\\\"type\\\":\\\"async_block\\\"})).then((imports) => handler.apply(this, imports));\\n}\\n\"],\"observables\":{\"changes\":{\"sync\":false,\"id\":\"12662641984372177028\",\"value\":0},\"index\":{\"sync\":true,\"id\":\"5420163604713154512\",\"value\":10}}},\"children\":[{\"props\":{\"className\":\"interact-flex-row interact-widget\"},\"nodeType\":\"DOM\",\"type\":\"node\",\"instanceArgs\":{\"namespace\":\"html\",\"tag\":\"div\"},\"children\":[{\"props\":{\"className\":\"interact-flex-row-left\"},\"nodeType\":\"DOM\",\"type\":\"node\",\"instanceArgs\":{\"namespace\":\"html\",\"tag\":\"div\"},\"children\":[{\"props\":{\"className\":\"interact \",\"style\":{\"padding\":\"5px 10px 0px 10px\"}},\"nodeType\":\"DOM\",\"type\":\"node\",\"instanceArgs\":{\"namespace\":\"html\",\"tag\":\"label\"},\"children\":[\"z\"]}]},{\"props\":{\"className\":\"interact-flex-row-center\"},\"nodeType\":\"DOM\",\"type\":\"node\",\"instanceArgs\":{\"namespace\":\"html\",\"tag\":\"div\"},\"children\":[{\"props\":{\"max\":20,\"min\":1,\"attributes\":{\"type\":\"range\",\"data-bind\":\"numericValue: index, valueUpdate: 'input', event: {change: function (){this.changes(this.changes()+1)}}\",\"orient\":\"horizontal\"},\"step\":1,\"className\":\"slider slider is-fullwidth\",\"style\":{}},\"nodeType\":\"DOM\",\"type\":\"node\",\"instanceArgs\":{\"namespace\":\"html\",\"tag\":\"input\"},\"children\":[]}]},{\"props\":{\"className\":\"interact-flex-row-right\"},\"nodeType\":\"DOM\",\"type\":\"node\",\"instanceArgs\":{\"namespace\":\"html\",\"tag\":\"div\"},\"children\":[{\"props\":{\"attributes\":{\"data-bind\":\"text: formatted_val\"}},\"nodeType\":\"DOM\",\"type\":\"node\",\"instanceArgs\":{\"namespace\":\"html\",\"tag\":\"p\"},\"children\":[]}]}]}]}]},{\"props\":{},\"nodeType\":\"Scope\",\"type\":\"node\",\"instanceArgs\":{\"imports\":{\"data\":[],\"type\":\"async_block\"},\"id\":\"8459662722096517509\",\"handlers\":{},\"systemjs_options\":null,\"mount_callbacks\":[],\"observables\":{\"obs-node\":{\"sync\":false,\"id\":\"3181938703783668458\",\"value\":{\"props\":{\"className\":\"interact-flex-row interact-widget\"},\"nodeType\":\"DOM\",\"type\":\"node\",\"instanceArgs\":{\"namespace\":\"html\",\"tag\":\"div\"},\"children\":[{\"props\":{\"setInnerHtml\":\"<?xml version=\\\"1.0\\\" encoding=\\\"utf-8\\\"?>\\n<svg xmlns=\\\"http:\\/\\/www.w3.org\\/2000\\/svg\\\" xmlns:xlink=\\\"http:\\/\\/www.w3.org\\/1999\\/xlink\\\" width=\\\"600\\\" height=\\\"400\\\" viewBox=\\\"0 0 2400 1600\\\">\\n<defs>\\n  <clipPath id=\\\"clip000\\\">\\n    <rect x=\\\"0\\\" y=\\\"0\\\" width=\\\"2400\\\" height=\\\"1600\\\"\\/>\\n  <\\/clipPath>\\n<\\/defs>\\n<path clip-path=\\\"url(#clip000)\\\" d=\\\"\\nM0 1600 L2400 1600 L2400 0 L0 0  Z\\n  \\\" fill=\\\"#ffffff\\\" fill-rule=\\\"evenodd\\\" fill-opacity=\\\"1\\\"\\/>\\n<defs>\\n  <clipPath id=\\\"clip001\\\">\\n    <rect x=\\\"480\\\" y=\\\"0\\\" width=\\\"1681\\\" height=\\\"1600\\\"\\/>\\n  <\\/clipPath>\\n<\\/defs>\\n<defs>\\n  <clipPath id=\\\"clip002\\\">\\n    <rect x=\\\"147\\\" y=\\\"47\\\" width=\\\"1846\\\" height=\\\"1440\\\"\\/>\\n  <\\/clipPath>\\n<\\/defs>\\n<path clip-path=\\\"url(#clip002)\\\" d=\\\"\\nM786.351 984.764 L786.351 624.963 L994.082 445.062 L1353.88 548.928 L1353.88 908.729 L1146.15 1088.63 L786.351 984.764  Z\\n  \\\" fill=\\\"#ffffff\\\" fill-rule=\\\"evenodd\\\" fill-opacity=\\\"1\\\"\\/>\\n<polyline clip-path=\\\"url(#clip002)\\\" style=\\\"stroke:#000000; stroke-linecap:round; stroke-linejoin:round; stroke-width:2; stroke-opacity:0.1; fill:none\\\" points=\\\"\\n  502.585,1202.68 918.047,842.881 918.047,123.279 \\n  \\\"\\/>\\n<polyline clip-path=\\\"url(#clip002)\\\" style=\\\"stroke:#000000; stroke-linecap:round; stroke-linejoin:round; stroke-width:2; stroke-opacity:0.1; fill:none\\\" points=\\\"\\n  682.485,1254.61 1097.95,894.814 1097.95,175.212 \\n  \\\"\\/>\\n<polyline clip-path=\\\"url(#clip002)\\\" style=\\\"stroke:#000000; stroke-linecap:round; stroke-linejoin:round; stroke-width:2; stroke-opacity:0.1; fill:none\\\" points=\\\"\\n  862.386,1306.55 1277.85,946.746 1277.85,227.145 \\n  \\\"\\/>\\n<polyline clip-path=\\\"url(#clip002)\\\" style=\\\"stroke:#000000; stroke-linecap:round; stroke-linejoin:round; stroke-width:2; stroke-opacity:0.1; fill:none\\\" points=\\\"\\n  1042.29,1358.48 1457.75,998.679 1457.75,279.077 \\n  \\\"\\/>\\n<polyline clip-path=\\\"url(#clip002)\\\" style=\\\"stroke:#000000; stroke-linecap:round; stroke-linejoin:round; stroke-width:2; stroke-opacity:0.1; fill:none\\\" points=\\\"\\n  1222.19,1410.41 1637.65,1050.61 1637.65,331.01 \\n  \\\"\\/>\\n<polyline clip-path=\\\"url(#clip000)\\\" style=\\\"stroke:#000000; stroke-linecap:round; stroke-linejoin:round; stroke-width:4; stroke-opacity:1; fill:none\\\" points=\\\"\\n  502.585,1202.68 1222.19,1410.41 \\n  \\\"\\/>\\n<polyline clip-path=\\\"url(#clip000)\\\" style=\\\"stroke:#000000; stroke-linecap:round; stroke-linejoin:round; stroke-width:4; stroke-opacity:1; fill:none\\\" points=\\\"\\n  502.585,1202.68 507.57,1198.36 \\n  \\\"\\/>\\n<polyline clip-path=\\\"url(#clip000)\\\" style=\\\"stroke:#000000; stroke-linecap:round; stroke-linejoin:round; stroke-width:4; stroke-opacity:1; fill:none\\\" points=\\\"\\n  682.485,1254.61 687.471,1250.3 \\n  \\\"\\/>\\n<polyline clip-path=\\\"url(#clip000)\\\" style=\\\"stroke:#000000; stroke-linecap:round; stroke-linejoin:round; stroke-width:4; stroke-opacity:1; fill:none\\\" points=\\\"\\n  862.386,1306.55 867.371,1302.23 \\n  \\\"\\/>\\n<polyline clip-path=\\\"url(#clip000)\\\" style=\\\"stroke:#000000; stroke-linecap:round; stroke-linejoin:round; stroke-width:4; stroke-opacity:1; fill:none\\\" points=\\\"\\n  1042.29,1358.48 1047.27,1354.16 \\n  \\\"\\/>\\n<polyline clip-path=\\\"url(#clip000)\\\" style=\\\"stroke:#000000; stroke-linecap:round; stroke-linejoin:round; stroke-width:4; stroke-opacity:1; fill:none\\\" points=\\\"\\n  1222.19,1410.41 1227.17,1406.1 \\n  \\\"\\/>\\n<path clip-path=\\\"url(#clip000)\\\" d=\\\"M434.482 1230.8 L464.157 1230.8 L464.157 1234.74 L434.482 1234.74 L434.482 1230.8 Z\\\" fill=\\\"#000000\\\" fill-rule=\\\"evenodd\\\" fill-opacity=\\\"1\\\" \\/><path clip-path=\\\"url(#clip000)\\\" d=\\\"M478.278 1243.7 L494.597 1243.7 L494.597 1247.63 L472.653 1247.63 L472.653 1243.7 Q475.315 1240.94 479.898 1236.31 Q484.505 1231.66 485.685 1230.32 Q487.93 1227.79 488.81 1226.06 Q489.713 1224.3 489.713 1222.61 Q489.713 1219.85 487.768 1218.12 Q485.847 1216.38 482.745 1216.38 Q480.546 1216.38 478.093 1217.15 Q475.662 1217.91 472.884 1219.46 L472.884 1214.74 Q475.708 1213.6 478.162 1213.03 Q480.616 1212.45 482.653 1212.45 Q488.023 1212.45 491.217 1215.13 Q494.412 1217.82 494.412 1222.31 Q494.412 1224.44 493.602 1226.36 Q492.815 1228.26 490.708 1230.85 Q490.13 1231.52 487.028 1234.74 Q483.926 1237.93 478.278 1243.7 Z\\\" fill=\\\"#000000\\\" fill-rule=\\\"evenodd\\\" fill-opacity=\\\"1\\\" \\/><path clip-path=\\\"url(#clip000)\\\" d=\\\"M614.012 1282.74 L643.688 1282.74 L643.688 1286.67 L614.012 1286.67 L614.012 1282.74 Z\\\" fill=\\\"#000000\\\" fill-rule=\\\"evenodd\\\" fill-opacity=\\\"1\\\" \\/><path clip-path=\\\"url(#clip000)\\\" d=\\\"M654.59 1295.63 L662.229 1295.63 L662.229 1269.26 L653.919 1270.93 L653.919 1266.67 L662.183 1265 L666.859 1265 L666.859 1295.63 L674.498 1295.63 L674.498 1299.56 L654.59 1299.56 L654.59 1295.63 Z\\\" fill=\\\"#000000\\\" fill-rule=\\\"evenodd\\\" fill-opacity=\\\"1\\\" \\/><path clip-path=\\\"url(#clip000)\\\" d=\\\"M842.454 1320.02 Q838.843 1320.02 837.014 1323.58 Q835.208 1327.12 835.208 1334.25 Q835.208 1341.36 837.014 1344.92 Q838.843 1348.47 842.454 1348.47 Q846.088 1348.47 847.893 1344.92 Q849.722 1341.36 849.722 1334.25 Q849.722 1327.12 847.893 1323.58 Q846.088 1320.02 842.454 1320.02 M842.454 1316.31 Q848.264 1316.31 851.319 1320.92 Q854.398 1325.5 854.398 1334.25 Q854.398 1342.98 851.319 1347.59 Q848.264 1352.17 842.454 1352.17 Q836.644 1352.17 833.565 1347.59 Q830.509 1342.98 830.509 1334.25 Q830.509 1325.5 833.565 1320.92 Q836.644 1316.31 842.454 1316.31 Z\\\" fill=\\\"#000000\\\" fill-rule=\\\"evenodd\\\" fill-opacity=\\\"1\\\" \\/><path clip-path=\\\"url(#clip000)\\\" d=\\\"M1014.39 1399.5 L1022.03 1399.5 L1022.03 1373.13 L1013.72 1374.8 L1013.72 1370.54 L1021.98 1368.87 L1026.66 1368.87 L1026.66 1399.5 L1034.3 1399.5 L1034.3 1403.43 L1014.39 1403.43 L1014.39 1399.5 Z\\\" fill=\\\"#000000\\\" fill-rule=\\\"evenodd\\\" fill-opacity=\\\"1\\\" \\/><path clip-path=\\\"url(#clip000)\\\" d=\\\"M1197.88 1451.43 L1214.2 1451.43 L1214.2 1455.36 L1192.25 1455.36 L1192.25 1451.43 Q1194.92 1448.67 1199.5 1444.04 Q1204.11 1439.39 1205.29 1438.05 Q1207.53 1435.53 1208.41 1433.79 Q1209.31 1432.03 1209.31 1430.34 Q1209.31 1427.59 1207.37 1425.85 Q1205.45 1424.11 1202.35 1424.11 Q1200.15 1424.11 1197.69 1424.88 Q1195.26 1425.64 1192.49 1427.19 L1192.49 1422.47 Q1195.31 1421.34 1197.76 1420.76 Q1200.22 1420.18 1202.25 1420.18 Q1207.62 1420.18 1210.82 1422.86 Q1214.01 1425.55 1214.01 1430.04 Q1214.01 1432.17 1213.2 1434.09 Q1212.42 1435.99 1210.31 1438.58 Q1209.73 1439.25 1206.63 1442.47 Q1203.53 1445.66 1197.88 1451.43 Z\\\" fill=\\\"#000000\\\" fill-rule=\\\"evenodd\\\" fill-opacity=\\\"1\\\" \\/><polyline clip-path=\\\"url(#clip002)\\\" style=\\\"stroke:#000000; stroke-linecap:round; stroke-linejoin:round; stroke-width:2; stroke-opacity:0.1; fill:none\\\" points=\\\"\\n  1222.19,1410.41 502.585,1202.68 502.585,483.08 \\n  \\\"\\/>\\n<polyline clip-path=\\\"url(#clip002)\\\" style=\\\"stroke:#000000; stroke-linecap:round; stroke-linejoin:round; stroke-width:2; stroke-opacity:0.1; fill:none\\\" points=\\\"\\n  1326.05,1320.46 606.45,1112.73 606.45,393.13 \\n  \\\"\\/>\\n<polyline clip-path=\\\"url(#clip002)\\\" style=\\\"stroke:#000000; stroke-linecap:round; stroke-linejoin:round; stroke-width:2; stroke-opacity:0.1; fill:none\\\" points=\\\"\\n  1429.92,1230.51 710.316,1022.78 710.316,303.179 \\n  \\\"\\/>\\n<polyline clip-path=\\\"url(#clip002)\\\" style=\\\"stroke:#000000; stroke-linecap:round; stroke-linejoin:round; stroke-width:2; stroke-opacity:0.1; fill:none\\\" points=\\\"\\n  1533.78,1140.56 814.182,932.831 814.182,213.229 \\n  \\\"\\/>\\n<polyline clip-path=\\\"url(#clip002)\\\" style=\\\"stroke:#000000; stroke-linecap:round; stroke-linejoin:round; stroke-width:2; stroke-opacity:0.1; fill:none\\\" points=\\\"\\n  1637.65,1050.61 918.047,842.881 918.047,123.279 \\n  \\\"\\/>\\n<polyline clip-path=\\\"url(#clip000)\\\" style=\\\"stroke:#000000; stroke-linecap:round; stroke-linejoin:round; stroke-width:4; stroke-opacity:1; fill:none\\\" points=\\\"\\n  1222.19,1410.41 1637.65,1050.61 \\n  \\\"\\/>\\n<polyline clip-path=\\\"url(#clip000)\\\" style=\\\"stroke:#000000; stroke-linecap:round; stroke-linejoin:round; stroke-width:4; stroke-opacity:1; fill:none\\\" points=\\\"\\n  1222.19,1410.41 1213.55,1407.92 \\n  \\\"\\/>\\n<polyline clip-path=\\\"url(#clip000)\\\" style=\\\"stroke:#000000; stroke-linecap:round; stroke-linejoin:round; stroke-width:4; stroke-opacity:1; fill:none\\\" points=\\\"\\n  1326.05,1320.46 1317.42,1317.97 \\n  \\\"\\/>\\n<polyline clip-path=\\\"url(#clip000)\\\" style=\\\"stroke:#000000; stroke-linecap:round; stroke-linejoin:round; stroke-width:4; stroke-opacity:1; fill:none\\\" points=\\\"\\n  1429.92,1230.51 1421.28,1228.02 \\n  \\\"\\/>\\n<polyline clip-path=\\\"url(#clip000)\\\" style=\\\"stroke:#000000; stroke-linecap:round; stroke-linejoin:round; stroke-width:4; stroke-opacity:1; fill:none\\\" points=\\\"\\n  1533.78,1140.56 1525.15,1138.07 \\n  \\\"\\/>\\n<polyline clip-path=\\\"url(#clip000)\\\" style=\\\"stroke:#000000; stroke-linecap:round; stroke-linejoin:round; stroke-width:4; stroke-opacity:1; fill:none\\\" points=\\\"\\n  1637.65,1050.61 1629.01,1048.12 \\n  \\\"\\/>\\n<path clip-path=\\\"url(#clip000)\\\" d=\\\"M1241.04 1432.64 L1270.72 1432.64 L1270.72 1436.57 L1241.04 1436.57 L1241.04 1432.64 Z\\\" fill=\\\"#000000\\\" fill-rule=\\\"evenodd\\\" fill-opacity=\\\"1\\\" \\/><path clip-path=\\\"url(#clip000)\\\" d=\\\"M1284.84 1445.53 L1301.16 1445.53 L1301.16 1449.46 L1279.21 1449.46 L1279.21 1445.53 Q1281.87 1442.77 1286.46 1438.14 Q1291.06 1433.49 1292.24 1432.15 Q1294.49 1429.63 1295.37 1427.89 Q1296.27 1426.13 1296.27 1424.44 Q1296.27 1421.69 1294.33 1419.95 Q1292.41 1418.21 1289.3 1418.21 Q1287.11 1418.21 1284.65 1418.98 Q1282.22 1419.74 1279.44 1421.29 L1279.44 1416.57 Q1282.27 1415.44 1284.72 1414.86 Q1287.17 1414.28 1289.21 1414.28 Q1294.58 1414.28 1297.78 1416.96 Q1300.97 1419.65 1300.97 1424.14 Q1300.97 1426.27 1300.16 1428.19 Q1299.37 1430.09 1297.27 1432.68 Q1296.69 1433.35 1293.59 1436.57 Q1290.48 1439.76 1284.84 1445.53 Z\\\" fill=\\\"#000000\\\" fill-rule=\\\"evenodd\\\" fill-opacity=\\\"1\\\" \\/><path clip-path=\\\"url(#clip000)\\\" d=\\\"M1344.91 1342.68 L1374.58 1342.68 L1374.58 1346.62 L1344.91 1346.62 L1344.91 1342.68 Z\\\" fill=\\\"#000000\\\" fill-rule=\\\"evenodd\\\" fill-opacity=\\\"1\\\" \\/><path clip-path=\\\"url(#clip000)\\\" d=\\\"M1385.48 1355.58 L1393.12 1355.58 L1393.12 1329.21 L1384.81 1330.88 L1384.81 1326.62 L1393.08 1324.95 L1397.75 1324.95 L1397.75 1355.58 L1405.39 1355.58 L1405.39 1359.51 L1385.48 1359.51 L1385.48 1355.58 Z\\\" fill=\\\"#000000\\\" fill-rule=\\\"evenodd\\\" fill-opacity=\\\"1\\\" \\/><path clip-path=\\\"url(#clip000)\\\" d=\\\"M1460.72 1238.08 Q1457.11 1238.08 1455.28 1241.65 Q1453.47 1245.19 1453.47 1252.32 Q1453.47 1259.42 1455.28 1262.99 Q1457.11 1266.53 1460.72 1266.53 Q1464.35 1266.53 1466.16 1262.99 Q1467.98 1259.42 1467.98 1252.32 Q1467.98 1245.19 1466.16 1241.65 Q1464.35 1238.08 1460.72 1238.08 M1460.72 1234.38 Q1466.53 1234.38 1469.58 1238.98 Q1472.66 1243.57 1472.66 1252.32 Q1472.66 1261.04 1469.58 1265.65 Q1466.53 1270.23 1460.72 1270.23 Q1454.91 1270.23 1451.83 1265.65 Q1448.77 1261.04 1448.77 1252.32 Q1448.77 1243.57 1451.83 1238.98 Q1454.91 1234.38 1460.72 1234.38 Z\\\" fill=\\\"#000000\\\" fill-rule=\\\"evenodd\\\" fill-opacity=\\\"1\\\" \\/><path clip-path=\\\"url(#clip000)\\\" d=\\\"M1553.31 1175.68 L1560.95 1175.68 L1560.95 1149.31 L1552.64 1150.98 L1552.64 1146.72 L1560.9 1145.05 L1565.58 1145.05 L1565.58 1175.68 L1573.22 1175.68 L1573.22 1179.61 L1553.31 1179.61 L1553.31 1175.68 Z\\\" fill=\\\"#000000\\\" fill-rule=\\\"evenodd\\\" fill-opacity=\\\"1\\\" \\/><path clip-path=\\\"url(#clip000)\\\" d=\\\"M1662.13 1085.73 L1678.45 1085.73 L1678.45 1089.66 L1656.5 1089.66 L1656.5 1085.73 Q1659.17 1082.97 1663.75 1078.34 Q1668.35 1073.69 1669.54 1072.35 Q1671.78 1069.82 1672.66 1068.09 Q1673.56 1066.33 1673.56 1064.64 Q1673.56 1061.89 1671.62 1060.15 Q1669.7 1058.41 1666.6 1058.41 Q1664.4 1058.41 1661.94 1059.18 Q1659.51 1059.94 1656.73 1061.49 L1656.73 1056.77 Q1659.56 1055.64 1662.01 1055.06 Q1664.47 1054.48 1666.5 1054.48 Q1671.87 1054.48 1675.07 1057.16 Q1678.26 1059.85 1678.26 1064.34 Q1678.26 1066.47 1677.45 1068.39 Q1676.66 1070.29 1674.56 1072.88 Q1673.98 1073.55 1670.88 1076.77 Q1667.78 1079.96 1662.13 1085.73 Z\\\" fill=\\\"#000000\\\" fill-rule=\\\"evenodd\\\" fill-opacity=\\\"1\\\" \\/><polyline clip-path=\\\"url(#clip002)\\\" style=\\\"stroke:#000000; stroke-linecap:round; stroke-linejoin:round; stroke-width:2; stroke-opacity:0.1; fill:none\\\" points=\\\"\\n  502.585,1202.68 918.047,842.881 1637.65,1050.61 \\n  \\\"\\/>\\n<polyline clip-path=\\\"url(#clip002)\\\" style=\\\"stroke:#000000; stroke-linecap:round; stroke-linejoin:round; stroke-width:2; stroke-opacity:0.1; fill:none\\\" points=\\\"\\n  502.585,1022.78 918.047,662.98 1637.65,870.712 \\n  \\\"\\/>\\n<polyline clip-path=\\\"url(#clip002)\\\" style=\\\"stroke:#000000; stroke-linecap:round; stroke-linejoin:round; stroke-width:2; stroke-opacity:0.1; fill:none\\\" points=\\\"\\n  502.585,842.881 918.047,483.08 1637.65,690.811 \\n  \\\"\\/>\\n<polyline clip-path=\\\"url(#clip002)\\\" style=\\\"stroke:#000000; stroke-linecap:round; stroke-linejoin:round; stroke-width:2; stroke-opacity:0.1; fill:none\\\" points=\\\"\\n  502.585,662.98 918.047,303.179 1637.65,510.911 \\n  \\\"\\/>\\n<polyline clip-path=\\\"url(#clip002)\\\" style=\\\"stroke:#000000; stroke-linecap:round; stroke-linejoin:round; stroke-width:2; stroke-opacity:0.1; fill:none\\\" points=\\\"\\n  502.585,483.08 918.047,123.279 1637.65,331.01 \\n  \\\"\\/>\\n<polyline clip-path=\\\"url(#clip000)\\\" style=\\\"stroke:#000000; stroke-linecap:round; stroke-linejoin:round; stroke-width:4; stroke-opacity:1; fill:none\\\" points=\\\"\\n  502.585,1202.68 502.585,483.08 \\n  \\\"\\/>\\n<polyline clip-path=\\\"url(#clip000)\\\" style=\\\"stroke:#000000; stroke-linecap:round; stroke-linejoin:round; stroke-width:4; stroke-opacity:1; fill:none\\\" points=\\\"\\n  502.585,1202.68 507.57,1198.36 \\n  \\\"\\/>\\n<polyline clip-path=\\\"url(#clip000)\\\" style=\\\"stroke:#000000; stroke-linecap:round; stroke-linejoin:round; stroke-width:4; stroke-opacity:1; fill:none\\\" points=\\\"\\n  502.585,1022.78 507.57,1018.46 \\n  \\\"\\/>\\n<polyline clip-path=\\\"url(#clip000)\\\" style=\\\"stroke:#000000; stroke-linecap:round; stroke-linejoin:round; stroke-width:4; stroke-opacity:1; fill:none\\\" points=\\\"\\n  502.585,842.881 507.57,838.563 \\n  \\\"\\/>\\n<polyline clip-path=\\\"url(#clip000)\\\" style=\\\"stroke:#000000; stroke-linecap:round; stroke-linejoin:round; stroke-width:4; stroke-opacity:1; fill:none\\\" points=\\\"\\n  502.585,662.98 507.57,658.663 \\n  \\\"\\/>\\n<polyline clip-path=\\\"url(#clip000)\\\" style=\\\"stroke:#000000; stroke-linecap:round; stroke-linejoin:round; stroke-width:4; stroke-opacity:1; fill:none\\\" points=\\\"\\n  502.585,483.08 507.57,478.762 \\n  \\\"\\/>\\n<path clip-path=\\\"url(#clip000)\\\" d=\\\"M413.669 1203.13 L443.345 1203.13 L443.345 1207.07 L413.669 1207.07 L413.669 1203.13 Z\\\" fill=\\\"#000000\\\" fill-rule=\\\"evenodd\\\" fill-opacity=\\\"1\\\" \\/><path clip-path=\\\"url(#clip000)\\\" d=\\\"M457.465 1216.03 L473.785 1216.03 L473.785 1219.96 L451.84 1219.96 L451.84 1216.03 Q454.502 1213.27 459.086 1208.64 Q463.692 1203.99 464.873 1202.65 Q467.118 1200.12 467.998 1198.39 Q468.901 1196.63 468.901 1194.94 Q468.901 1192.18 466.956 1190.45 Q465.035 1188.71 461.933 1188.71 Q459.734 1188.71 457.28 1189.48 Q454.85 1190.24 452.072 1191.79 L452.072 1187.07 Q454.896 1185.93 457.35 1185.36 Q459.803 1184.78 461.84 1184.78 Q467.211 1184.78 470.405 1187.46 Q473.6 1190.15 473.6 1194.64 Q473.6 1196.77 472.789 1198.69 Q472.002 1200.59 469.896 1203.18 Q469.317 1203.85 466.215 1207.07 Q463.114 1210.26 457.465 1216.03 Z\\\" fill=\\\"#000000\\\" fill-rule=\\\"evenodd\\\" fill-opacity=\\\"1\\\" \\/><path clip-path=\\\"url(#clip000)\\\" d=\\\"M413.299 1023.23 L442.975 1023.23 L442.975 1027.17 L413.299 1027.17 L413.299 1023.23 Z\\\" fill=\\\"#000000\\\" fill-rule=\\\"evenodd\\\" fill-opacity=\\\"1\\\" \\/><path clip-path=\\\"url(#clip000)\\\" d=\\\"M453.877 1036.13 L461.516 1036.13 L461.516 1009.76 L453.206 1011.43 L453.206 1007.17 L461.47 1005.5 L466.146 1005.5 L466.146 1036.13 L473.785 1036.13 L473.785 1040.06 L453.877 1040.06 L453.877 1036.13 Z\\\" fill=\\\"#000000\\\" fill-rule=\\\"evenodd\\\" fill-opacity=\\\"1\\\" \\/><path clip-path=\\\"url(#clip000)\\\" d=\\\"M461.84 828.68 Q458.229 828.68 456.401 832.244 Q454.595 835.786 454.595 842.916 Q454.595 850.022 456.401 853.587 Q458.229 857.128 461.84 857.128 Q465.475 857.128 467.28 853.587 Q469.109 850.022 469.109 842.916 Q469.109 835.786 467.28 832.244 Q465.475 828.68 461.84 828.68 M461.84 824.976 Q467.651 824.976 470.706 829.582 Q473.785 834.166 473.785 842.916 Q473.785 851.642 470.706 856.249 Q467.651 860.832 461.84 860.832 Q456.03 860.832 452.952 856.249 Q449.896 851.642 449.896 842.916 Q449.896 834.166 452.952 829.582 Q456.03 824.976 461.84 824.976 Z\\\" fill=\\\"#000000\\\" fill-rule=\\\"evenodd\\\" fill-opacity=\\\"1\\\" \\/><path clip-path=\\\"url(#clip000)\\\" d=\\\"M453.877 676.325 L461.516 676.325 L461.516 649.96 L453.206 651.626 L453.206 647.367 L461.47 645.7 L466.146 645.7 L466.146 676.325 L473.785 676.325 L473.785 680.26 L453.877 680.26 L453.877 676.325 Z\\\" fill=\\\"#000000\\\" fill-rule=\\\"evenodd\\\" fill-opacity=\\\"1\\\" \\/><path clip-path=\\\"url(#clip000)\\\" d=\\\"M457.465 496.425 L473.785 496.425 L473.785 500.36 L451.84 500.36 L451.84 496.425 Q454.502 493.67 459.086 489.041 Q463.692 484.388 464.873 483.045 Q467.118 480.522 467.998 478.786 Q468.901 477.027 468.901 475.337 Q468.901 472.582 466.956 470.846 Q465.035 469.11 461.933 469.11 Q459.734 469.11 457.28 469.874 Q454.85 470.638 452.072 472.189 L452.072 467.467 Q454.896 466.332 457.35 465.754 Q459.803 465.175 461.84 465.175 Q467.211 465.175 470.405 467.86 Q473.6 470.545 473.6 475.036 Q473.6 477.166 472.789 479.087 Q472.002 480.985 469.896 483.578 Q469.317 484.249 466.215 487.466 Q463.114 490.661 457.465 496.425 Z\\\" fill=\\\"#000000\\\" fill-rule=\\\"evenodd\\\" fill-opacity=\\\"1\\\" \\/><circle clip-path=\\\"url(#clip002)\\\" cx=\\\"1070.12\\\" cy=\\\"586.946\\\" r=\\\"14.4\\\" fill=\\\"#009af9\\\" fill-rule=\\\"evenodd\\\" fill-opacity=\\\"1\\\" stroke=\\\"#000000\\\" stroke-opacity=\\\"1\\\" stroke-width=\\\"3.2\\\"\\/>\\n<circle clip-path=\\\"url(#clip002)\\\" cx=\\\"1250.02\\\" cy=\\\"638.878\\\" r=\\\"14.4\\\" fill=\\\"#e26f46\\\" fill-rule=\\\"evenodd\\\" fill-opacity=\\\"1\\\" stroke=\\\"#000000\\\" stroke-opacity=\\\"1\\\" stroke-width=\\\"3.2\\\"\\/>\\n<polyline clip-path=\\\"url(#clip002)\\\" style=\\\"stroke:#0000ff; stroke-linecap:round; stroke-linejoin:round; stroke-width:4; stroke-opacity:1; fill:none\\\" points=\\\"\\n  1070.12,766.846 1070.12,586.946 \\n  \\\"\\/>\\n<polyline clip-path=\\\"url(#clip002)\\\" style=\\\"stroke:#ff0000; stroke-linecap:round; stroke-linejoin:round; stroke-width:4; stroke-opacity:1; fill:none\\\" points=\\\"\\n  1070.12,766.846 1250.02,638.878 \\n  \\\"\\/>\\n<path clip-path=\\\"url(#clip002)\\\" d=\\\"\\nM918.047 123.279 L502.585 483.08 L1222.19 1410.41 L1637.65 1050.61  Z\\n  \\\" fill=\\\"#bb3754\\\" fill-rule=\\\"evenodd\\\" fill-opacity=\\\"0.5\\\"\\/>\\n<defs>\\n  <clipPath id=\\\"clip003\\\">\\n    <rect x=\\\"2160\\\" y=\\\"47\\\" width=\\\"73\\\" height=\\\"1440\\\"\\/>\\n  <\\/clipPath>\\n<\\/defs>\\n<g clip-path=\\\"url(#clip003)\\\">\\n<image width=\\\"72\\\" height=\\\"1439\\\" xlink:href=\\\"data:image\\/png;base64,\\niVBORw0KGgoAAAANSUhEUgAAAEgAAAWfCAYAAAAI7rB3AAAMWUlEQVR4nO3dwY0rRxAFwaZQ\\/lsh\\nL6XfLQtUeSQPERYsEg8c9MyQ+\\/n3\\/v0O\\/+uvb\\/8Bv06gIFAQKAgU5r5\\/v\\/03\\/DQLCgIFgYJAQaAw\\n7\\/359t\\/w0ywoCBQECgIFR41gQUGgIFAQKAgU5rmKrSwoCBQECgIFgcK86yq2saAgUBAoCBQcNYIF\\nBYGCQEGgIFBwFQsWFAQKAgWBgvtBwYKCQEGgIFAQKMxx1FhZUBAoCBQECgIFN8yCBQWBgkBBoDDH\\nDbOVBQWBgkBBoCBQmHP\\/+fbf8NMsKAgUBAoCBYGCxz7BgoJAQaAgUHDDLFhQECgIFAQKAgVXsWBB\\nQaAgUBAouB8ULCgIFAQKAgWBwnwcNVYWFAQKAgWBgkBhzvWfWTYWFAQKAgWBgqNGsKAgUBAoCBQE\\nCo4awYKCQEGgIFAQKHjDLFhQECgIFAQK83HUWFlQECgIFAQKAgXvSQcLCgIFgYJAwVEjWFAQKAgU\\nBAoCBc\\/mgwUFgYJAQaAgUHAWCxYUBAoCBYGCo0awoCBQECgIFAQKjhrBgoJAQaAgUBAozLn323\\/D\\nT7OgIFAQKAgUHDWCBQWBgkBBoCBQ8NgnWFAQKAgUBAo+pIMFBYGCQEGgIFCYj6caKwsKAgWBgkBB\\noOAsFiwoCBQECgIFL1AFCwoCBYGCQEGg4IZZsKAgUBAoCBTcDwoWFAQKAgWBgkDBDbNgQUGgIFAQ\\nKAgUXMWCBQWBgkBBoOB788GCgkBBoCBQECg4agQLCgIFgYJAQaDgKhYsKAgUBAoCBR\\/SwYKCQEGg\\nIFAQKLiKBQsKAgWBgkBhzvMhvbGgIFAQKAgUBAqOGsGCgkBBoCBQECi4igULCgIFgYJAwYd0sKAg\\nUBAoCBQECnPu+\\/bf8NMsKAgUBAoCBYGCs1iwoCBQECgIFBw1ggUFgYJAQaAgUHDUCBYUBAoCBYGC\\no0awoCBQECgIFAQKc5w0VhYUBAoCBYGCQGHOcxbbWFAQKAgUBAqOGsGCgkBBoCBQECi4igULCgIF\\ngYJAQaAwfohzZ0FBoCBQECg4agQLCgIFgYJAQaDgKhYsKAgUBAoChTn38+2\\/4adZUBAoCBQECgKF\\nec9VbGNBQaAgUBAoCBTcMAsWFAQKAgWBghtmwYKCQEGgIFAQKMy7Gm3UCQIFgYJAwVEjWFAQKAgU\\nBAoChTmeza8sKAgUBAoCBYHCPGexlQUFgYJAQaAwx1ONlTpBoCBQECgIFBw1ggUFgYJAQaAgUPDY\\nJ1hQECgIFAQKXgMO6gSBgkBBoCBQ8J50sKAgUBAoCBQ81QgWFAQKAgWBgkBh3tNoo04QKAgUBAoC\\nBTfMggUFgYJAQaDghlmwoCBQECgIFAQKc9wwW6kTBAoCBYGCQMFZLFhQECgIFAQKPqSDBQWBgkBB\\noCBQ8L35YEFBoCBQECj43nxQJwgUBAoCBYHCPEeNlQUFgYJAQaAgUPDYJ1hQECgIFAQK\\/jNLUCcI\\nFAQKAgWBghtmwYKCQEGgIFAQKLhhFiwoCBQECgIFR41gQUGgIFAQKAgUvCcd1AkCBYGCQMFRI1hQ\\nECgIFAQKAgVPNYIFBYGCQEGgIFBwFgsWFAQKAgWBgn+fFSwoCBQECgIFgYJ\\/ZRzUCQIFgYJAQaDg\\nhlmwoCBQECgIFDybDxYUBAoCBYGCQMFRI1hQECgIFAQKc31IrywoCBQECgIFgYLvzQd1gkBBoCBQ\\nECi4YRYsKAgUBAoCBR\\/SwYKCQEGgIFAQKHjDLFhQECgIFAQKjhrBgoJAQaAgUBAouIoFCwoCBYGC\\nQEGg4NdfgjpBoCBQECjM9VRjZUFBoCBQECgIFNwwCxYUBAoCBYGCQMFVLFhQECgIFAQKPqSDBQWB\\ngkBBoCBQ8BtmwYKCQEGgIFBw1AgWFAQKAgWBgkDBVSxYUBAoCBQECgIFX2YJ6gSBgkBBoODLLMGC\\ngkBBoCBQECi4YRYsKAgUBAoCBYGCq1iwoCBQECgIFLwGHCwoCBQECgIFgYKjRrCgIFAQKAgU5h0f\\n0hsLCgIFgYJAQaDghlmwoCBQECgIFAQKbpgFCwoCBYGCQMFRI1hQECgIFAQKAgVHjWBBQaAgUBAo\\nCBScxYIFBYGCQEGg4KgRLCgIFAQKAgWBgqtYsKAgUBAoCBTm+jLLyoKCQEGgIFAQKDhqBAsKAgWB\\ngkBBoODZfLCgIFAQKAgU5r1v\\/wm\\/zYKCQEGgIFAQKDhqBAsKAgWBgkDBD00GCwoCBYGCQEGg4KgR\\nLCgIFAQKAgWBgjfMggUFgYJAQaDgyyzBgoJAQaAgUBAoeMMsWFAQKAgUBAoCBY99ggUFgYJAQaDg\\nqUawoCBQECgIFAQKHvsECwoCBYGCQMH9oGBBQaAgUBAoCBQ8mw8WFAQKAgWBgkDBDbNgQUGgIFAQ\\nKHg2HywoCBQECgIFgcLcb\\/8FP86CgkBBoCBQECg4iwULCgIFgYJAwRtmwYKCQEGgIFAQKLhhFiwo\\nCBQECgIF94OCBQWBgkBBoCBQcNQIFhQECgIFgYJAwVksWFAQKAgUBAqezQcLCgIFgYJAQaAwfvxl\\nZ0FBoCBQECgIFJzFggUFgYJAQaDg2XywoCBQECgIFAQKns0HCwoCBYGCQMFRI1hQECgIFAQKAgVH\\njWBBQaAgUBAoCBTmesVsZUFBoCBQECi4YRYsKAgUBAoCBYGCG2bBgoJAQaAgUHDUCBYUBAoCBYGC\\nQGGepxorCwoCBYGCQEGgMPe4YbaxoCBQECgIFLxAFSwoCBQECgIFgYIfmgwWFAQKAgWBgkDBD00G\\nCwoCBYGCQMGz+WBBQaAgUBAoCBS8Jx0sKAgUBAoCBd84DBYUBAoCBYGCQMFRI1hQECgIFAQKAgXv\\nSQcLCgIFgYJAwWvAwYKCQEGgIFAQKDhqBAsKAgWBgkBBoOA96WBBQaAgUBAo+ImuYEFBoCBQECgI\\nFNwwCxYUBAoCBYGCZ\\/PBgoJAQaAgUBAoOGoECwoCBYGCQEGg4CwWLCgIFAQKAgVHjWBBQaAgUBAo\\nCBRcxYIFBYGCQEGgIFBwwyxYUBAoCBQECo4awYKCQEGgIFAQKDhqBAsKAgWBgkDBUSNYUBAoCBQE\\nCgIFP9EVLCgIFAQKAgWBgv8vFiwoCBQECgIFN8yCBQWBgkBBoCBQmHdcxjYWFAQKAgWBgkDBWSxY\\nUBAoCBQECp7NBwsKAgWBgkBBoODZfLCgIFAQKAgU3A8KFhQECgIFgYJAwbP5YEFBoCBQECgIFJzF\\nggUFgYJAQaDgJ7qCBQWBgkBBoCBQmOsVs5UFBYGCQEGg4AWqYEFBoCBQECgIFOY5aqwsKAgUBAoC\\nBYGCs1iwoCBQECgIFDzVCBYUBAoCBYGCQMEbZsGCgkBBoCBQECjM9ZXMlQUFgYJAQaDghlmwoCBQ\\nECgIFAQKfv0lWFAQKAgUBApeoAoWFAQKAgWBgkDBU41gQUGgIFAQKAgU3DALFhQECgIFgcLc45bZ\\nxoKCQEGgIFAQKLhhFiwoCBQECgIFgYKrWLCgIFAQKAgUPNUIFhQECgIFgYJAwWOfYEFBoCBQECjM\\n\\/ThqbCwoCBQECgIFgYKjRrCgIFAQKAgUBArzXMVWFhQECgIFgYKjRrCgIFAQKAgUBApzP65iGwsK\\nAgWBgkBBoOAsFiwoCBQECgIFTzWCBQWBgkBBoCBQcNQIFhQECgIFgYIP6WBBQaAgUBAoCBQ8mw8W\\nFAQKAgWBgkBh3vnz7b\\/hp1lQECgIFAQKbpgFCwoCBYGCQEGg4A2zYEFBoCBQECjMfe4HbSwoCBQE\\nCgIFgYKjRrCgIFAQKAgUBApzPZtfWVAQKAgUBAqOGsGCgkBBoCBQECg4agQLCgIFgYJAQaAw7zmL\\nbSwoCBQECgIFN8yCBQWBgkBBoCBQ8J50sKAgUBAoCBQcNYIFBYGCQEGgIFCY56ixsqAgUBAoCBQE\\nCs5iwYKCQEGgIFCY6wWqlQUFgYJAQaAgUPCb9sGCgkBBoCBQECj4MkuwoCBQECgIFDzVCBYUBAoC\\nBYGCQMFRI1hQECgIFAQKPqSDBQWBgkBBoCBQ8Gw+WFAQKAgUBAoCBWexYEFBoCBQECjM8Wx+ZUFB\\noCBQECgIFBw1ggUFgYJAQaAgUPCedLCgIFAQKAgU5jhqrCwoCBQECgIFgYI3zIIFBYGCQEGg4Nl8\\nsKAgUBAoCBQECm6YBQsKAgWBgkBBoDDvvG\\/\\/DT\\/NgoJAQaAgUHDDLFhQECgIFAQKAoU5jhorCwoC\\nBYGCQOE\\/LrLuTX\\/wFc8AAAAASUVORK5CYII=\\n\\\" transform=\\\"translate(2161, 47)\\\"\\/>\\n<\\/g>\\n<path clip-path=\\\"url(#clip000)\\\" d=\\\"M2268.76 1483.27 L2298.43 1483.27 L2298.43 1487.21 L2268.76 1487.21 L2268.76 1483.27 Z\\\" fill=\\\"#000000\\\" fill-rule=\\\"evenodd\\\" fill-opacity=\\\"1\\\" \\/><path clip-path=\\\"url(#clip000)\\\" d=\\\"M2312.55 1496.16 L2328.87 1496.16 L2328.87 1500.1 L2306.93 1500.1 L2306.93 1496.16 Q2309.59 1493.41 2314.17 1488.78 Q2318.78 1484.13 2319.96 1482.78 Q2322.2 1480.26 2323.08 1478.53 Q2323.99 1476.77 2323.99 1475.08 Q2323.99 1472.32 2322.04 1470.59 Q2320.12 1468.85 2317.02 1468.85 Q2314.82 1468.85 2312.37 1469.61 Q2309.94 1470.38 2307.16 1471.93 L2307.16 1467.21 Q2309.98 1466.07 2312.44 1465.49 Q2314.89 1464.91 2316.93 1464.91 Q2322.3 1464.91 2325.49 1467.6 Q2328.69 1470.28 2328.69 1474.78 Q2328.69 1476.9 2327.88 1478.83 Q2327.09 1480.72 2324.98 1483.32 Q2324.4 1483.99 2321.3 1487.21 Q2318.2 1490.4 2312.55 1496.16 Z\\\" fill=\\\"#000000\\\" fill-rule=\\\"evenodd\\\" fill-opacity=\\\"1\\\" \\/><path clip-path=\\\"url(#clip000)\\\" d=\\\"M2338.69 1494.22 L2343.57 1494.22 L2343.57 1500.1 L2338.69 1500.1 L2338.69 1494.22 Z\\\" fill=\\\"#000000\\\" fill-rule=\\\"evenodd\\\" fill-opacity=\\\"1\\\" \\/><path clip-path=\\\"url(#clip000)\\\" d=\\\"M2363.76 1468.62 Q2360.14 1468.62 2358.32 1472.18 Q2356.51 1475.72 2356.51 1482.85 Q2356.51 1489.96 2358.32 1493.53 Q2360.14 1497.07 2363.76 1497.07 Q2367.39 1497.07 2369.2 1493.53 Q2371.02 1489.96 2371.02 1482.85 Q2371.02 1475.72 2369.2 1472.18 Q2367.39 1468.62 2363.76 1468.62 M2363.76 1464.91 Q2369.57 1464.91 2372.62 1469.52 Q2375.7 1474.1 2375.7 1482.85 Q2375.7 1491.58 2372.62 1496.19 Q2369.57 1500.77 2363.76 1500.77 Q2357.95 1500.77 2354.87 1496.19 Q2351.81 1491.58 2351.81 1482.85 Q2351.81 1474.1 2354.87 1469.52 Q2357.95 1464.91 2363.76 1464.91 Z\\\" fill=\\\"#000000\\\" fill-rule=\\\"evenodd\\\" fill-opacity=\\\"1\\\" \\/><path clip-path=\\\"url(#clip000)\\\" d=\\\"M2268.76 1303.37 L2298.43 1303.37 L2298.43 1307.31 L2268.76 1307.31 L2268.76 1303.37 Z\\\" fill=\\\"#000000\\\" fill-rule=\\\"evenodd\\\" fill-opacity=\\\"1\\\" \\/><path clip-path=\\\"url(#clip000)\\\" d=\\\"M2309.33 1316.26 L2316.97 1316.26 L2316.97 1289.9 L2308.66 1291.56 L2308.66 1287.31 L2316.93 1285.64 L2321.6 1285.64 L2321.6 1316.26 L2329.24 1316.26 L2329.24 1320.2 L2309.33 1320.2 L2309.33 1316.26 Z\\\" fill=\\\"#000000\\\" fill-rule=\\\"evenodd\\\" fill-opacity=\\\"1\\\" \\/><path clip-path=\\\"url(#clip000)\\\" d=\\\"M2338.69 1314.32 L2343.57 1314.32 L2343.57 1320.2 L2338.69 1320.2 L2338.69 1314.32 Z\\\" fill=\\\"#000000\\\" fill-rule=\\\"evenodd\\\" fill-opacity=\\\"1\\\" \\/><path clip-path=\\\"url(#clip000)\\\" d=\\\"M2353.8 1285.64 L2372.16 1285.64 L2372.16 1289.57 L2358.08 1289.57 L2358.08 1298.05 Q2359.1 1297.7 2360.12 1297.54 Q2361.14 1297.35 2362.16 1297.35 Q2367.95 1297.35 2371.32 1300.52 Q2374.7 1303.69 2374.7 1309.11 Q2374.7 1314.69 2371.23 1317.79 Q2367.76 1320.87 2361.44 1320.87 Q2359.26 1320.87 2357 1320.5 Q2354.75 1320.13 2352.34 1319.39 L2352.34 1314.69 Q2354.43 1315.82 2356.65 1316.38 Q2358.87 1316.93 2361.35 1316.93 Q2365.35 1316.93 2367.69 1314.83 Q2370.03 1312.72 2370.03 1309.11 Q2370.03 1305.5 2367.69 1303.39 Q2365.35 1301.29 2361.35 1301.29 Q2359.47 1301.29 2357.6 1301.7 Q2355.75 1302.12 2353.8 1303 L2353.8 1285.64 Z\\\" fill=\\\"#000000\\\" fill-rule=\\\"evenodd\\\" fill-opacity=\\\"1\\\" \\/><path clip-path=\\\"url(#clip000)\\\" d=\\\"M2268.76 1123.47 L2298.43 1123.47 L2298.43 1127.4 L2268.76 1127.4 L2268.76 1123.47 Z\\\" fill=\\\"#000000\\\" fill-rule=\\\"evenodd\\\" fill-opacity=\\\"1\\\" \\/><path clip-path=\\\"url(#clip000)\\\" d=\\\"M2309.33 1136.36 L2316.97 1136.36 L2316.97 1110 L2308.66 1111.66 L2308.66 1107.4 L2316.93 1105.74 L2321.6 1105.74 L2321.6 1136.36 L2329.24 1136.36 L2329.24 1140.3 L2309.33 1140.3 L2309.33 1136.36 Z\\\" fill=\\\"#000000\\\" fill-rule=\\\"evenodd\\\" fill-opacity=\\\"1\\\" \\/><path clip-path=\\\"url(#clip000)\\\" d=\\\"M2338.69 1134.42 L2343.57 1134.42 L2343.57 1140.3 L2338.69 1140.3 L2338.69 1134.42 Z\\\" fill=\\\"#000000\\\" fill-rule=\\\"evenodd\\\" fill-opacity=\\\"1\\\" \\/><path clip-path=\\\"url(#clip000)\\\" d=\\\"M2363.76 1108.82 Q2360.14 1108.82 2358.32 1112.38 Q2356.51 1115.92 2356.51 1123.05 Q2356.51 1130.16 2358.32 1133.72 Q2360.14 1137.27 2363.76 1137.27 Q2367.39 1137.27 2369.2 1133.72 Q2371.02 1130.16 2371.02 1123.05 Q2371.02 1115.92 2369.2 1112.38 Q2367.39 1108.82 2363.76 1108.82 M2363.76 1105.11 Q2369.57 1105.11 2372.62 1109.72 Q2375.7 1114.3 2375.7 1123.05 Q2375.7 1131.78 2372.62 1136.39 Q2369.57 1140.97 2363.76 1140.97 Q2357.95 1140.97 2354.87 1136.39 Q2351.81 1131.78 2351.81 1123.05 Q2351.81 1114.3 2354.87 1109.72 Q2357.95 1105.11 2363.76 1105.11 Z\\\" fill=\\\"#000000\\\" fill-rule=\\\"evenodd\\\" fill-opacity=\\\"1\\\" \\/><path clip-path=\\\"url(#clip000)\\\" d=\\\"M2268.76 943.569 L2298.43 943.569 L2298.43 947.504 L2268.76 947.504 L2268.76 943.569 Z\\\" fill=\\\"#000000\\\" fill-rule=\\\"evenodd\\\" fill-opacity=\\\"1\\\" \\/><path clip-path=\\\"url(#clip000)\\\" d=\\\"M2318.52 928.916 Q2314.91 928.916 2313.08 932.481 Q2311.28 936.023 2311.28 943.152 Q2311.28 950.259 2313.08 953.824 Q2314.91 957.365 2318.52 957.365 Q2322.16 957.365 2323.96 953.824 Q2325.79 950.259 2325.79 943.152 Q2325.79 936.023 2323.96 932.481 Q2322.16 928.916 2318.52 928.916 M2318.52 925.213 Q2324.33 925.213 2327.39 929.819 Q2330.47 934.402 2330.47 943.152 Q2330.47 951.879 2327.39 956.486 Q2324.33 961.069 2318.52 961.069 Q2312.71 961.069 2309.64 956.486 Q2306.58 951.879 2306.58 943.152 Q2306.58 934.402 2309.64 929.819 Q2312.71 925.213 2318.52 925.213 Z\\\" fill=\\\"#000000\\\" fill-rule=\\\"evenodd\\\" fill-opacity=\\\"1\\\" \\/><path clip-path=\\\"url(#clip000)\\\" d=\\\"M2338.69 954.518 L2343.57 954.518 L2343.57 960.398 L2338.69 960.398 L2338.69 954.518 Z\\\" fill=\\\"#000000\\\" fill-rule=\\\"evenodd\\\" fill-opacity=\\\"1\\\" \\/><path clip-path=\\\"url(#clip000)\\\" d=\\\"M2353.8 925.838 L2372.16 925.838 L2372.16 929.773 L2358.08 929.773 L2358.08 938.245 Q2359.1 937.898 2360.12 937.736 Q2361.14 937.551 2362.16 937.551 Q2367.95 937.551 2371.32 940.722 Q2374.7 943.893 2374.7 949.31 Q2374.7 954.888 2371.23 957.99 Q2367.76 961.069 2361.44 961.069 Q2359.26 961.069 2357 960.699 Q2354.75 960.328 2352.34 959.587 L2352.34 954.888 Q2354.43 956.023 2356.65 956.578 Q2358.87 957.134 2361.35 957.134 Q2365.35 957.134 2367.69 955.027 Q2370.03 952.921 2370.03 949.31 Q2370.03 945.699 2367.69 943.592 Q2365.35 941.486 2361.35 941.486 Q2359.47 941.486 2357.6 941.902 Q2355.75 942.319 2353.8 943.199 L2353.8 925.838 Z\\\" fill=\\\"#000000\\\" fill-rule=\\\"evenodd\\\" fill-opacity=\\\"1\\\" \\/><path clip-path=\\\"url(#clip000)\\\" d=\\\"M2280.7 749.016 Q2277.09 749.016 2275.26 752.581 Q2273.45 756.122 2273.45 763.252 Q2273.45 770.358 2275.26 773.923 Q2277.09 777.465 2280.7 777.465 Q2284.33 777.465 2286.14 773.923 Q2287.97 770.358 2287.97 763.252 Q2287.97 756.122 2286.14 752.581 Q2284.33 749.016 2280.7 749.016 M2280.7 745.312 Q2286.51 745.312 2289.57 749.919 Q2292.64 754.502 2292.64 763.252 Q2292.64 771.979 2289.57 776.585 Q2286.51 781.168 2280.7 781.168 Q2274.89 781.168 2271.81 776.585 Q2268.76 771.979 2268.76 763.252 Q2268.76 754.502 2271.81 749.919 Q2274.89 745.312 2280.7 745.312 Z\\\" fill=\\\"#000000\\\" fill-rule=\\\"evenodd\\\" fill-opacity=\\\"1\\\" \\/><path clip-path=\\\"url(#clip000)\\\" d=\\\"M2280.7 569.115 Q2277.09 569.115 2275.26 572.68 Q2273.45 576.222 2273.45 583.351 Q2273.45 590.458 2275.26 594.023 Q2277.09 597.564 2280.7 597.564 Q2284.33 597.564 2286.14 594.023 Q2287.97 590.458 2287.97 583.351 Q2287.97 576.222 2286.14 572.68 Q2284.33 569.115 2280.7 569.115 M2280.7 565.412 Q2286.51 565.412 2289.57 570.018 Q2292.64 574.601 2292.64 583.351 Q2292.64 592.078 2289.57 596.685 Q2286.51 601.268 2280.7 601.268 Q2274.89 601.268 2271.81 596.685 Q2268.76 592.078 2268.76 583.351 Q2268.76 574.601 2271.81 570.018 Q2274.89 565.412 2280.7 565.412 Z\\\" fill=\\\"#000000\\\" fill-rule=\\\"evenodd\\\" fill-opacity=\\\"1\\\" \\/><path clip-path=\\\"url(#clip000)\\\" d=\\\"M2300.86 594.717 L2305.75 594.717 L2305.75 600.597 L2300.86 600.597 L2300.86 594.717 Z\\\" fill=\\\"#000000\\\" fill-rule=\\\"evenodd\\\" fill-opacity=\\\"1\\\" \\/><path clip-path=\\\"url(#clip000)\\\" d=\\\"M2315.98 566.037 L2334.33 566.037 L2334.33 569.972 L2320.26 569.972 L2320.26 578.444 Q2321.28 578.097 2322.3 577.935 Q2323.32 577.75 2324.33 577.75 Q2330.12 577.75 2333.5 580.921 Q2336.88 584.092 2336.88 589.509 Q2336.88 595.087 2333.41 598.189 Q2329.94 601.268 2323.62 601.268 Q2321.44 601.268 2319.17 600.898 Q2316.93 600.527 2314.52 599.787 L2314.52 595.087 Q2316.6 596.222 2318.83 596.777 Q2321.05 597.333 2323.52 597.333 Q2327.53 597.333 2329.87 595.226 Q2332.2 593.12 2332.2 589.509 Q2332.2 585.898 2329.87 583.791 Q2327.53 581.685 2323.52 581.685 Q2321.65 581.685 2319.77 582.101 Q2317.92 582.518 2315.98 583.398 L2315.98 566.037 Z\\\" fill=\\\"#000000\\\" fill-rule=\\\"evenodd\\\" fill-opacity=\\\"1\\\" \\/><path clip-path=\\\"url(#clip000)\\\" d=\\\"M2269.43 416.761 L2277.07 416.761 L2277.07 390.395 L2268.76 392.062 L2268.76 387.803 L2277.02 386.136 L2281.7 386.136 L2281.7 416.761 L2289.33 416.761 L2289.33 420.696 L2269.43 420.696 L2269.43 416.761 Z\\\" fill=\\\"#000000\\\" fill-rule=\\\"evenodd\\\" fill-opacity=\\\"1\\\" \\/><path clip-path=\\\"url(#clip000)\\\" d=\\\"M2298.78 414.817 L2303.66 414.817 L2303.66 420.696 L2298.78 420.696 L2298.78 414.817 Z\\\" fill=\\\"#000000\\\" fill-rule=\\\"evenodd\\\" fill-opacity=\\\"1\\\" \\/><path clip-path=\\\"url(#clip000)\\\" d=\\\"M2323.85 389.215 Q2320.24 389.215 2318.41 392.78 Q2316.6 396.321 2316.6 403.451 Q2316.6 410.557 2318.41 414.122 Q2320.24 417.664 2323.85 417.664 Q2327.48 417.664 2329.29 414.122 Q2331.12 410.557 2331.12 403.451 Q2331.12 396.321 2329.29 392.78 Q2327.48 389.215 2323.85 389.215 M2323.85 385.511 Q2329.66 385.511 2332.71 390.118 Q2335.79 394.701 2335.79 403.451 Q2335.79 412.178 2332.71 416.784 Q2329.66 421.368 2323.85 421.368 Q2318.04 421.368 2314.96 416.784 Q2311.9 412.178 2311.9 403.451 Q2311.9 394.701 2314.96 390.118 Q2318.04 385.511 2323.85 385.511 Z\\\" fill=\\\"#000000\\\" fill-rule=\\\"evenodd\\\" fill-opacity=\\\"1\\\" \\/><path clip-path=\\\"url(#clip000)\\\" d=\\\"M2269.43 236.861 L2277.07 236.861 L2277.07 210.495 L2268.76 212.162 L2268.76 207.902 L2277.02 206.236 L2281.7 206.236 L2281.7 236.861 L2289.33 236.861 L2289.33 240.796 L2269.43 240.796 L2269.43 236.861 Z\\\" fill=\\\"#000000\\\" fill-rule=\\\"evenodd\\\" fill-opacity=\\\"1\\\" \\/><path clip-path=\\\"url(#clip000)\\\" d=\\\"M2298.78 234.916 L2303.66 234.916 L2303.66 240.796 L2298.78 240.796 L2298.78 234.916 Z\\\" fill=\\\"#000000\\\" fill-rule=\\\"evenodd\\\" fill-opacity=\\\"1\\\" \\/><path clip-path=\\\"url(#clip000)\\\" d=\\\"M2313.89 206.236 L2332.25 206.236 L2332.25 210.171 L2318.18 210.171 L2318.18 218.643 Q2319.2 218.296 2320.21 218.134 Q2321.23 217.949 2322.25 217.949 Q2328.04 217.949 2331.42 221.12 Q2334.8 224.291 2334.8 229.708 Q2334.8 235.287 2331.33 238.388 Q2327.85 241.467 2321.53 241.467 Q2319.36 241.467 2317.09 241.097 Q2314.84 240.726 2312.44 239.986 L2312.44 235.287 Q2314.52 236.421 2316.74 236.976 Q2318.96 237.532 2321.44 237.532 Q2325.45 237.532 2327.78 235.425 Q2330.12 233.319 2330.12 229.708 Q2330.12 226.097 2327.78 223.99 Q2325.45 221.884 2321.44 221.884 Q2319.57 221.884 2317.69 222.3 Q2315.84 222.717 2313.89 223.597 L2313.89 206.236 Z\\\" fill=\\\"#000000\\\" fill-rule=\\\"evenodd\\\" fill-opacity=\\\"1\\\" \\/><path clip-path=\\\"url(#clip000)\\\" d=\\\"M2274.38 56.9601 L2290.7 56.9601 L2290.7 60.8953 L2268.76 60.8953 L2268.76 56.9601 Q2271.42 54.2055 2276 49.5759 Q2280.61 44.9232 2281.79 43.5806 Q2284.03 41.0574 2284.91 39.3213 Q2285.82 37.5621 2285.82 35.8723 Q2285.82 33.1177 2283.87 31.3816 Q2281.95 29.6455 2278.85 29.6455 Q2276.65 29.6455 2274.2 30.4093 Q2271.77 31.1732 2268.99 32.7241 L2268.99 28.002 Q2271.81 26.8677 2274.27 26.289 Q2276.72 25.7103 2278.76 25.7103 Q2284.13 25.7103 2287.32 28.3955 Q2290.52 31.0806 2290.52 35.5714 Q2290.52 37.701 2289.7 39.6223 Q2288.92 41.5204 2286.81 44.113 Q2286.23 44.7843 2283.13 48.0018 Q2280.03 51.1963 2274.38 56.9601 Z\\\" fill=\\\"#000000\\\" fill-rule=\\\"evenodd\\\" fill-opacity=\\\"1\\\" \\/><path clip-path=\\\"url(#clip000)\\\" d=\\\"M2300.51 55.0157 L2305.4 55.0157 L2305.4 60.8953 L2300.51 60.8953 L2300.51 55.0157 Z\\\" fill=\\\"#000000\\\" fill-rule=\\\"evenodd\\\" fill-opacity=\\\"1\\\" \\/><path clip-path=\\\"url(#clip000)\\\" d=\\\"M2325.58 29.414 Q2321.97 29.414 2320.14 32.9788 Q2318.34 36.5204 2318.34 43.65 Q2318.34 50.7565 2320.14 54.3213 Q2321.97 57.8629 2325.58 57.8629 Q2329.22 57.8629 2331.02 54.3213 Q2332.85 50.7565 2332.85 43.65 Q2332.85 36.5204 2331.02 32.9788 Q2329.22 29.414 2325.58 29.414 M2325.58 25.7103 Q2331.39 25.7103 2334.45 30.3168 Q2337.53 34.9001 2337.53 43.65 Q2337.53 52.3768 2334.45 56.9833 Q2331.39 61.5666 2325.58 61.5666 Q2319.77 61.5666 2316.7 56.9833 Q2313.64 52.3768 2313.64 43.65 Q2313.64 34.9001 2316.7 30.3168 Q2319.77 25.7103 2325.58 25.7103 Z\\\" fill=\\\"#000000\\\" fill-rule=\\\"evenodd\\\" fill-opacity=\\\"1\\\" \\/><polyline clip-path=\\\"url(#clip000)\\\" style=\\\"stroke:#000000; stroke-linecap:round; stroke-linejoin:round; stroke-width:4; stroke-opacity:1; fill:none\\\" points=\\\"\\n  2232.76,1486.45 2232.76,1486.45 2256.76,1486.45 2232.76,1486.45 2232.76,1306.55 2256.76,1306.55 2232.76,1306.55 2232.76,1126.65 2256.76,1126.65 2232.76,1126.65 \\n  2232.76,946.746 2256.76,946.746 2232.76,946.746 2232.76,766.846 2256.76,766.846 2232.76,766.846 2232.76,586.946 2256.76,586.946 2232.76,586.946 2232.76,407.045 \\n  2256.76,407.045 2232.76,407.045 2232.76,227.145 2256.76,227.145 2232.76,227.145 2232.76,47.2441 2256.76,47.2441 2232.76,47.2441 \\n  \\\"\\/>\\n<path clip-path=\\\"url(#clip000)\\\" d=\\\"\\nM208.987 1438.47 L428.306 1438.47 L428.306 1282.95 L208.987 1282.95  Z\\n  \\\" fill=\\\"#ffffff\\\" fill-rule=\\\"evenodd\\\" fill-opacity=\\\"1\\\"\\/>\\n<polyline clip-path=\\\"url(#clip000)\\\" style=\\\"stroke:#000000; stroke-linecap:round; stroke-linejoin:round; stroke-width:4; stroke-opacity:1; fill:none\\\" points=\\\"\\n  208.987,1438.47 428.306,1438.47 428.306,1282.95 208.987,1282.95 208.987,1438.47 \\n  \\\"\\/>\\n<circle clip-path=\\\"url(#clip000)\\\" cx=\\\"291\\\" cy=\\\"1334.79\\\" r=\\\"23.04\\\" fill=\\\"#009af9\\\" fill-rule=\\\"evenodd\\\" fill-opacity=\\\"1\\\" stroke=\\\"#000000\\\" stroke-opacity=\\\"1\\\" stroke-width=\\\"5.12\\\"\\/>\\n<path clip-path=\\\"url(#clip000)\\\" d=\\\"M397.665 1326.15 L388.29 1338.76 L398.151 1352.07 L393.128 1352.07 L385.581 1341.89 L378.035 1352.07 L373.012 1352.07 L383.081 1338.51 L373.868 1326.15 L378.891 1326.15 L385.766 1335.38 L392.641 1326.15 L397.665 1326.15 Z\\\" fill=\\\"#000000\\\" fill-rule=\\\"evenodd\\\" fill-opacity=\\\"1\\\" \\/><circle clip-path=\\\"url(#clip000)\\\" cx=\\\"291\\\" cy=\\\"1386.63\\\" r=\\\"23.04\\\" fill=\\\"#e26f46\\\" fill-rule=\\\"evenodd\\\" fill-opacity=\\\"1\\\" stroke=\\\"#000000\\\" stroke-opacity=\\\"1\\\" stroke-width=\\\"5.12\\\"\\/>\\n<path clip-path=\\\"url(#clip000)\\\" d=\\\"M373.012 1377.99 L377.271 1377.99 L382.595 1398.22 L387.896 1377.99 L392.919 1377.99 L398.243 1398.22 L403.544 1377.99 L407.803 1377.99 L401.021 1403.91 L395.998 1403.91 L390.419 1382.66 L384.817 1403.91 L379.794 1403.91 L373.012 1377.99 Z\\\" fill=\\\"#000000\\\" fill-rule=\\\"evenodd\\\" fill-opacity=\\\"1\\\" \\/><\\/svg>\\n\"},\"nodeType\":\"DOM\",\"type\":\"node\",\"instanceArgs\":{\"namespace\":\"html\",\"tag\":\"div\"},\"children\":[]}]}}}},\"children\":[{\"props\":{},\"nodeType\":\"ObservableNode\",\"type\":\"node\",\"instanceArgs\":{\"id\":\"3181938703783668458\",\"name\":\"obs-node\"},\"children\":[]}]}]},\n",
       "        window,\n",
       "    );\n",
       "    })()\n",
       "    </script>\n",
       "</div>\n"
      ],
      "text/plain": [
       "Node{WebIO.DOM}(WebIO.DOM(:html, :div), Any[Node{WebIO.DOM}(WebIO.DOM(:html, :div), Any[Scope(Node{WebIO.DOM}(WebIO.DOM(:html, :div), Any[Node{WebIO.DOM}(WebIO.DOM(:html, :div), Any[Node{WebIO.DOM}(WebIO.DOM(:html, :label), Any[\"x\"], Dict{Symbol, Any}(:className => \"interact \", :style => Dict{Any, Any}(:padding => \"5px 10px 0px 10px\")))], Dict{Symbol, Any}(:className => \"interact-flex-row-left\")), Node{WebIO.DOM}(WebIO.DOM(:html, :div), Any[Node{WebIO.DOM}(WebIO.DOM(:html, :input), Any[], Dict{Symbol, Any}(:max => 40, :min => 1, :attributes => Dict{Any, Any}(:type => \"range\", Symbol(\"data-bind\") => \"numericValue: index, valueUpdate: 'input', event: {change: function (){this.changes(this.changes()+1)}}\", \"orient\" => \"horizontal\"), :step => 1, :className => \"slider slider is-fullwidth\", :style => Dict{Any, Any}()))], Dict{Symbol, Any}(:className => \"interact-flex-row-center\")), Node{WebIO.DOM}(WebIO.DOM(:html, :div), Any[Node{WebIO.DOM}(WebIO.DOM(:html, :p), Any[], Dict{Symbol, Any}(:attributes => Dict(\"data-bind\" => \"text: formatted_val\")))], Dict{Symbol, Any}(:className => \"interact-flex-row-right\"))], Dict{Symbol, Any}(:className => \"interact-flex-row interact-widget\")), Dict{String, Tuple{AbstractObservable, Union{Nothing, Bool}}}(\"changes\" => (Observable(0), nothing), \"index\" => (Observable{Any}(20), nothing)), Set{String}(), nothing, Asset[Asset(\"js\", \"knockout\", \"/Users/sheehanolver/.julia/packages/Knockout/HReiN/src/../assets/knockout.js\"), Asset(\"js\", \"knockout_punches\", \"/Users/sheehanolver/.julia/packages/Knockout/HReiN/src/../assets/knockout_punches.js\"), Asset(\"js\", nothing, \"/Users/sheehanolver/.julia/packages/InteractBase/Qhvxg/src/../assets/all.js\"), Asset(\"css\", nothing, \"/Users/sheehanolver/.julia/packages/InteractBase/Qhvxg/src/../assets/style.css\"), Asset(\"css\", nothing, \"/Users/sheehanolver/.julia/packages/Interact/PENUy/src/../assets/bulma_confined.min.css\")], Dict{Any, Any}(\"changes\" => Any[WebIO.JSString(\"(function (val){return (val!=this.model[\\\"changes\\\"]()) ? (this.valueFromJulia[\\\"changes\\\"]=true, this.model[\\\"changes\\\"](val)) : undefined})\")], \"index\" => Any[WebIO.JSString(\"(function (val){return (val!=this.model[\\\"index\\\"]()) ? (this.valueFromJulia[\\\"index\\\"]=true, this.model[\\\"index\\\"](val)) : undefined})\")]), WebIO.ConnectionPool(Channel{Any}(32), Set{AbstractConnection}(), Condition(Base.InvasiveLinkedList{Task}(Task (runnable) @0x0000000141d38e80, Task (runnable) @0x0000000141d38e80), Base.AlwaysLockedST(1))), WebIO.JSString[WebIO.JSString(\"function () {\\n    var handler = (function (ko, koPunches) {\\n    ko.punches.enableAll();\\n    ko.bindingHandlers.numericValue = {\\n        init: function(element, valueAccessor, allBindings, data, context) {\\n            var stringified = ko.observable(ko.unwrap(valueAccessor()));\\n            stringified.subscribe(function(value) {\\n                var val = parseFloat(value);\\n                if (!isNaN(val)) {\\n                    valueAccessor()(val);\\n                }\\n            });\\n            valueAccessor().subscribe(function(value) {\\n                var str = JSON.stringify(value);\\n                if ((str == \\\"0\\\") && ([\\\"-0\\\", \\\"-0.\\\"].indexOf(stringified()) >= 0))\\n                     return;\\n                 if ([\\\"null\\\", \\\"\\\"].indexOf(str) >= 0)\\n                     return;\\n                stringified(str);\\n            });\\n            ko.applyBindingsToNode(\\n                element,\\n                {\\n                    value: stringified,\\n                    valueUpdate: allBindings.get('valueUpdate'),\\n                },\\n                context,\\n            );\\n        }\\n    };\\n    var json_data = {\\\"formatted_vals\\\":[\\\"-1.9\\\",\\\"-1.8\\\",\\\"-1.7\\\",\\\"-1.6\\\",\\\"-1.5\\\",\\\"-1.4\\\",\\\"-1.3\\\",\\\"-1.2\\\",\\\"-1.1\\\",\\\"-1.0\\\",\\\"-0.9\\\",\\\"-0.8\\\",\\\"-0.7\\\",\\\"-0.6\\\",\\\"-0.5\\\",\\\"-0.4\\\",\\\"-0.3\\\",\\\"-0.2\\\",\\\"-0.1\\\",\\\"0.0\\\",\\\"0.1\\\",\\\"0.2\\\",\\\"0.3\\\",\\\"0.4\\\",\\\"0.5\\\",\\\"0.6\\\",\\\"0.7\\\",\\\"0.8\\\",\\\"0.9\\\",\\\"1.0\\\",\\\"1.1\\\",\\\"1.2\\\",\\\"1.3\\\",\\\"1.4\\\",\\\"1.5\\\",\\\"1.6\\\",\\\"1.7\\\",\\\"1.8\\\",\\\"1.9\\\",\\\"2.0\\\"],\\\"changes\\\":WebIO.getval({\\\"name\\\":\\\"changes\\\",\\\"scope\\\":\\\"12085418636875583525\\\",\\\"id\\\":\\\"16497858394903429238\\\",\\\"type\\\":\\\"observable\\\"}),\\\"index\\\":WebIO.getval({\\\"name\\\":\\\"index\\\",\\\"scope\\\":\\\"12085418636875583525\\\",\\\"id\\\":\\\"5169219422236929025\\\",\\\"type\\\":\\\"observable\\\"})};\\n    var self = this;\\n    function AppViewModel() {\\n        for (var key in json_data) {\\n            var el = json_data[key];\\n            this[key] = Array.isArray(el) ? ko.observableArray(el) : ko.observable(el);\\n        }\\n        \\n        [this[\\\"formatted_val\\\"]=ko.computed(    function(){\\n        return this.formatted_vals()[parseInt(this.index())-(1)];\\n    }\\n,this)]\\n        [this[\\\"changes\\\"].subscribe((function (val){!(this.valueFromJulia[\\\"changes\\\"]) ? (WebIO.setval({\\\"name\\\":\\\"changes\\\",\\\"scope\\\":\\\"12085418636875583525\\\",\\\"id\\\":\\\"16497858394903429238\\\",\\\"type\\\":\\\"observable\\\"},val)) : undefined; return this.valueFromJulia[\\\"changes\\\"]=false}),self),this[\\\"index\\\"].subscribe((function (val){!(this.valueFromJulia[\\\"index\\\"]) ? (WebIO.setval({\\\"name\\\":\\\"index\\\",\\\"scope\\\":\\\"12085418636875583525\\\",\\\"id\\\":\\\"5169219422236929025\\\",\\\"type\\\":\\\"observable\\\"},val)) : undefined; return this.valueFromJulia[\\\"index\\\"]=false}),self)]\\n        \\n    }\\n    self.model = new AppViewModel();\\n    self.valueFromJulia = {};\\n    for (var key in json_data) {\\n        self.valueFromJulia[key] = false;\\n    }\\n    ko.applyBindings(self.model, self.dom);\\n}\\n);\\n    (WebIO.importBlock({\\\"data\\\":[{\\\"name\\\":\\\"knockout\\\",\\\"type\\\":\\\"js\\\",\\\"url\\\":\\\"/assetserver/7f6b498a95a9ac6b63c8a1071f981fdcb2e51812-knockout.js\\\"},{\\\"name\\\":\\\"knockout_punches\\\",\\\"type\\\":\\\"js\\\",\\\"url\\\":\\\"/assetserver/5f04fb6c5d5058eabc17f9b5db30d55e40586407-knockout_punches.js\\\"}],\\\"type\\\":\\\"async_block\\\"})).then((imports) => handler.apply(this, imports));\\n}\\n\")])], Dict{Symbol, Any}(:className => \"field interact-widget\")), Node{WebIO.DOM}(WebIO.DOM(:html, :div), Any[Scope(Node{WebIO.DOM}(WebIO.DOM(:html, :div), Any[Node{WebIO.DOM}(WebIO.DOM(:html, :div), Any[Node{WebIO.DOM}(WebIO.DOM(:html, :label), Any[\"y\"], Dict{Symbol, Any}(:className => \"interact \", :style => Dict{Any, Any}(:padding => \"5px 10px 0px 10px\")))], Dict{Symbol, Any}(:className => \"interact-flex-row-left\")), Node{WebIO.DOM}(WebIO.DOM(:html, :div), Any[Node{WebIO.DOM}(WebIO.DOM(:html, :input), Any[], Dict{Symbol, Any}(:max => 40, :min => 1, :attributes => Dict{Any, Any}(:type => \"range\", Symbol(\"data-bind\") => \"numericValue: index, valueUpdate: 'input', event: {change: function (){this.changes(this.changes()+1)}}\", \"orient\" => \"horizontal\"), :step => 1, :className => \"slider slider is-fullwidth\", :style => Dict{Any, Any}()))], Dict{Symbol, Any}(:className => \"interact-flex-row-center\")), Node{WebIO.DOM}(WebIO.DOM(:html, :div), Any[Node{WebIO.DOM}(WebIO.DOM(:html, :p), Any[], Dict{Symbol, Any}(:attributes => Dict(\"data-bind\" => \"text: formatted_val\")))], Dict{Symbol, Any}(:className => \"interact-flex-row-right\"))], Dict{Symbol, Any}(:className => \"interact-flex-row interact-widget\")), Dict{String, Tuple{AbstractObservable, Union{Nothing, Bool}}}(\"changes\" => (Observable(0), nothing), \"index\" => (Observable{Any}(20), nothing)), Set{String}(), nothing, Asset[Asset(\"js\", \"knockout\", \"/Users/sheehanolver/.julia/packages/Knockout/HReiN/src/../assets/knockout.js\"), Asset(\"js\", \"knockout_punches\", \"/Users/sheehanolver/.julia/packages/Knockout/HReiN/src/../assets/knockout_punches.js\"), Asset(\"js\", nothing, \"/Users/sheehanolver/.julia/packages/InteractBase/Qhvxg/src/../assets/all.js\"), Asset(\"css\", nothing, \"/Users/sheehanolver/.julia/packages/InteractBase/Qhvxg/src/../assets/style.css\"), Asset(\"css\", nothing, \"/Users/sheehanolver/.julia/packages/Interact/PENUy/src/../assets/bulma_confined.min.css\")], Dict{Any, Any}(\"changes\" => Any[WebIO.JSString(\"(function (val){return (val!=this.model[\\\"changes\\\"]()) ? (this.valueFromJulia[\\\"changes\\\"]=true, this.model[\\\"changes\\\"](val)) : undefined})\")], \"index\" => Any[WebIO.JSString(\"(function (val){return (val!=this.model[\\\"index\\\"]()) ? (this.valueFromJulia[\\\"index\\\"]=true, this.model[\\\"index\\\"](val)) : undefined})\")]), WebIO.ConnectionPool(Channel{Any}(32), Set{AbstractConnection}(), Condition(Base.InvasiveLinkedList{Task}(Task (runnable) @0x0000000141d39120, Task (runnable) @0x0000000141d39120), Base.AlwaysLockedST(1))), WebIO.JSString[WebIO.JSString(\"function () {\\n    var handler = (function (ko, koPunches) {\\n    ko.punches.enableAll();\\n    ko.bindingHandlers.numericValue = {\\n        init: function(element, valueAccessor, allBindings, data, context) {\\n            var stringified = ko.observable(ko.unwrap(valueAccessor()));\\n            stringified.subscribe(function(value) {\\n                var val = parseFloat(value);\\n                if (!isNaN(val)) {\\n                    valueAccessor()(val);\\n                }\\n            });\\n            valueAccessor().subscribe(function(value) {\\n                var str = JSON.stringify(value);\\n                if ((str == \\\"0\\\") && ([\\\"-0\\\", \\\"-0.\\\"].indexOf(stringified()) >= 0))\\n                     return;\\n                 if ([\\\"null\\\", \\\"\\\"].indexOf(str) >= 0)\\n                     return;\\n                stringified(str);\\n            });\\n            ko.applyBindingsToNode(\\n                element,\\n                {\\n                    value: stringified,\\n                    valueUpdate: allBindings.get('valueUpdate'),\\n                },\\n                context,\\n            );\\n        }\\n    };\\n    var json_data = {\\\"formatted_vals\\\":[\\\"-1.9\\\",\\\"-1.8\\\",\\\"-1.7\\\",\\\"-1.6\\\",\\\"-1.5\\\",\\\"-1.4\\\",\\\"-1.3\\\",\\\"-1.2\\\",\\\"-1.1\\\",\\\"-1.0\\\",\\\"-0.9\\\",\\\"-0.8\\\",\\\"-0.7\\\",\\\"-0.6\\\",\\\"-0.5\\\",\\\"-0.4\\\",\\\"-0.3\\\",\\\"-0.2\\\",\\\"-0.1\\\",\\\"0.0\\\",\\\"0.1\\\",\\\"0.2\\\",\\\"0.3\\\",\\\"0.4\\\",\\\"0.5\\\",\\\"0.6\\\",\\\"0.7\\\",\\\"0.8\\\",\\\"0.9\\\",\\\"1.0\\\",\\\"1.1\\\",\\\"1.2\\\",\\\"1.3\\\",\\\"1.4\\\",\\\"1.5\\\",\\\"1.6\\\",\\\"1.7\\\",\\\"1.8\\\",\\\"1.9\\\",\\\"2.0\\\"],\\\"changes\\\":WebIO.getval({\\\"name\\\":\\\"changes\\\",\\\"scope\\\":\\\"13867969527428788855\\\",\\\"id\\\":\\\"9676506777198614932\\\",\\\"type\\\":\\\"observable\\\"}),\\\"index\\\":WebIO.getval({\\\"name\\\":\\\"index\\\",\\\"scope\\\":\\\"13867969527428788855\\\",\\\"id\\\":\\\"13599623982008031655\\\",\\\"type\\\":\\\"observable\\\"})};\\n    var self = this;\\n    function AppViewModel() {\\n        for (var key in json_data) {\\n            var el = json_data[key];\\n            this[key] = Array.isArray(el) ? ko.observableArray(el) : ko.observable(el);\\n        }\\n        \\n        [this[\\\"formatted_val\\\"]=ko.computed(    function(){\\n        return this.formatted_vals()[parseInt(this.index())-(1)];\\n    }\\n,this)]\\n        [this[\\\"changes\\\"].subscribe((function (val){!(this.valueFromJulia[\\\"changes\\\"]) ? (WebIO.setval({\\\"name\\\":\\\"changes\\\",\\\"scope\\\":\\\"13867969527428788855\\\",\\\"id\\\":\\\"9676506777198614932\\\",\\\"type\\\":\\\"observable\\\"},val)) : undefined; return this.valueFromJulia[\\\"changes\\\"]=false}),self),this[\\\"index\\\"].subscribe((function (val){!(this.valueFromJulia[\\\"index\\\"]) ? (WebIO.setval({\\\"name\\\":\\\"index\\\",\\\"scope\\\":\\\"13867969527428788855\\\",\\\"id\\\":\\\"13599623982008031655\\\",\\\"type\\\":\\\"observable\\\"},val)) : undefined; return this.valueFromJulia[\\\"index\\\"]=false}),self)]\\n        \\n    }\\n    self.model = new AppViewModel();\\n    self.valueFromJulia = {};\\n    for (var key in json_data) {\\n        self.valueFromJulia[key] = false;\\n    }\\n    ko.applyBindings(self.model, self.dom);\\n}\\n);\\n    (WebIO.importBlock({\\\"data\\\":[{\\\"name\\\":\\\"knockout\\\",\\\"type\\\":\\\"js\\\",\\\"url\\\":\\\"/assetserver/7f6b498a95a9ac6b63c8a1071f981fdcb2e51812-knockout.js\\\"},{\\\"name\\\":\\\"knockout_punches\\\",\\\"type\\\":\\\"js\\\",\\\"url\\\":\\\"/assetserver/5f04fb6c5d5058eabc17f9b5db30d55e40586407-knockout_punches.js\\\"}],\\\"type\\\":\\\"async_block\\\"})).then((imports) => handler.apply(this, imports));\\n}\\n\")])], Dict{Symbol, Any}(:className => \"field interact-widget\")), Node{WebIO.DOM}(WebIO.DOM(:html, :div), Any[Scope(Node{WebIO.DOM}(WebIO.DOM(:html, :div), Any[Node{WebIO.DOM}(WebIO.DOM(:html, :div), Any[Node{WebIO.DOM}(WebIO.DOM(:html, :label), Any[\"z\"], Dict{Symbol, Any}(:className => \"interact \", :style => Dict{Any, Any}(:padding => \"5px 10px 0px 10px\")))], Dict{Symbol, Any}(:className => \"interact-flex-row-left\")), Node{WebIO.DOM}(WebIO.DOM(:html, :div), Any[Node{WebIO.DOM}(WebIO.DOM(:html, :input), Any[], Dict{Symbol, Any}(:max => 20, :min => 1, :attributes => Dict{Any, Any}(:type => \"range\", Symbol(\"data-bind\") => \"numericValue: index, valueUpdate: 'input', event: {change: function (){this.changes(this.changes()+1)}}\", \"orient\" => \"horizontal\"), :step => 1, :className => \"slider slider is-fullwidth\", :style => Dict{Any, Any}()))], Dict{Symbol, Any}(:className => \"interact-flex-row-center\")), Node{WebIO.DOM}(WebIO.DOM(:html, :div), Any[Node{WebIO.DOM}(WebIO.DOM(:html, :p), Any[], Dict{Symbol, Any}(:attributes => Dict(\"data-bind\" => \"text: formatted_val\")))], Dict{Symbol, Any}(:className => \"interact-flex-row-right\"))], Dict{Symbol, Any}(:className => \"interact-flex-row interact-widget\")), Dict{String, Tuple{AbstractObservable, Union{Nothing, Bool}}}(\"changes\" => (Observable(0), nothing), \"index\" => (Observable{Any}(10), nothing)), Set{String}(), nothing, Asset[Asset(\"js\", \"knockout\", \"/Users/sheehanolver/.julia/packages/Knockout/HReiN/src/../assets/knockout.js\"), Asset(\"js\", \"knockout_punches\", \"/Users/sheehanolver/.julia/packages/Knockout/HReiN/src/../assets/knockout_punches.js\"), Asset(\"js\", nothing, \"/Users/sheehanolver/.julia/packages/InteractBase/Qhvxg/src/../assets/all.js\"), Asset(\"css\", nothing, \"/Users/sheehanolver/.julia/packages/InteractBase/Qhvxg/src/../assets/style.css\"), Asset(\"css\", nothing, \"/Users/sheehanolver/.julia/packages/Interact/PENUy/src/../assets/bulma_confined.min.css\")], Dict{Any, Any}(\"changes\" => Any[WebIO.JSString(\"(function (val){return (val!=this.model[\\\"changes\\\"]()) ? (this.valueFromJulia[\\\"changes\\\"]=true, this.model[\\\"changes\\\"](val)) : undefined})\")], \"index\" => Any[WebIO.JSString(\"(function (val){return (val!=this.model[\\\"index\\\"]()) ? (this.valueFromJulia[\\\"index\\\"]=true, this.model[\\\"index\\\"](val)) : undefined})\")]), WebIO.ConnectionPool(Channel{Any}(32), Set{AbstractConnection}(), Condition(Base.InvasiveLinkedList{Task}(Task (runnable) @0x0000000141d39270, Task (runnable) @0x0000000141d39270), Base.AlwaysLockedST(1))), WebIO.JSString[WebIO.JSString(\"function () {\\n    var handler = (function (ko, koPunches) {\\n    ko.punches.enableAll();\\n    ko.bindingHandlers.numericValue = {\\n        init: function(element, valueAccessor, allBindings, data, context) {\\n            var stringified = ko.observable(ko.unwrap(valueAccessor()));\\n            stringified.subscribe(function(value) {\\n                var val = parseFloat(value);\\n                if (!isNaN(val)) {\\n                    valueAccessor()(val);\\n                }\\n            });\\n            valueAccessor().subscribe(function(value) {\\n                var str = JSON.stringify(value);\\n                if ((str == \\\"0\\\") && ([\\\"-0\\\", \\\"-0.\\\"].indexOf(stringified()) >= 0))\\n                     return;\\n                 if ([\\\"null\\\", \\\"\\\"].indexOf(str) >= 0)\\n                     return;\\n                stringified(str);\\n            });\\n            ko.applyBindingsToNode(\\n                element,\\n                {\\n                    value: stringified,\\n                    valueUpdate: allBindings.get('valueUpdate'),\\n                },\\n                context,\\n            );\\n        }\\n    };\\n    var json_data = {\\\"formatted_vals\\\":[\\\"0.1\\\",\\\"0.2\\\",\\\"0.3\\\",\\\"0.4\\\",\\\"0.5\\\",\\\"0.6\\\",\\\"0.7\\\",\\\"0.8\\\",\\\"0.9\\\",\\\"1.0\\\",\\\"1.1\\\",\\\"1.2\\\",\\\"1.3\\\",\\\"1.4\\\",\\\"1.5\\\",\\\"1.6\\\",\\\"1.7\\\",\\\"1.8\\\",\\\"1.9\\\",\\\"2.0\\\"],\\\"changes\\\":WebIO.getval({\\\"name\\\":\\\"changes\\\",\\\"scope\\\":\\\"15100207381223110524\\\",\\\"id\\\":\\\"12662641984372177028\\\",\\\"type\\\":\\\"observable\\\"}),\\\"index\\\":WebIO.getval({\\\"name\\\":\\\"index\\\",\\\"scope\\\":\\\"15100207381223110524\\\",\\\"id\\\":\\\"5420163604713154512\\\",\\\"type\\\":\\\"observable\\\"})};\\n    var self = this;\\n    function AppViewModel() {\\n        for (var key in json_data) {\\n            var el = json_data[key];\\n            this[key] = Array.isArray(el) ? ko.observableArray(el) : ko.observable(el);\\n        }\\n        \\n        [this[\\\"formatted_val\\\"]=ko.computed(    function(){\\n        return this.formatted_vals()[parseInt(this.index())-(1)];\\n    }\\n,this)]\\n        [this[\\\"changes\\\"].subscribe((function (val){!(this.valueFromJulia[\\\"changes\\\"]) ? (WebIO.setval({\\\"name\\\":\\\"changes\\\",\\\"scope\\\":\\\"15100207381223110524\\\",\\\"id\\\":\\\"12662641984372177028\\\",\\\"type\\\":\\\"observable\\\"},val)) : undefined; return this.valueFromJulia[\\\"changes\\\"]=false}),self),this[\\\"index\\\"].subscribe((function (val){!(this.valueFromJulia[\\\"index\\\"]) ? (WebIO.setval({\\\"name\\\":\\\"index\\\",\\\"scope\\\":\\\"15100207381223110524\\\",\\\"id\\\":\\\"5420163604713154512\\\",\\\"type\\\":\\\"observable\\\"},val)) : undefined; return this.valueFromJulia[\\\"index\\\"]=false}),self)]\\n        \\n    }\\n    self.model = new AppViewModel();\\n    self.valueFromJulia = {};\\n    for (var key in json_data) {\\n        self.valueFromJulia[key] = false;\\n    }\\n    ko.applyBindings(self.model, self.dom);\\n}\\n);\\n    (WebIO.importBlock({\\\"data\\\":[{\\\"name\\\":\\\"knockout\\\",\\\"type\\\":\\\"js\\\",\\\"url\\\":\\\"/assetserver/7f6b498a95a9ac6b63c8a1071f981fdcb2e51812-knockout.js\\\"},{\\\"name\\\":\\\"knockout_punches\\\",\\\"type\\\":\\\"js\\\",\\\"url\\\":\\\"/assetserver/5f04fb6c5d5058eabc17f9b5db30d55e40586407-knockout_punches.js\\\"}],\\\"type\\\":\\\"async_block\\\"})).then((imports) => handler.apply(this, imports));\\n}\\n\")])], Dict{Symbol, Any}(:className => \"field interact-widget\")), Observable(Node{WebIO.DOM}(WebIO.DOM(:html, :div), Any[Plot{Plots.GRBackend() n=5}], Dict{Symbol, Any}(:className => \"interact-flex-row interact-widget\")))], Dict{Symbol, Any}())"
      ]
     },
     "execution_count": 56,
     "metadata": {
      "application/vnd.webio.node+json": {
       "kernelId": "4246cf49-069c-40d8-87b6-7180a3934de9"
      }
     },
     "output_type": "execute_result"
    }
   ],
   "source": [
    "# use Interact.jl for sliders via @manipulate\n",
    "@manipulate for x=-1.9:0.1:2, y=-1.9:0.1:2, z=0.1:0.1:2\n",
    "    𝐱 = [x,y,z]\n",
    "    𝐲 = norm(𝐱)*[1,0,0] + 𝐱\n",
    "\n",
    "    scatter3d([𝐱[1]], [𝐱[2]], [𝐱[3]]; label=\"x\", legend=:bottomleft, xlims=(-2,2), ylims=(-2,2), zlims=(-2,2))\n",
    "    scatter3d!([𝐲[1]], [𝐲[2]], [𝐲[3]]; label=\"w\")\n",
    "    plot!([0,𝐱[1]], [0,𝐱[2]], [0,𝐱[3]]; arrow=true, label=nothing, linecolor=:blue)\n",
    "    plot!([0,𝐲[1]], [0,𝐲[2]], [0,𝐲[3]]; arrow=true, label=nothing, linecolor=:red)\n",
    "\n",
    "    xs, ys = [-2,2], [-2,2]\n",
    "\n",
    "    Q = nullspace(𝐲')\n",
    "    a,b = svd(Q[1:2,:]') \\ Q[3,:]\n",
    "    p = (x,y) -> a*x + b*y\n",
    "\n",
    "    surface!(xs, ys, p.(xs', ys); alpha=0.5)\n",
    "end"
   ]
  },
  {
   "cell_type": "code",
   "execution_count": 50,
   "id": "2881c7e0",
   "metadata": {},
   "outputs": [
    {
     "data": {
      "image/svg+xml": [
       "<?xml version=\"1.0\" encoding=\"utf-8\"?>\n",
       "<svg xmlns=\"http://www.w3.org/2000/svg\" xmlns:xlink=\"http://www.w3.org/1999/xlink\" width=\"600\" height=\"400\" viewBox=\"0 0 2400 1600\">\n",
       "<defs>\n",
       "  <clipPath id=\"clip000\">\n",
       "    <rect x=\"0\" y=\"0\" width=\"2400\" height=\"1600\"/>\n",
       "  </clipPath>\n",
       "</defs>\n",
       "<path clip-path=\"url(#clip000)\" d=\"\n",
       "M0 1600 L2400 1600 L2400 0 L0 0  Z\n",
       "  \" fill=\"#ffffff\" fill-rule=\"evenodd\" fill-opacity=\"1\"/>\n",
       "<defs>\n",
       "  <clipPath id=\"clip001\">\n",
       "    <rect x=\"480\" y=\"0\" width=\"1681\" height=\"1600\"/>\n",
       "  </clipPath>\n",
       "</defs>\n",
       "<path clip-path=\"url(#clip000)\" d=\"\n",
       "M112.177 1486.45 L2352.76 1486.45 L2352.76 47.2441 L112.177 47.2441  Z\n",
       "  \" fill=\"#ffffff\" fill-rule=\"evenodd\" fill-opacity=\"1\"/>\n",
       "<defs>\n",
       "  <clipPath id=\"clip002\">\n",
       "    <rect x=\"112\" y=\"47\" width=\"2242\" height=\"1440\"/>\n",
       "  </clipPath>\n",
       "</defs>\n",
       "<polyline clip-path=\"url(#clip002)\" style=\"stroke:#000000; stroke-linecap:round; stroke-linejoin:round; stroke-width:2; stroke-opacity:0.1; fill:none\" points=\"\n",
       "  175.59,1486.45 175.59,47.2441 \n",
       "  \"/>\n",
       "<polyline clip-path=\"url(#clip002)\" style=\"stroke:#000000; stroke-linecap:round; stroke-linejoin:round; stroke-width:2; stroke-opacity:0.1; fill:none\" points=\"\n",
       "  704.028,1486.45 704.028,47.2441 \n",
       "  \"/>\n",
       "<polyline clip-path=\"url(#clip002)\" style=\"stroke:#000000; stroke-linecap:round; stroke-linejoin:round; stroke-width:2; stroke-opacity:0.1; fill:none\" points=\"\n",
       "  1232.47,1486.45 1232.47,47.2441 \n",
       "  \"/>\n",
       "<polyline clip-path=\"url(#clip002)\" style=\"stroke:#000000; stroke-linecap:round; stroke-linejoin:round; stroke-width:2; stroke-opacity:0.1; fill:none\" points=\"\n",
       "  1760.9,1486.45 1760.9,47.2441 \n",
       "  \"/>\n",
       "<polyline clip-path=\"url(#clip002)\" style=\"stroke:#000000; stroke-linecap:round; stroke-linejoin:round; stroke-width:2; stroke-opacity:0.1; fill:none\" points=\"\n",
       "  2289.34,1486.45 2289.34,47.2441 \n",
       "  \"/>\n",
       "<polyline clip-path=\"url(#clip000)\" style=\"stroke:#000000; stroke-linecap:round; stroke-linejoin:round; stroke-width:4; stroke-opacity:1; fill:none\" points=\"\n",
       "  112.177,1486.45 2352.76,1486.45 \n",
       "  \"/>\n",
       "<polyline clip-path=\"url(#clip000)\" style=\"stroke:#000000; stroke-linecap:round; stroke-linejoin:round; stroke-width:4; stroke-opacity:1; fill:none\" points=\"\n",
       "  175.59,1486.45 175.59,1467.55 \n",
       "  \"/>\n",
       "<polyline clip-path=\"url(#clip000)\" style=\"stroke:#000000; stroke-linecap:round; stroke-linejoin:round; stroke-width:4; stroke-opacity:1; fill:none\" points=\"\n",
       "  704.028,1486.45 704.028,1467.55 \n",
       "  \"/>\n",
       "<polyline clip-path=\"url(#clip000)\" style=\"stroke:#000000; stroke-linecap:round; stroke-linejoin:round; stroke-width:4; stroke-opacity:1; fill:none\" points=\"\n",
       "  1232.47,1486.45 1232.47,1467.55 \n",
       "  \"/>\n",
       "<polyline clip-path=\"url(#clip000)\" style=\"stroke:#000000; stroke-linecap:round; stroke-linejoin:round; stroke-width:4; stroke-opacity:1; fill:none\" points=\"\n",
       "  1760.9,1486.45 1760.9,1467.55 \n",
       "  \"/>\n",
       "<polyline clip-path=\"url(#clip000)\" style=\"stroke:#000000; stroke-linecap:round; stroke-linejoin:round; stroke-width:4; stroke-opacity:1; fill:none\" points=\"\n",
       "  2289.34,1486.45 2289.34,1467.55 \n",
       "  \"/>\n",
       "<path clip-path=\"url(#clip000)\" d=\"M137.893 1517.37 Q134.282 1517.37 132.453 1520.93 Q130.648 1524.47 130.648 1531.6 Q130.648 1538.71 132.453 1542.27 Q134.282 1545.82 137.893 1545.82 Q141.527 1545.82 143.333 1542.27 Q145.162 1538.71 145.162 1531.6 Q145.162 1524.47 143.333 1520.93 Q141.527 1517.37 137.893 1517.37 M137.893 1513.66 Q143.703 1513.66 146.759 1518.27 Q149.838 1522.85 149.838 1531.6 Q149.838 1540.33 146.759 1544.94 Q143.703 1549.52 137.893 1549.52 Q132.083 1549.52 129.004 1544.94 Q125.949 1540.33 125.949 1531.6 Q125.949 1522.85 129.004 1518.27 Q132.083 1513.66 137.893 1513.66 Z\" fill=\"#000000\" fill-rule=\"evenodd\" fill-opacity=\"1\" /><path clip-path=\"url(#clip000)\" d=\"M158.055 1542.97 L162.939 1542.97 L162.939 1548.85 L158.055 1548.85 L158.055 1542.97 Z\" fill=\"#000000\" fill-rule=\"evenodd\" fill-opacity=\"1\" /><path clip-path=\"url(#clip000)\" d=\"M183.124 1517.37 Q179.513 1517.37 177.685 1520.93 Q175.879 1524.47 175.879 1531.6 Q175.879 1538.71 177.685 1542.27 Q179.513 1545.82 183.124 1545.82 Q186.759 1545.82 188.564 1542.27 Q190.393 1538.71 190.393 1531.6 Q190.393 1524.47 188.564 1520.93 Q186.759 1517.37 183.124 1517.37 M183.124 1513.66 Q188.935 1513.66 191.99 1518.27 Q195.069 1522.85 195.069 1531.6 Q195.069 1540.33 191.99 1544.94 Q188.935 1549.52 183.124 1549.52 Q177.314 1549.52 174.236 1544.94 Q171.18 1540.33 171.18 1531.6 Q171.18 1522.85 174.236 1518.27 Q177.314 1513.66 183.124 1513.66 Z\" fill=\"#000000\" fill-rule=\"evenodd\" fill-opacity=\"1\" /><path clip-path=\"url(#clip000)\" d=\"M213.286 1517.37 Q209.675 1517.37 207.847 1520.93 Q206.041 1524.47 206.041 1531.6 Q206.041 1538.71 207.847 1542.27 Q209.675 1545.82 213.286 1545.82 Q216.921 1545.82 218.726 1542.27 Q220.555 1538.71 220.555 1531.6 Q220.555 1524.47 218.726 1520.93 Q216.921 1517.37 213.286 1517.37 M213.286 1513.66 Q219.096 1513.66 222.152 1518.27 Q225.231 1522.85 225.231 1531.6 Q225.231 1540.33 222.152 1544.94 Q219.096 1549.52 213.286 1549.52 Q207.476 1549.52 204.397 1544.94 Q201.342 1540.33 201.342 1531.6 Q201.342 1522.85 204.397 1518.27 Q207.476 1513.66 213.286 1513.66 Z\" fill=\"#000000\" fill-rule=\"evenodd\" fill-opacity=\"1\" /><path clip-path=\"url(#clip000)\" d=\"M666.829 1517.37 Q663.218 1517.37 661.39 1520.93 Q659.584 1524.47 659.584 1531.6 Q659.584 1538.71 661.39 1542.27 Q663.218 1545.82 666.829 1545.82 Q670.464 1545.82 672.269 1542.27 Q674.098 1538.71 674.098 1531.6 Q674.098 1524.47 672.269 1520.93 Q670.464 1517.37 666.829 1517.37 M666.829 1513.66 Q672.639 1513.66 675.695 1518.27 Q678.774 1522.85 678.774 1531.6 Q678.774 1540.33 675.695 1544.94 Q672.639 1549.52 666.829 1549.52 Q661.019 1549.52 657.94 1544.94 Q654.885 1540.33 654.885 1531.6 Q654.885 1522.85 657.94 1518.27 Q661.019 1513.66 666.829 1513.66 Z\" fill=\"#000000\" fill-rule=\"evenodd\" fill-opacity=\"1\" /><path clip-path=\"url(#clip000)\" d=\"M686.991 1542.97 L691.875 1542.97 L691.875 1548.85 L686.991 1548.85 L686.991 1542.97 Z\" fill=\"#000000\" fill-rule=\"evenodd\" fill-opacity=\"1\" /><path clip-path=\"url(#clip000)\" d=\"M706.088 1544.91 L722.408 1544.91 L722.408 1548.85 L700.463 1548.85 L700.463 1544.91 Q703.125 1542.16 707.709 1537.53 Q712.315 1532.88 713.496 1531.53 Q715.741 1529.01 716.621 1527.27 Q717.523 1525.51 717.523 1523.82 Q717.523 1521.07 715.579 1519.33 Q713.658 1517.6 710.556 1517.6 Q708.357 1517.6 705.903 1518.36 Q703.473 1519.13 700.695 1520.68 L700.695 1515.95 Q703.519 1514.82 705.973 1514.24 Q708.426 1513.66 710.463 1513.66 Q715.834 1513.66 719.028 1516.35 Q722.223 1519.03 722.223 1523.52 Q722.223 1525.65 721.412 1527.57 Q720.625 1529.47 718.519 1532.07 Q717.94 1532.74 714.838 1535.95 Q711.736 1539.15 706.088 1544.91 Z\" fill=\"#000000\" fill-rule=\"evenodd\" fill-opacity=\"1\" /><path clip-path=\"url(#clip000)\" d=\"M732.269 1514.29 L750.625 1514.29 L750.625 1518.22 L736.551 1518.22 L736.551 1526.7 Q737.57 1526.35 738.588 1526.19 Q739.607 1526 740.625 1526 Q746.412 1526 749.792 1529.17 Q753.171 1532.34 753.171 1537.76 Q753.171 1543.34 749.699 1546.44 Q746.227 1549.52 739.908 1549.52 Q737.732 1549.52 735.463 1549.15 Q733.218 1548.78 730.81 1548.04 L730.81 1543.34 Q732.894 1544.47 735.116 1545.03 Q737.338 1545.58 739.815 1545.58 Q743.82 1545.58 746.158 1543.48 Q748.496 1541.37 748.496 1537.76 Q748.496 1534.15 746.158 1532.04 Q743.82 1529.94 739.815 1529.94 Q737.94 1529.94 736.065 1530.35 Q734.213 1530.77 732.269 1531.65 L732.269 1514.29 Z\" fill=\"#000000\" fill-rule=\"evenodd\" fill-opacity=\"1\" /><path clip-path=\"url(#clip000)\" d=\"M1194.77 1517.37 Q1191.16 1517.37 1189.33 1520.93 Q1187.52 1524.47 1187.52 1531.6 Q1187.52 1538.71 1189.33 1542.27 Q1191.16 1545.82 1194.77 1545.82 Q1198.4 1545.82 1200.21 1542.27 Q1202.04 1538.71 1202.04 1531.6 Q1202.04 1524.47 1200.21 1520.93 Q1198.4 1517.37 1194.77 1517.37 M1194.77 1513.66 Q1200.58 1513.66 1203.64 1518.27 Q1206.71 1522.85 1206.71 1531.6 Q1206.71 1540.33 1203.64 1544.94 Q1200.58 1549.52 1194.77 1549.52 Q1188.96 1549.52 1185.88 1544.94 Q1182.83 1540.33 1182.83 1531.6 Q1182.83 1522.85 1185.88 1518.27 Q1188.96 1513.66 1194.77 1513.66 Z\" fill=\"#000000\" fill-rule=\"evenodd\" fill-opacity=\"1\" /><path clip-path=\"url(#clip000)\" d=\"M1214.93 1542.97 L1219.82 1542.97 L1219.82 1548.85 L1214.93 1548.85 L1214.93 1542.97 Z\" fill=\"#000000\" fill-rule=\"evenodd\" fill-opacity=\"1\" /><path clip-path=\"url(#clip000)\" d=\"M1230.05 1514.29 L1248.4 1514.29 L1248.4 1518.22 L1234.33 1518.22 L1234.33 1526.7 Q1235.35 1526.35 1236.37 1526.19 Q1237.39 1526 1238.4 1526 Q1244.19 1526 1247.57 1529.17 Q1250.95 1532.34 1250.95 1537.76 Q1250.95 1543.34 1247.48 1546.44 Q1244.01 1549.52 1237.69 1549.52 Q1235.51 1549.52 1233.24 1549.15 Q1231 1548.78 1228.59 1548.04 L1228.59 1543.34 Q1230.67 1544.47 1232.89 1545.03 Q1235.12 1545.58 1237.59 1545.58 Q1241.6 1545.58 1243.94 1543.48 Q1246.27 1541.37 1246.27 1537.76 Q1246.27 1534.15 1243.94 1532.04 Q1241.6 1529.94 1237.59 1529.94 Q1235.72 1529.94 1233.84 1530.35 Q1231.99 1530.77 1230.05 1531.65 L1230.05 1514.29 Z\" fill=\"#000000\" fill-rule=\"evenodd\" fill-opacity=\"1\" /><path clip-path=\"url(#clip000)\" d=\"M1270.16 1517.37 Q1266.55 1517.37 1264.72 1520.93 Q1262.92 1524.47 1262.92 1531.6 Q1262.92 1538.71 1264.72 1542.27 Q1266.55 1545.82 1270.16 1545.82 Q1273.8 1545.82 1275.6 1542.27 Q1277.43 1538.71 1277.43 1531.6 Q1277.43 1524.47 1275.6 1520.93 Q1273.8 1517.37 1270.16 1517.37 M1270.16 1513.66 Q1275.97 1513.66 1279.03 1518.27 Q1282.11 1522.85 1282.11 1531.6 Q1282.11 1540.33 1279.03 1544.94 Q1275.97 1549.52 1270.16 1549.52 Q1264.35 1549.52 1261.27 1544.94 Q1258.22 1540.33 1258.22 1531.6 Q1258.22 1522.85 1261.27 1518.27 Q1264.35 1513.66 1270.16 1513.66 Z\" fill=\"#000000\" fill-rule=\"evenodd\" fill-opacity=\"1\" /><path clip-path=\"url(#clip000)\" d=\"M1723.71 1517.37 Q1720.09 1517.37 1718.27 1520.93 Q1716.46 1524.47 1716.46 1531.6 Q1716.46 1538.71 1718.27 1542.27 Q1720.09 1545.82 1723.71 1545.82 Q1727.34 1545.82 1729.15 1542.27 Q1730.97 1538.71 1730.97 1531.6 Q1730.97 1524.47 1729.15 1520.93 Q1727.34 1517.37 1723.71 1517.37 M1723.71 1513.66 Q1729.52 1513.66 1732.57 1518.27 Q1735.65 1522.85 1735.65 1531.6 Q1735.65 1540.33 1732.57 1544.94 Q1729.52 1549.52 1723.71 1549.52 Q1717.9 1549.52 1714.82 1544.94 Q1711.76 1540.33 1711.76 1531.6 Q1711.76 1522.85 1714.82 1518.27 Q1717.9 1513.66 1723.71 1513.66 Z\" fill=\"#000000\" fill-rule=\"evenodd\" fill-opacity=\"1\" /><path clip-path=\"url(#clip000)\" d=\"M1743.87 1542.97 L1748.75 1542.97 L1748.75 1548.85 L1743.87 1548.85 L1743.87 1542.97 Z\" fill=\"#000000\" fill-rule=\"evenodd\" fill-opacity=\"1\" /><path clip-path=\"url(#clip000)\" d=\"M1757.76 1514.29 L1779.98 1514.29 L1779.98 1516.28 L1767.43 1548.85 L1762.55 1548.85 L1774.35 1518.22 L1757.76 1518.22 L1757.76 1514.29 Z\" fill=\"#000000\" fill-rule=\"evenodd\" fill-opacity=\"1\" /><path clip-path=\"url(#clip000)\" d=\"M1789.15 1514.29 L1807.5 1514.29 L1807.5 1518.22 L1793.43 1518.22 L1793.43 1526.7 Q1794.45 1526.35 1795.46 1526.19 Q1796.48 1526 1797.5 1526 Q1803.29 1526 1806.67 1529.17 Q1810.05 1532.34 1810.05 1537.76 Q1810.05 1543.34 1806.58 1546.44 Q1803.1 1549.52 1796.78 1549.52 Q1794.61 1549.52 1792.34 1549.15 Q1790.09 1548.78 1787.69 1548.04 L1787.69 1543.34 Q1789.77 1544.47 1791.99 1545.03 Q1794.21 1545.58 1796.69 1545.58 Q1800.7 1545.58 1803.03 1543.48 Q1805.37 1541.37 1805.37 1537.76 Q1805.37 1534.15 1803.03 1532.04 Q1800.7 1529.94 1796.69 1529.94 Q1794.82 1529.94 1792.94 1530.35 Q1791.09 1530.77 1789.15 1531.65 L1789.15 1514.29 Z\" fill=\"#000000\" fill-rule=\"evenodd\" fill-opacity=\"1\" /><path clip-path=\"url(#clip000)\" d=\"M2241.42 1544.91 L2249.05 1544.91 L2249.05 1518.55 L2240.74 1520.21 L2240.74 1515.95 L2249.01 1514.29 L2253.68 1514.29 L2253.68 1544.91 L2261.32 1544.91 L2261.32 1548.85 L2241.42 1548.85 L2241.42 1544.91 Z\" fill=\"#000000\" fill-rule=\"evenodd\" fill-opacity=\"1\" /><path clip-path=\"url(#clip000)\" d=\"M2270.77 1542.97 L2275.65 1542.97 L2275.65 1548.85 L2270.77 1548.85 L2270.77 1542.97 Z\" fill=\"#000000\" fill-rule=\"evenodd\" fill-opacity=\"1\" /><path clip-path=\"url(#clip000)\" d=\"M2295.84 1517.37 Q2292.23 1517.37 2290.4 1520.93 Q2288.59 1524.47 2288.59 1531.6 Q2288.59 1538.71 2290.4 1542.27 Q2292.23 1545.82 2295.84 1545.82 Q2299.47 1545.82 2301.28 1542.27 Q2303.1 1538.71 2303.1 1531.6 Q2303.1 1524.47 2301.28 1520.93 Q2299.47 1517.37 2295.84 1517.37 M2295.84 1513.66 Q2301.65 1513.66 2304.7 1518.27 Q2307.78 1522.85 2307.78 1531.6 Q2307.78 1540.33 2304.7 1544.94 Q2301.65 1549.52 2295.84 1549.52 Q2290.03 1549.52 2286.95 1544.94 Q2283.89 1540.33 2283.89 1531.6 Q2283.89 1522.85 2286.95 1518.27 Q2290.03 1513.66 2295.84 1513.66 Z\" fill=\"#000000\" fill-rule=\"evenodd\" fill-opacity=\"1\" /><path clip-path=\"url(#clip000)\" d=\"M2326 1517.37 Q2322.39 1517.37 2320.56 1520.93 Q2318.75 1524.47 2318.75 1531.6 Q2318.75 1538.71 2320.56 1542.27 Q2322.39 1545.82 2326 1545.82 Q2329.63 1545.82 2331.44 1542.27 Q2333.27 1538.71 2333.27 1531.6 Q2333.27 1524.47 2331.44 1520.93 Q2329.63 1517.37 2326 1517.37 M2326 1513.66 Q2331.81 1513.66 2334.86 1518.27 Q2337.94 1522.85 2337.94 1531.6 Q2337.94 1540.33 2334.86 1544.94 Q2331.81 1549.52 2326 1549.52 Q2320.19 1549.52 2317.11 1544.94 Q2314.05 1540.33 2314.05 1531.6 Q2314.05 1522.85 2317.11 1518.27 Q2320.19 1513.66 2326 1513.66 Z\" fill=\"#000000\" fill-rule=\"evenodd\" fill-opacity=\"1\" /><polyline clip-path=\"url(#clip002)\" style=\"stroke:#000000; stroke-linecap:round; stroke-linejoin:round; stroke-width:2; stroke-opacity:0.1; fill:none\" points=\"\n",
       "  112.177,1358.04 2352.76,1358.04 \n",
       "  \"/>\n",
       "<polyline clip-path=\"url(#clip002)\" style=\"stroke:#000000; stroke-linecap:round; stroke-linejoin:round; stroke-width:2; stroke-opacity:0.1; fill:none\" points=\"\n",
       "  112.177,938.591 2352.76,938.591 \n",
       "  \"/>\n",
       "<polyline clip-path=\"url(#clip002)\" style=\"stroke:#000000; stroke-linecap:round; stroke-linejoin:round; stroke-width:2; stroke-opacity:0.1; fill:none\" points=\"\n",
       "  112.177,519.143 2352.76,519.143 \n",
       "  \"/>\n",
       "<polyline clip-path=\"url(#clip002)\" style=\"stroke:#000000; stroke-linecap:round; stroke-linejoin:round; stroke-width:2; stroke-opacity:0.1; fill:none\" points=\"\n",
       "  112.177,99.6953 2352.76,99.6953 \n",
       "  \"/>\n",
       "<polyline clip-path=\"url(#clip000)\" style=\"stroke:#000000; stroke-linecap:round; stroke-linejoin:round; stroke-width:4; stroke-opacity:1; fill:none\" points=\"\n",
       "  112.177,1486.45 112.177,47.2441 \n",
       "  \"/>\n",
       "<polyline clip-path=\"url(#clip000)\" style=\"stroke:#000000; stroke-linecap:round; stroke-linejoin:round; stroke-width:4; stroke-opacity:1; fill:none\" points=\"\n",
       "  112.177,1358.04 131.075,1358.04 \n",
       "  \"/>\n",
       "<polyline clip-path=\"url(#clip000)\" style=\"stroke:#000000; stroke-linecap:round; stroke-linejoin:round; stroke-width:4; stroke-opacity:1; fill:none\" points=\"\n",
       "  112.177,938.591 131.075,938.591 \n",
       "  \"/>\n",
       "<polyline clip-path=\"url(#clip000)\" style=\"stroke:#000000; stroke-linecap:round; stroke-linejoin:round; stroke-width:4; stroke-opacity:1; fill:none\" points=\"\n",
       "  112.177,519.143 131.075,519.143 \n",
       "  \"/>\n",
       "<polyline clip-path=\"url(#clip000)\" style=\"stroke:#000000; stroke-linecap:round; stroke-linejoin:round; stroke-width:4; stroke-opacity:1; fill:none\" points=\"\n",
       "  112.177,99.6953 131.075,99.6953 \n",
       "  \"/>\n",
       "<path clip-path=\"url(#clip000)\" d=\"M56.2699 1371.38 L63.9087 1371.38 L63.9087 1345.02 L55.5986 1346.68 L55.5986 1342.42 L63.8624 1340.76 L68.5383 1340.76 L68.5383 1371.38 L76.1772 1371.38 L76.1772 1375.32 L56.2699 1375.32 L56.2699 1371.38 Z\" fill=\"#000000\" fill-rule=\"evenodd\" fill-opacity=\"1\" /><path clip-path=\"url(#clip000)\" d=\"M59.8578 951.935 L76.1772 951.935 L76.1772 955.871 L54.2328 955.871 L54.2328 951.935 Q56.8949 949.181 61.4782 944.551 Q66.0846 939.898 67.2652 938.556 Q69.5105 936.033 70.3902 934.297 Q71.2929 932.537 71.2929 930.848 Q71.2929 928.093 69.3485 926.357 Q67.4272 924.621 64.3254 924.621 Q62.1263 924.621 59.6726 925.385 Q57.2421 926.149 54.4643 927.699 L54.4643 922.977 Q57.2884 921.843 59.7421 921.264 Q62.1958 920.686 64.2328 920.686 Q69.6031 920.686 72.7976 923.371 Q75.992 926.056 75.992 930.547 Q75.992 932.676 75.1818 934.598 Q74.3948 936.496 72.2883 939.088 Q71.7096 939.76 68.6078 942.977 Q65.5059 946.172 59.8578 951.935 Z\" fill=\"#000000\" fill-rule=\"evenodd\" fill-opacity=\"1\" /><path clip-path=\"url(#clip000)\" d=\"M69.0476 517.789 Q72.404 518.506 74.279 520.775 Q76.1772 523.043 76.1772 526.377 Q76.1772 531.492 72.6587 534.293 Q69.1402 537.094 62.6587 537.094 Q60.4828 537.094 58.168 536.654 Q55.8764 536.238 53.4227 535.381 L53.4227 530.867 Q55.3671 532.002 57.6819 532.58 Q59.9967 533.159 62.5198 533.159 Q66.918 533.159 69.2096 531.423 Q71.5244 529.687 71.5244 526.377 Q71.5244 523.321 69.3717 521.608 Q67.242 519.872 63.4226 519.872 L59.3949 519.872 L59.3949 516.03 L63.6078 516.03 Q67.0569 516.03 68.8855 514.664 Q70.7142 513.275 70.7142 510.682 Q70.7142 508.02 68.8161 506.608 Q66.9411 505.173 63.4226 505.173 Q61.5013 505.173 59.3023 505.59 Q57.1032 506.006 54.4643 506.886 L54.4643 502.719 Q57.1264 501.979 59.4412 501.608 Q61.7791 501.238 63.8393 501.238 Q69.1633 501.238 72.2652 503.669 Q75.367 506.076 75.367 510.196 Q75.367 513.067 73.7235 515.057 Q72.08 517.025 69.0476 517.789 Z\" fill=\"#000000\" fill-rule=\"evenodd\" fill-opacity=\"1\" /><path clip-path=\"url(#clip000)\" d=\"M66.5939 86.4894 L54.7884 104.938 L66.5939 104.938 L66.5939 86.4894 M65.367 82.4153 L71.2466 82.4153 L71.2466 104.938 L76.1772 104.938 L76.1772 108.827 L71.2466 108.827 L71.2466 116.975 L66.5939 116.975 L66.5939 108.827 L50.9921 108.827 L50.9921 104.313 L65.367 82.4153 Z\" fill=\"#000000\" fill-rule=\"evenodd\" fill-opacity=\"1\" /><circle clip-path=\"url(#clip002)\" cx=\"175.59\" cy=\"1445.72\" r=\"14.4\" fill=\"#009af9\" fill-rule=\"evenodd\" fill-opacity=\"1\" stroke=\"#000000\" stroke-opacity=\"1\" stroke-width=\"3.2\"/>\n",
       "<circle clip-path=\"url(#clip002)\" cx=\"186.212\" cy=\"1373.12\" r=\"14.4\" fill=\"#009af9\" fill-rule=\"evenodd\" fill-opacity=\"1\" stroke=\"#000000\" stroke-opacity=\"1\" stroke-width=\"3.2\"/>\n",
       "<circle clip-path=\"url(#clip002)\" cx=\"196.834\" cy=\"1315.59\" r=\"14.4\" fill=\"#009af9\" fill-rule=\"evenodd\" fill-opacity=\"1\" stroke=\"#000000\" stroke-opacity=\"1\" stroke-width=\"3.2\"/>\n",
       "<circle clip-path=\"url(#clip002)\" cx=\"207.455\" cy=\"1303.63\" r=\"14.4\" fill=\"#009af9\" fill-rule=\"evenodd\" fill-opacity=\"1\" stroke=\"#000000\" stroke-opacity=\"1\" stroke-width=\"3.2\"/>\n",
       "<circle clip-path=\"url(#clip002)\" cx=\"218.077\" cy=\"1296.33\" r=\"14.4\" fill=\"#009af9\" fill-rule=\"evenodd\" fill-opacity=\"1\" stroke=\"#000000\" stroke-opacity=\"1\" stroke-width=\"3.2\"/>\n",
       "<circle clip-path=\"url(#clip002)\" cx=\"228.699\" cy=\"1338.59\" r=\"14.4\" fill=\"#009af9\" fill-rule=\"evenodd\" fill-opacity=\"1\" stroke=\"#000000\" stroke-opacity=\"1\" stroke-width=\"3.2\"/>\n",
       "<circle clip-path=\"url(#clip002)\" cx=\"239.321\" cy=\"1275.32\" r=\"14.4\" fill=\"#009af9\" fill-rule=\"evenodd\" fill-opacity=\"1\" stroke=\"#000000\" stroke-opacity=\"1\" stroke-width=\"3.2\"/>\n",
       "<circle clip-path=\"url(#clip002)\" cx=\"249.943\" cy=\"1294.48\" r=\"14.4\" fill=\"#009af9\" fill-rule=\"evenodd\" fill-opacity=\"1\" stroke=\"#000000\" stroke-opacity=\"1\" stroke-width=\"3.2\"/>\n",
       "<circle clip-path=\"url(#clip002)\" cx=\"260.565\" cy=\"1369.76\" r=\"14.4\" fill=\"#009af9\" fill-rule=\"evenodd\" fill-opacity=\"1\" stroke=\"#000000\" stroke-opacity=\"1\" stroke-width=\"3.2\"/>\n",
       "<circle clip-path=\"url(#clip002)\" cx=\"271.187\" cy=\"1325.15\" r=\"14.4\" fill=\"#009af9\" fill-rule=\"evenodd\" fill-opacity=\"1\" stroke=\"#000000\" stroke-opacity=\"1\" stroke-width=\"3.2\"/>\n",
       "<circle clip-path=\"url(#clip002)\" cx=\"281.809\" cy=\"1286.14\" r=\"14.4\" fill=\"#009af9\" fill-rule=\"evenodd\" fill-opacity=\"1\" stroke=\"#000000\" stroke-opacity=\"1\" stroke-width=\"3.2\"/>\n",
       "<circle clip-path=\"url(#clip002)\" cx=\"292.43\" cy=\"1355.9\" r=\"14.4\" fill=\"#009af9\" fill-rule=\"evenodd\" fill-opacity=\"1\" stroke=\"#000000\" stroke-opacity=\"1\" stroke-width=\"3.2\"/>\n",
       "<circle clip-path=\"url(#clip002)\" cx=\"303.052\" cy=\"1315.67\" r=\"14.4\" fill=\"#009af9\" fill-rule=\"evenodd\" fill-opacity=\"1\" stroke=\"#000000\" stroke-opacity=\"1\" stroke-width=\"3.2\"/>\n",
       "<circle clip-path=\"url(#clip002)\" cx=\"313.674\" cy=\"1294.04\" r=\"14.4\" fill=\"#009af9\" fill-rule=\"evenodd\" fill-opacity=\"1\" stroke=\"#000000\" stroke-opacity=\"1\" stroke-width=\"3.2\"/>\n",
       "<circle clip-path=\"url(#clip002)\" cx=\"324.296\" cy=\"1293.72\" r=\"14.4\" fill=\"#009af9\" fill-rule=\"evenodd\" fill-opacity=\"1\" stroke=\"#000000\" stroke-opacity=\"1\" stroke-width=\"3.2\"/>\n",
       "<circle clip-path=\"url(#clip002)\" cx=\"334.918\" cy=\"1297.37\" r=\"14.4\" fill=\"#009af9\" fill-rule=\"evenodd\" fill-opacity=\"1\" stroke=\"#000000\" stroke-opacity=\"1\" stroke-width=\"3.2\"/>\n",
       "<circle clip-path=\"url(#clip002)\" cx=\"345.54\" cy=\"1267.92\" r=\"14.4\" fill=\"#009af9\" fill-rule=\"evenodd\" fill-opacity=\"1\" stroke=\"#000000\" stroke-opacity=\"1\" stroke-width=\"3.2\"/>\n",
       "<circle clip-path=\"url(#clip002)\" cx=\"356.162\" cy=\"1244.31\" r=\"14.4\" fill=\"#009af9\" fill-rule=\"evenodd\" fill-opacity=\"1\" stroke=\"#000000\" stroke-opacity=\"1\" stroke-width=\"3.2\"/>\n",
       "<circle clip-path=\"url(#clip002)\" cx=\"366.784\" cy=\"1254.77\" r=\"14.4\" fill=\"#009af9\" fill-rule=\"evenodd\" fill-opacity=\"1\" stroke=\"#000000\" stroke-opacity=\"1\" stroke-width=\"3.2\"/>\n",
       "<circle clip-path=\"url(#clip002)\" cx=\"377.405\" cy=\"1290.91\" r=\"14.4\" fill=\"#009af9\" fill-rule=\"evenodd\" fill-opacity=\"1\" stroke=\"#000000\" stroke-opacity=\"1\" stroke-width=\"3.2\"/>\n",
       "<circle clip-path=\"url(#clip002)\" cx=\"388.027\" cy=\"1283.55\" r=\"14.4\" fill=\"#009af9\" fill-rule=\"evenodd\" fill-opacity=\"1\" stroke=\"#000000\" stroke-opacity=\"1\" stroke-width=\"3.2\"/>\n",
       "<circle clip-path=\"url(#clip002)\" cx=\"398.649\" cy=\"1278.47\" r=\"14.4\" fill=\"#009af9\" fill-rule=\"evenodd\" fill-opacity=\"1\" stroke=\"#000000\" stroke-opacity=\"1\" stroke-width=\"3.2\"/>\n",
       "<circle clip-path=\"url(#clip002)\" cx=\"409.271\" cy=\"1210.75\" r=\"14.4\" fill=\"#009af9\" fill-rule=\"evenodd\" fill-opacity=\"1\" stroke=\"#000000\" stroke-opacity=\"1\" stroke-width=\"3.2\"/>\n",
       "<circle clip-path=\"url(#clip002)\" cx=\"419.893\" cy=\"1239.38\" r=\"14.4\" fill=\"#009af9\" fill-rule=\"evenodd\" fill-opacity=\"1\" stroke=\"#000000\" stroke-opacity=\"1\" stroke-width=\"3.2\"/>\n",
       "<circle clip-path=\"url(#clip002)\" cx=\"430.515\" cy=\"1234.82\" r=\"14.4\" fill=\"#009af9\" fill-rule=\"evenodd\" fill-opacity=\"1\" stroke=\"#000000\" stroke-opacity=\"1\" stroke-width=\"3.2\"/>\n",
       "<circle clip-path=\"url(#clip002)\" cx=\"441.137\" cy=\"1334.75\" r=\"14.4\" fill=\"#009af9\" fill-rule=\"evenodd\" fill-opacity=\"1\" stroke=\"#000000\" stroke-opacity=\"1\" stroke-width=\"3.2\"/>\n",
       "<circle clip-path=\"url(#clip002)\" cx=\"451.759\" cy=\"1276.02\" r=\"14.4\" fill=\"#009af9\" fill-rule=\"evenodd\" fill-opacity=\"1\" stroke=\"#000000\" stroke-opacity=\"1\" stroke-width=\"3.2\"/>\n",
       "<circle clip-path=\"url(#clip002)\" cx=\"462.38\" cy=\"1163.44\" r=\"14.4\" fill=\"#009af9\" fill-rule=\"evenodd\" fill-opacity=\"1\" stroke=\"#000000\" stroke-opacity=\"1\" stroke-width=\"3.2\"/>\n",
       "<circle clip-path=\"url(#clip002)\" cx=\"473.002\" cy=\"1235.03\" r=\"14.4\" fill=\"#009af9\" fill-rule=\"evenodd\" fill-opacity=\"1\" stroke=\"#000000\" stroke-opacity=\"1\" stroke-width=\"3.2\"/>\n",
       "<circle clip-path=\"url(#clip002)\" cx=\"483.624\" cy=\"1195.64\" r=\"14.4\" fill=\"#009af9\" fill-rule=\"evenodd\" fill-opacity=\"1\" stroke=\"#000000\" stroke-opacity=\"1\" stroke-width=\"3.2\"/>\n",
       "<circle clip-path=\"url(#clip002)\" cx=\"494.246\" cy=\"1209.21\" r=\"14.4\" fill=\"#009af9\" fill-rule=\"evenodd\" fill-opacity=\"1\" stroke=\"#000000\" stroke-opacity=\"1\" stroke-width=\"3.2\"/>\n",
       "<circle clip-path=\"url(#clip002)\" cx=\"504.868\" cy=\"1212.79\" r=\"14.4\" fill=\"#009af9\" fill-rule=\"evenodd\" fill-opacity=\"1\" stroke=\"#000000\" stroke-opacity=\"1\" stroke-width=\"3.2\"/>\n",
       "<circle clip-path=\"url(#clip002)\" cx=\"515.49\" cy=\"1253.98\" r=\"14.4\" fill=\"#009af9\" fill-rule=\"evenodd\" fill-opacity=\"1\" stroke=\"#000000\" stroke-opacity=\"1\" stroke-width=\"3.2\"/>\n",
       "<circle clip-path=\"url(#clip002)\" cx=\"526.112\" cy=\"1275.08\" r=\"14.4\" fill=\"#009af9\" fill-rule=\"evenodd\" fill-opacity=\"1\" stroke=\"#000000\" stroke-opacity=\"1\" stroke-width=\"3.2\"/>\n",
       "<circle clip-path=\"url(#clip002)\" cx=\"536.734\" cy=\"1172.59\" r=\"14.4\" fill=\"#009af9\" fill-rule=\"evenodd\" fill-opacity=\"1\" stroke=\"#000000\" stroke-opacity=\"1\" stroke-width=\"3.2\"/>\n",
       "<circle clip-path=\"url(#clip002)\" cx=\"547.355\" cy=\"1186.68\" r=\"14.4\" fill=\"#009af9\" fill-rule=\"evenodd\" fill-opacity=\"1\" stroke=\"#000000\" stroke-opacity=\"1\" stroke-width=\"3.2\"/>\n",
       "<circle clip-path=\"url(#clip002)\" cx=\"557.977\" cy=\"1176.07\" r=\"14.4\" fill=\"#009af9\" fill-rule=\"evenodd\" fill-opacity=\"1\" stroke=\"#000000\" stroke-opacity=\"1\" stroke-width=\"3.2\"/>\n",
       "<circle clip-path=\"url(#clip002)\" cx=\"568.599\" cy=\"1177.81\" r=\"14.4\" fill=\"#009af9\" fill-rule=\"evenodd\" fill-opacity=\"1\" stroke=\"#000000\" stroke-opacity=\"1\" stroke-width=\"3.2\"/>\n",
       "<circle clip-path=\"url(#clip002)\" cx=\"579.221\" cy=\"1167.06\" r=\"14.4\" fill=\"#009af9\" fill-rule=\"evenodd\" fill-opacity=\"1\" stroke=\"#000000\" stroke-opacity=\"1\" stroke-width=\"3.2\"/>\n",
       "<circle clip-path=\"url(#clip002)\" cx=\"589.843\" cy=\"1125.48\" r=\"14.4\" fill=\"#009af9\" fill-rule=\"evenodd\" fill-opacity=\"1\" stroke=\"#000000\" stroke-opacity=\"1\" stroke-width=\"3.2\"/>\n",
       "<circle clip-path=\"url(#clip002)\" cx=\"600.465\" cy=\"1160.81\" r=\"14.4\" fill=\"#009af9\" fill-rule=\"evenodd\" fill-opacity=\"1\" stroke=\"#000000\" stroke-opacity=\"1\" stroke-width=\"3.2\"/>\n",
       "<circle clip-path=\"url(#clip002)\" cx=\"611.087\" cy=\"1133.16\" r=\"14.4\" fill=\"#009af9\" fill-rule=\"evenodd\" fill-opacity=\"1\" stroke=\"#000000\" stroke-opacity=\"1\" stroke-width=\"3.2\"/>\n",
       "<circle clip-path=\"url(#clip002)\" cx=\"621.709\" cy=\"1182.9\" r=\"14.4\" fill=\"#009af9\" fill-rule=\"evenodd\" fill-opacity=\"1\" stroke=\"#000000\" stroke-opacity=\"1\" stroke-width=\"3.2\"/>\n",
       "<circle clip-path=\"url(#clip002)\" cx=\"632.33\" cy=\"1154.55\" r=\"14.4\" fill=\"#009af9\" fill-rule=\"evenodd\" fill-opacity=\"1\" stroke=\"#000000\" stroke-opacity=\"1\" stroke-width=\"3.2\"/>\n",
       "<circle clip-path=\"url(#clip002)\" cx=\"642.952\" cy=\"1131.39\" r=\"14.4\" fill=\"#009af9\" fill-rule=\"evenodd\" fill-opacity=\"1\" stroke=\"#000000\" stroke-opacity=\"1\" stroke-width=\"3.2\"/>\n",
       "<circle clip-path=\"url(#clip002)\" cx=\"653.574\" cy=\"1155.93\" r=\"14.4\" fill=\"#009af9\" fill-rule=\"evenodd\" fill-opacity=\"1\" stroke=\"#000000\" stroke-opacity=\"1\" stroke-width=\"3.2\"/>\n",
       "<circle clip-path=\"url(#clip002)\" cx=\"664.196\" cy=\"1095.27\" r=\"14.4\" fill=\"#009af9\" fill-rule=\"evenodd\" fill-opacity=\"1\" stroke=\"#000000\" stroke-opacity=\"1\" stroke-width=\"3.2\"/>\n",
       "<circle clip-path=\"url(#clip002)\" cx=\"674.818\" cy=\"1193.41\" r=\"14.4\" fill=\"#009af9\" fill-rule=\"evenodd\" fill-opacity=\"1\" stroke=\"#000000\" stroke-opacity=\"1\" stroke-width=\"3.2\"/>\n",
       "<circle clip-path=\"url(#clip002)\" cx=\"685.44\" cy=\"1082.59\" r=\"14.4\" fill=\"#009af9\" fill-rule=\"evenodd\" fill-opacity=\"1\" stroke=\"#000000\" stroke-opacity=\"1\" stroke-width=\"3.2\"/>\n",
       "<circle clip-path=\"url(#clip002)\" cx=\"696.062\" cy=\"1208.57\" r=\"14.4\" fill=\"#009af9\" fill-rule=\"evenodd\" fill-opacity=\"1\" stroke=\"#000000\" stroke-opacity=\"1\" stroke-width=\"3.2\"/>\n",
       "<circle clip-path=\"url(#clip002)\" cx=\"706.684\" cy=\"1102.24\" r=\"14.4\" fill=\"#009af9\" fill-rule=\"evenodd\" fill-opacity=\"1\" stroke=\"#000000\" stroke-opacity=\"1\" stroke-width=\"3.2\"/>\n",
       "<circle clip-path=\"url(#clip002)\" cx=\"717.306\" cy=\"1157.84\" r=\"14.4\" fill=\"#009af9\" fill-rule=\"evenodd\" fill-opacity=\"1\" stroke=\"#000000\" stroke-opacity=\"1\" stroke-width=\"3.2\"/>\n",
       "<circle clip-path=\"url(#clip002)\" cx=\"727.927\" cy=\"1155.6\" r=\"14.4\" fill=\"#009af9\" fill-rule=\"evenodd\" fill-opacity=\"1\" stroke=\"#000000\" stroke-opacity=\"1\" stroke-width=\"3.2\"/>\n",
       "<circle clip-path=\"url(#clip002)\" cx=\"738.549\" cy=\"1043.5\" r=\"14.4\" fill=\"#009af9\" fill-rule=\"evenodd\" fill-opacity=\"1\" stroke=\"#000000\" stroke-opacity=\"1\" stroke-width=\"3.2\"/>\n",
       "<circle clip-path=\"url(#clip002)\" cx=\"749.171\" cy=\"1155.44\" r=\"14.4\" fill=\"#009af9\" fill-rule=\"evenodd\" fill-opacity=\"1\" stroke=\"#000000\" stroke-opacity=\"1\" stroke-width=\"3.2\"/>\n",
       "<circle clip-path=\"url(#clip002)\" cx=\"759.793\" cy=\"1075.59\" r=\"14.4\" fill=\"#009af9\" fill-rule=\"evenodd\" fill-opacity=\"1\" stroke=\"#000000\" stroke-opacity=\"1\" stroke-width=\"3.2\"/>\n",
       "<circle clip-path=\"url(#clip002)\" cx=\"770.415\" cy=\"1078.78\" r=\"14.4\" fill=\"#009af9\" fill-rule=\"evenodd\" fill-opacity=\"1\" stroke=\"#000000\" stroke-opacity=\"1\" stroke-width=\"3.2\"/>\n",
       "<circle clip-path=\"url(#clip002)\" cx=\"781.037\" cy=\"1117.74\" r=\"14.4\" fill=\"#009af9\" fill-rule=\"evenodd\" fill-opacity=\"1\" stroke=\"#000000\" stroke-opacity=\"1\" stroke-width=\"3.2\"/>\n",
       "<circle clip-path=\"url(#clip002)\" cx=\"791.659\" cy=\"1087.93\" r=\"14.4\" fill=\"#009af9\" fill-rule=\"evenodd\" fill-opacity=\"1\" stroke=\"#000000\" stroke-opacity=\"1\" stroke-width=\"3.2\"/>\n",
       "<circle clip-path=\"url(#clip002)\" cx=\"802.281\" cy=\"998.297\" r=\"14.4\" fill=\"#009af9\" fill-rule=\"evenodd\" fill-opacity=\"1\" stroke=\"#000000\" stroke-opacity=\"1\" stroke-width=\"3.2\"/>\n",
       "<circle clip-path=\"url(#clip002)\" cx=\"812.902\" cy=\"991.736\" r=\"14.4\" fill=\"#009af9\" fill-rule=\"evenodd\" fill-opacity=\"1\" stroke=\"#000000\" stroke-opacity=\"1\" stroke-width=\"3.2\"/>\n",
       "<circle clip-path=\"url(#clip002)\" cx=\"823.524\" cy=\"1032.65\" r=\"14.4\" fill=\"#009af9\" fill-rule=\"evenodd\" fill-opacity=\"1\" stroke=\"#000000\" stroke-opacity=\"1\" stroke-width=\"3.2\"/>\n",
       "<circle clip-path=\"url(#clip002)\" cx=\"834.146\" cy=\"1061.12\" r=\"14.4\" fill=\"#009af9\" fill-rule=\"evenodd\" fill-opacity=\"1\" stroke=\"#000000\" stroke-opacity=\"1\" stroke-width=\"3.2\"/>\n",
       "<circle clip-path=\"url(#clip002)\" cx=\"844.768\" cy=\"1010.66\" r=\"14.4\" fill=\"#009af9\" fill-rule=\"evenodd\" fill-opacity=\"1\" stroke=\"#000000\" stroke-opacity=\"1\" stroke-width=\"3.2\"/>\n",
       "<circle clip-path=\"url(#clip002)\" cx=\"855.39\" cy=\"982.257\" r=\"14.4\" fill=\"#009af9\" fill-rule=\"evenodd\" fill-opacity=\"1\" stroke=\"#000000\" stroke-opacity=\"1\" stroke-width=\"3.2\"/>\n",
       "<circle clip-path=\"url(#clip002)\" cx=\"866.012\" cy=\"1065.84\" r=\"14.4\" fill=\"#009af9\" fill-rule=\"evenodd\" fill-opacity=\"1\" stroke=\"#000000\" stroke-opacity=\"1\" stroke-width=\"3.2\"/>\n",
       "<circle clip-path=\"url(#clip002)\" cx=\"876.634\" cy=\"993.652\" r=\"14.4\" fill=\"#009af9\" fill-rule=\"evenodd\" fill-opacity=\"1\" stroke=\"#000000\" stroke-opacity=\"1\" stroke-width=\"3.2\"/>\n",
       "<circle clip-path=\"url(#clip002)\" cx=\"887.256\" cy=\"1065.39\" r=\"14.4\" fill=\"#009af9\" fill-rule=\"evenodd\" fill-opacity=\"1\" stroke=\"#000000\" stroke-opacity=\"1\" stroke-width=\"3.2\"/>\n",
       "<circle clip-path=\"url(#clip002)\" cx=\"897.877\" cy=\"926.507\" r=\"14.4\" fill=\"#009af9\" fill-rule=\"evenodd\" fill-opacity=\"1\" stroke=\"#000000\" stroke-opacity=\"1\" stroke-width=\"3.2\"/>\n",
       "<circle clip-path=\"url(#clip002)\" cx=\"908.499\" cy=\"975.018\" r=\"14.4\" fill=\"#009af9\" fill-rule=\"evenodd\" fill-opacity=\"1\" stroke=\"#000000\" stroke-opacity=\"1\" stroke-width=\"3.2\"/>\n",
       "<circle clip-path=\"url(#clip002)\" cx=\"919.121\" cy=\"994.317\" r=\"14.4\" fill=\"#009af9\" fill-rule=\"evenodd\" fill-opacity=\"1\" stroke=\"#000000\" stroke-opacity=\"1\" stroke-width=\"3.2\"/>\n",
       "<circle clip-path=\"url(#clip002)\" cx=\"929.743\" cy=\"1001.79\" r=\"14.4\" fill=\"#009af9\" fill-rule=\"evenodd\" fill-opacity=\"1\" stroke=\"#000000\" stroke-opacity=\"1\" stroke-width=\"3.2\"/>\n",
       "<circle clip-path=\"url(#clip002)\" cx=\"940.365\" cy=\"1060.43\" r=\"14.4\" fill=\"#009af9\" fill-rule=\"evenodd\" fill-opacity=\"1\" stroke=\"#000000\" stroke-opacity=\"1\" stroke-width=\"3.2\"/>\n",
       "<circle clip-path=\"url(#clip002)\" cx=\"950.987\" cy=\"1009.46\" r=\"14.4\" fill=\"#009af9\" fill-rule=\"evenodd\" fill-opacity=\"1\" stroke=\"#000000\" stroke-opacity=\"1\" stroke-width=\"3.2\"/>\n",
       "<circle clip-path=\"url(#clip002)\" cx=\"961.609\" cy=\"1044.8\" r=\"14.4\" fill=\"#009af9\" fill-rule=\"evenodd\" fill-opacity=\"1\" stroke=\"#000000\" stroke-opacity=\"1\" stroke-width=\"3.2\"/>\n",
       "<circle clip-path=\"url(#clip002)\" cx=\"972.231\" cy=\"954.134\" r=\"14.4\" fill=\"#009af9\" fill-rule=\"evenodd\" fill-opacity=\"1\" stroke=\"#000000\" stroke-opacity=\"1\" stroke-width=\"3.2\"/>\n",
       "<circle clip-path=\"url(#clip002)\" cx=\"982.852\" cy=\"971.778\" r=\"14.4\" fill=\"#009af9\" fill-rule=\"evenodd\" fill-opacity=\"1\" stroke=\"#000000\" stroke-opacity=\"1\" stroke-width=\"3.2\"/>\n",
       "<circle clip-path=\"url(#clip002)\" cx=\"993.474\" cy=\"943.938\" r=\"14.4\" fill=\"#009af9\" fill-rule=\"evenodd\" fill-opacity=\"1\" stroke=\"#000000\" stroke-opacity=\"1\" stroke-width=\"3.2\"/>\n",
       "<circle clip-path=\"url(#clip002)\" cx=\"1004.1\" cy=\"979.196\" r=\"14.4\" fill=\"#009af9\" fill-rule=\"evenodd\" fill-opacity=\"1\" stroke=\"#000000\" stroke-opacity=\"1\" stroke-width=\"3.2\"/>\n",
       "<circle clip-path=\"url(#clip002)\" cx=\"1014.72\" cy=\"1002.07\" r=\"14.4\" fill=\"#009af9\" fill-rule=\"evenodd\" fill-opacity=\"1\" stroke=\"#000000\" stroke-opacity=\"1\" stroke-width=\"3.2\"/>\n",
       "<circle clip-path=\"url(#clip002)\" cx=\"1025.34\" cy=\"995.505\" r=\"14.4\" fill=\"#009af9\" fill-rule=\"evenodd\" fill-opacity=\"1\" stroke=\"#000000\" stroke-opacity=\"1\" stroke-width=\"3.2\"/>\n",
       "<circle clip-path=\"url(#clip002)\" cx=\"1035.96\" cy=\"926.648\" r=\"14.4\" fill=\"#009af9\" fill-rule=\"evenodd\" fill-opacity=\"1\" stroke=\"#000000\" stroke-opacity=\"1\" stroke-width=\"3.2\"/>\n",
       "<circle clip-path=\"url(#clip002)\" cx=\"1046.58\" cy=\"993.543\" r=\"14.4\" fill=\"#009af9\" fill-rule=\"evenodd\" fill-opacity=\"1\" stroke=\"#000000\" stroke-opacity=\"1\" stroke-width=\"3.2\"/>\n",
       "<circle clip-path=\"url(#clip002)\" cx=\"1057.21\" cy=\"972.319\" r=\"14.4\" fill=\"#009af9\" fill-rule=\"evenodd\" fill-opacity=\"1\" stroke=\"#000000\" stroke-opacity=\"1\" stroke-width=\"3.2\"/>\n",
       "<circle clip-path=\"url(#clip002)\" cx=\"1067.83\" cy=\"872.709\" r=\"14.4\" fill=\"#009af9\" fill-rule=\"evenodd\" fill-opacity=\"1\" stroke=\"#000000\" stroke-opacity=\"1\" stroke-width=\"3.2\"/>\n",
       "<circle clip-path=\"url(#clip002)\" cx=\"1078.45\" cy=\"907.786\" r=\"14.4\" fill=\"#009af9\" fill-rule=\"evenodd\" fill-opacity=\"1\" stroke=\"#000000\" stroke-opacity=\"1\" stroke-width=\"3.2\"/>\n",
       "<circle clip-path=\"url(#clip002)\" cx=\"1089.07\" cy=\"956.398\" r=\"14.4\" fill=\"#009af9\" fill-rule=\"evenodd\" fill-opacity=\"1\" stroke=\"#000000\" stroke-opacity=\"1\" stroke-width=\"3.2\"/>\n",
       "<circle clip-path=\"url(#clip002)\" cx=\"1099.69\" cy=\"892.593\" r=\"14.4\" fill=\"#009af9\" fill-rule=\"evenodd\" fill-opacity=\"1\" stroke=\"#000000\" stroke-opacity=\"1\" stroke-width=\"3.2\"/>\n",
       "<circle clip-path=\"url(#clip002)\" cx=\"1110.31\" cy=\"916.408\" r=\"14.4\" fill=\"#009af9\" fill-rule=\"evenodd\" fill-opacity=\"1\" stroke=\"#000000\" stroke-opacity=\"1\" stroke-width=\"3.2\"/>\n",
       "<circle clip-path=\"url(#clip002)\" cx=\"1120.94\" cy=\"898.464\" r=\"14.4\" fill=\"#009af9\" fill-rule=\"evenodd\" fill-opacity=\"1\" stroke=\"#000000\" stroke-opacity=\"1\" stroke-width=\"3.2\"/>\n",
       "<circle clip-path=\"url(#clip002)\" cx=\"1131.56\" cy=\"935.99\" r=\"14.4\" fill=\"#009af9\" fill-rule=\"evenodd\" fill-opacity=\"1\" stroke=\"#000000\" stroke-opacity=\"1\" stroke-width=\"3.2\"/>\n",
       "<circle clip-path=\"url(#clip002)\" cx=\"1142.18\" cy=\"834.672\" r=\"14.4\" fill=\"#009af9\" fill-rule=\"evenodd\" fill-opacity=\"1\" stroke=\"#000000\" stroke-opacity=\"1\" stroke-width=\"3.2\"/>\n",
       "<circle clip-path=\"url(#clip002)\" cx=\"1152.8\" cy=\"831.785\" r=\"14.4\" fill=\"#009af9\" fill-rule=\"evenodd\" fill-opacity=\"1\" stroke=\"#000000\" stroke-opacity=\"1\" stroke-width=\"3.2\"/>\n",
       "<circle clip-path=\"url(#clip002)\" cx=\"1163.42\" cy=\"815.195\" r=\"14.4\" fill=\"#009af9\" fill-rule=\"evenodd\" fill-opacity=\"1\" stroke=\"#000000\" stroke-opacity=\"1\" stroke-width=\"3.2\"/>\n",
       "<circle clip-path=\"url(#clip002)\" cx=\"1174.05\" cy=\"832.463\" r=\"14.4\" fill=\"#009af9\" fill-rule=\"evenodd\" fill-opacity=\"1\" stroke=\"#000000\" stroke-opacity=\"1\" stroke-width=\"3.2\"/>\n",
       "<circle clip-path=\"url(#clip002)\" cx=\"1184.67\" cy=\"826.307\" r=\"14.4\" fill=\"#009af9\" fill-rule=\"evenodd\" fill-opacity=\"1\" stroke=\"#000000\" stroke-opacity=\"1\" stroke-width=\"3.2\"/>\n",
       "<circle clip-path=\"url(#clip002)\" cx=\"1195.29\" cy=\"788.18\" r=\"14.4\" fill=\"#009af9\" fill-rule=\"evenodd\" fill-opacity=\"1\" stroke=\"#000000\" stroke-opacity=\"1\" stroke-width=\"3.2\"/>\n",
       "<circle clip-path=\"url(#clip002)\" cx=\"1205.91\" cy=\"839.095\" r=\"14.4\" fill=\"#009af9\" fill-rule=\"evenodd\" fill-opacity=\"1\" stroke=\"#000000\" stroke-opacity=\"1\" stroke-width=\"3.2\"/>\n",
       "<circle clip-path=\"url(#clip002)\" cx=\"1216.53\" cy=\"801.123\" r=\"14.4\" fill=\"#009af9\" fill-rule=\"evenodd\" fill-opacity=\"1\" stroke=\"#000000\" stroke-opacity=\"1\" stroke-width=\"3.2\"/>\n",
       "<circle clip-path=\"url(#clip002)\" cx=\"1227.16\" cy=\"862.718\" r=\"14.4\" fill=\"#009af9\" fill-rule=\"evenodd\" fill-opacity=\"1\" stroke=\"#000000\" stroke-opacity=\"1\" stroke-width=\"3.2\"/>\n",
       "<circle clip-path=\"url(#clip002)\" cx=\"1237.78\" cy=\"839.377\" r=\"14.4\" fill=\"#009af9\" fill-rule=\"evenodd\" fill-opacity=\"1\" stroke=\"#000000\" stroke-opacity=\"1\" stroke-width=\"3.2\"/>\n",
       "<circle clip-path=\"url(#clip002)\" cx=\"1248.4\" cy=\"785.793\" r=\"14.4\" fill=\"#009af9\" fill-rule=\"evenodd\" fill-opacity=\"1\" stroke=\"#000000\" stroke-opacity=\"1\" stroke-width=\"3.2\"/>\n",
       "<circle clip-path=\"url(#clip002)\" cx=\"1259.02\" cy=\"782.293\" r=\"14.4\" fill=\"#009af9\" fill-rule=\"evenodd\" fill-opacity=\"1\" stroke=\"#000000\" stroke-opacity=\"1\" stroke-width=\"3.2\"/>\n",
       "<circle clip-path=\"url(#clip002)\" cx=\"1269.64\" cy=\"791.875\" r=\"14.4\" fill=\"#009af9\" fill-rule=\"evenodd\" fill-opacity=\"1\" stroke=\"#000000\" stroke-opacity=\"1\" stroke-width=\"3.2\"/>\n",
       "<circle clip-path=\"url(#clip002)\" cx=\"1280.26\" cy=\"854.029\" r=\"14.4\" fill=\"#009af9\" fill-rule=\"evenodd\" fill-opacity=\"1\" stroke=\"#000000\" stroke-opacity=\"1\" stroke-width=\"3.2\"/>\n",
       "<circle clip-path=\"url(#clip002)\" cx=\"1290.89\" cy=\"816.48\" r=\"14.4\" fill=\"#009af9\" fill-rule=\"evenodd\" fill-opacity=\"1\" stroke=\"#000000\" stroke-opacity=\"1\" stroke-width=\"3.2\"/>\n",
       "<circle clip-path=\"url(#clip002)\" cx=\"1301.51\" cy=\"812.15\" r=\"14.4\" fill=\"#009af9\" fill-rule=\"evenodd\" fill-opacity=\"1\" stroke=\"#000000\" stroke-opacity=\"1\" stroke-width=\"3.2\"/>\n",
       "<circle clip-path=\"url(#clip002)\" cx=\"1312.13\" cy=\"856.948\" r=\"14.4\" fill=\"#009af9\" fill-rule=\"evenodd\" fill-opacity=\"1\" stroke=\"#000000\" stroke-opacity=\"1\" stroke-width=\"3.2\"/>\n",
       "<circle clip-path=\"url(#clip002)\" cx=\"1322.75\" cy=\"769.514\" r=\"14.4\" fill=\"#009af9\" fill-rule=\"evenodd\" fill-opacity=\"1\" stroke=\"#000000\" stroke-opacity=\"1\" stroke-width=\"3.2\"/>\n",
       "<circle clip-path=\"url(#clip002)\" cx=\"1333.37\" cy=\"758.497\" r=\"14.4\" fill=\"#009af9\" fill-rule=\"evenodd\" fill-opacity=\"1\" stroke=\"#000000\" stroke-opacity=\"1\" stroke-width=\"3.2\"/>\n",
       "<circle clip-path=\"url(#clip002)\" cx=\"1344\" cy=\"650.99\" r=\"14.4\" fill=\"#009af9\" fill-rule=\"evenodd\" fill-opacity=\"1\" stroke=\"#000000\" stroke-opacity=\"1\" stroke-width=\"3.2\"/>\n",
       "<circle clip-path=\"url(#clip002)\" cx=\"1354.62\" cy=\"740.699\" r=\"14.4\" fill=\"#009af9\" fill-rule=\"evenodd\" fill-opacity=\"1\" stroke=\"#000000\" stroke-opacity=\"1\" stroke-width=\"3.2\"/>\n",
       "<circle clip-path=\"url(#clip002)\" cx=\"1365.24\" cy=\"682.462\" r=\"14.4\" fill=\"#009af9\" fill-rule=\"evenodd\" fill-opacity=\"1\" stroke=\"#000000\" stroke-opacity=\"1\" stroke-width=\"3.2\"/>\n",
       "<circle clip-path=\"url(#clip002)\" cx=\"1375.86\" cy=\"722.862\" r=\"14.4\" fill=\"#009af9\" fill-rule=\"evenodd\" fill-opacity=\"1\" stroke=\"#000000\" stroke-opacity=\"1\" stroke-width=\"3.2\"/>\n",
       "<circle clip-path=\"url(#clip002)\" cx=\"1386.48\" cy=\"683.687\" r=\"14.4\" fill=\"#009af9\" fill-rule=\"evenodd\" fill-opacity=\"1\" stroke=\"#000000\" stroke-opacity=\"1\" stroke-width=\"3.2\"/>\n",
       "<circle clip-path=\"url(#clip002)\" cx=\"1397.11\" cy=\"786.471\" r=\"14.4\" fill=\"#009af9\" fill-rule=\"evenodd\" fill-opacity=\"1\" stroke=\"#000000\" stroke-opacity=\"1\" stroke-width=\"3.2\"/>\n",
       "<circle clip-path=\"url(#clip002)\" cx=\"1407.73\" cy=\"715.528\" r=\"14.4\" fill=\"#009af9\" fill-rule=\"evenodd\" fill-opacity=\"1\" stroke=\"#000000\" stroke-opacity=\"1\" stroke-width=\"3.2\"/>\n",
       "<circle clip-path=\"url(#clip002)\" cx=\"1418.35\" cy=\"693.576\" r=\"14.4\" fill=\"#009af9\" fill-rule=\"evenodd\" fill-opacity=\"1\" stroke=\"#000000\" stroke-opacity=\"1\" stroke-width=\"3.2\"/>\n",
       "<circle clip-path=\"url(#clip002)\" cx=\"1428.97\" cy=\"702.447\" r=\"14.4\" fill=\"#009af9\" fill-rule=\"evenodd\" fill-opacity=\"1\" stroke=\"#000000\" stroke-opacity=\"1\" stroke-width=\"3.2\"/>\n",
       "<circle clip-path=\"url(#clip002)\" cx=\"1439.59\" cy=\"679.056\" r=\"14.4\" fill=\"#009af9\" fill-rule=\"evenodd\" fill-opacity=\"1\" stroke=\"#000000\" stroke-opacity=\"1\" stroke-width=\"3.2\"/>\n",
       "<circle clip-path=\"url(#clip002)\" cx=\"1450.22\" cy=\"769.835\" r=\"14.4\" fill=\"#009af9\" fill-rule=\"evenodd\" fill-opacity=\"1\" stroke=\"#000000\" stroke-opacity=\"1\" stroke-width=\"3.2\"/>\n",
       "<circle clip-path=\"url(#clip002)\" cx=\"1460.84\" cy=\"658.765\" r=\"14.4\" fill=\"#009af9\" fill-rule=\"evenodd\" fill-opacity=\"1\" stroke=\"#000000\" stroke-opacity=\"1\" stroke-width=\"3.2\"/>\n",
       "<circle clip-path=\"url(#clip002)\" cx=\"1471.46\" cy=\"719.855\" r=\"14.4\" fill=\"#009af9\" fill-rule=\"evenodd\" fill-opacity=\"1\" stroke=\"#000000\" stroke-opacity=\"1\" stroke-width=\"3.2\"/>\n",
       "<circle clip-path=\"url(#clip002)\" cx=\"1482.08\" cy=\"712.951\" r=\"14.4\" fill=\"#009af9\" fill-rule=\"evenodd\" fill-opacity=\"1\" stroke=\"#000000\" stroke-opacity=\"1\" stroke-width=\"3.2\"/>\n",
       "<circle clip-path=\"url(#clip002)\" cx=\"1492.7\" cy=\"725.355\" r=\"14.4\" fill=\"#009af9\" fill-rule=\"evenodd\" fill-opacity=\"1\" stroke=\"#000000\" stroke-opacity=\"1\" stroke-width=\"3.2\"/>\n",
       "<circle clip-path=\"url(#clip002)\" cx=\"1503.32\" cy=\"654.746\" r=\"14.4\" fill=\"#009af9\" fill-rule=\"evenodd\" fill-opacity=\"1\" stroke=\"#000000\" stroke-opacity=\"1\" stroke-width=\"3.2\"/>\n",
       "<circle clip-path=\"url(#clip002)\" cx=\"1513.95\" cy=\"703.263\" r=\"14.4\" fill=\"#009af9\" fill-rule=\"evenodd\" fill-opacity=\"1\" stroke=\"#000000\" stroke-opacity=\"1\" stroke-width=\"3.2\"/>\n",
       "<circle clip-path=\"url(#clip002)\" cx=\"1524.57\" cy=\"625.22\" r=\"14.4\" fill=\"#009af9\" fill-rule=\"evenodd\" fill-opacity=\"1\" stroke=\"#000000\" stroke-opacity=\"1\" stroke-width=\"3.2\"/>\n",
       "<circle clip-path=\"url(#clip002)\" cx=\"1535.19\" cy=\"649.684\" r=\"14.4\" fill=\"#009af9\" fill-rule=\"evenodd\" fill-opacity=\"1\" stroke=\"#000000\" stroke-opacity=\"1\" stroke-width=\"3.2\"/>\n",
       "<circle clip-path=\"url(#clip002)\" cx=\"1545.81\" cy=\"685.381\" r=\"14.4\" fill=\"#009af9\" fill-rule=\"evenodd\" fill-opacity=\"1\" stroke=\"#000000\" stroke-opacity=\"1\" stroke-width=\"3.2\"/>\n",
       "<circle clip-path=\"url(#clip002)\" cx=\"1556.43\" cy=\"630.096\" r=\"14.4\" fill=\"#009af9\" fill-rule=\"evenodd\" fill-opacity=\"1\" stroke=\"#000000\" stroke-opacity=\"1\" stroke-width=\"3.2\"/>\n",
       "<circle clip-path=\"url(#clip002)\" cx=\"1567.06\" cy=\"573.932\" r=\"14.4\" fill=\"#009af9\" fill-rule=\"evenodd\" fill-opacity=\"1\" stroke=\"#000000\" stroke-opacity=\"1\" stroke-width=\"3.2\"/>\n",
       "<circle clip-path=\"url(#clip002)\" cx=\"1577.68\" cy=\"657.812\" r=\"14.4\" fill=\"#009af9\" fill-rule=\"evenodd\" fill-opacity=\"1\" stroke=\"#000000\" stroke-opacity=\"1\" stroke-width=\"3.2\"/>\n",
       "<circle clip-path=\"url(#clip002)\" cx=\"1588.3\" cy=\"603.608\" r=\"14.4\" fill=\"#009af9\" fill-rule=\"evenodd\" fill-opacity=\"1\" stroke=\"#000000\" stroke-opacity=\"1\" stroke-width=\"3.2\"/>\n",
       "<circle clip-path=\"url(#clip002)\" cx=\"1598.92\" cy=\"584.193\" r=\"14.4\" fill=\"#009af9\" fill-rule=\"evenodd\" fill-opacity=\"1\" stroke=\"#000000\" stroke-opacity=\"1\" stroke-width=\"3.2\"/>\n",
       "<circle clip-path=\"url(#clip002)\" cx=\"1609.54\" cy=\"540.796\" r=\"14.4\" fill=\"#009af9\" fill-rule=\"evenodd\" fill-opacity=\"1\" stroke=\"#000000\" stroke-opacity=\"1\" stroke-width=\"3.2\"/>\n",
       "<circle clip-path=\"url(#clip002)\" cx=\"1620.17\" cy=\"635.094\" r=\"14.4\" fill=\"#009af9\" fill-rule=\"evenodd\" fill-opacity=\"1\" stroke=\"#000000\" stroke-opacity=\"1\" stroke-width=\"3.2\"/>\n",
       "<circle clip-path=\"url(#clip002)\" cx=\"1630.79\" cy=\"560.222\" r=\"14.4\" fill=\"#009af9\" fill-rule=\"evenodd\" fill-opacity=\"1\" stroke=\"#000000\" stroke-opacity=\"1\" stroke-width=\"3.2\"/>\n",
       "<circle clip-path=\"url(#clip002)\" cx=\"1641.41\" cy=\"557.16\" r=\"14.4\" fill=\"#009af9\" fill-rule=\"evenodd\" fill-opacity=\"1\" stroke=\"#000000\" stroke-opacity=\"1\" stroke-width=\"3.2\"/>\n",
       "<circle clip-path=\"url(#clip002)\" cx=\"1652.03\" cy=\"615.41\" r=\"14.4\" fill=\"#009af9\" fill-rule=\"evenodd\" fill-opacity=\"1\" stroke=\"#000000\" stroke-opacity=\"1\" stroke-width=\"3.2\"/>\n",
       "<circle clip-path=\"url(#clip002)\" cx=\"1662.65\" cy=\"561.521\" r=\"14.4\" fill=\"#009af9\" fill-rule=\"evenodd\" fill-opacity=\"1\" stroke=\"#000000\" stroke-opacity=\"1\" stroke-width=\"3.2\"/>\n",
       "<circle clip-path=\"url(#clip002)\" cx=\"1673.27\" cy=\"603.887\" r=\"14.4\" fill=\"#009af9\" fill-rule=\"evenodd\" fill-opacity=\"1\" stroke=\"#000000\" stroke-opacity=\"1\" stroke-width=\"3.2\"/>\n",
       "<circle clip-path=\"url(#clip002)\" cx=\"1683.9\" cy=\"552.738\" r=\"14.4\" fill=\"#009af9\" fill-rule=\"evenodd\" fill-opacity=\"1\" stroke=\"#000000\" stroke-opacity=\"1\" stroke-width=\"3.2\"/>\n",
       "<circle clip-path=\"url(#clip002)\" cx=\"1694.52\" cy=\"534.639\" r=\"14.4\" fill=\"#009af9\" fill-rule=\"evenodd\" fill-opacity=\"1\" stroke=\"#000000\" stroke-opacity=\"1\" stroke-width=\"3.2\"/>\n",
       "<circle clip-path=\"url(#clip002)\" cx=\"1705.14\" cy=\"550.176\" r=\"14.4\" fill=\"#009af9\" fill-rule=\"evenodd\" fill-opacity=\"1\" stroke=\"#000000\" stroke-opacity=\"1\" stroke-width=\"3.2\"/>\n",
       "<circle clip-path=\"url(#clip002)\" cx=\"1715.76\" cy=\"542.438\" r=\"14.4\" fill=\"#009af9\" fill-rule=\"evenodd\" fill-opacity=\"1\" stroke=\"#000000\" stroke-opacity=\"1\" stroke-width=\"3.2\"/>\n",
       "<circle clip-path=\"url(#clip002)\" cx=\"1726.38\" cy=\"505.359\" r=\"14.4\" fill=\"#009af9\" fill-rule=\"evenodd\" fill-opacity=\"1\" stroke=\"#000000\" stroke-opacity=\"1\" stroke-width=\"3.2\"/>\n",
       "<circle clip-path=\"url(#clip002)\" cx=\"1737.01\" cy=\"553.721\" r=\"14.4\" fill=\"#009af9\" fill-rule=\"evenodd\" fill-opacity=\"1\" stroke=\"#000000\" stroke-opacity=\"1\" stroke-width=\"3.2\"/>\n",
       "<circle clip-path=\"url(#clip002)\" cx=\"1747.63\" cy=\"484.912\" r=\"14.4\" fill=\"#009af9\" fill-rule=\"evenodd\" fill-opacity=\"1\" stroke=\"#000000\" stroke-opacity=\"1\" stroke-width=\"3.2\"/>\n",
       "<circle clip-path=\"url(#clip002)\" cx=\"1758.25\" cy=\"524.611\" r=\"14.4\" fill=\"#009af9\" fill-rule=\"evenodd\" fill-opacity=\"1\" stroke=\"#000000\" stroke-opacity=\"1\" stroke-width=\"3.2\"/>\n",
       "<circle clip-path=\"url(#clip002)\" cx=\"1768.87\" cy=\"457.546\" r=\"14.4\" fill=\"#009af9\" fill-rule=\"evenodd\" fill-opacity=\"1\" stroke=\"#000000\" stroke-opacity=\"1\" stroke-width=\"3.2\"/>\n",
       "<circle clip-path=\"url(#clip002)\" cx=\"1779.49\" cy=\"428.622\" r=\"14.4\" fill=\"#009af9\" fill-rule=\"evenodd\" fill-opacity=\"1\" stroke=\"#000000\" stroke-opacity=\"1\" stroke-width=\"3.2\"/>\n",
       "<circle clip-path=\"url(#clip002)\" cx=\"1790.12\" cy=\"420.042\" r=\"14.4\" fill=\"#009af9\" fill-rule=\"evenodd\" fill-opacity=\"1\" stroke=\"#000000\" stroke-opacity=\"1\" stroke-width=\"3.2\"/>\n",
       "<circle clip-path=\"url(#clip002)\" cx=\"1800.74\" cy=\"409.146\" r=\"14.4\" fill=\"#009af9\" fill-rule=\"evenodd\" fill-opacity=\"1\" stroke=\"#000000\" stroke-opacity=\"1\" stroke-width=\"3.2\"/>\n",
       "<circle clip-path=\"url(#clip002)\" cx=\"1811.36\" cy=\"528.959\" r=\"14.4\" fill=\"#009af9\" fill-rule=\"evenodd\" fill-opacity=\"1\" stroke=\"#000000\" stroke-opacity=\"1\" stroke-width=\"3.2\"/>\n",
       "<circle clip-path=\"url(#clip002)\" cx=\"1821.98\" cy=\"441.064\" r=\"14.4\" fill=\"#009af9\" fill-rule=\"evenodd\" fill-opacity=\"1\" stroke=\"#000000\" stroke-opacity=\"1\" stroke-width=\"3.2\"/>\n",
       "<circle clip-path=\"url(#clip002)\" cx=\"1832.6\" cy=\"466.736\" r=\"14.4\" fill=\"#009af9\" fill-rule=\"evenodd\" fill-opacity=\"1\" stroke=\"#000000\" stroke-opacity=\"1\" stroke-width=\"3.2\"/>\n",
       "<circle clip-path=\"url(#clip002)\" cx=\"1843.22\" cy=\"461.68\" r=\"14.4\" fill=\"#009af9\" fill-rule=\"evenodd\" fill-opacity=\"1\" stroke=\"#000000\" stroke-opacity=\"1\" stroke-width=\"3.2\"/>\n",
       "<circle clip-path=\"url(#clip002)\" cx=\"1853.85\" cy=\"383.106\" r=\"14.4\" fill=\"#009af9\" fill-rule=\"evenodd\" fill-opacity=\"1\" stroke=\"#000000\" stroke-opacity=\"1\" stroke-width=\"3.2\"/>\n",
       "<circle clip-path=\"url(#clip002)\" cx=\"1864.47\" cy=\"464.17\" r=\"14.4\" fill=\"#009af9\" fill-rule=\"evenodd\" fill-opacity=\"1\" stroke=\"#000000\" stroke-opacity=\"1\" stroke-width=\"3.2\"/>\n",
       "<circle clip-path=\"url(#clip002)\" cx=\"1875.09\" cy=\"471.392\" r=\"14.4\" fill=\"#009af9\" fill-rule=\"evenodd\" fill-opacity=\"1\" stroke=\"#000000\" stroke-opacity=\"1\" stroke-width=\"3.2\"/>\n",
       "<circle clip-path=\"url(#clip002)\" cx=\"1885.71\" cy=\"445.719\" r=\"14.4\" fill=\"#009af9\" fill-rule=\"evenodd\" fill-opacity=\"1\" stroke=\"#000000\" stroke-opacity=\"1\" stroke-width=\"3.2\"/>\n",
       "<circle clip-path=\"url(#clip002)\" cx=\"1896.33\" cy=\"408.743\" r=\"14.4\" fill=\"#009af9\" fill-rule=\"evenodd\" fill-opacity=\"1\" stroke=\"#000000\" stroke-opacity=\"1\" stroke-width=\"3.2\"/>\n",
       "<circle clip-path=\"url(#clip002)\" cx=\"1906.96\" cy=\"412.505\" r=\"14.4\" fill=\"#009af9\" fill-rule=\"evenodd\" fill-opacity=\"1\" stroke=\"#000000\" stroke-opacity=\"1\" stroke-width=\"3.2\"/>\n",
       "<circle clip-path=\"url(#clip002)\" cx=\"1917.58\" cy=\"354.95\" r=\"14.4\" fill=\"#009af9\" fill-rule=\"evenodd\" fill-opacity=\"1\" stroke=\"#000000\" stroke-opacity=\"1\" stroke-width=\"3.2\"/>\n",
       "<circle clip-path=\"url(#clip002)\" cx=\"1928.2\" cy=\"373.597\" r=\"14.4\" fill=\"#009af9\" fill-rule=\"evenodd\" fill-opacity=\"1\" stroke=\"#000000\" stroke-opacity=\"1\" stroke-width=\"3.2\"/>\n",
       "<circle clip-path=\"url(#clip002)\" cx=\"1938.82\" cy=\"421.601\" r=\"14.4\" fill=\"#009af9\" fill-rule=\"evenodd\" fill-opacity=\"1\" stroke=\"#000000\" stroke-opacity=\"1\" stroke-width=\"3.2\"/>\n",
       "<circle clip-path=\"url(#clip002)\" cx=\"1949.44\" cy=\"302.901\" r=\"14.4\" fill=\"#009af9\" fill-rule=\"evenodd\" fill-opacity=\"1\" stroke=\"#000000\" stroke-opacity=\"1\" stroke-width=\"3.2\"/>\n",
       "<circle clip-path=\"url(#clip002)\" cx=\"1960.07\" cy=\"307.665\" r=\"14.4\" fill=\"#009af9\" fill-rule=\"evenodd\" fill-opacity=\"1\" stroke=\"#000000\" stroke-opacity=\"1\" stroke-width=\"3.2\"/>\n",
       "<circle clip-path=\"url(#clip002)\" cx=\"1970.69\" cy=\"254.104\" r=\"14.4\" fill=\"#009af9\" fill-rule=\"evenodd\" fill-opacity=\"1\" stroke=\"#000000\" stroke-opacity=\"1\" stroke-width=\"3.2\"/>\n",
       "<circle clip-path=\"url(#clip002)\" cx=\"1981.31\" cy=\"444.469\" r=\"14.4\" fill=\"#009af9\" fill-rule=\"evenodd\" fill-opacity=\"1\" stroke=\"#000000\" stroke-opacity=\"1\" stroke-width=\"3.2\"/>\n",
       "<circle clip-path=\"url(#clip002)\" cx=\"1991.93\" cy=\"350.804\" r=\"14.4\" fill=\"#009af9\" fill-rule=\"evenodd\" fill-opacity=\"1\" stroke=\"#000000\" stroke-opacity=\"1\" stroke-width=\"3.2\"/>\n",
       "<circle clip-path=\"url(#clip002)\" cx=\"2002.55\" cy=\"322.32\" r=\"14.4\" fill=\"#009af9\" fill-rule=\"evenodd\" fill-opacity=\"1\" stroke=\"#000000\" stroke-opacity=\"1\" stroke-width=\"3.2\"/>\n",
       "<circle clip-path=\"url(#clip002)\" cx=\"2013.17\" cy=\"338.088\" r=\"14.4\" fill=\"#009af9\" fill-rule=\"evenodd\" fill-opacity=\"1\" stroke=\"#000000\" stroke-opacity=\"1\" stroke-width=\"3.2\"/>\n",
       "<circle clip-path=\"url(#clip002)\" cx=\"2023.8\" cy=\"332.174\" r=\"14.4\" fill=\"#009af9\" fill-rule=\"evenodd\" fill-opacity=\"1\" stroke=\"#000000\" stroke-opacity=\"1\" stroke-width=\"3.2\"/>\n",
       "<circle clip-path=\"url(#clip002)\" cx=\"2034.42\" cy=\"344.273\" r=\"14.4\" fill=\"#009af9\" fill-rule=\"evenodd\" fill-opacity=\"1\" stroke=\"#000000\" stroke-opacity=\"1\" stroke-width=\"3.2\"/>\n",
       "<circle clip-path=\"url(#clip002)\" cx=\"2045.04\" cy=\"257.032\" r=\"14.4\" fill=\"#009af9\" fill-rule=\"evenodd\" fill-opacity=\"1\" stroke=\"#000000\" stroke-opacity=\"1\" stroke-width=\"3.2\"/>\n",
       "<circle clip-path=\"url(#clip002)\" cx=\"2055.66\" cy=\"266.016\" r=\"14.4\" fill=\"#009af9\" fill-rule=\"evenodd\" fill-opacity=\"1\" stroke=\"#000000\" stroke-opacity=\"1\" stroke-width=\"3.2\"/>\n",
       "<circle clip-path=\"url(#clip002)\" cx=\"2066.28\" cy=\"273.09\" r=\"14.4\" fill=\"#009af9\" fill-rule=\"evenodd\" fill-opacity=\"1\" stroke=\"#000000\" stroke-opacity=\"1\" stroke-width=\"3.2\"/>\n",
       "<circle clip-path=\"url(#clip002)\" cx=\"2076.91\" cy=\"297.627\" r=\"14.4\" fill=\"#009af9\" fill-rule=\"evenodd\" fill-opacity=\"1\" stroke=\"#000000\" stroke-opacity=\"1\" stroke-width=\"3.2\"/>\n",
       "<circle clip-path=\"url(#clip002)\" cx=\"2087.53\" cy=\"247.053\" r=\"14.4\" fill=\"#009af9\" fill-rule=\"evenodd\" fill-opacity=\"1\" stroke=\"#000000\" stroke-opacity=\"1\" stroke-width=\"3.2\"/>\n",
       "<circle clip-path=\"url(#clip002)\" cx=\"2098.15\" cy=\"318.691\" r=\"14.4\" fill=\"#009af9\" fill-rule=\"evenodd\" fill-opacity=\"1\" stroke=\"#000000\" stroke-opacity=\"1\" stroke-width=\"3.2\"/>\n",
       "<circle clip-path=\"url(#clip002)\" cx=\"2108.77\" cy=\"256.975\" r=\"14.4\" fill=\"#009af9\" fill-rule=\"evenodd\" fill-opacity=\"1\" stroke=\"#000000\" stroke-opacity=\"1\" stroke-width=\"3.2\"/>\n",
       "<circle clip-path=\"url(#clip002)\" cx=\"2119.39\" cy=\"265.163\" r=\"14.4\" fill=\"#009af9\" fill-rule=\"evenodd\" fill-opacity=\"1\" stroke=\"#000000\" stroke-opacity=\"1\" stroke-width=\"3.2\"/>\n",
       "<circle clip-path=\"url(#clip002)\" cx=\"2130.02\" cy=\"181.948\" r=\"14.4\" fill=\"#009af9\" fill-rule=\"evenodd\" fill-opacity=\"1\" stroke=\"#000000\" stroke-opacity=\"1\" stroke-width=\"3.2\"/>\n",
       "<circle clip-path=\"url(#clip002)\" cx=\"2140.64\" cy=\"248.837\" r=\"14.4\" fill=\"#009af9\" fill-rule=\"evenodd\" fill-opacity=\"1\" stroke=\"#000000\" stroke-opacity=\"1\" stroke-width=\"3.2\"/>\n",
       "<circle clip-path=\"url(#clip002)\" cx=\"2151.26\" cy=\"185.666\" r=\"14.4\" fill=\"#009af9\" fill-rule=\"evenodd\" fill-opacity=\"1\" stroke=\"#000000\" stroke-opacity=\"1\" stroke-width=\"3.2\"/>\n",
       "<circle clip-path=\"url(#clip002)\" cx=\"2161.88\" cy=\"224.494\" r=\"14.4\" fill=\"#009af9\" fill-rule=\"evenodd\" fill-opacity=\"1\" stroke=\"#000000\" stroke-opacity=\"1\" stroke-width=\"3.2\"/>\n",
       "<circle clip-path=\"url(#clip002)\" cx=\"2172.5\" cy=\"138.701\" r=\"14.4\" fill=\"#009af9\" fill-rule=\"evenodd\" fill-opacity=\"1\" stroke=\"#000000\" stroke-opacity=\"1\" stroke-width=\"3.2\"/>\n",
       "<circle clip-path=\"url(#clip002)\" cx=\"2183.12\" cy=\"188.504\" r=\"14.4\" fill=\"#009af9\" fill-rule=\"evenodd\" fill-opacity=\"1\" stroke=\"#000000\" stroke-opacity=\"1\" stroke-width=\"3.2\"/>\n",
       "<circle clip-path=\"url(#clip002)\" cx=\"2193.75\" cy=\"190.516\" r=\"14.4\" fill=\"#009af9\" fill-rule=\"evenodd\" fill-opacity=\"1\" stroke=\"#000000\" stroke-opacity=\"1\" stroke-width=\"3.2\"/>\n",
       "<circle clip-path=\"url(#clip002)\" cx=\"2204.37\" cy=\"186.764\" r=\"14.4\" fill=\"#009af9\" fill-rule=\"evenodd\" fill-opacity=\"1\" stroke=\"#000000\" stroke-opacity=\"1\" stroke-width=\"3.2\"/>\n",
       "<circle clip-path=\"url(#clip002)\" cx=\"2214.99\" cy=\"87.9763\" r=\"14.4\" fill=\"#009af9\" fill-rule=\"evenodd\" fill-opacity=\"1\" stroke=\"#000000\" stroke-opacity=\"1\" stroke-width=\"3.2\"/>\n",
       "<circle clip-path=\"url(#clip002)\" cx=\"2225.61\" cy=\"147.188\" r=\"14.4\" fill=\"#009af9\" fill-rule=\"evenodd\" fill-opacity=\"1\" stroke=\"#000000\" stroke-opacity=\"1\" stroke-width=\"3.2\"/>\n",
       "<circle clip-path=\"url(#clip002)\" cx=\"2236.23\" cy=\"196.554\" r=\"14.4\" fill=\"#009af9\" fill-rule=\"evenodd\" fill-opacity=\"1\" stroke=\"#000000\" stroke-opacity=\"1\" stroke-width=\"3.2\"/>\n",
       "<circle clip-path=\"url(#clip002)\" cx=\"2246.86\" cy=\"116.745\" r=\"14.4\" fill=\"#009af9\" fill-rule=\"evenodd\" fill-opacity=\"1\" stroke=\"#000000\" stroke-opacity=\"1\" stroke-width=\"3.2\"/>\n",
       "<circle clip-path=\"url(#clip002)\" cx=\"2257.48\" cy=\"202.214\" r=\"14.4\" fill=\"#009af9\" fill-rule=\"evenodd\" fill-opacity=\"1\" stroke=\"#000000\" stroke-opacity=\"1\" stroke-width=\"3.2\"/>\n",
       "<circle clip-path=\"url(#clip002)\" cx=\"2268.1\" cy=\"145.432\" r=\"14.4\" fill=\"#009af9\" fill-rule=\"evenodd\" fill-opacity=\"1\" stroke=\"#000000\" stroke-opacity=\"1\" stroke-width=\"3.2\"/>\n",
       "<circle clip-path=\"url(#clip002)\" cx=\"2278.72\" cy=\"107.745\" r=\"14.4\" fill=\"#009af9\" fill-rule=\"evenodd\" fill-opacity=\"1\" stroke=\"#000000\" stroke-opacity=\"1\" stroke-width=\"3.2\"/>\n",
       "<circle clip-path=\"url(#clip002)\" cx=\"2289.34\" cy=\"214.988\" r=\"14.4\" fill=\"#009af9\" fill-rule=\"evenodd\" fill-opacity=\"1\" stroke=\"#000000\" stroke-opacity=\"1\" stroke-width=\"3.2\"/>\n",
       "<polyline clip-path=\"url(#clip002)\" style=\"stroke:#e26f46; stroke-linecap:round; stroke-linejoin:round; stroke-width:4; stroke-opacity:1; fill:none\" points=\"\n",
       "  175.59,1357.96 186.212,1353.53 196.834,1349.08 207.455,1344.61 218.077,1340.12 228.699,1335.62 239.321,1331.09 249.943,1326.55 260.565,1321.99 271.187,1317.41 \n",
       "  281.809,1312.82 292.43,1308.2 303.052,1303.57 313.674,1298.92 324.296,1294.25 334.918,1289.57 345.54,1284.86 356.162,1280.14 366.784,1275.4 377.405,1270.64 \n",
       "  388.027,1265.86 398.649,1261.07 409.271,1256.25 419.893,1251.42 430.515,1246.57 441.137,1241.7 451.759,1236.82 462.38,1231.91 473.002,1226.99 483.624,1222.05 \n",
       "  494.246,1217.09 504.868,1212.12 515.49,1207.12 526.112,1202.11 536.734,1197.08 547.355,1192.03 557.977,1186.96 568.599,1181.88 579.221,1176.77 589.843,1171.65 \n",
       "  600.465,1166.51 611.087,1161.35 621.709,1156.18 632.33,1150.98 642.952,1145.77 653.574,1140.54 664.196,1135.29 674.818,1130.03 685.44,1124.74 696.062,1119.44 \n",
       "  706.684,1114.12 717.306,1108.78 727.927,1103.42 738.549,1098.05 749.171,1092.66 759.793,1087.24 770.415,1081.81 781.037,1076.37 791.659,1070.9 802.281,1065.42 \n",
       "  812.902,1059.92 823.524,1054.4 834.146,1048.86 844.768,1043.3 855.39,1037.73 866.012,1032.13 876.634,1026.52 887.256,1020.89 897.877,1015.25 908.499,1009.58 \n",
       "  919.121,1003.9 929.743,998.198 940.365,992.479 950.987,986.741 961.609,980.985 972.231,975.212 982.852,969.42 993.474,963.61 1004.1,957.782 1014.72,951.936 \n",
       "  1025.34,946.071 1035.96,940.189 1046.58,934.288 1057.21,928.369 1067.83,922.433 1078.45,916.478 1089.07,910.505 1099.69,904.514 1110.31,898.504 1120.94,892.477 \n",
       "  1131.56,886.431 1142.18,880.368 1152.8,874.286 1163.42,868.186 1174.05,862.068 1184.67,855.932 1195.29,849.778 1205.91,843.605 1216.53,837.415 1227.16,831.206 \n",
       "  1237.78,824.98 1248.4,818.735 1259.02,812.472 1269.64,806.191 1280.26,799.892 1290.89,793.574 1301.51,787.239 1312.13,780.885 1322.75,774.514 1333.37,768.124 \n",
       "  1344,761.716 1354.62,755.29 1365.24,748.846 1375.86,742.384 1386.48,735.903 1397.11,729.405 1407.73,722.888 1418.35,716.353 1428.97,709.801 1439.59,703.23 \n",
       "  1450.22,696.64 1460.84,690.033 1471.46,683.408 1482.08,676.765 1492.7,670.103 1503.32,663.423 1513.95,656.725 1524.57,650.01 1535.19,643.276 1545.81,636.523 \n",
       "  1556.43,629.753 1567.06,622.965 1577.68,616.158 1588.3,609.334 1598.92,602.491 1609.54,595.63 1620.17,588.751 1630.79,581.854 1641.41,574.939 1652.03,568.005 \n",
       "  1662.65,561.054 1673.27,554.084 1683.9,547.097 1694.52,540.091 1705.14,533.067 1715.76,526.025 1726.38,518.965 1737.01,511.886 1747.63,504.79 1758.25,497.676 \n",
       "  1768.87,490.543 1779.49,483.392 1790.12,476.223 1800.74,469.036 1811.36,461.831 1821.98,454.608 1832.6,447.367 1843.22,440.107 1853.85,432.83 1864.47,425.534 \n",
       "  1875.09,418.22 1885.71,410.888 1896.33,403.538 1906.96,396.17 1917.58,388.783 1928.2,381.379 1938.82,373.957 1949.44,366.516 1960.07,359.057 1970.69,351.58 \n",
       "  1981.31,344.085 1991.93,336.572 2002.55,329.041 2013.17,321.491 2023.8,313.924 2034.42,306.338 2045.04,298.735 2055.66,291.113 2066.28,283.473 2076.91,275.815 \n",
       "  2087.53,268.139 2098.15,260.444 2108.77,252.732 2119.39,245.001 2130.02,237.253 2140.64,229.486 2151.26,221.701 2161.88,213.898 2172.5,206.077 2183.12,198.237 \n",
       "  2193.75,190.38 2204.37,182.505 2214.99,174.611 2225.61,166.699 2236.23,158.769 2246.86,150.821 2257.48,142.855 2268.1,134.871 2278.72,126.869 2289.34,118.848 \n",
       "  \n",
       "  \"/>\n",
       "<path clip-path=\"url(#clip000)\" d=\"\n",
       "M186.863 250.738 L463.351 250.738 L463.351 95.2176 L186.863 95.2176  Z\n",
       "  \" fill=\"#ffffff\" fill-rule=\"evenodd\" fill-opacity=\"1\"/>\n",
       "<polyline clip-path=\"url(#clip000)\" style=\"stroke:#000000; stroke-linecap:round; stroke-linejoin:round; stroke-width:4; stroke-opacity:1; fill:none\" points=\"\n",
       "  186.863,250.738 463.351,250.738 463.351,95.2176 186.863,95.2176 186.863,250.738 \n",
       "  \"/>\n",
       "<circle clip-path=\"url(#clip000)\" cx=\"286.444\" cy=\"147.058\" r=\"23.04\" fill=\"#009af9\" fill-rule=\"evenodd\" fill-opacity=\"1\" stroke=\"#000000\" stroke-opacity=\"1\" stroke-width=\"5.12\"/>\n",
       "<path clip-path=\"url(#clip000)\" d=\"M399.868 166.745 Q398.063 171.375 396.35 172.787 Q394.637 174.199 391.766 174.199 L388.364 174.199 L388.364 170.634 L390.864 170.634 Q392.623 170.634 393.595 169.8 Q394.567 168.967 395.748 165.865 L396.512 163.921 L386.026 138.412 L390.54 138.412 L398.641 158.689 L406.743 138.412 L411.257 138.412 L399.868 166.745 Z\" fill=\"#000000\" fill-rule=\"evenodd\" fill-opacity=\"1\" /><path clip-path=\"url(#clip000)\" d=\"M418.549 160.402 L426.188 160.402 L426.188 134.037 L417.877 135.703 L417.877 131.444 L426.141 129.778 L430.817 129.778 L430.817 160.402 L438.456 160.402 L438.456 164.338 L418.549 164.338 L418.549 160.402 Z\" fill=\"#000000\" fill-rule=\"evenodd\" fill-opacity=\"1\" /><polyline clip-path=\"url(#clip000)\" style=\"stroke:#e26f46; stroke-linecap:round; stroke-linejoin:round; stroke-width:4; stroke-opacity:1; fill:none\" points=\"\n",
       "  211.758,198.898 361.13,198.898 \n",
       "  \"/>\n",
       "<path clip-path=\"url(#clip000)\" d=\"M399.868 218.585 Q398.063 223.215 396.35 224.627 Q394.637 226.039 391.766 226.039 L388.364 226.039 L388.364 222.474 L390.864 222.474 Q392.623 222.474 393.595 221.64 Q394.567 220.807 395.748 217.705 L396.512 215.761 L386.026 190.252 L390.54 190.252 L398.641 210.529 L406.743 190.252 L411.257 190.252 L399.868 218.585 Z\" fill=\"#000000\" fill-rule=\"evenodd\" fill-opacity=\"1\" /><path clip-path=\"url(#clip000)\" d=\"M421.766 212.242 L438.086 212.242 L438.086 216.178 L416.141 216.178 L416.141 212.242 Q418.803 209.488 423.387 204.858 Q427.993 200.205 429.174 198.863 Q431.419 196.34 432.299 194.604 Q433.201 192.844 433.201 191.155 Q433.201 188.4 431.257 186.664 Q429.336 184.928 426.234 184.928 Q424.035 184.928 421.581 185.692 Q419.151 186.455 416.373 188.006 L416.373 183.284 Q419.197 182.15 421.65 181.571 Q424.104 180.993 426.141 180.993 Q431.512 180.993 434.706 183.678 Q437.9 186.363 437.9 190.854 Q437.9 192.983 437.09 194.905 Q436.303 196.803 434.197 199.395 Q433.618 200.067 430.516 203.284 Q427.414 206.479 421.766 212.242 Z\" fill=\"#000000\" fill-rule=\"evenodd\" fill-opacity=\"1\" /></svg>\n"
      ]
     },
     "execution_count": 50,
     "metadata": {},
     "output_type": "execute_result"
    }
   ],
   "source": [
    "# Lets fit a quadratic function with random noise:\n",
    "\n",
    "f = x -> x^2 + 2x + 1 + 0.1randn()\n",
    "\n",
    "m = 200\n",
    "x = range(0,1; length=m) # makes 1000 evenly spaced points between 0 and 1\n",
    "𝐟 = f.(x)\n",
    "\n",
    "# We want to find the polynomial p(x) = p_0 + p_1*x + p_2*x^2  so that\n",
    "# p(x[k]) ≈ f(x[k])\n",
    "# in the sense that norm([p(x[k]) - f(x[k]) for k = 1:m]) == norm(p.(x) -f.(x))\n",
    "# Make the Vandermonde matrix\n",
    "\n",
    "V = [x[k]^j for k=1:m, j=0:2]\n",
    "# Then p.(x) == V*c for c = [p_0,p_1,p_2]\n",
    "# Thus we want to minimise\n",
    "# norm(V*c - 𝐟)\n",
    "# i.e.\n",
    "\n",
    "c = V \\ 𝐟\n",
    "p = x -> c[1] + c[2]x + c[3]x^2\n",
    "\n",
    "\n",
    "scatter(x, 𝐟)\n",
    "plot!(x, p.(x))"
   ]
  },
  {
   "cell_type": "code",
   "execution_count": 45,
   "id": "b435ca25",
   "metadata": {},
   "outputs": [
    {
     "data": {
      "text/plain": [
       "3-element Vector{Float64}:\n",
       " 0.9935873268404779\n",
       " 2.040703737960185\n",
       " 0.9492859891358635"
      ]
     },
     "execution_count": 45,
     "metadata": {},
     "output_type": "execute_result"
    }
   ],
   "source": [
    "Q,R̂ = qr(V)\n",
    "Q̂ = Matrix(Q)\n",
    "R̂\\Q̂'𝐟"
   ]
  },
  {
   "cell_type": "code",
   "execution_count": 44,
   "id": "3fd28afc",
   "metadata": {},
   "outputs": [
    {
     "data": {
      "text/plain": [
       "3-element Vector{Float64}:\n",
       " 0.9935873268404803\n",
       " 2.0407037379601833\n",
       " 0.9492859891358635"
      ]
     },
     "execution_count": 44,
     "metadata": {},
     "output_type": "execute_result"
    }
   ],
   "source": [
    "R̂ \\ (Q'𝐟)[1:3]"
   ]
  },
  {
   "cell_type": "code",
   "execution_count": 46,
   "id": "183a18cb",
   "metadata": {},
   "outputs": [
    {
     "data": {
      "text/plain": [
       "3-element Vector{Float64}:\n",
       " 0.9935873268404788\n",
       " 2.040703737960189\n",
       " 0.9492859891358588"
      ]
     },
     "execution_count": 46,
     "metadata": {},
     "output_type": "execute_result"
    }
   ],
   "source": [
    "c"
   ]
  },
  {
   "cell_type": "code",
   "execution_count": 48,
   "id": "f31f986d",
   "metadata": {},
   "outputs": [
    {
     "data": {
      "text/plain": [
       "3-element Vector{Float64}:\n",
       " 0.9935873268404803\n",
       " 2.0407037379601833\n",
       " 0.9492859891358635"
      ]
     },
     "execution_count": 48,
     "metadata": {},
     "output_type": "execute_result"
    }
   ],
   "source": [
    "qr(V) \\ 𝐟"
   ]
  },
  {
   "cell_type": "code",
   "execution_count": null,
   "id": "901a851d",
   "metadata": {},
   "outputs": [],
   "source": []
  }
 ],
 "metadata": {
  "@webio": {
   "lastCommId": "e47b8b43bded4f3b99efc525ebd2e0fa",
   "lastKernelId": "4246cf49-069c-40d8-87b6-7180a3934de9"
  },
  "kernelspec": {
   "display_name": "Julia 1.8.3-pre",
   "language": "julia",
   "name": "julia-1.8"
  },
  "language_info": {
   "file_extension": ".jl",
   "mimetype": "application/julia",
   "name": "julia",
   "version": "1.8.3"
  }
 },
 "nbformat": 4,
 "nbformat_minor": 5
}
